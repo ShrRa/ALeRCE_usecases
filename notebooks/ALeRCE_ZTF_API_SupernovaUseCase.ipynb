{
 "cells": [
  {
   "cell_type": "markdown",
   "metadata": {},
   "source": [
    "# Supernova use case notebook\n",
    "\n",
    "ALeRCE starter notebook for supernova science using the alerce client\n",
    "\n",
    "In this notebook you will use the ALeRCE API to download some objects with probability greater than 0.7 of being supernova, get selected light curves and plot, as well as querying NED for galaxy crossmatches and displaying in Aladin."
   ]
  },
  {
   "cell_type": "markdown",
   "metadata": {},
   "source": [
    "### Load libraries"
   ]
  },
  {
   "cell_type": "code",
   "execution_count": 1,
   "metadata": {
    "ExecuteTime": {
     "end_time": "2019-10-02T01:53:00.662839Z",
     "start_time": "2019-10-02T01:53:00.004174Z"
    }
   },
   "outputs": [],
   "source": [
    "import sys\n",
    "import pandas as pd\n",
    "import numpy as np\n",
    "import matplotlib.pyplot as plt\n",
    "import astropy.units as u\n",
    "from astropy import coordinates\n",
    "from astropy.time import Time\n",
    "from IPython.display import HTML\n",
    "from ipywidgets import Layout, Box, widgets\n",
    "from astropy.table import Table, Column"
   ]
  },
  {
   "cell_type": "markdown",
   "metadata": {},
   "source": [
    "Import alerce api wrapper"
   ]
  },
  {
   "cell_type": "code",
   "execution_count": 2,
   "metadata": {
    "ExecuteTime": {
     "end_time": "2019-10-02T01:53:00.748088Z",
     "start_time": "2019-10-02T01:53:00.664328Z"
    }
   },
   "outputs": [],
   "source": [
    "#!pip install alerce_client\n",
    "from alerce.api import AlerceAPI\n",
    "alerce = AlerceAPI()"
   ]
  },
  {
   "cell_type": "markdown",
   "metadata": {},
   "source": [
    "Astroquery https://astroquery.readthedocs.io/en/latest/"
   ]
  },
  {
   "cell_type": "code",
   "execution_count": 3,
   "metadata": {
    "ExecuteTime": {
     "end_time": "2019-10-02T01:53:00.831503Z",
     "start_time": "2019-10-02T01:53:00.749743Z"
    }
   },
   "outputs": [],
   "source": [
    "#!pip install astroquery\n",
    "from astroquery.ned import Ned"
   ]
  },
  {
   "cell_type": "markdown",
   "metadata": {},
   "source": [
    "Install pyaladin https://github.com/cds-astro/ipyaladin"
   ]
  },
  {
   "cell_type": "code",
   "execution_count": 4,
   "metadata": {
    "ExecuteTime": {
     "end_time": "2019-10-02T01:53:00.835897Z",
     "start_time": "2019-10-02T01:53:00.833692Z"
    }
   },
   "outputs": [],
   "source": [
    "# you may need to restart the notebook after running the following lines\n",
    "#!pip install ipyaladin\n",
    "#!jupyter nbextension enable --py widgetsnbextension\n",
    "#!jupyter nbextension enable --py --sys-prefix ipyaladin"
   ]
  },
  {
   "cell_type": "code",
   "execution_count": 5,
   "metadata": {
    "ExecuteTime": {
     "end_time": "2019-10-02T01:53:00.849138Z",
     "start_time": "2019-10-02T01:53:00.837397Z"
    }
   },
   "outputs": [],
   "source": [
    "import ipyaladin as ipyal # see installation instructions here: https://github.com/cds-astro/ipyaladin"
   ]
  },
  {
   "cell_type": "markdown",
   "metadata": {},
   "source": [
    "Show alerce.query help"
   ]
  },
  {
   "cell_type": "markdown",
   "metadata": {},
   "source": [
    "# Classifier taxonomy and numeric mappings"
   ]
  },
  {
   "cell_type": "markdown",
   "metadata": {},
   "source": [
    "There are two classifiers used in ALeRCE, an early classifier and a late classifier. Each one has its own numeric mappings for the different classes. You can use their string or integer forms.\n",
    "\n",
    "The early classifier uses as input the first detection stamps and contains the following classes (numeric mapping between parenthesis):\n",
    "\n",
    "    agn (18)\n",
    "    vs (20)\n",
    "    asteroid (21)\n",
    "    bogus (22)\n",
    "    sn (20)\n",
    "\n",
    "The late classifier uses the ligh curve information and contains the following classes (numeric mapping between parenthesis):\n",
    "\n",
    "    sn ia (10)\n",
    "    sn ibc (11)\n",
    "    sn ii (12)\n",
    "    sn iin (13)\n",
    "    slsn (14)\n",
    "    eb/sd/d (15)\n",
    "    eb/c (16)\n",
    "    periodic/other (17)\n",
    "    cv (9)\n",
    "    nova (9)\n",
    "    cv/nova (9)\n",
    "    blazar (8)\n",
    "    agn i (7)\n",
    "    dsct (2)\n",
    "    ceph (0)\n",
    "    lpv (4)\n",
    "    rrl (5)"
   ]
  },
  {
   "cell_type": "code",
   "execution_count": 6,
   "metadata": {
    "ExecuteTime": {
     "end_time": "2019-10-02T01:53:00.866746Z",
     "start_time": "2019-10-02T01:53:00.855302Z"
    }
   },
   "outputs": [
    {
     "name": "stdout",
     "output_type": "stream",
     "text": [
      "Help on method query in module alerce.api:\n",
      "\n",
      "query(params) method of alerce.api.AlerceAPI instance\n",
      "    Query the ALeRCE API to get matching objects into a pandas dataframe.\n",
      "    \n",
      "    The current fields to query the db are the following:\n",
      "    \n",
      "    {\n",
      "    total: number (if not set the total is counted and the query is slower),\n",
      "    records_per_pages: number (default 20),\n",
      "    page: number (default 1),\n",
      "    sortBy: string columnName (default nobs),\n",
      "    query_parameters:{\n",
      "       filters:{\n",
      "          //ZTF Object id\n",
      "          oid: \"ZTFXXXXXX\",\n",
      "          //Number of detections\n",
      "          nobs: { \n",
      "              min: int\n",
      "              max: int\n",
      "          },\n",
      "          //Late Classifier (Random Forest)\n",
      "          classrf: [\"CEPH\",\"DSCT\",\"EB\",\"LPV\",\"RRL\",\"SNe\",\"Other\"] or int,\n",
      "          pclassrf: float [0-1],\n",
      "          //Early Classifier (Stamp Classifier)\n",
      "          classearly: [\"AGN\",\"SN\",\"VS\",\"asteroid\",\"bogus\"] or int,\n",
      "          pclassearly: float [0-1],\n",
      "          },\n",
      "          //Coordinate based search (RA,DEC) and Search Radius.\n",
      "          coordinates:{\n",
      "            ra: float degrees,\n",
      "            dec: float degrees,\n",
      "            sr: float degrese\n",
      "            },\n",
      "          dates:{\n",
      "          //First detection (Discovery date)\n",
      "          firstmjd: {\n",
      "             min: float mjd,\n",
      "             max: float mjd\n",
      "            }\n",
      "          }\n",
      "       }\n",
      "    }\n",
      "    The response contains the following columns in a pandas dataframe:\n",
      "    \n",
      "    {\n",
      "    \"total\": int,\n",
      "    \"num_pages\": int,\n",
      "    \"page\": int,\n",
      "    \"result\": {\n",
      "       <ObjectId>: <ObjectStats>\n",
      "       }\n",
      "    }\n",
      "\n"
     ]
    }
   ],
   "source": [
    "help(alerce.query) # note the help classes are out of date..."
   ]
  },
  {
   "cell_type": "markdown",
   "metadata": {},
   "source": [
    "### Query top 100 SNe which exploded at least 70 days after ZTF's 1st light, that have a probability > 0.8 of being a SNe, and which have between 10 and 50 detections"
   ]
  },
  {
   "cell_type": "code",
   "execution_count": 7,
   "metadata": {
    "ExecuteTime": {
     "end_time": "2019-10-02T01:53:00.887798Z",
     "start_time": "2019-10-02T01:53:00.872993Z"
    }
   },
   "outputs": [],
   "source": [
    "total = 100\n",
    "records_per_page = 100\n",
    "page = 1\n",
    "sortBy = \"pclassrf\"\n",
    "classrf = \"sn ia\"\n",
    "pclassrf = 0.2\n",
    "min_nobs = 10\n",
    "max_nobs = 50\n",
    "min_firstmjd = Time(\"2017-11-01T00:00:00\", format=\"isot\", scale=\"utc\").mjd + 70\n",
    "\n",
    "params = {\n",
    "    #\"total\": total,\n",
    "    \"records_per_pages\": records_per_page,\n",
    "    \"page\": page,\n",
    "    \"sortBy\": sortBy,\n",
    "    \"query_parameters\": {\n",
    "        \"filters\": {\n",
    "            \"pclassrf\": pclassrf,\n",
    "            \"classrf\": classrf,\n",
    "            \"nobs\": {\n",
    "                \"min\": min_nobs,\n",
    "                \"max\": max_nobs\n",
    "            },\n",
    "            \"dates\": {\n",
    "                \"firstmjd\": {\n",
    "                    \"min\": min_firstmjd\n",
    "                }\n",
    "            }\n",
    "        }\n",
    "    }\n",
    "}"
   ]
  },
  {
   "cell_type": "code",
   "execution_count": 8,
   "metadata": {
    "ExecuteTime": {
     "end_time": "2019-10-02T01:53:02.009335Z",
     "start_time": "2019-10-02T01:53:00.889970Z"
    }
   },
   "outputs": [
    {
     "name": "stdout",
     "output_type": "stream",
     "text": [
      "(100, 43)\n"
     ]
    },
    {
     "data": {
      "text/html": [
       "<div>\n",
       "<style scoped>\n",
       "    .dataframe tbody tr th:only-of-type {\n",
       "        vertical-align: middle;\n",
       "    }\n",
       "\n",
       "    .dataframe tbody tr th {\n",
       "        vertical-align: top;\n",
       "    }\n",
       "\n",
       "    .dataframe thead th {\n",
       "        text-align: right;\n",
       "    }\n",
       "</style>\n",
       "<table border=\"1\" class=\"dataframe\">\n",
       "  <thead>\n",
       "    <tr style=\"text-align: right;\">\n",
       "      <th></th>\n",
       "      <th>nobs</th>\n",
       "      <th>mean_magap_g</th>\n",
       "      <th>mean_magap_r</th>\n",
       "      <th>median_magap_g</th>\n",
       "      <th>median_magap_r</th>\n",
       "      <th>max_magap_g</th>\n",
       "      <th>max_magap_r</th>\n",
       "      <th>min_magap_g</th>\n",
       "      <th>min_magap_r</th>\n",
       "      <th>sigma_magap_g</th>\n",
       "      <th>...</th>\n",
       "      <th>deltajd</th>\n",
       "      <th>lastmjd</th>\n",
       "      <th>firstmjd</th>\n",
       "      <th>period</th>\n",
       "      <th>catalogid</th>\n",
       "      <th>classxmatch</th>\n",
       "      <th>classrf</th>\n",
       "      <th>pclassrf</th>\n",
       "      <th>pclassearly</th>\n",
       "      <th>classearly</th>\n",
       "    </tr>\n",
       "    <tr>\n",
       "      <th>oid</th>\n",
       "      <th></th>\n",
       "      <th></th>\n",
       "      <th></th>\n",
       "      <th></th>\n",
       "      <th></th>\n",
       "      <th></th>\n",
       "      <th></th>\n",
       "      <th></th>\n",
       "      <th></th>\n",
       "      <th></th>\n",
       "      <th></th>\n",
       "      <th></th>\n",
       "      <th></th>\n",
       "      <th></th>\n",
       "      <th></th>\n",
       "      <th></th>\n",
       "      <th></th>\n",
       "      <th></th>\n",
       "      <th></th>\n",
       "      <th></th>\n",
       "      <th></th>\n",
       "    </tr>\n",
       "  </thead>\n",
       "  <tbody>\n",
       "    <tr>\n",
       "      <td>ZTF18aailmnv</td>\n",
       "      <td>28</td>\n",
       "      <td>18.851623</td>\n",
       "      <td>18.932407</td>\n",
       "      <td>18.662001</td>\n",
       "      <td>18.819099</td>\n",
       "      <td>19.652300</td>\n",
       "      <td>19.924601</td>\n",
       "      <td>18.237801</td>\n",
       "      <td>18.476601</td>\n",
       "      <td>0.466743</td>\n",
       "      <td>...</td>\n",
       "      <td>53.954954</td>\n",
       "      <td>58369.132199</td>\n",
       "      <td>58315.177245</td>\n",
       "      <td>None</td>\n",
       "      <td>4.0</td>\n",
       "      <td>6.0</td>\n",
       "      <td>10</td>\n",
       "      <td>0.324</td>\n",
       "      <td>NaN</td>\n",
       "      <td>NaN</td>\n",
       "    </tr>\n",
       "    <tr>\n",
       "      <td>ZTF18aarpqof</td>\n",
       "      <td>11</td>\n",
       "      <td>19.659733</td>\n",
       "      <td>19.360937</td>\n",
       "      <td>19.888300</td>\n",
       "      <td>19.338250</td>\n",
       "      <td>20.086100</td>\n",
       "      <td>20.101500</td>\n",
       "      <td>19.004801</td>\n",
       "      <td>18.574400</td>\n",
       "      <td>0.575746</td>\n",
       "      <td>...</td>\n",
       "      <td>63.892500</td>\n",
       "      <td>58336.216343</td>\n",
       "      <td>58272.323843</td>\n",
       "      <td>None</td>\n",
       "      <td>NaN</td>\n",
       "      <td>NaN</td>\n",
       "      <td>10</td>\n",
       "      <td>0.314</td>\n",
       "      <td>NaN</td>\n",
       "      <td>NaN</td>\n",
       "    </tr>\n",
       "    <tr>\n",
       "      <td>ZTF18aavnvmp</td>\n",
       "      <td>14</td>\n",
       "      <td>19.436167</td>\n",
       "      <td>19.061113</td>\n",
       "      <td>19.243550</td>\n",
       "      <td>19.145950</td>\n",
       "      <td>20.795401</td>\n",
       "      <td>19.741899</td>\n",
       "      <td>18.325399</td>\n",
       "      <td>18.238701</td>\n",
       "      <td>1.108676</td>\n",
       "      <td>...</td>\n",
       "      <td>35.005799</td>\n",
       "      <td>58307.175729</td>\n",
       "      <td>58272.169931</td>\n",
       "      <td>None</td>\n",
       "      <td>4.0</td>\n",
       "      <td>6.0</td>\n",
       "      <td>10</td>\n",
       "      <td>0.334</td>\n",
       "      <td>NaN</td>\n",
       "      <td>NaN</td>\n",
       "    </tr>\n",
       "    <tr>\n",
       "      <td>ZTF18aawkaod</td>\n",
       "      <td>12</td>\n",
       "      <td>19.412550</td>\n",
       "      <td>19.789737</td>\n",
       "      <td>19.397500</td>\n",
       "      <td>19.817750</td>\n",
       "      <td>19.652000</td>\n",
       "      <td>20.274799</td>\n",
       "      <td>19.203199</td>\n",
       "      <td>19.390900</td>\n",
       "      <td>0.193531</td>\n",
       "      <td>...</td>\n",
       "      <td>30.984930</td>\n",
       "      <td>58303.308773</td>\n",
       "      <td>58272.323843</td>\n",
       "      <td>None</td>\n",
       "      <td>NaN</td>\n",
       "      <td>NaN</td>\n",
       "      <td>10</td>\n",
       "      <td>0.328</td>\n",
       "      <td>NaN</td>\n",
       "      <td>NaN</td>\n",
       "    </tr>\n",
       "    <tr>\n",
       "      <td>ZTF18aawxlxf</td>\n",
       "      <td>10</td>\n",
       "      <td>18.648750</td>\n",
       "      <td>18.961850</td>\n",
       "      <td>18.593700</td>\n",
       "      <td>18.985550</td>\n",
       "      <td>18.983700</td>\n",
       "      <td>19.363001</td>\n",
       "      <td>18.423901</td>\n",
       "      <td>18.528900</td>\n",
       "      <td>0.246392</td>\n",
       "      <td>...</td>\n",
       "      <td>28.940509</td>\n",
       "      <td>58305.182766</td>\n",
       "      <td>58276.242257</td>\n",
       "      <td>None</td>\n",
       "      <td>4.0</td>\n",
       "      <td>6.0</td>\n",
       "      <td>10</td>\n",
       "      <td>0.316</td>\n",
       "      <td>NaN</td>\n",
       "      <td>NaN</td>\n",
       "    </tr>\n",
       "  </tbody>\n",
       "</table>\n",
       "<p>5 rows × 43 columns</p>\n",
       "</div>"
      ],
      "text/plain": [
       "              nobs  mean_magap_g  mean_magap_r  median_magap_g  \\\n",
       "oid                                                              \n",
       "ZTF18aailmnv    28     18.851623     18.932407       18.662001   \n",
       "ZTF18aarpqof    11     19.659733     19.360937       19.888300   \n",
       "ZTF18aavnvmp    14     19.436167     19.061113       19.243550   \n",
       "ZTF18aawkaod    12     19.412550     19.789737       19.397500   \n",
       "ZTF18aawxlxf    10     18.648750     18.961850       18.593700   \n",
       "\n",
       "              median_magap_r  max_magap_g  max_magap_r  min_magap_g  \\\n",
       "oid                                                                   \n",
       "ZTF18aailmnv       18.819099    19.652300    19.924601    18.237801   \n",
       "ZTF18aarpqof       19.338250    20.086100    20.101500    19.004801   \n",
       "ZTF18aavnvmp       19.145950    20.795401    19.741899    18.325399   \n",
       "ZTF18aawkaod       19.817750    19.652000    20.274799    19.203199   \n",
       "ZTF18aawxlxf       18.985550    18.983700    19.363001    18.423901   \n",
       "\n",
       "              min_magap_r  sigma_magap_g  ...    deltajd       lastmjd  \\\n",
       "oid                                       ...                            \n",
       "ZTF18aailmnv    18.476601       0.466743  ...  53.954954  58369.132199   \n",
       "ZTF18aarpqof    18.574400       0.575746  ...  63.892500  58336.216343   \n",
       "ZTF18aavnvmp    18.238701       1.108676  ...  35.005799  58307.175729   \n",
       "ZTF18aawkaod    19.390900       0.193531  ...  30.984930  58303.308773   \n",
       "ZTF18aawxlxf    18.528900       0.246392  ...  28.940509  58305.182766   \n",
       "\n",
       "                  firstmjd  period  catalogid  classxmatch  classrf  pclassrf  \\\n",
       "oid                                                                             \n",
       "ZTF18aailmnv  58315.177245    None        4.0          6.0       10     0.324   \n",
       "ZTF18aarpqof  58272.323843    None        NaN          NaN       10     0.314   \n",
       "ZTF18aavnvmp  58272.169931    None        4.0          6.0       10     0.334   \n",
       "ZTF18aawkaod  58272.323843    None        NaN          NaN       10     0.328   \n",
       "ZTF18aawxlxf  58276.242257    None        4.0          6.0       10     0.316   \n",
       "\n",
       "              pclassearly  classearly  \n",
       "oid                                    \n",
       "ZTF18aailmnv          NaN         NaN  \n",
       "ZTF18aarpqof          NaN         NaN  \n",
       "ZTF18aavnvmp          NaN         NaN  \n",
       "ZTF18aawkaod          NaN         NaN  \n",
       "ZTF18aawxlxf          NaN         NaN  \n",
       "\n",
       "[5 rows x 43 columns]"
      ]
     },
     "execution_count": 8,
     "metadata": {},
     "output_type": "execute_result"
    }
   ],
   "source": [
    "SNe = alerce.query(params)\n",
    "print(SNe.shape)\n",
    "SNe.head()"
   ]
  },
  {
   "cell_type": "markdown",
   "metadata": {},
   "source": [
    "### Create function to plot SN light curve"
   ]
  },
  {
   "cell_type": "code",
   "execution_count": 9,
   "metadata": {
    "ExecuteTime": {
     "end_time": "2019-10-02T01:53:02.020106Z",
     "start_time": "2019-10-02T01:53:02.011027Z"
    }
   },
   "outputs": [],
   "source": [
    "def plotLC(oid, SN_det, SN_nondet):\n",
    "    fig, ax = plt.subplots(figsize = (14, 7))\n",
    "    labels = {1: 'g', 2: 'r'}\n",
    "    colors = {1: 'g', 2: 'r'}\n",
    "    for fid in [1, 2]:\n",
    "        mask = SN_det.fid == fid\n",
    "        if np.sum(mask) > 0:\n",
    "            # note that detections index is candid and that we are plotting the psf corrected magnitudes\n",
    "            ax.errorbar(SN_det[mask].mjd, SN_det[mask].magpsf_corr, \n",
    "                yerr = SN_det[mask].sigmapsf_corr, c = colors[fid], marker = 'o', label = labels[fid])\n",
    "        mask = (SN_nondet.fid == fid) & (SN_nondet.diffmaglim > -900)\n",
    "        if np.sum(mask) > 0:            \n",
    "            # non detections index is mjd\n",
    "            ax.scatter(SN_nondet[mask].index, SN_nondet[mask].diffmaglim, c = colors[fid], alpha = 0.5,\n",
    "                marker = 'v', label = \"lim.mag. %s\" % labels[fid])\n",
    "    ax.set_title(oid)\n",
    "    ax.set_xlabel(\"MJD\")\n",
    "    ax.set_ylabel(\"Magnitude\")\n",
    "    ax.legend()\n",
    "    ax.set_ylim(ax.get_ylim()[::-1])"
   ]
  },
  {
   "cell_type": "markdown",
   "metadata": {},
   "source": [
    "### Create function to get data and plot SN light curve"
   ]
  },
  {
   "cell_type": "code",
   "execution_count": 10,
   "metadata": {
    "ExecuteTime": {
     "end_time": "2019-10-02T01:53:02.033834Z",
     "start_time": "2019-10-02T01:53:02.021899Z"
    }
   },
   "outputs": [],
   "source": [
    "def getSNdata(oid, doLC = False, dostamp = False, doNED = False):\n",
    "\n",
    "    results = {}\n",
    "    \n",
    "    # query basic stats\n",
    "    SN_stats = alerce.get_stats(oid)\n",
    "    \n",
    "    # query detections\n",
    "    SN_det = alerce.get_detections(oid)\n",
    "    results[\"LC_det\"] = SN_det\n",
    "        \n",
    "    # query non detections\n",
    "    SN_nondet = alerce.get_non_detections(oid)\n",
    "    results[\"LC_nondet\"] = SN_nondet\n",
    "    \n",
    "    if doLC:\n",
    "        plotLC(oid, SN_det, SN_nondet)\n",
    "        \n",
    "    # find NED galaxies\n",
    "    if doNED:\n",
    "        co = coordinates.SkyCoord(ra=SNe.meanra[oid], dec=SNe.meandec[oid], unit=(u.deg, u.deg), frame='fk5')\n",
    "        Ned_table = Ned.query_region(co, radius=0.01 * u.deg, equinox='J2000.0')\n",
    "        display(Ned_table)\n",
    "        results[\"Ned_table\"] = Ned_table\n",
    "                \n",
    "    if dostamp:\n",
    "        alerce.plot_stamp(oid)\n",
    "        \n",
    "\n",
    "    # return data\n",
    "    return results"
   ]
  },
  {
   "cell_type": "markdown",
   "metadata": {
    "ExecuteTime": {
     "end_time": "2019-05-28T03:02:47.774585Z",
     "start_time": "2019-05-28T03:02:47.769536Z"
    }
   },
   "source": [
    "### Get the brightest SN"
   ]
  },
  {
   "cell_type": "code",
   "execution_count": 11,
   "metadata": {
    "ExecuteTime": {
     "end_time": "2019-10-02T01:53:02.042486Z",
     "start_time": "2019-10-02T01:53:02.035888Z"
    }
   },
   "outputs": [
    {
     "name": "stdout",
     "output_type": "stream",
     "text": [
      "ZTF19abheamc\n"
     ]
    }
   ],
   "source": [
    "seloid = SNe.min_magpsf_g.idxmin()\n",
    "print(seloid)"
   ]
  },
  {
   "cell_type": "markdown",
   "metadata": {},
   "source": [
    "### Do one SN with NED and Aladin"
   ]
  },
  {
   "cell_type": "code",
   "execution_count": 12,
   "metadata": {
    "ExecuteTime": {
     "end_time": "2019-10-02T01:53:04.772302Z",
     "start_time": "2019-10-02T01:53:02.045907Z"
    },
    "scrolled": false
   },
   "outputs": [
    {
     "data": {
      "text/html": [
       "<i>Table masked=True length=7</i>\n",
       "<table id=\"table139895032231024\" class=\"table-striped table-bordered table-condensed\">\n",
       "<thead><tr><th>No.</th><th>Object Name</th><th>RA</th><th>DEC</th><th>Type</th><th>Velocity</th><th>Redshift</th><th>Redshift Flag</th><th>Magnitude and Filter</th><th>Separation</th><th>References</th><th>Notes</th><th>Photometry Points</th><th>Positions</th><th>Redshift Points</th><th>Diameter Points</th><th>Associations</th></tr></thead>\n",
       "<thead><tr><th></th><th></th><th>degrees</th><th>degrees</th><th></th><th>km / s</th><th></th><th></th><th></th><th>arcmin</th><th></th><th></th><th></th><th></th><th></th><th></th><th></th></tr></thead>\n",
       "<thead><tr><th>int32</th><th>bytes30</th><th>float64</th><th>float64</th><th>object</th><th>float64</th><th>float64</th><th>object</th><th>object</th><th>float64</th><th>int32</th><th>int32</th><th>int32</th><th>int32</th><th>int32</th><th>int32</th><th>int32</th></tr></thead>\n",
       "<tr><td>1</td><td>SDSS J002849.86-010428.1</td><td>7.20777</td><td>-1.07448</td><td>QSO</td><td>548569.0</td><td>1.829829</td><td></td><td>19.9r</td><td>0.459</td><td>17</td><td>0</td><td>6</td><td>2</td><td>8</td><td>4</td><td>0</td></tr>\n",
       "<tr><td>2</td><td>2MASS J00285020-0104232</td><td>7.20925</td><td>-1.07311</td><td>*</td><td>6.0</td><td>2e-05</td><td>SPEC</td><td>20.1g</td><td>0.367</td><td>0</td><td>0</td><td>11</td><td>3</td><td>1</td><td>4</td><td>0</td></tr>\n",
       "<tr><td>3</td><td>SDSS J002850.70-010416.2</td><td>7.21127</td><td>-1.07118</td><td>*</td><td>--</td><td>--</td><td></td><td>24.2g</td><td>0.281</td><td>0</td><td>0</td><td>5</td><td>1</td><td>0</td><td>4</td><td>0</td></tr>\n",
       "<tr><td>4</td><td>SDSS J002850.91-010435.3</td><td>7.21213</td><td>-1.07649</td><td>G</td><td>--</td><td>--</td><td></td><td>21.7g</td><td>0.264</td><td>0</td><td>0</td><td>15</td><td>1</td><td>0</td><td>4</td><td>0</td></tr>\n",
       "<tr><td>5</td><td>2MASS J00285154-0104221</td><td>7.21488</td><td>-1.07283</td><td>G</td><td>9993.0</td><td>0.033334</td><td></td><td>17.9g</td><td>0.049</td><td>11</td><td>0</td><td>35</td><td>7</td><td>4</td><td>4</td><td>0</td></tr>\n",
       "<tr><td>6</td><td>2MASS J00285165-0103507</td><td>7.21528</td><td>-1.06407</td><td>*</td><td>-70.0</td><td>-0.000232</td><td>SPEC</td><td>16.1g</td><td>0.565</td><td>0</td><td>0</td><td>19</td><td>5</td><td>1</td><td>4</td><td>0</td></tr>\n",
       "<tr><td>7</td><td>SDSS J002852.22-010439.0</td><td>7.21762</td><td>-1.07751</td><td>*</td><td>--</td><td>--</td><td></td><td>23.2g</td><td>0.277</td><td>0</td><td>0</td><td>5</td><td>1</td><td>0</td><td>4</td><td>0</td></tr>\n",
       "</table>"
      ],
      "text/plain": [
       "<Table masked=True length=7>\n",
       " No.        Object Name            RA     ... Diameter Points Associations\n",
       "                                degrees   ...                             \n",
       "int32         bytes30           float64   ...      int32         int32    \n",
       "----- ------------------------ ---------- ... --------------- ------------\n",
       "    1 SDSS J002849.86-010428.1    7.20777 ...               4            0\n",
       "    2  2MASS J00285020-0104232    7.20925 ...               4            0\n",
       "    3 SDSS J002850.70-010416.2    7.21127 ...               4            0\n",
       "    4 SDSS J002850.91-010435.3    7.21213 ...               4            0\n",
       "    5  2MASS J00285154-0104221    7.21488 ...               4            0\n",
       "    6  2MASS J00285165-0103507    7.21528 ...               4            0\n",
       "    7 SDSS J002852.22-010439.0    7.21762 ...               4            0"
      ]
     },
     "metadata": {},
     "output_type": "display_data"
    },
    {
     "data": {
      "text/html": [
       "\n",
       "        <div>ZTF oid: ZTF19abheamc, candid: 936420554115015008</div>\n",
       "        <div>&emsp;&emsp;&emsp;&emsp;&emsp;\n",
       "        Science\n",
       "        &emsp;&emsp;&emsp;&emsp;&emsp;&emsp;&emsp;&emsp;&emsp;&emsp;&emsp;&emsp; \n",
       "        Template\n",
       "        &emsp;&emsp;&emsp;&emsp;&emsp;&emsp;&emsp;&emsp;&emsp;&emsp;&emsp;&emsp; \n",
       "        Difference\n",
       "        <div class=\"container\">\n",
       "        <div style=\"float:left;width:20%\"><img src=\"http://avro.alerce.online/get_stamp?oid=ZTF19abheamc&candid=936420554115015008&type=science&format=png\"></div>\n",
       "        <div style=\"float:left;width:20%\"><img src=\"http://avro.alerce.online/get_stamp?oid=ZTF19abheamc&candid=936420554115015008&type=template&format=png\"></div>\n",
       "        <div style=\"float:left;width:20%\"><img src=\"http://avro.alerce.online/get_stamp?oid=ZTF19abheamc&candid=936420554115015008&type=difference&format=png\"></div>\n",
       "        </div>\n",
       "        "
      ],
      "text/plain": [
       "<IPython.core.display.HTML object>"
      ]
     },
     "metadata": {},
     "output_type": "display_data"
    },
    {
     "data": {
      "image/png": "[encoded data removed]",
      "text/plain": [
       "<Figure size 1008x504 with 1 Axes>"
      ]
     },
     "metadata": {},
     "output_type": "display_data"
    }
   ],
   "source": [
    "results = getSNdata(seloid, doLC=True, dostamp=True, doNED=True);\n",
    "LC_det = results[\"LC_det\"]\n",
    "LC_nondet = results[\"LC_nondet\"]\n",
    "Ned_table = results[\"Ned_table\"]"
   ]
  },
  {
   "cell_type": "markdown",
   "metadata": {},
   "source": [
    "# Use Aladin to show nearby sources"
   ]
  },
  {
   "cell_type": "code",
   "execution_count": 13,
   "metadata": {
    "ExecuteTime": {
     "end_time": "2019-10-02T01:53:04.794674Z",
     "start_time": "2019-10-02T01:53:04.773682Z"
    }
   },
   "outputs": [],
   "source": [
    "info = widgets.HTML()\n",
    "\n",
    "def process_objectHovered(data):\n",
    "    \n",
    "    output = '<font color=\"red\">'\n",
    "    # NED\n",
    "    if data[\"data\"][\"cat_name\"] == \"Ned\":\n",
    "        output = \"<h2>NED</h2>\"\n",
    "        sel_keys = [\"Object Name\", \"Separation\", \"RA\", \"DEC\", \"Type\", \"Redshift\", \"Redshift Flag\", \"Magnitude and Filter\"]\n",
    "    for key in sel_keys:\n",
    "        if key in data[\"data\"].keys():\n",
    "            output += \"<p><font size='1'>%s: %s</p>\" % (key, data[\"data\"][key])\n",
    "    info.value =  '%s' % output"
   ]
  },
  {
   "cell_type": "code",
   "execution_count": 14,
   "metadata": {
    "ExecuteTime": {
     "end_time": "2019-10-02T01:53:04.841365Z",
     "start_time": "2019-10-02T01:53:04.798682Z"
    }
   },
   "outputs": [
    {
     "data": {
      "application/vnd.jupyter.widget-view+json": {
       "model_id": "4c559f3b60a54bf692d279841d64478e",
       "version_major": 2,
       "version_minor": 0
      },
      "text/plain": [
       "Box(children=(Aladin(fov=0.04, layout=Layout(width='70%'), options=['allow_full_zoomout', 'coo_frame', 'fov', …"
      ]
     },
     "metadata": {},
     "output_type": "display_data"
    },
    {
     "name": "stdout",
     "output_type": "stream",
     "text": [
      "None\r"
     ]
    }
   ],
   "source": [
    "aladin= ipyal.Aladin(target='%s %s' % (SNe.meanra[seloid], SNe.meandec[seloid]), \n",
    "                    fov=0.04, survey='P/PanSTARRS/DR1/color-z-zg-g',\n",
    "                    reticle_size= 64,\n",
    "                    layout=Layout(width='70%'))\n",
    "box_layout = Layout(display='flex', flex_flow='row', align_items='stretch', width='100%')\n",
    "box = Box(children=[aladin, info], layout=box_layout)\n",
    "display(box)\n",
    "if Ned_table:\n",
    "    Ned_table[\"cat_name\"] = Column([\"Ned\"], name=\"cat_name\")\n",
    "    aladin.add_table(Ned_table)\n",
    "aladin.add_listener('objectHovered', process_objectHovered)"
   ]
  },
  {
   "cell_type": "markdown",
   "metadata": {
    "ExecuteTime": {
     "end_time": "2019-06-28T04:57:13.825249Z",
     "start_time": "2019-06-28T04:57:13.819317Z"
    }
   },
   "source": [
    "### Try more SNe"
   ]
  },
  {
   "cell_type": "code",
   "execution_count": 15,
   "metadata": {
    "ExecuteTime": {
     "end_time": "2019-10-02T01:53:17.923109Z",
     "start_time": "2019-10-02T01:53:04.843127Z"
    },
    "scrolled": false
   },
   "outputs": [
    {
     "data": {
      "text/html": [
       "\n",
       "        <div>ZTF oid: ZTF19aavjlkx, candid: 878302514215015002</div>\n",
       "        <div>&emsp;&emsp;&emsp;&emsp;&emsp;\n",
       "        Science\n",
       "        &emsp;&emsp;&emsp;&emsp;&emsp;&emsp;&emsp;&emsp;&emsp;&emsp;&emsp;&emsp; \n",
       "        Template\n",
       "        &emsp;&emsp;&emsp;&emsp;&emsp;&emsp;&emsp;&emsp;&emsp;&emsp;&emsp;&emsp; \n",
       "        Difference\n",
       "        <div class=\"container\">\n",
       "        <div style=\"float:left;width:20%\"><img src=\"http://avro.alerce.online/get_stamp?oid=ZTF19aavjlkx&candid=878302514215015002&type=science&format=png\"></div>\n",
       "        <div style=\"float:left;width:20%\"><img src=\"http://avro.alerce.online/get_stamp?oid=ZTF19aavjlkx&candid=878302514215015002&type=template&format=png\"></div>\n",
       "        <div style=\"float:left;width:20%\"><img src=\"http://avro.alerce.online/get_stamp?oid=ZTF19aavjlkx&candid=878302514215015002&type=difference&format=png\"></div>\n",
       "        </div>\n",
       "        "
      ],
      "text/plain": [
       "<IPython.core.display.HTML object>"
      ]
     },
     "metadata": {},
     "output_type": "display_data"
    },
    {
     "data": {
      "text/html": [
       "\n",
       "        <div>ZTF oid: ZTF19aavnxtq, candid: 879193324415015008</div>\n",
       "        <div>&emsp;&emsp;&emsp;&emsp;&emsp;\n",
       "        Science\n",
       "        &emsp;&emsp;&emsp;&emsp;&emsp;&emsp;&emsp;&emsp;&emsp;&emsp;&emsp;&emsp; \n",
       "        Template\n",
       "        &emsp;&emsp;&emsp;&emsp;&emsp;&emsp;&emsp;&emsp;&emsp;&emsp;&emsp;&emsp; \n",
       "        Difference\n",
       "        <div class=\"container\">\n",
       "        <div style=\"float:left;width:20%\"><img src=\"http://avro.alerce.online/get_stamp?oid=ZTF19aavnxtq&candid=879193324415015008&type=science&format=png\"></div>\n",
       "        <div style=\"float:left;width:20%\"><img src=\"http://avro.alerce.online/get_stamp?oid=ZTF19aavnxtq&candid=879193324415015008&type=template&format=png\"></div>\n",
       "        <div style=\"float:left;width:20%\"><img src=\"http://avro.alerce.online/get_stamp?oid=ZTF19aavnxtq&candid=879193324415015008&type=difference&format=png\"></div>\n",
       "        </div>\n",
       "        "
      ],
      "text/plain": [
       "<IPython.core.display.HTML object>"
      ]
     },
     "metadata": {},
     "output_type": "display_data"
    },
    {
     "data": {
      "text/html": [
       "\n",
       "        <div>ZTF oid: ZTF18acsxpmp, candid: 702179870715015004</div>\n",
       "        <div>&emsp;&emsp;&emsp;&emsp;&emsp;\n",
       "        Science\n",
       "        &emsp;&emsp;&emsp;&emsp;&emsp;&emsp;&emsp;&emsp;&emsp;&emsp;&emsp;&emsp; \n",
       "        Template\n",
       "        &emsp;&emsp;&emsp;&emsp;&emsp;&emsp;&emsp;&emsp;&emsp;&emsp;&emsp;&emsp; \n",
       "        Difference\n",
       "        <div class=\"container\">\n",
       "        <div style=\"float:left;width:20%\"><img src=\"http://avro.alerce.online/get_stamp?oid=ZTF18acsxpmp&candid=702179870715015004&type=science&format=png\"></div>\n",
       "        <div style=\"float:left;width:20%\"><img src=\"http://avro.alerce.online/get_stamp?oid=ZTF18acsxpmp&candid=702179870715015004&type=template&format=png\"></div>\n",
       "        <div style=\"float:left;width:20%\"><img src=\"http://avro.alerce.online/get_stamp?oid=ZTF18acsxpmp&candid=702179870715015004&type=difference&format=png\"></div>\n",
       "        </div>\n",
       "        "
      ],
      "text/plain": [
       "<IPython.core.display.HTML object>"
      ]
     },
     "metadata": {},
     "output_type": "display_data"
    },
    {
     "data": {
      "text/html": [
       "\n",
       "        <div>ZTF oid: ZTF19aanhdwt, candid: 818273373015015013</div>\n",
       "        <div>&emsp;&emsp;&emsp;&emsp;&emsp;\n",
       "        Science\n",
       "        &emsp;&emsp;&emsp;&emsp;&emsp;&emsp;&emsp;&emsp;&emsp;&emsp;&emsp;&emsp; \n",
       "        Template\n",
       "        &emsp;&emsp;&emsp;&emsp;&emsp;&emsp;&emsp;&emsp;&emsp;&emsp;&emsp;&emsp; \n",
       "        Difference\n",
       "        <div class=\"container\">\n",
       "        <div style=\"float:left;width:20%\"><img src=\"http://avro.alerce.online/get_stamp?oid=ZTF19aanhdwt&candid=818273373015015013&type=science&format=png\"></div>\n",
       "        <div style=\"float:left;width:20%\"><img src=\"http://avro.alerce.online/get_stamp?oid=ZTF19aanhdwt&candid=818273373015015013&type=template&format=png\"></div>\n",
       "        <div style=\"float:left;width:20%\"><img src=\"http://avro.alerce.online/get_stamp?oid=ZTF19aanhdwt&candid=818273373015015013&type=difference&format=png\"></div>\n",
       "        </div>\n",
       "        "
      ],
      "text/plain": [
       "<IPython.core.display.HTML object>"
      ]
     },
     "metadata": {},
     "output_type": "display_data"
    },
    {
     "data": {
      "text/html": [
       "\n",
       "        <div>ZTF oid: ZTF19aavsahh, candid: 879270773715015004</div>\n",
       "        <div>&emsp;&emsp;&emsp;&emsp;&emsp;\n",
       "        Science\n",
       "        &emsp;&emsp;&emsp;&emsp;&emsp;&emsp;&emsp;&emsp;&emsp;&emsp;&emsp;&emsp; \n",
       "        Template\n",
       "        &emsp;&emsp;&emsp;&emsp;&emsp;&emsp;&emsp;&emsp;&emsp;&emsp;&emsp;&emsp; \n",
       "        Difference\n",
       "        <div class=\"container\">\n",
       "        <div style=\"float:left;width:20%\"><img src=\"http://avro.alerce.online/get_stamp?oid=ZTF19aavsahh&candid=879270773715015004&type=science&format=png\"></div>\n",
       "        <div style=\"float:left;width:20%\"><img src=\"http://avro.alerce.online/get_stamp?oid=ZTF19aavsahh&candid=879270773715015004&type=template&format=png\"></div>\n",
       "        <div style=\"float:left;width:20%\"><img src=\"http://avro.alerce.online/get_stamp?oid=ZTF19aavsahh&candid=879270773715015004&type=difference&format=png\"></div>\n",
       "        </div>\n",
       "        "
      ],
      "text/plain": [
       "<IPython.core.display.HTML object>"
      ]
     },
     "metadata": {},
     "output_type": "display_data"
    },
    {
     "data": {
      "image/png": "[encoded data removed]",
      "text/plain": [
       "<Figure size 1008x504 with 1 Axes>"
      ]
     },
     "metadata": {},
     "output_type": "display_data"
    },
    {
     "data": {
      "image/png": "[encoded data removed]",
      "text/plain": [
       "<Figure size 1008x504 with 1 Axes>"
      ]
     },
     "metadata": {},
     "output_type": "display_data"
    },
    {
     "data": {
      "image/png": "[encoded data removed]",
      "text/plain": [
       "<Figure size 1008x504 with 1 Axes>"
      ]
     },
     "metadata": {},
     "output_type": "display_data"
    },
    {
     "data": {
      "image/png": "[encoded data removed]",
      "text/plain": [
       "<Figure size 1008x504 with 1 Axes>"
      ]
     },
     "metadata": {},
     "output_type": "display_data"
    },
    {
     "data": {
      "image/png": "[encoded data removed]",
      "text/plain": [
       "<Figure size 1008x504 with 1 Axes>"
      ]
     },
     "metadata": {},
     "output_type": "display_data"
    }
   ],
   "source": [
    "for oid in np.random.choice(SNe.index, size=5):\n",
    "    getSNdata(oid, doLC = True, dostamp=True, doNED = False);"
   ]
  },
  {
   "cell_type": "code",
   "execution_count": null,
   "metadata": {},
   "outputs": [],
   "source": []
  },
  {
   "cell_type": "code",
   "execution_count": null,
   "metadata": {},
   "outputs": [],
   "source": []
  }
 ],
 "metadata": {
  "kernelspec": {
   "display_name": "Python 3",
   "language": "python",
   "name": "python3"
  },
  "language_info": {
   "codemirror_mode": {
    "name": "ipython",
    "version": 3
   },
   "file_extension": ".py",
   "mimetype": "text/x-python",
   "name": "python",
   "nbconvert_exporter": "python",
   "pygments_lexer": "ipython3",
   "version": "3.6.5"
  }
 },
 "nbformat": 4,
 "nbformat_minor": 2
}
