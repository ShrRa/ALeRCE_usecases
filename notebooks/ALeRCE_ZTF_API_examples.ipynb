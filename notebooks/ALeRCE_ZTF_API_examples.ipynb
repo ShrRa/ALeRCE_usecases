{
 "cells": [
  {
   "cell_type": "markdown",
   "metadata": {},
   "source": [
    "# ALeRCE API interaction examples"
   ]
  },
  {
   "cell_type": "markdown",
   "metadata": {},
   "source": [
    "Load libraries"
   ]
  },
  {
   "cell_type": "code",
   "execution_count": 21,
   "metadata": {
    "ExecuteTime": {
     "end_time": "2019-09-10T13:54:13.804873Z",
     "start_time": "2019-09-10T13:54:13.789629Z"
    }
   },
   "outputs": [],
   "source": [
    "import sys\n",
    "import requests\n",
    "import matplotlib.pyplot as plt\n",
    "%matplotlib inline\n",
    "import pandas as pd\n",
    "from pandas.io.json import json_normalize\n",
    "from astropy.time import Time\n",
    "from datetime import datetime\n",
    "from IPython.display import HTML"
   ]
  },
  {
   "cell_type": "code",
   "execution_count": 22,
   "metadata": {
    "ExecuteTime": {
     "end_time": "2019-09-10T13:54:15.665452Z",
     "start_time": "2019-09-10T13:54:15.638352Z"
    }
   },
   "outputs": [],
   "source": [
    "#!pip install alerce\n",
    "from alerce.api import AlerceAPI"
   ]
  },
  {
   "cell_type": "markdown",
   "metadata": {},
   "source": [
    "See https://github.com/alercebroker/usecases/blob/master/api/ALeRCE%20ZTF%20DB%20API.md"
   ]
  },
  {
   "cell_type": "code",
   "execution_count": 23,
   "metadata": {
    "ExecuteTime": {
     "end_time": "2019-09-10T13:54:16.758102Z",
     "start_time": "2019-09-10T13:54:16.734283Z"
    }
   },
   "outputs": [
    {
     "name": "stdout",
     "output_type": "stream",
     "text": [
      "The autoreload extension is already loaded. To reload it, use:\n",
      "  %reload_ext autoreload\n"
     ]
    }
   ],
   "source": [
    "# continuously load modules (for easier debugging)\n",
    "%load_ext autoreload\n",
    "%autoreload 2"
   ]
  },
  {
   "cell_type": "markdown",
   "metadata": {},
   "source": [
    "# Initialize alerce api object"
   ]
  },
  {
   "cell_type": "code",
   "execution_count": 24,
   "metadata": {
    "ExecuteTime": {
     "end_time": "2019-09-10T13:54:17.599030Z",
     "start_time": "2019-09-10T13:54:17.571744Z"
    }
   },
   "outputs": [],
   "source": [
    "alerce = AlerceAPI()"
   ]
  },
  {
   "cell_type": "markdown",
   "metadata": {},
   "source": [
    "# 1. query\n",
    "\n",
    "Query a list of objects"
   ]
  },
  {
   "cell_type": "markdown",
   "metadata": {
    "ExecuteTime": {
     "end_time": "2019-07-19T02:40:07.495627Z",
     "start_time": "2019-07-19T02:40:07.426187Z"
    }
   },
   "source": [
    "The following json file should be sent\n",
    "\n",
    "```js\n",
    "{\n",
    "total: number, // (if not set the total is counted and the query is slower),\n",
    "records_per_pages: number. // default 20\n",
    "page: number (default 1),\n",
    "sortBy: string columnName, // default nobs\n",
    "query_parameters:{\n",
    "    filters:{\n",
    "        //ZTF Object id\n",
    "        oid: \"ZTFXXXXXX\",\n",
    "        //Number of detections\n",
    "        nobs: { \n",
    "            min: int\n",
    "            max: int\n",
    "        },\n",
    "        //Late Classifier (Random Forest)\n",
    "        classrf: [\"CEPH\",\"DSCT\",\"EB\",\"LPV\",\"RRL\",\"SNe\",\"Other\"] or int,\n",
    "        pclassrf: float [0-1],\n",
    "        //Early Classifier (Stamp Classifier)\n",
    "        classearly: [\"AGN\",\"SN\",\"VS\",\"asteroid\",\"bogus\"] or int,\n",
    "        pclassearly: float [0-1],\n",
    "    },\n",
    "    //Coordinate based search (RA,DEC) and Search Radius.\n",
    "    coordinates:{\n",
    "        ra: float degrees,\n",
    "        dec: float degrees,\n",
    "        sr: float degrees\n",
    "    },\n",
    "    dates:{\n",
    "        //First detection (Discovery date)\n",
    "        firstmjd: {\n",
    "         min: float mjd,\n",
    "         max: float mjd\n",
    "        }\n",
    "    }\n",
    "}\n",
    "```"
   ]
  },
  {
   "cell_type": "markdown",
   "metadata": {},
   "source": [
    "### Example: \n",
    "\n",
    "Give me all the objects with probability of being SNe greater than 0.8 according to the random forest classifier (light curve based), which have between 2 and 40 detections. Give me the second page, with pages of 10 elements each, of a total of at most 40 objects query result.\n",
    "\n",
    "Note: probabilities are experimental and should not be fully trusted"
   ]
  },
  {
   "cell_type": "code",
   "execution_count": 25,
   "metadata": {
    "ExecuteTime": {
     "end_time": "2019-09-10T13:54:27.950937Z",
     "start_time": "2019-09-10T13:54:27.922016Z"
    }
   },
   "outputs": [],
   "source": [
    "total = 40\n",
    "records_per_page = 10\n",
    "page = 2\n",
    "sortBy = \"firstmjd\"\n",
    "nobsmin = 10\n",
    "nobsmax = 40\n",
    "classrf = \"SNe\"\n",
    "pclassrf = 0.8\n",
    "\n",
    "params = {\n",
    "    \"total\": total,\n",
    "    \"records_per_pages\": records_per_page,\n",
    "    \"page\": page,\n",
    "    \"sortBy\": sortBy,\n",
    "    \"query_parameters\": {\n",
    "        \"filters\": {\n",
    "            \"nobs\": { \n",
    "                \"min\": nobsmin,\n",
    "                \"max\": nobsmax\n",
    "            },\n",
    "            \"classrf\": classrf,\n",
    "            \"pclassrf\": pclassrf\n",
    "        }\n",
    "    }\n",
    "}"
   ]
  },
  {
   "cell_type": "code",
   "execution_count": 26,
   "metadata": {
    "ExecuteTime": {
     "end_time": "2019-09-10T13:54:29.908890Z",
     "start_time": "2019-09-10T13:54:29.107529Z"
    }
   },
   "outputs": [
    {
     "data": {
      "text/html": [
       "<div>\n",
       "<style scoped>\n",
       "    .dataframe tbody tr th:only-of-type {\n",
       "        vertical-align: middle;\n",
       "    }\n",
       "\n",
       "    .dataframe tbody tr th {\n",
       "        vertical-align: top;\n",
       "    }\n",
       "\n",
       "    .dataframe thead th {\n",
       "        text-align: right;\n",
       "    }\n",
       "</style>\n",
       "<table border=\"1\" class=\"dataframe\">\n",
       "  <thead>\n",
       "    <tr style=\"text-align: right;\">\n",
       "      <th></th>\n",
       "      <th>catalogid</th>\n",
       "      <th>classearly</th>\n",
       "      <th>classrf</th>\n",
       "      <th>classxmatch</th>\n",
       "      <th>deltajd</th>\n",
       "      <th>first_magap_g</th>\n",
       "      <th>first_magap_r</th>\n",
       "      <th>first_magpsf_g</th>\n",
       "      <th>first_magpsf_r</th>\n",
       "      <th>firstmjd</th>\n",
       "      <th>...</th>\n",
       "      <th>nobs</th>\n",
       "      <th>pclassearly</th>\n",
       "      <th>pclassrf</th>\n",
       "      <th>period</th>\n",
       "      <th>sigma_magap_g</th>\n",
       "      <th>sigma_magap_r</th>\n",
       "      <th>sigma_magpsf_g</th>\n",
       "      <th>sigma_magpsf_r</th>\n",
       "      <th>sigmadec</th>\n",
       "      <th>sigmara</th>\n",
       "    </tr>\n",
       "    <tr>\n",
       "      <th>oid</th>\n",
       "      <th></th>\n",
       "      <th></th>\n",
       "      <th></th>\n",
       "      <th></th>\n",
       "      <th></th>\n",
       "      <th></th>\n",
       "      <th></th>\n",
       "      <th></th>\n",
       "      <th></th>\n",
       "      <th></th>\n",
       "      <th></th>\n",
       "      <th></th>\n",
       "      <th></th>\n",
       "      <th></th>\n",
       "      <th></th>\n",
       "      <th></th>\n",
       "      <th></th>\n",
       "      <th></th>\n",
       "      <th></th>\n",
       "      <th></th>\n",
       "      <th></th>\n",
       "    </tr>\n",
       "  </thead>\n",
       "  <tbody>\n",
       "    <tr>\n",
       "      <td>ZTF19abnishu</td>\n",
       "      <td>None</td>\n",
       "      <td>None</td>\n",
       "      <td>6</td>\n",
       "      <td>None</td>\n",
       "      <td>36.957639</td>\n",
       "      <td>20.130600</td>\n",
       "      <td>19.237801</td>\n",
       "      <td>20.253887</td>\n",
       "      <td>19.292255</td>\n",
       "      <td>58699.478160</td>\n",
       "      <td>...</td>\n",
       "      <td>19</td>\n",
       "      <td>NaN</td>\n",
       "      <td>0.818</td>\n",
       "      <td>None</td>\n",
       "      <td>0.566951</td>\n",
       "      <td>0.310869</td>\n",
       "      <td>0.574562</td>\n",
       "      <td>0.318788</td>\n",
       "      <td>0.000014</td>\n",
       "      <td>0.000014</td>\n",
       "    </tr>\n",
       "    <tr>\n",
       "      <td>ZTF19abnxcee</td>\n",
       "      <td>None</td>\n",
       "      <td>AGN</td>\n",
       "      <td>6</td>\n",
       "      <td>None</td>\n",
       "      <td>6.943495</td>\n",
       "      <td>19.160569</td>\n",
       "      <td>19.639609</td>\n",
       "      <td>19.238099</td>\n",
       "      <td>19.752392</td>\n",
       "      <td>58701.300741</td>\n",
       "      <td>...</td>\n",
       "      <td>13</td>\n",
       "      <td>0.600848</td>\n",
       "      <td>0.830</td>\n",
       "      <td>None</td>\n",
       "      <td>0.356427</td>\n",
       "      <td>0.467078</td>\n",
       "      <td>0.276728</td>\n",
       "      <td>0.478794</td>\n",
       "      <td>0.000013</td>\n",
       "      <td>0.000019</td>\n",
       "    </tr>\n",
       "    <tr>\n",
       "      <td>ZTF19abnxyow</td>\n",
       "      <td>None</td>\n",
       "      <td>SN</td>\n",
       "      <td>6</td>\n",
       "      <td>None</td>\n",
       "      <td>12.029583</td>\n",
       "      <td>20.084200</td>\n",
       "      <td>18.481501</td>\n",
       "      <td>19.582569</td>\n",
       "      <td>18.149042</td>\n",
       "      <td>58703.290833</td>\n",
       "      <td>...</td>\n",
       "      <td>14</td>\n",
       "      <td>0.587974</td>\n",
       "      <td>0.806</td>\n",
       "      <td>None</td>\n",
       "      <td>0.501771</td>\n",
       "      <td>0.583132</td>\n",
       "      <td>0.441592</td>\n",
       "      <td>0.466312</td>\n",
       "      <td>0.000016</td>\n",
       "      <td>0.000023</td>\n",
       "    </tr>\n",
       "    <tr>\n",
       "      <td>ZTF19abopyyu</td>\n",
       "      <td>None</td>\n",
       "      <td>SN</td>\n",
       "      <td>6</td>\n",
       "      <td>None</td>\n",
       "      <td>33.019352</td>\n",
       "      <td>19.221001</td>\n",
       "      <td>20.667900</td>\n",
       "      <td>19.319675</td>\n",
       "      <td>20.449636</td>\n",
       "      <td>58703.442153</td>\n",
       "      <td>...</td>\n",
       "      <td>19</td>\n",
       "      <td>0.970260</td>\n",
       "      <td>0.858</td>\n",
       "      <td>None</td>\n",
       "      <td>0.373502</td>\n",
       "      <td>0.761683</td>\n",
       "      <td>0.403206</td>\n",
       "      <td>0.677309</td>\n",
       "      <td>0.000020</td>\n",
       "      <td>0.000025</td>\n",
       "    </tr>\n",
       "    <tr>\n",
       "      <td>ZTF19abpfxfs</td>\n",
       "      <td>None</td>\n",
       "      <td>None</td>\n",
       "      <td>6</td>\n",
       "      <td>None</td>\n",
       "      <td>25.999086</td>\n",
       "      <td>20.428499</td>\n",
       "      <td>19.853399</td>\n",
       "      <td>20.169247</td>\n",
       "      <td>19.952568</td>\n",
       "      <td>58706.475035</td>\n",
       "      <td>...</td>\n",
       "      <td>13</td>\n",
       "      <td>NaN</td>\n",
       "      <td>0.800</td>\n",
       "      <td>None</td>\n",
       "      <td>0.626482</td>\n",
       "      <td>0.455032</td>\n",
       "      <td>0.507034</td>\n",
       "      <td>0.470698</td>\n",
       "      <td>0.000029</td>\n",
       "      <td>0.000021</td>\n",
       "    </tr>\n",
       "  </tbody>\n",
       "</table>\n",
       "<p>5 rows × 43 columns</p>\n",
       "</div>"
      ],
      "text/plain": [
       "             catalogid classearly  classrf classxmatch    deltajd  \\\n",
       "oid                                                                 \n",
       "ZTF19abnishu      None       None        6        None  36.957639   \n",
       "ZTF19abnxcee      None        AGN        6        None   6.943495   \n",
       "ZTF19abnxyow      None         SN        6        None  12.029583   \n",
       "ZTF19abopyyu      None         SN        6        None  33.019352   \n",
       "ZTF19abpfxfs      None       None        6        None  25.999086   \n",
       "\n",
       "              first_magap_g  first_magap_r  first_magpsf_g  first_magpsf_r  \\\n",
       "oid                                                                          \n",
       "ZTF19abnishu      20.130600      19.237801       20.253887       19.292255   \n",
       "ZTF19abnxcee      19.160569      19.639609       19.238099       19.752392   \n",
       "ZTF19abnxyow      20.084200      18.481501       19.582569       18.149042   \n",
       "ZTF19abopyyu      19.221001      20.667900       19.319675       20.449636   \n",
       "ZTF19abpfxfs      20.428499      19.853399       20.169247       19.952568   \n",
       "\n",
       "                  firstmjd  ...  nobs  pclassearly  pclassrf  period  \\\n",
       "oid                         ...                                        \n",
       "ZTF19abnishu  58699.478160  ...    19          NaN     0.818    None   \n",
       "ZTF19abnxcee  58701.300741  ...    13     0.600848     0.830    None   \n",
       "ZTF19abnxyow  58703.290833  ...    14     0.587974     0.806    None   \n",
       "ZTF19abopyyu  58703.442153  ...    19     0.970260     0.858    None   \n",
       "ZTF19abpfxfs  58706.475035  ...    13          NaN     0.800    None   \n",
       "\n",
       "              sigma_magap_g  sigma_magap_r  sigma_magpsf_g  sigma_magpsf_r  \\\n",
       "oid                                                                          \n",
       "ZTF19abnishu       0.566951       0.310869        0.574562        0.318788   \n",
       "ZTF19abnxcee       0.356427       0.467078        0.276728        0.478794   \n",
       "ZTF19abnxyow       0.501771       0.583132        0.441592        0.466312   \n",
       "ZTF19abopyyu       0.373502       0.761683        0.403206        0.677309   \n",
       "ZTF19abpfxfs       0.626482       0.455032        0.507034        0.470698   \n",
       "\n",
       "              sigmadec   sigmara  \n",
       "oid                               \n",
       "ZTF19abnishu  0.000014  0.000014  \n",
       "ZTF19abnxcee  0.000013  0.000019  \n",
       "ZTF19abnxyow  0.000016  0.000023  \n",
       "ZTF19abopyyu  0.000020  0.000025  \n",
       "ZTF19abpfxfs  0.000029  0.000021  \n",
       "\n",
       "[5 rows x 43 columns]"
      ]
     },
     "execution_count": 26,
     "metadata": {},
     "output_type": "execute_result"
    }
   ],
   "source": [
    "query_results = alerce.query(params)\n",
    "query_results.head()"
   ]
  },
  {
   "cell_type": "markdown",
   "metadata": {},
   "source": [
    "### Example: \n",
    "\n",
    "Give me the last 100 objects with classified as SNe according to the early classifier (one image stamp)\n",
    "\n",
    "Note: this is experimental, about 90% of the candidates are false positives"
   ]
  },
  {
   "cell_type": "code",
   "execution_count": 27,
   "metadata": {
    "ExecuteTime": {
     "end_time": "2019-09-10T13:54:36.274454Z",
     "start_time": "2019-09-10T13:54:36.242377Z"
    }
   },
   "outputs": [],
   "source": [
    "mjd_48hr = Time(datetime.utcnow(), scale='utc').mjd - 2.\n",
    "\n",
    "total = 100\n",
    "records_per_page = 100\n",
    "sortBy = \"pclassearly\"\n",
    "\n",
    "params = {\n",
    "    \"total\": total,\n",
    "    \"records_per_pages\": records_per_page,\n",
    "    \"sortBy\": sortBy,\n",
    "    \"query_parameters\": {\n",
    "        \"filters\": {\n",
    "            \"classearly\": 2\n",
    "        },\n",
    "        \"dates\": {\n",
    "            \"firstmjd\": {\n",
    "                \"min\": mjd_48hr\n",
    "            }\n",
    "        }\n",
    "    }\n",
    "}"
   ]
  },
  {
   "cell_type": "code",
   "execution_count": 28,
   "metadata": {
    "ExecuteTime": {
     "end_time": "2019-09-10T13:54:38.262754Z",
     "start_time": "2019-09-10T13:54:37.689488Z"
    }
   },
   "outputs": [
    {
     "data": {
      "text/html": [
       "<div>\n",
       "<style scoped>\n",
       "    .dataframe tbody tr th:only-of-type {\n",
       "        vertical-align: middle;\n",
       "    }\n",
       "\n",
       "    .dataframe tbody tr th {\n",
       "        vertical-align: top;\n",
       "    }\n",
       "\n",
       "    .dataframe thead th {\n",
       "        text-align: right;\n",
       "    }\n",
       "</style>\n",
       "<table border=\"1\" class=\"dataframe\">\n",
       "  <thead>\n",
       "    <tr style=\"text-align: right;\">\n",
       "      <th></th>\n",
       "      <th>catalogid</th>\n",
       "      <th>classearly</th>\n",
       "      <th>classrf</th>\n",
       "      <th>classxmatch</th>\n",
       "      <th>deltajd</th>\n",
       "      <th>first_magap_g</th>\n",
       "      <th>first_magap_r</th>\n",
       "      <th>first_magpsf_g</th>\n",
       "      <th>first_magpsf_r</th>\n",
       "      <th>firstmjd</th>\n",
       "      <th>...</th>\n",
       "      <th>nobs</th>\n",
       "      <th>pclassearly</th>\n",
       "      <th>pclassrf</th>\n",
       "      <th>period</th>\n",
       "      <th>sigma_magap_g</th>\n",
       "      <th>sigma_magap_r</th>\n",
       "      <th>sigma_magpsf_g</th>\n",
       "      <th>sigma_magpsf_r</th>\n",
       "      <th>sigmadec</th>\n",
       "      <th>sigmara</th>\n",
       "    </tr>\n",
       "    <tr>\n",
       "      <th>oid</th>\n",
       "      <th></th>\n",
       "      <th></th>\n",
       "      <th></th>\n",
       "      <th></th>\n",
       "      <th></th>\n",
       "      <th></th>\n",
       "      <th></th>\n",
       "      <th></th>\n",
       "      <th></th>\n",
       "      <th></th>\n",
       "      <th></th>\n",
       "      <th></th>\n",
       "      <th></th>\n",
       "      <th></th>\n",
       "      <th></th>\n",
       "      <th></th>\n",
       "      <th></th>\n",
       "      <th></th>\n",
       "      <th></th>\n",
       "      <th></th>\n",
       "      <th></th>\n",
       "    </tr>\n",
       "  </thead>\n",
       "  <tbody>\n",
       "    <tr>\n",
       "      <td>ZTF18aacsudg</td>\n",
       "      <td>None</td>\n",
       "      <td>SN</td>\n",
       "      <td>None</td>\n",
       "      <td>None</td>\n",
       "      <td>0.0</td>\n",
       "      <td>NaN</td>\n",
       "      <td>18.2237</td>\n",
       "      <td>NaN</td>\n",
       "      <td>18.165924</td>\n",
       "      <td>58736.509236</td>\n",
       "      <td>...</td>\n",
       "      <td>1</td>\n",
       "      <td>1.000000</td>\n",
       "      <td>None</td>\n",
       "      <td>None</td>\n",
       "      <td>None</td>\n",
       "      <td>None</td>\n",
       "      <td>None</td>\n",
       "      <td>None</td>\n",
       "      <td>NaN</td>\n",
       "      <td>NaN</td>\n",
       "    </tr>\n",
       "    <tr>\n",
       "      <td>ZTF18aaffhxn</td>\n",
       "      <td>None</td>\n",
       "      <td>SN</td>\n",
       "      <td>None</td>\n",
       "      <td>None</td>\n",
       "      <td>0.0</td>\n",
       "      <td>19.372101</td>\n",
       "      <td>NaN</td>\n",
       "      <td>19.345505</td>\n",
       "      <td>NaN</td>\n",
       "      <td>58736.493044</td>\n",
       "      <td>...</td>\n",
       "      <td>1</td>\n",
       "      <td>0.999999</td>\n",
       "      <td>None</td>\n",
       "      <td>None</td>\n",
       "      <td>None</td>\n",
       "      <td>None</td>\n",
       "      <td>None</td>\n",
       "      <td>None</td>\n",
       "      <td>NaN</td>\n",
       "      <td>NaN</td>\n",
       "    </tr>\n",
       "    <tr>\n",
       "      <td>ZTF18aakybtr</td>\n",
       "      <td>None</td>\n",
       "      <td>SN</td>\n",
       "      <td>None</td>\n",
       "      <td>None</td>\n",
       "      <td>0.0</td>\n",
       "      <td>NaN</td>\n",
       "      <td>19.0390</td>\n",
       "      <td>NaN</td>\n",
       "      <td>18.927469</td>\n",
       "      <td>58736.272060</td>\n",
       "      <td>...</td>\n",
       "      <td>1</td>\n",
       "      <td>0.997790</td>\n",
       "      <td>None</td>\n",
       "      <td>None</td>\n",
       "      <td>None</td>\n",
       "      <td>None</td>\n",
       "      <td>None</td>\n",
       "      <td>None</td>\n",
       "      <td>NaN</td>\n",
       "      <td>NaN</td>\n",
       "    </tr>\n",
       "    <tr>\n",
       "      <td>ZTF18aarunws</td>\n",
       "      <td>None</td>\n",
       "      <td>SN</td>\n",
       "      <td>None</td>\n",
       "      <td>None</td>\n",
       "      <td>0.0</td>\n",
       "      <td>19.328899</td>\n",
       "      <td>NaN</td>\n",
       "      <td>19.343952</td>\n",
       "      <td>NaN</td>\n",
       "      <td>58735.133588</td>\n",
       "      <td>...</td>\n",
       "      <td>1</td>\n",
       "      <td>0.997445</td>\n",
       "      <td>None</td>\n",
       "      <td>None</td>\n",
       "      <td>None</td>\n",
       "      <td>None</td>\n",
       "      <td>None</td>\n",
       "      <td>None</td>\n",
       "      <td>NaN</td>\n",
       "      <td>NaN</td>\n",
       "    </tr>\n",
       "    <tr>\n",
       "      <td>ZTF18abhpwpf</td>\n",
       "      <td>None</td>\n",
       "      <td>SN</td>\n",
       "      <td>None</td>\n",
       "      <td>None</td>\n",
       "      <td>0.0</td>\n",
       "      <td>20.863001</td>\n",
       "      <td>NaN</td>\n",
       "      <td>20.525160</td>\n",
       "      <td>NaN</td>\n",
       "      <td>58735.431424</td>\n",
       "      <td>...</td>\n",
       "      <td>1</td>\n",
       "      <td>0.997493</td>\n",
       "      <td>None</td>\n",
       "      <td>None</td>\n",
       "      <td>None</td>\n",
       "      <td>None</td>\n",
       "      <td>None</td>\n",
       "      <td>None</td>\n",
       "      <td>NaN</td>\n",
       "      <td>NaN</td>\n",
       "    </tr>\n",
       "  </tbody>\n",
       "</table>\n",
       "<p>5 rows × 43 columns</p>\n",
       "</div>"
      ],
      "text/plain": [
       "             catalogid classearly classrf classxmatch  deltajd  first_magap_g  \\\n",
       "oid                                                                             \n",
       "ZTF18aacsudg      None         SN    None        None      0.0            NaN   \n",
       "ZTF18aaffhxn      None         SN    None        None      0.0      19.372101   \n",
       "ZTF18aakybtr      None         SN    None        None      0.0            NaN   \n",
       "ZTF18aarunws      None         SN    None        None      0.0      19.328899   \n",
       "ZTF18abhpwpf      None         SN    None        None      0.0      20.863001   \n",
       "\n",
       "              first_magap_r  first_magpsf_g  first_magpsf_r      firstmjd  \\\n",
       "oid                                                                         \n",
       "ZTF18aacsudg        18.2237             NaN       18.165924  58736.509236   \n",
       "ZTF18aaffhxn            NaN       19.345505             NaN  58736.493044   \n",
       "ZTF18aakybtr        19.0390             NaN       18.927469  58736.272060   \n",
       "ZTF18aarunws            NaN       19.343952             NaN  58735.133588   \n",
       "ZTF18abhpwpf            NaN       20.525160             NaN  58735.431424   \n",
       "\n",
       "              ...  nobs  pclassearly  pclassrf  period  sigma_magap_g  \\\n",
       "oid           ...                                                       \n",
       "ZTF18aacsudg  ...     1     1.000000      None    None           None   \n",
       "ZTF18aaffhxn  ...     1     0.999999      None    None           None   \n",
       "ZTF18aakybtr  ...     1     0.997790      None    None           None   \n",
       "ZTF18aarunws  ...     1     0.997445      None    None           None   \n",
       "ZTF18abhpwpf  ...     1     0.997493      None    None           None   \n",
       "\n",
       "              sigma_magap_r  sigma_magpsf_g  sigma_magpsf_r  sigmadec  sigmara  \n",
       "oid                                                                             \n",
       "ZTF18aacsudg           None            None            None       NaN      NaN  \n",
       "ZTF18aaffhxn           None            None            None       NaN      NaN  \n",
       "ZTF18aakybtr           None            None            None       NaN      NaN  \n",
       "ZTF18aarunws           None            None            None       NaN      NaN  \n",
       "ZTF18abhpwpf           None            None            None       NaN      NaN  \n",
       "\n",
       "[5 rows x 43 columns]"
      ]
     },
     "execution_count": 28,
     "metadata": {},
     "output_type": "execute_result"
    }
   ],
   "source": [
    "query_results = alerce.query(params)\n",
    "query_results.head()"
   ]
  },
  {
   "cell_type": "code",
   "execution_count": 29,
   "metadata": {
    "ExecuteTime": {
     "end_time": "2019-09-10T13:54:41.540998Z",
     "start_time": "2019-09-10T13:54:41.358182Z"
    }
   },
   "outputs": [
    {
     "data": {
      "text/plain": [
       "(21.06023812725213, 14.515577587294672)"
      ]
     },
     "execution_count": 29,
     "metadata": {},
     "output_type": "execute_result"
    },
    {
     "data": {
      "image/png": "[encoded data removed]",
      "text/plain": [
       "<Figure size 864x576 with 1 Axes>"
      ]
     },
     "metadata": {},
     "output_type": "display_data"
    }
   ],
   "source": [
    "# Show first mag vs first MJD\n",
    "fig, ax = plt.subplots(figsize = (12, 8))\n",
    "mask = query_results.first_magpsf_r.notnull()\n",
    "ax.scatter(query_results.firstmjd[mask], query_results.first_magpsf_r[mask], c = 'r')\n",
    "mask = query_results.first_magpsf_g.notnull()\n",
    "ax.scatter(query_results.firstmjd[mask], query_results.first_magpsf_g[mask], c = 'g')\n",
    "ax.set_xlabel(\"First MJD\")\n",
    "ax.set_ylabel(\"First mag g|r\")\n",
    "ax.set_ylim(ax.get_ylim()[::-1])"
   ]
  },
  {
   "cell_type": "markdown",
   "metadata": {},
   "source": [
    "You can see the ZTF filter changes during the night. The missing times are due to the ZTF private stream."
   ]
  },
  {
   "cell_type": "markdown",
   "metadata": {},
   "source": [
    "# 2. get_sql\n",
    "\n",
    "Get the sql query using the same parameters as the previous query"
   ]
  },
  {
   "cell_type": "code",
   "execution_count": 30,
   "metadata": {
    "ExecuteTime": {
     "end_time": "2019-09-10T13:54:52.633408Z",
     "start_time": "2019-09-10T13:54:52.182726Z"
    }
   },
   "outputs": [
    {
     "data": {
      "text/plain": [
       "b\"SELECT * FROM objects WHERE  classearly = 'SN' AND  firstmjd >= 58734.579586484 \""
      ]
     },
     "execution_count": 30,
     "metadata": {},
     "output_type": "execute_result"
    }
   ],
   "source": [
    "alerce.get_sql(params)"
   ]
  },
  {
   "cell_type": "markdown",
   "metadata": {},
   "source": [
    "# 3. get_detections\n",
    "\n",
    "Get all the detections for an object"
   ]
  },
  {
   "cell_type": "code",
   "execution_count": 31,
   "metadata": {
    "ExecuteTime": {
     "end_time": "2019-09-10T13:54:55.421860Z",
     "start_time": "2019-09-10T13:54:55.404890Z"
    }
   },
   "outputs": [],
   "source": [
    "oid = \"ZTF19aaxqsbn\""
   ]
  },
  {
   "cell_type": "code",
   "execution_count": 32,
   "metadata": {
    "ExecuteTime": {
     "end_time": "2019-09-10T13:54:56.700561Z",
     "start_time": "2019-09-10T13:54:56.198925Z"
    }
   },
   "outputs": [
    {
     "data": {
      "text/html": [
       "<div>\n",
       "<style scoped>\n",
       "    .dataframe tbody tr th:only-of-type {\n",
       "        vertical-align: middle;\n",
       "    }\n",
       "\n",
       "    .dataframe tbody tr th {\n",
       "        vertical-align: top;\n",
       "    }\n",
       "\n",
       "    .dataframe thead th {\n",
       "        text-align: right;\n",
       "    }\n",
       "</style>\n",
       "<table border=\"1\" class=\"dataframe\">\n",
       "  <thead>\n",
       "    <tr style=\"text-align: right;\">\n",
       "      <th></th>\n",
       "      <th>candid_str</th>\n",
       "      <th>dec</th>\n",
       "      <th>diffmaglim</th>\n",
       "      <th>distpsnr1</th>\n",
       "      <th>fid</th>\n",
       "      <th>field</th>\n",
       "      <th>isdiffpos</th>\n",
       "      <th>magap</th>\n",
       "      <th>magap_corr</th>\n",
       "      <th>magnr</th>\n",
       "      <th>...</th>\n",
       "      <th>rb</th>\n",
       "      <th>rcid</th>\n",
       "      <th>sgscore1</th>\n",
       "      <th>sigmadec</th>\n",
       "      <th>sigmagap</th>\n",
       "      <th>sigmagap_corr</th>\n",
       "      <th>sigmagnr</th>\n",
       "      <th>sigmapsf</th>\n",
       "      <th>sigmapsf_corr</th>\n",
       "      <th>sigmara</th>\n",
       "    </tr>\n",
       "    <tr>\n",
       "      <th>candid</th>\n",
       "      <th></th>\n",
       "      <th></th>\n",
       "      <th></th>\n",
       "      <th></th>\n",
       "      <th></th>\n",
       "      <th></th>\n",
       "      <th></th>\n",
       "      <th></th>\n",
       "      <th></th>\n",
       "      <th></th>\n",
       "      <th></th>\n",
       "      <th></th>\n",
       "      <th></th>\n",
       "      <th></th>\n",
       "      <th></th>\n",
       "      <th></th>\n",
       "      <th></th>\n",
       "      <th></th>\n",
       "      <th></th>\n",
       "      <th></th>\n",
       "      <th></th>\n",
       "    </tr>\n",
       "  </thead>\n",
       "  <tbody>\n",
       "    <tr>\n",
       "      <td>886240045615015003</td>\n",
       "      <td>886240045615015003</td>\n",
       "      <td>80.162942</td>\n",
       "      <td>20.342619</td>\n",
       "      <td>1.676753</td>\n",
       "      <td>2</td>\n",
       "      <td>862</td>\n",
       "      <td>1</td>\n",
       "      <td>19.145700</td>\n",
       "      <td>19.145700</td>\n",
       "      <td>16.899</td>\n",
       "      <td>...</td>\n",
       "      <td>0.944286</td>\n",
       "      <td>56</td>\n",
       "      <td>0.196298</td>\n",
       "      <td>0.09</td>\n",
       "      <td>0.1670</td>\n",
       "      <td>0.1670</td>\n",
       "      <td>0.073</td>\n",
       "      <td>0.111001</td>\n",
       "      <td>0.111001</td>\n",
       "      <td>0.09</td>\n",
       "    </tr>\n",
       "    <tr>\n",
       "      <td>889199085615015000</td>\n",
       "      <td>889199085615015000</td>\n",
       "      <td>80.162995</td>\n",
       "      <td>20.061783</td>\n",
       "      <td>1.792658</td>\n",
       "      <td>1</td>\n",
       "      <td>862</td>\n",
       "      <td>1</td>\n",
       "      <td>19.063999</td>\n",
       "      <td>19.063999</td>\n",
       "      <td>17.948</td>\n",
       "      <td>...</td>\n",
       "      <td>0.750000</td>\n",
       "      <td>56</td>\n",
       "      <td>0.196298</td>\n",
       "      <td>0.09</td>\n",
       "      <td>0.1374</td>\n",
       "      <td>0.1374</td>\n",
       "      <td>0.062</td>\n",
       "      <td>0.153750</td>\n",
       "      <td>0.153750</td>\n",
       "      <td>0.09</td>\n",
       "    </tr>\n",
       "    <tr>\n",
       "      <td>889249055615015001</td>\n",
       "      <td>889249055615015001</td>\n",
       "      <td>80.162994</td>\n",
       "      <td>20.234301</td>\n",
       "      <td>1.745674</td>\n",
       "      <td>2</td>\n",
       "      <td>862</td>\n",
       "      <td>1</td>\n",
       "      <td>18.581699</td>\n",
       "      <td>18.581699</td>\n",
       "      <td>16.899</td>\n",
       "      <td>...</td>\n",
       "      <td>0.947143</td>\n",
       "      <td>56</td>\n",
       "      <td>0.196298</td>\n",
       "      <td>0.09</td>\n",
       "      <td>0.1058</td>\n",
       "      <td>0.1058</td>\n",
       "      <td>0.073</td>\n",
       "      <td>0.085079</td>\n",
       "      <td>0.085079</td>\n",
       "      <td>0.09</td>\n",
       "    </tr>\n",
       "    <tr>\n",
       "      <td>892240745615015005</td>\n",
       "      <td>892240745615015005</td>\n",
       "      <td>80.162949</td>\n",
       "      <td>19.379860</td>\n",
       "      <td>1.706684</td>\n",
       "      <td>2</td>\n",
       "      <td>862</td>\n",
       "      <td>1</td>\n",
       "      <td>18.940800</td>\n",
       "      <td>18.940800</td>\n",
       "      <td>16.899</td>\n",
       "      <td>...</td>\n",
       "      <td>0.892857</td>\n",
       "      <td>56</td>\n",
       "      <td>0.196298</td>\n",
       "      <td>0.09</td>\n",
       "      <td>0.2974</td>\n",
       "      <td>0.2974</td>\n",
       "      <td>0.073</td>\n",
       "      <td>0.104200</td>\n",
       "      <td>0.104200</td>\n",
       "      <td>0.09</td>\n",
       "    </tr>\n",
       "    <tr>\n",
       "      <td>895195845615015003</td>\n",
       "      <td>895195845615015003</td>\n",
       "      <td>80.162940</td>\n",
       "      <td>19.375284</td>\n",
       "      <td>1.912989</td>\n",
       "      <td>1</td>\n",
       "      <td>862</td>\n",
       "      <td>1</td>\n",
       "      <td>18.676800</td>\n",
       "      <td>18.676800</td>\n",
       "      <td>17.948</td>\n",
       "      <td>...</td>\n",
       "      <td>0.951429</td>\n",
       "      <td>56</td>\n",
       "      <td>0.196298</td>\n",
       "      <td>0.09</td>\n",
       "      <td>0.1865</td>\n",
       "      <td>0.1865</td>\n",
       "      <td>0.062</td>\n",
       "      <td>0.112041</td>\n",
       "      <td>0.112041</td>\n",
       "      <td>0.09</td>\n",
       "    </tr>\n",
       "  </tbody>\n",
       "</table>\n",
       "<p>5 rows × 26 columns</p>\n",
       "</div>"
      ],
      "text/plain": [
       "                            candid_str        dec  diffmaglim  distpsnr1  fid  \\\n",
       "candid                                                                          \n",
       "886240045615015003  886240045615015003  80.162942   20.342619   1.676753    2   \n",
       "889199085615015000  889199085615015000  80.162995   20.061783   1.792658    1   \n",
       "889249055615015001  889249055615015001  80.162994   20.234301   1.745674    2   \n",
       "892240745615015005  892240745615015005  80.162949   19.379860   1.706684    2   \n",
       "895195845615015003  895195845615015003  80.162940   19.375284   1.912989    1   \n",
       "\n",
       "                    field  isdiffpos      magap  magap_corr   magnr  ...  \\\n",
       "candid                                                               ...   \n",
       "886240045615015003    862          1  19.145700   19.145700  16.899  ...   \n",
       "889199085615015000    862          1  19.063999   19.063999  17.948  ...   \n",
       "889249055615015001    862          1  18.581699   18.581699  16.899  ...   \n",
       "892240745615015005    862          1  18.940800   18.940800  16.899  ...   \n",
       "895195845615015003    862          1  18.676800   18.676800  17.948  ...   \n",
       "\n",
       "                          rb  rcid  sgscore1 sigmadec sigmagap  sigmagap_corr  \\\n",
       "candid                                                                          \n",
       "886240045615015003  0.944286    56  0.196298     0.09   0.1670         0.1670   \n",
       "889199085615015000  0.750000    56  0.196298     0.09   0.1374         0.1374   \n",
       "889249055615015001  0.947143    56  0.196298     0.09   0.1058         0.1058   \n",
       "892240745615015005  0.892857    56  0.196298     0.09   0.2974         0.2974   \n",
       "895195845615015003  0.951429    56  0.196298     0.09   0.1865         0.1865   \n",
       "\n",
       "                    sigmagnr  sigmapsf  sigmapsf_corr  sigmara  \n",
       "candid                                                          \n",
       "886240045615015003     0.073  0.111001       0.111001     0.09  \n",
       "889199085615015000     0.062  0.153750       0.153750     0.09  \n",
       "889249055615015001     0.073  0.085079       0.085079     0.09  \n",
       "892240745615015005     0.073  0.104200       0.104200     0.09  \n",
       "895195845615015003     0.062  0.112041       0.112041     0.09  \n",
       "\n",
       "[5 rows x 26 columns]"
      ]
     },
     "metadata": {},
     "output_type": "display_data"
    },
    {
     "data": {
      "text/plain": [
       "['candid_str',\n",
       " 'dec',\n",
       " 'diffmaglim',\n",
       " 'distpsnr1',\n",
       " 'fid',\n",
       " 'field',\n",
       " 'isdiffpos',\n",
       " 'magap',\n",
       " 'magap_corr',\n",
       " 'magnr',\n",
       " 'magpsf',\n",
       " 'magpsf_corr',\n",
       " 'mjd',\n",
       " 'object_id',\n",
       " 'oid',\n",
       " 'ra',\n",
       " 'rb',\n",
       " 'rcid',\n",
       " 'sgscore1',\n",
       " 'sigmadec',\n",
       " 'sigmagap',\n",
       " 'sigmagap_corr',\n",
       " 'sigmagnr',\n",
       " 'sigmapsf',\n",
       " 'sigmapsf_corr',\n",
       " 'sigmara']"
      ]
     },
     "execution_count": 32,
     "metadata": {},
     "output_type": "execute_result"
    }
   ],
   "source": [
    "detections = alerce.get_detections(oid)\n",
    "display(detections.head())\n",
    "list(detections)"
   ]
  },
  {
   "cell_type": "markdown",
   "metadata": {},
   "source": [
    "# 4. get_non_detections"
   ]
  },
  {
   "cell_type": "code",
   "execution_count": 33,
   "metadata": {
    "ExecuteTime": {
     "end_time": "2019-09-10T13:55:00.236910Z",
     "start_time": "2019-09-10T13:54:59.713253Z"
    }
   },
   "outputs": [
    {
     "data": {
      "text/html": [
       "<div>\n",
       "<style scoped>\n",
       "    .dataframe tbody tr th:only-of-type {\n",
       "        vertical-align: middle;\n",
       "    }\n",
       "\n",
       "    .dataframe tbody tr th {\n",
       "        vertical-align: top;\n",
       "    }\n",
       "\n",
       "    .dataframe thead th {\n",
       "        text-align: right;\n",
       "    }\n",
       "</style>\n",
       "<table border=\"1\" class=\"dataframe\">\n",
       "  <thead>\n",
       "    <tr style=\"text-align: right;\">\n",
       "      <th></th>\n",
       "      <th>diffmaglim</th>\n",
       "      <th>fid</th>\n",
       "      <th>object_id</th>\n",
       "      <th>oid</th>\n",
       "    </tr>\n",
       "    <tr>\n",
       "      <th>mjd</th>\n",
       "      <th></th>\n",
       "      <th></th>\n",
       "      <th></th>\n",
       "      <th></th>\n",
       "    </tr>\n",
       "  </thead>\n",
       "  <tbody>\n",
       "    <tr>\n",
       "      <td>58617.203958</td>\n",
       "      <td>19.953899</td>\n",
       "      <td>1</td>\n",
       "      <td>None</td>\n",
       "      <td>ZTF19aaxqsbn</td>\n",
       "    </tr>\n",
       "    <tr>\n",
       "      <td>58617.203958</td>\n",
       "      <td>19.953899</td>\n",
       "      <td>1</td>\n",
       "      <td>None</td>\n",
       "      <td>ZTF19aaxqsbn</td>\n",
       "    </tr>\n",
       "    <tr>\n",
       "      <td>58617.203958</td>\n",
       "      <td>19.953899</td>\n",
       "      <td>1</td>\n",
       "      <td>None</td>\n",
       "      <td>ZTF19aaxqsbn</td>\n",
       "    </tr>\n",
       "    <tr>\n",
       "      <td>58617.203958</td>\n",
       "      <td>19.953899</td>\n",
       "      <td>1</td>\n",
       "      <td>None</td>\n",
       "      <td>ZTF19aaxqsbn</td>\n",
       "    </tr>\n",
       "    <tr>\n",
       "      <td>58617.297940</td>\n",
       "      <td>19.972601</td>\n",
       "      <td>2</td>\n",
       "      <td>None</td>\n",
       "      <td>ZTF19aaxqsbn</td>\n",
       "    </tr>\n",
       "  </tbody>\n",
       "</table>\n",
       "</div>"
      ],
      "text/plain": [
       "              diffmaglim  fid object_id           oid\n",
       "mjd                                                  \n",
       "58617.203958   19.953899    1      None  ZTF19aaxqsbn\n",
       "58617.203958   19.953899    1      None  ZTF19aaxqsbn\n",
       "58617.203958   19.953899    1      None  ZTF19aaxqsbn\n",
       "58617.203958   19.953899    1      None  ZTF19aaxqsbn\n",
       "58617.297940   19.972601    2      None  ZTF19aaxqsbn"
      ]
     },
     "execution_count": 33,
     "metadata": {},
     "output_type": "execute_result"
    }
   ],
   "source": [
    "non_detections = alerce.get_non_detections(oid)\n",
    "non_detections.head()"
   ]
  },
  {
   "cell_type": "code",
   "execution_count": 34,
   "metadata": {
    "ExecuteTime": {
     "end_time": "2019-09-10T13:55:01.466017Z",
     "start_time": "2019-09-10T13:55:01.289871Z"
    }
   },
   "outputs": [
    {
     "data": {
      "text/plain": [
       "(20.85893068626529, 15.77118088180006)"
      ]
     },
     "execution_count": 34,
     "metadata": {},
     "output_type": "execute_result"
    },
    {
     "data": {
      "image/png": "[encoded data removed]",
      "text/plain": [
       "<Figure size 864x576 with 1 Axes>"
      ]
     },
     "metadata": {},
     "output_type": "display_data"
    }
   ],
   "source": [
    "fig, ax = plt.subplots(figsize = (12, 8))\n",
    "colors = [\"g\", \"r\"]\n",
    "for fid in [1, 2]:\n",
    "    mask = detections.fid == fid\n",
    "    ax.plot(detections.mjd[mask], detections.magpsf[mask], c = colors[fid - 1], marker = \"o\")\n",
    "    mask = non_detections.fid == fid\n",
    "    # note that the index of non-detectionsis the mjd\n",
    "    ax.scatter(non_detections.index[mask], non_detections.diffmaglim[mask], c = colors[fid - 1], marker = \"v\")\n",
    "ax.set_xlabel(\"MJD\")\n",
    "ax.set_ylabel(\"mag psf\")\n",
    "ax.set_ylim(ax.get_ylim()[::-1])"
   ]
  },
  {
   "cell_type": "markdown",
   "metadata": {},
   "source": [
    "# 5. get_stats"
   ]
  },
  {
   "cell_type": "code",
   "execution_count": 35,
   "metadata": {
    "ExecuteTime": {
     "end_time": "2019-09-10T13:55:05.203303Z",
     "start_time": "2019-09-10T13:55:04.713778Z"
    }
   },
   "outputs": [
    {
     "data": {
      "text/html": [
       "<div>\n",
       "<style scoped>\n",
       "    .dataframe tbody tr th:only-of-type {\n",
       "        vertical-align: middle;\n",
       "    }\n",
       "\n",
       "    .dataframe tbody tr th {\n",
       "        vertical-align: top;\n",
       "    }\n",
       "\n",
       "    .dataframe thead th {\n",
       "        text-align: right;\n",
       "    }\n",
       "</style>\n",
       "<table border=\"1\" class=\"dataframe\">\n",
       "  <thead>\n",
       "    <tr style=\"text-align: right;\">\n",
       "      <th></th>\n",
       "      <th>catalogid</th>\n",
       "      <th>classearly</th>\n",
       "      <th>classrf</th>\n",
       "      <th>classxmatch</th>\n",
       "      <th>deltajd</th>\n",
       "      <th>first_magap_g</th>\n",
       "      <th>first_magap_r</th>\n",
       "      <th>first_magpsf_g</th>\n",
       "      <th>first_magpsf_r</th>\n",
       "      <th>firstmjd</th>\n",
       "      <th>...</th>\n",
       "      <th>nobs</th>\n",
       "      <th>pclassearly</th>\n",
       "      <th>pclassrf</th>\n",
       "      <th>period</th>\n",
       "      <th>sigma_magap_g</th>\n",
       "      <th>sigma_magap_r</th>\n",
       "      <th>sigma_magpsf_g</th>\n",
       "      <th>sigma_magpsf_r</th>\n",
       "      <th>sigmadec</th>\n",
       "      <th>sigmara</th>\n",
       "    </tr>\n",
       "    <tr>\n",
       "      <th>oid</th>\n",
       "      <th></th>\n",
       "      <th></th>\n",
       "      <th></th>\n",
       "      <th></th>\n",
       "      <th></th>\n",
       "      <th></th>\n",
       "      <th></th>\n",
       "      <th></th>\n",
       "      <th></th>\n",
       "      <th></th>\n",
       "      <th></th>\n",
       "      <th></th>\n",
       "      <th></th>\n",
       "      <th></th>\n",
       "      <th></th>\n",
       "      <th></th>\n",
       "      <th></th>\n",
       "      <th></th>\n",
       "      <th></th>\n",
       "      <th></th>\n",
       "      <th></th>\n",
       "    </tr>\n",
       "  </thead>\n",
       "  <tbody>\n",
       "    <tr>\n",
       "      <td>ZTF19aaxqsbn</td>\n",
       "      <td>None</td>\n",
       "      <td>SN</td>\n",
       "      <td>6</td>\n",
       "      <td>None</td>\n",
       "      <td>93.891551</td>\n",
       "      <td>19.063999</td>\n",
       "      <td>19.1457</td>\n",
       "      <td>18.982498</td>\n",
       "      <td>19.270462</td>\n",
       "      <td>58640.240046</td>\n",
       "      <td>...</td>\n",
       "      <td>42</td>\n",
       "      <td>0.999165</td>\n",
       "      <td>0.67</td>\n",
       "      <td>None</td>\n",
       "      <td>0.509753</td>\n",
       "      <td>0.4669</td>\n",
       "      <td>0.470786</td>\n",
       "      <td>0.415023</td>\n",
       "      <td>0.000044</td>\n",
       "      <td>0.000241</td>\n",
       "    </tr>\n",
       "  </tbody>\n",
       "</table>\n",
       "<p>1 rows × 43 columns</p>\n",
       "</div>"
      ],
      "text/plain": [
       "             catalogid classearly  classrf classxmatch    deltajd  \\\n",
       "oid                                                                 \n",
       "ZTF19aaxqsbn      None         SN        6        None  93.891551   \n",
       "\n",
       "              first_magap_g  first_magap_r  first_magpsf_g  first_magpsf_r  \\\n",
       "oid                                                                          \n",
       "ZTF19aaxqsbn      19.063999        19.1457       18.982498       19.270462   \n",
       "\n",
       "                  firstmjd  ...  nobs  pclassearly  pclassrf  period  \\\n",
       "oid                         ...                                        \n",
       "ZTF19aaxqsbn  58640.240046  ...    42     0.999165      0.67    None   \n",
       "\n",
       "              sigma_magap_g  sigma_magap_r  sigma_magpsf_g  sigma_magpsf_r  \\\n",
       "oid                                                                          \n",
       "ZTF19aaxqsbn       0.509753         0.4669        0.470786        0.415023   \n",
       "\n",
       "              sigmadec   sigmara  \n",
       "oid                               \n",
       "ZTF19aaxqsbn  0.000044  0.000241  \n",
       "\n",
       "[1 rows x 43 columns]"
      ]
     },
     "metadata": {},
     "output_type": "display_data"
    },
    {
     "data": {
      "text/plain": [
       "['catalogid',\n",
       " 'classearly',\n",
       " 'classrf',\n",
       " 'classxmatch',\n",
       " 'deltajd',\n",
       " 'first_magap_g',\n",
       " 'first_magap_r',\n",
       " 'first_magpsf_g',\n",
       " 'first_magpsf_r',\n",
       " 'firstmjd',\n",
       " 'last_magap_g',\n",
       " 'last_magap_r',\n",
       " 'last_magpsf_g',\n",
       " 'last_magpsf_r',\n",
       " 'lastmjd',\n",
       " 'max_magap_g',\n",
       " 'max_magap_r',\n",
       " 'max_magpsf_g',\n",
       " 'max_magpsf_r',\n",
       " 'mean_magap_g',\n",
       " 'mean_magap_r',\n",
       " 'mean_magpsf_g',\n",
       " 'mean_magpsf_r',\n",
       " 'meandec',\n",
       " 'meanra',\n",
       " 'median_magap_g',\n",
       " 'median_magap_r',\n",
       " 'median_magpsf_g',\n",
       " 'median_magpsf_r',\n",
       " 'min_magap_g',\n",
       " 'min_magap_r',\n",
       " 'min_magpsf_g',\n",
       " 'min_magpsf_r',\n",
       " 'nobs',\n",
       " 'pclassearly',\n",
       " 'pclassrf',\n",
       " 'period',\n",
       " 'sigma_magap_g',\n",
       " 'sigma_magap_r',\n",
       " 'sigma_magpsf_g',\n",
       " 'sigma_magpsf_r',\n",
       " 'sigmadec',\n",
       " 'sigmara']"
      ]
     },
     "execution_count": 35,
     "metadata": {},
     "output_type": "execute_result"
    }
   ],
   "source": [
    "stats = alerce.get_stats(oid)\n",
    "display(stats)\n",
    "list(stats)"
   ]
  },
  {
   "cell_type": "markdown",
   "metadata": {},
   "source": [
    "# 6. get_probabilities"
   ]
  },
  {
   "cell_type": "code",
   "execution_count": 36,
   "metadata": {
    "ExecuteTime": {
     "end_time": "2019-09-10T13:55:14.218206Z",
     "start_time": "2019-09-10T13:55:13.474202Z"
    }
   },
   "outputs": [
    {
     "data": {
      "text/html": [
       "<div>\n",
       "<style scoped>\n",
       "    .dataframe tbody tr th:only-of-type {\n",
       "        vertical-align: middle;\n",
       "    }\n",
       "\n",
       "    .dataframe tbody tr th {\n",
       "        vertical-align: top;\n",
       "    }\n",
       "\n",
       "    .dataframe thead th {\n",
       "        text-align: right;\n",
       "    }\n",
       "</style>\n",
       "<table border=\"1\" class=\"dataframe\">\n",
       "  <thead>\n",
       "    <tr style=\"text-align: right;\">\n",
       "      <th></th>\n",
       "      <th>agn_prob</th>\n",
       "      <th>asteroid_prob</th>\n",
       "      <th>bogus_prob</th>\n",
       "      <th>classifier_version</th>\n",
       "      <th>sn_prob</th>\n",
       "      <th>vs_prob</th>\n",
       "    </tr>\n",
       "    <tr>\n",
       "      <th>oid</th>\n",
       "      <th></th>\n",
       "      <th></th>\n",
       "      <th></th>\n",
       "      <th></th>\n",
       "      <th></th>\n",
       "      <th></th>\n",
       "    </tr>\n",
       "  </thead>\n",
       "  <tbody>\n",
       "    <tr>\n",
       "      <td>ZTF19aaxqsbn</td>\n",
       "      <td>0.000005</td>\n",
       "      <td>5.469358e-09</td>\n",
       "      <td>0.000829</td>\n",
       "      <td>None</td>\n",
       "      <td>0.999165</td>\n",
       "      <td>4.666816e-10</td>\n",
       "    </tr>\n",
       "  </tbody>\n",
       "</table>\n",
       "</div>"
      ],
      "text/plain": [
       "              agn_prob  asteroid_prob  bogus_prob classifier_version  \\\n",
       "oid                                                                    \n",
       "ZTF19aaxqsbn  0.000005   5.469358e-09    0.000829               None   \n",
       "\n",
       "               sn_prob       vs_prob  \n",
       "oid                                   \n",
       "ZTF19aaxqsbn  0.999165  4.666816e-10  "
      ]
     },
     "metadata": {},
     "output_type": "display_data"
    },
    {
     "data": {
      "text/html": [
       "<div>\n",
       "<style scoped>\n",
       "    .dataframe tbody tr th:only-of-type {\n",
       "        vertical-align: middle;\n",
       "    }\n",
       "\n",
       "    .dataframe tbody tr th {\n",
       "        vertical-align: top;\n",
       "    }\n",
       "\n",
       "    .dataframe thead th {\n",
       "        text-align: right;\n",
       "    }\n",
       "</style>\n",
       "<table border=\"1\" class=\"dataframe\">\n",
       "  <thead>\n",
       "    <tr style=\"text-align: right;\">\n",
       "      <th></th>\n",
       "      <th>ceph_prob</th>\n",
       "      <th>classifierid</th>\n",
       "      <th>dsct_prob</th>\n",
       "      <th>eb_prob</th>\n",
       "      <th>lpv_prob</th>\n",
       "      <th>object_id</th>\n",
       "      <th>other_prob</th>\n",
       "      <th>rrl_prob</th>\n",
       "      <th>sne_prob</th>\n",
       "    </tr>\n",
       "    <tr>\n",
       "      <th>oid</th>\n",
       "      <th></th>\n",
       "      <th></th>\n",
       "      <th></th>\n",
       "      <th></th>\n",
       "      <th></th>\n",
       "      <th></th>\n",
       "      <th></th>\n",
       "      <th></th>\n",
       "      <th></th>\n",
       "    </tr>\n",
       "  </thead>\n",
       "  <tbody>\n",
       "    <tr>\n",
       "      <td>ZTF19aaxqsbn</td>\n",
       "      <td>0.026</td>\n",
       "      <td>1</td>\n",
       "      <td>0.01</td>\n",
       "      <td>0.014</td>\n",
       "      <td>0.072</td>\n",
       "      <td>None</td>\n",
       "      <td>0.14</td>\n",
       "      <td>0.068</td>\n",
       "      <td>0.67</td>\n",
       "    </tr>\n",
       "  </tbody>\n",
       "</table>\n",
       "</div>"
      ],
      "text/plain": [
       "              ceph_prob  classifierid  dsct_prob  eb_prob  lpv_prob object_id  \\\n",
       "oid                                                                             \n",
       "ZTF19aaxqsbn      0.026             1       0.01    0.014     0.072      None   \n",
       "\n",
       "              other_prob  rrl_prob  sne_prob  \n",
       "oid                                           \n",
       "ZTF19aaxqsbn        0.14     0.068      0.67  "
      ]
     },
     "metadata": {},
     "output_type": "display_data"
    }
   ],
   "source": [
    "probs = alerce.get_probabilities(oid)\n",
    "display(probs[\"early\"])\n",
    "display(probs[\"late\"])"
   ]
  },
  {
   "cell_type": "markdown",
   "metadata": {},
   "source": [
    "# 7. get_features"
   ]
  },
  {
   "cell_type": "code",
   "execution_count": 37,
   "metadata": {
    "ExecuteTime": {
     "end_time": "2019-09-10T13:55:19.489116Z",
     "start_time": "2019-09-10T13:55:18.980681Z"
    }
   },
   "outputs": [
    {
     "data": {
      "text/html": [
       "<div>\n",
       "<style scoped>\n",
       "    .dataframe tbody tr th:only-of-type {\n",
       "        vertical-align: middle;\n",
       "    }\n",
       "\n",
       "    .dataframe tbody tr th {\n",
       "        vertical-align: top;\n",
       "    }\n",
       "\n",
       "    .dataframe thead th {\n",
       "        text-align: right;\n",
       "    }\n",
       "</style>\n",
       "<table border=\"1\" class=\"dataframe\">\n",
       "  <thead>\n",
       "    <tr style=\"text-align: right;\">\n",
       "      <th></th>\n",
       "      <th>result.period.n_samples_1</th>\n",
       "      <th>result.period.n_samples_2</th>\n",
       "      <th>result.period.periodls_1</th>\n",
       "      <th>result.period.periodls_2</th>\n",
       "    </tr>\n",
       "    <tr>\n",
       "      <th>oid</th>\n",
       "      <th></th>\n",
       "      <th></th>\n",
       "      <th></th>\n",
       "      <th></th>\n",
       "    </tr>\n",
       "  </thead>\n",
       "  <tbody>\n",
       "    <tr>\n",
       "      <td>ZTF19aaxqsbn</td>\n",
       "      <td>14.0</td>\n",
       "      <td>28.0</td>\n",
       "      <td>0.988142</td>\n",
       "      <td>0.988142</td>\n",
       "    </tr>\n",
       "  </tbody>\n",
       "</table>\n",
       "</div>"
      ],
      "text/plain": [
       "              result.period.n_samples_1  result.period.n_samples_2  \\\n",
       "oid                                                                  \n",
       "ZTF19aaxqsbn                       14.0                       28.0   \n",
       "\n",
       "              result.period.periodls_1  result.period.periodls_2  \n",
       "oid                                                               \n",
       "ZTF19aaxqsbn                  0.988142                  0.988142  "
      ]
     },
     "execution_count": 37,
     "metadata": {},
     "output_type": "execute_result"
    }
   ],
   "source": [
    "features = alerce.get_features(oid)\n",
    "features"
   ]
  },
  {
   "cell_type": "markdown",
   "metadata": {},
   "source": [
    "# 8. get_stamp\n",
    "\n",
    "Get the stamps of an object.\n",
    "\n",
    "See https://github.com/alercebroker/usecases/blob/master/api/ALeRCE%20AVRO-STAMP%20Access%20API.md"
   ]
  },
  {
   "cell_type": "code",
   "execution_count": 38,
   "metadata": {
    "ExecuteTime": {
     "end_time": "2019-09-10T13:55:22.530093Z",
     "start_time": "2019-09-10T13:55:21.974729Z"
    }
   },
   "outputs": [
    {
     "name": "stdout",
     "output_type": "stream",
     "text": [
      "ZTF19aaxqsbn\n"
     ]
    },
    {
     "data": {
      "text/html": [
       "\n",
       "        <div>ZTF oid: ZTF19aaxqsbn, candid: 886240045615015003</div>\n",
       "        <div>&emsp;&emsp;&emsp;&emsp;&emsp;\n",
       "        Science\n",
       "        &emsp;&emsp;&emsp;&emsp;&emsp;&emsp;&emsp;&emsp;&emsp;&emsp;&emsp;&emsp; \n",
       "        Template\n",
       "        &emsp;&emsp;&emsp;&emsp;&emsp;&emsp;&emsp;&emsp;&emsp;&emsp;&emsp;&emsp; \n",
       "        Difference\n",
       "        <div class=\"container\">\n",
       "        <div style=\"float:left;width:20%\"><img src=\"http://avro.alerce.online/get_stamp?oid=ZTF19aaxqsbn&candid=886240045615015003&type=science&format=png\"></div>\n",
       "        <div style=\"float:left;width:20%\"><img src=\"http://avro.alerce.online/get_stamp?oid=ZTF19aaxqsbn&candid=886240045615015003&type=template&format=png\"></div>\n",
       "        <div style=\"float:left;width:20%\"><img src=\"http://avro.alerce.online/get_stamp?oid=ZTF19aaxqsbn&candid=886240045615015003&type=difference&format=png\"></div>\n",
       "        </div>\n",
       "        "
      ],
      "text/plain": [
       "<IPython.core.display.HTML object>"
      ]
     },
     "metadata": {},
     "output_type": "display_data"
    },
    {
     "data": {
      "text/html": [
       "\n",
       "        <div>ZTF oid: ZTF19aaxqsbn, candid: 886240045615015003</div>\n",
       "        <div>&emsp;&emsp;&emsp;&emsp;&emsp;\n",
       "        Science\n",
       "        &emsp;&emsp;&emsp;&emsp;&emsp;&emsp;&emsp;&emsp;&emsp;&emsp;&emsp;&emsp; \n",
       "        Template\n",
       "        &emsp;&emsp;&emsp;&emsp;&emsp;&emsp;&emsp;&emsp;&emsp;&emsp;&emsp;&emsp; \n",
       "        Difference\n",
       "        <div class=\"container\">\n",
       "        <div style=\"float:left;width:20%\"><img src=\"http://avro.alerce.online/get_stamp?oid=ZTF19aaxqsbn&candid=886240045615015003&type=science&format=png\"></div>\n",
       "        <div style=\"float:left;width:20%\"><img src=\"http://avro.alerce.online/get_stamp?oid=ZTF19aaxqsbn&candid=886240045615015003&type=template&format=png\"></div>\n",
       "        <div style=\"float:left;width:20%\"><img src=\"http://avro.alerce.online/get_stamp?oid=ZTF19aaxqsbn&candid=886240045615015003&type=difference&format=png\"></div>\n",
       "        </div>\n",
       "        "
      ],
      "text/plain": [
       "<IPython.core.display.HTML object>"
      ]
     },
     "metadata": {},
     "output_type": "display_data"
    },
    {
     "data": {
      "text/html": [
       "\n",
       "        <div>ZTF oid: ZTF19aaxqsbn, candid: 980131591415010001</div>\n",
       "        <div>&emsp;&emsp;&emsp;&emsp;&emsp;\n",
       "        Science\n",
       "        &emsp;&emsp;&emsp;&emsp;&emsp;&emsp;&emsp;&emsp;&emsp;&emsp;&emsp;&emsp; \n",
       "        Template\n",
       "        &emsp;&emsp;&emsp;&emsp;&emsp;&emsp;&emsp;&emsp;&emsp;&emsp;&emsp;&emsp; \n",
       "        Difference\n",
       "        <div class=\"container\">\n",
       "        <div style=\"float:left;width:20%\"><img src=\"http://avro.alerce.online/get_stamp?oid=ZTF19aaxqsbn&candid=980131591415010001&type=science&format=png\"></div>\n",
       "        <div style=\"float:left;width:20%\"><img src=\"http://avro.alerce.online/get_stamp?oid=ZTF19aaxqsbn&candid=980131591415010001&type=template&format=png\"></div>\n",
       "        <div style=\"float:left;width:20%\"><img src=\"http://avro.alerce.online/get_stamp?oid=ZTF19aaxqsbn&candid=980131591415010001&type=difference&format=png\"></div>\n",
       "        </div>\n",
       "        "
      ],
      "text/plain": [
       "<IPython.core.display.HTML object>"
      ]
     },
     "metadata": {},
     "output_type": "display_data"
    }
   ],
   "source": [
    "# note that the index of detections is the candid\n",
    "print(oid)\n",
    "alerce.plot_stamp(oid)\n",
    "alerce.plot_stamp(oid, detections.index.min())\n",
    "alerce.plot_stamp(oid, detections.index.max())"
   ]
  },
  {
   "cell_type": "code",
   "execution_count": null,
   "metadata": {},
   "outputs": [],
   "source": []
  },
  {
   "cell_type": "code",
   "execution_count": null,
   "metadata": {},
   "outputs": [],
   "source": []
  }
 ],
 "metadata": {
  "kernelspec": {
   "display_name": "Python 3",
   "language": "python",
   "name": "python3"
  },
  "language_info": {
   "codemirror_mode": {
    "name": "ipython",
    "version": 3
   },
   "file_extension": ".py",
   "mimetype": "text/x-python",
   "name": "python",
   "nbconvert_exporter": "python",
   "pygments_lexer": "ipython3",
   "version": "3.6.5"
  }
 },
 "nbformat": 4,
 "nbformat_minor": 2
}
