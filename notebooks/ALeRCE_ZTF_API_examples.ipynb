{
 "cells": [
  {
   "cell_type": "markdown",
   "metadata": {},
   "source": [
    "# ALeRCE API interaction examples"
   ]
  },
  {
   "cell_type": "markdown",
   "metadata": {},
   "source": [
    "Load libraries"
   ]
  },
  {
   "cell_type": "code",
   "execution_count": 1,
   "metadata": {
    "ExecuteTime": {
     "end_time": "2019-11-08T19:54:34.233068Z",
     "start_time": "2019-11-08T19:54:33.653380Z"
    }
   },
   "outputs": [],
   "source": [
    "import sys\n",
    "import requests\n",
    "import matplotlib.pyplot as plt\n",
    "%matplotlib inline\n",
    "import pandas as pd\n",
    "from pandas.io.json import json_normalize\n",
    "from astropy.time import Time\n",
    "from datetime import datetime\n",
    "from IPython.display import HTML"
   ]
  },
  {
   "cell_type": "code",
   "execution_count": 2,
   "metadata": {
    "ExecuteTime": {
     "end_time": "2019-11-08T19:54:34.402041Z",
     "start_time": "2019-11-08T19:54:34.290650Z"
    }
   },
   "outputs": [],
   "source": [
    "#!pip install alerce\n",
    "from alerce.api import AlerceAPI"
   ]
  },
  {
   "cell_type": "markdown",
   "metadata": {},
   "source": [
    "See https://github.com/alercebroker/usecases/blob/master/api/ALeRCE%20ZTF%20DB%20API.md"
   ]
  },
  {
   "cell_type": "code",
   "execution_count": 3,
   "metadata": {
    "ExecuteTime": {
     "end_time": "2019-11-08T19:54:35.142643Z",
     "start_time": "2019-11-08T19:54:35.129220Z"
    }
   },
   "outputs": [],
   "source": [
    "# continuously load modules (for easier debugging)\n",
    "%load_ext autoreload\n",
    "%autoreload 2"
   ]
  },
  {
   "cell_type": "markdown",
   "metadata": {},
   "source": [
    "# Initialize alerce api object"
   ]
  },
  {
   "cell_type": "code",
   "execution_count": 5,
   "metadata": {
    "ExecuteTime": {
     "end_time": "2019-11-08T19:54:39.188629Z",
     "start_time": "2019-11-08T19:54:39.172644Z"
    }
   },
   "outputs": [],
   "source": [
    "client = AlerceAPI()"
   ]
  },
  {
   "cell_type": "markdown",
   "metadata": {},
   "source": [
    "# Classifier taxonomy and numeric mappings"
   ]
  },
  {
   "cell_type": "markdown",
   "metadata": {},
   "source": [
    "There are two classifiers used in ALeRCE, an early classifier and a late classifier. Each one has its own numeric mappings for the different classes. You can use their string or integer names.\n",
    "\n",
    "The early classifier uses as input the first detection stamps and contains the following classes:\n",
    "\n",
    "    \"agn\"\n",
    "    \"sn\"\n",
    "    \"vs\"\n",
    "    \"asteroid\"\n",
    "    \"bogus\"\n",
    "    \n",
    "The late classifier uses the light curve information and contains the following classes:\n",
    "\n",
    "    \"sn ia\"\n",
    "    \"sn ibc\"\n",
    "    \"sn ii\"\n",
    "    \"sn iin\"\n",
    "    \"slsn\"\n",
    "    \"eb/sd/d\"\n",
    "    \"eb/c\"\n",
    "    \"periodic/other\"\n",
    "    \"cv/nova\"\n",
    "    \"blazar\"\n",
    "    \"agn i\"\n",
    "    \"dsct\"\n",
    "    \"ceph\"\n",
    "    \"lpv\"\n",
    "    \"rrl\"\n",
    "    \"other\""
   ]
  },
  {
   "cell_type": "markdown",
   "metadata": {},
   "source": [
    "# 1. query\n",
    "\n",
    "Query a list of objects"
   ]
  },
  {
   "cell_type": "markdown",
   "metadata": {
    "ExecuteTime": {
     "end_time": "2019-07-19T02:40:07.495627Z",
     "start_time": "2019-07-19T02:40:07.426187Z"
    }
   },
   "source": [
    "The following json file should be sent\n",
    "\n",
    "```js\n",
    "{\n",
    "total: number, // (if not set the total is counted and the query is slower),\n",
    "records_per_pages: number. // default 20\n",
    "page: number (default 1),\n",
    "sortBy: string columnName, // default nobs\n",
    "query_parameters:{\n",
    "    filters:{\n",
    "        //ZTF Object id\n",
    "        oid: \"ZTFXXXXXX\",\n",
    "        //Number of detections\n",
    "        nobs: { \n",
    "            min: int\n",
    "            max: int\n",
    "        },\n",
    "        //Late Classifier (Random Forest)\n",
    "        classrf: int,\n",
    "        pclassrf: float [0-1],\n",
    "        //Early Classifier (Stamp Classifier)\n",
    "        classearly: int,\n",
    "        pclassearly: float [0-1],\n",
    "    },\n",
    "    //Coordinate based search (RA,DEC) and Search Radius.\n",
    "    coordinates:{\n",
    "        ra: float degrees,\n",
    "        dec: float degrees,\n",
    "        sr: float degrees\n",
    "    },\n",
    "    dates:{\n",
    "        //First detection (Discovery date)\n",
    "        firstmjd: {\n",
    "         min: float mjd,\n",
    "         max: float mjd\n",
    "        }\n",
    "    }\n",
    "}\n",
    "```"
   ]
  },
  {
   "cell_type": "markdown",
   "metadata": {},
   "source": [
    "### Example: \n",
    "\n",
    "Give me all the objects with probability of being SNe greater than 0.8 according to the random forest classifier (light curve based), which have between 2 and 40 detections. Give me the second page, with pages of 10 elements each, of a total of at most 40 objects query result.\n",
    "\n",
    "Note: probabilities are experimental and should not be fully trusted"
   ]
  },
  {
   "cell_type": "code",
   "execution_count": 6,
   "metadata": {
    "ExecuteTime": {
     "end_time": "2019-11-08T19:54:58.388922Z",
     "start_time": "2019-11-08T19:54:58.373538Z"
    }
   },
   "outputs": [],
   "source": [
    "total = 40\n",
    "records_per_page = 10\n",
    "page = 2\n",
    "sortBy = \"firstmjd\"\n",
    "nobsmin = 10\n",
    "nobsmax = 40\n",
    "classrf = \"sn ia\"\n",
    "pclassrf = 0.3\n",
    "\n",
    "params = {\n",
    "    \"total\": total,\n",
    "    \"records_per_pages\": records_per_page,\n",
    "    \"page\": page,\n",
    "    \"sortBy\": sortBy,\n",
    "    \"query_parameters\": {\n",
    "        \"filters\": {\n",
    "            \"nobs\": { \n",
    "                \"min\": nobsmin,\n",
    "                \"max\": nobsmax\n",
    "            },\n",
    "            \"classrf\": classrf,\n",
    "            \"pclassrf\": pclassrf\n",
    "        }\n",
    "    }\n",
    "}"
   ]
  },
  {
   "cell_type": "code",
   "execution_count": 7,
   "metadata": {
    "ExecuteTime": {
     "end_time": "2019-11-08T19:55:07.944724Z",
     "start_time": "2019-11-08T19:55:07.257968Z"
    }
   },
   "outputs": [
    {
     "data": {
      "text/html": [
       "<div>\n",
       "<style scoped>\n",
       "    .dataframe tbody tr th:only-of-type {\n",
       "        vertical-align: middle;\n",
       "    }\n",
       "\n",
       "    .dataframe tbody tr th {\n",
       "        vertical-align: top;\n",
       "    }\n",
       "\n",
       "    .dataframe thead th {\n",
       "        text-align: right;\n",
       "    }\n",
       "</style>\n",
       "<table border=\"1\" class=\"dataframe\">\n",
       "  <thead>\n",
       "    <tr style=\"text-align: right;\">\n",
       "      <th></th>\n",
       "      <th>catalogid</th>\n",
       "      <th>classearly</th>\n",
       "      <th>classrf</th>\n",
       "      <th>classxmatch</th>\n",
       "      <th>deltajd</th>\n",
       "      <th>first_magap_g</th>\n",
       "      <th>first_magap_r</th>\n",
       "      <th>first_magpsf_g</th>\n",
       "      <th>first_magpsf_r</th>\n",
       "      <th>firstmjd</th>\n",
       "      <th>...</th>\n",
       "      <th>nobs</th>\n",
       "      <th>pclassearly</th>\n",
       "      <th>pclassrf</th>\n",
       "      <th>period</th>\n",
       "      <th>sigma_magap_g</th>\n",
       "      <th>sigma_magap_r</th>\n",
       "      <th>sigma_magpsf_g</th>\n",
       "      <th>sigma_magpsf_r</th>\n",
       "      <th>sigmadec</th>\n",
       "      <th>sigmara</th>\n",
       "    </tr>\n",
       "    <tr>\n",
       "      <th>oid</th>\n",
       "      <th></th>\n",
       "      <th></th>\n",
       "      <th></th>\n",
       "      <th></th>\n",
       "      <th></th>\n",
       "      <th></th>\n",
       "      <th></th>\n",
       "      <th></th>\n",
       "      <th></th>\n",
       "      <th></th>\n",
       "      <th></th>\n",
       "      <th></th>\n",
       "      <th></th>\n",
       "      <th></th>\n",
       "      <th></th>\n",
       "      <th></th>\n",
       "      <th></th>\n",
       "      <th></th>\n",
       "      <th></th>\n",
       "      <th></th>\n",
       "      <th></th>\n",
       "    </tr>\n",
       "  </thead>\n",
       "  <tbody>\n",
       "    <tr>\n",
       "      <th>ZTF19acbswdq</th>\n",
       "      <td>None</td>\n",
       "      <td>19</td>\n",
       "      <td>10</td>\n",
       "      <td>None</td>\n",
       "      <td>36.979502</td>\n",
       "      <td>18.224600</td>\n",
       "      <td>19.533701</td>\n",
       "      <td>18.298929</td>\n",
       "      <td>19.195061</td>\n",
       "      <td>58757.321574</td>\n",
       "      <td>...</td>\n",
       "      <td>18</td>\n",
       "      <td>1.000000</td>\n",
       "      <td>0.320</td>\n",
       "      <td>None</td>\n",
       "      <td>0.596910</td>\n",
       "      <td>0.505103</td>\n",
       "      <td>0.629876</td>\n",
       "      <td>0.419458</td>\n",
       "      <td>0.000026</td>\n",
       "      <td>0.000031</td>\n",
       "    </tr>\n",
       "    <tr>\n",
       "      <th>ZTF19acbpqvc</th>\n",
       "      <td>None</td>\n",
       "      <td>21</td>\n",
       "      <td>10</td>\n",
       "      <td>None</td>\n",
       "      <td>36.956991</td>\n",
       "      <td>18.699100</td>\n",
       "      <td>17.611601</td>\n",
       "      <td>18.658756</td>\n",
       "      <td>17.566465</td>\n",
       "      <td>58757.193507</td>\n",
       "      <td>...</td>\n",
       "      <td>19</td>\n",
       "      <td>0.913192</td>\n",
       "      <td>0.304</td>\n",
       "      <td>None</td>\n",
       "      <td>0.695959</td>\n",
       "      <td>0.414347</td>\n",
       "      <td>0.674953</td>\n",
       "      <td>0.387222</td>\n",
       "      <td>0.000014</td>\n",
       "      <td>0.000010</td>\n",
       "    </tr>\n",
       "    <tr>\n",
       "      <th>ZTF19acbmyqe</th>\n",
       "      <td>None</td>\n",
       "      <td>19</td>\n",
       "      <td>10</td>\n",
       "      <td>None</td>\n",
       "      <td>38.066794</td>\n",
       "      <td>19.536400</td>\n",
       "      <td>18.984699</td>\n",
       "      <td>19.618511</td>\n",
       "      <td>18.816895</td>\n",
       "      <td>58756.475081</td>\n",
       "      <td>...</td>\n",
       "      <td>17</td>\n",
       "      <td>0.985974</td>\n",
       "      <td>0.302</td>\n",
       "      <td>None</td>\n",
       "      <td>0.673687</td>\n",
       "      <td>0.258330</td>\n",
       "      <td>0.494808</td>\n",
       "      <td>0.305881</td>\n",
       "      <td>0.000041</td>\n",
       "      <td>0.000033</td>\n",
       "    </tr>\n",
       "    <tr>\n",
       "      <th>ZTF19acbmotn</th>\n",
       "      <td>None</td>\n",
       "      <td>18</td>\n",
       "      <td>10</td>\n",
       "      <td>None</td>\n",
       "      <td>37.050312</td>\n",
       "      <td>19.993601</td>\n",
       "      <td>20.156099</td>\n",
       "      <td>19.656010</td>\n",
       "      <td>19.728617</td>\n",
       "      <td>58756.454201</td>\n",
       "      <td>...</td>\n",
       "      <td>16</td>\n",
       "      <td>0.766637</td>\n",
       "      <td>0.300</td>\n",
       "      <td>None</td>\n",
       "      <td>0.382541</td>\n",
       "      <td>0.454579</td>\n",
       "      <td>0.303711</td>\n",
       "      <td>0.378040</td>\n",
       "      <td>0.000050</td>\n",
       "      <td>0.000065</td>\n",
       "    </tr>\n",
       "    <tr>\n",
       "      <th>ZTF19acbmjrp</th>\n",
       "      <td>None</td>\n",
       "      <td>21</td>\n",
       "      <td>10</td>\n",
       "      <td>None</td>\n",
       "      <td>36.917651</td>\n",
       "      <td>19.325701</td>\n",
       "      <td>19.537300</td>\n",
       "      <td>19.450378</td>\n",
       "      <td>19.551464</td>\n",
       "      <td>58756.440069</td>\n",
       "      <td>...</td>\n",
       "      <td>17</td>\n",
       "      <td>0.999191</td>\n",
       "      <td>0.324</td>\n",
       "      <td>None</td>\n",
       "      <td>0.576307</td>\n",
       "      <td>0.335006</td>\n",
       "      <td>0.565661</td>\n",
       "      <td>0.348101</td>\n",
       "      <td>0.000028</td>\n",
       "      <td>0.000036</td>\n",
       "    </tr>\n",
       "  </tbody>\n",
       "</table>\n",
       "<p>5 rows × 43 columns</p>\n",
       "</div>"
      ],
      "text/plain": [
       "             catalogid  classearly  classrf classxmatch    deltajd  \\\n",
       "oid                                                                  \n",
       "ZTF19acbswdq      None          19       10        None  36.979502   \n",
       "ZTF19acbpqvc      None          21       10        None  36.956991   \n",
       "ZTF19acbmyqe      None          19       10        None  38.066794   \n",
       "ZTF19acbmotn      None          18       10        None  37.050312   \n",
       "ZTF19acbmjrp      None          21       10        None  36.917651   \n",
       "\n",
       "              first_magap_g  first_magap_r  first_magpsf_g  first_magpsf_r  \\\n",
       "oid                                                                          \n",
       "ZTF19acbswdq      18.224600      19.533701       18.298929       19.195061   \n",
       "ZTF19acbpqvc      18.699100      17.611601       18.658756       17.566465   \n",
       "ZTF19acbmyqe      19.536400      18.984699       19.618511       18.816895   \n",
       "ZTF19acbmotn      19.993601      20.156099       19.656010       19.728617   \n",
       "ZTF19acbmjrp      19.325701      19.537300       19.450378       19.551464   \n",
       "\n",
       "                  firstmjd  ...  nobs  pclassearly  pclassrf  period  \\\n",
       "oid                         ...                                        \n",
       "ZTF19acbswdq  58757.321574  ...    18     1.000000     0.320    None   \n",
       "ZTF19acbpqvc  58757.193507  ...    19     0.913192     0.304    None   \n",
       "ZTF19acbmyqe  58756.475081  ...    17     0.985974     0.302    None   \n",
       "ZTF19acbmotn  58756.454201  ...    16     0.766637     0.300    None   \n",
       "ZTF19acbmjrp  58756.440069  ...    17     0.999191     0.324    None   \n",
       "\n",
       "              sigma_magap_g  sigma_magap_r  sigma_magpsf_g  sigma_magpsf_r  \\\n",
       "oid                                                                          \n",
       "ZTF19acbswdq       0.596910       0.505103        0.629876        0.419458   \n",
       "ZTF19acbpqvc       0.695959       0.414347        0.674953        0.387222   \n",
       "ZTF19acbmyqe       0.673687       0.258330        0.494808        0.305881   \n",
       "ZTF19acbmotn       0.382541       0.454579        0.303711        0.378040   \n",
       "ZTF19acbmjrp       0.576307       0.335006        0.565661        0.348101   \n",
       "\n",
       "              sigmadec   sigmara  \n",
       "oid                               \n",
       "ZTF19acbswdq  0.000026  0.000031  \n",
       "ZTF19acbpqvc  0.000014  0.000010  \n",
       "ZTF19acbmyqe  0.000041  0.000033  \n",
       "ZTF19acbmotn  0.000050  0.000065  \n",
       "ZTF19acbmjrp  0.000028  0.000036  \n",
       "\n",
       "[5 rows x 43 columns]"
      ]
     },
     "execution_count": 7,
     "metadata": {},
     "output_type": "execute_result"
    }
   ],
   "source": [
    "query_results = client.query(params, format='pandas')\n",
    "query_results.head()"
   ]
  },
  {
   "cell_type": "markdown",
   "metadata": {},
   "source": [
    "### Example: \n",
    "\n",
    "Give me the last 100 objects with classified as SNe according to the early classifier (one image stamp)\n",
    "\n",
    "Note: this is experimental, about 90% of the candidates are false positives"
   ]
  },
  {
   "cell_type": "code",
   "execution_count": 11,
   "metadata": {
    "ExecuteTime": {
     "end_time": "2019-11-08T19:55:44.122485Z",
     "start_time": "2019-11-08T19:55:44.105039Z"
    }
   },
   "outputs": [],
   "source": [
    "mjd_48hr = Time(datetime.utcnow(), scale='utc').mjd - 2.\n",
    "\n",
    "total = 100\n",
    "records_per_page = 100\n",
    "sortBy = \"pclassearly\"\n",
    "classearly = 'sn'\n",
    "\n",
    "params = {\n",
    "    \"total\": total,\n",
    "    \"records_per_pages\": records_per_page,\n",
    "    \"sortBy\": sortBy,\n",
    "    \"query_parameters\": {\n",
    "        \"filters\": {\n",
    "            \"classearly\": classearly\n",
    "        },\n",
    "        \"dates\": {\n",
    "            \"firstmjd\": {\n",
    "                \"min\": mjd_48hr\n",
    "            }\n",
    "        }\n",
    "    }\n",
    "}"
   ]
  },
  {
   "cell_type": "code",
   "execution_count": 12,
   "metadata": {
    "ExecuteTime": {
     "end_time": "2019-11-08T19:55:57.307420Z",
     "start_time": "2019-11-08T19:55:45.634351Z"
    }
   },
   "outputs": [
    {
     "data": {
      "text/html": [
       "<div>\n",
       "<style scoped>\n",
       "    .dataframe tbody tr th:only-of-type {\n",
       "        vertical-align: middle;\n",
       "    }\n",
       "\n",
       "    .dataframe tbody tr th {\n",
       "        vertical-align: top;\n",
       "    }\n",
       "\n",
       "    .dataframe thead th {\n",
       "        text-align: right;\n",
       "    }\n",
       "</style>\n",
       "<table border=\"1\" class=\"dataframe\">\n",
       "  <thead>\n",
       "    <tr style=\"text-align: right;\">\n",
       "      <th></th>\n",
       "      <th>catalogid</th>\n",
       "      <th>classearly</th>\n",
       "      <th>classrf</th>\n",
       "      <th>classxmatch</th>\n",
       "      <th>deltajd</th>\n",
       "      <th>first_magap_g</th>\n",
       "      <th>first_magap_r</th>\n",
       "      <th>first_magpsf_g</th>\n",
       "      <th>first_magpsf_r</th>\n",
       "      <th>firstmjd</th>\n",
       "      <th>...</th>\n",
       "      <th>nobs</th>\n",
       "      <th>pclassearly</th>\n",
       "      <th>pclassrf</th>\n",
       "      <th>period</th>\n",
       "      <th>sigma_magap_g</th>\n",
       "      <th>sigma_magap_r</th>\n",
       "      <th>sigma_magpsf_g</th>\n",
       "      <th>sigma_magpsf_r</th>\n",
       "      <th>sigmadec</th>\n",
       "      <th>sigmara</th>\n",
       "    </tr>\n",
       "    <tr>\n",
       "      <th>oid</th>\n",
       "      <th></th>\n",
       "      <th></th>\n",
       "      <th></th>\n",
       "      <th></th>\n",
       "      <th></th>\n",
       "      <th></th>\n",
       "      <th></th>\n",
       "      <th></th>\n",
       "      <th></th>\n",
       "      <th></th>\n",
       "      <th></th>\n",
       "      <th></th>\n",
       "      <th></th>\n",
       "      <th></th>\n",
       "      <th></th>\n",
       "      <th></th>\n",
       "      <th></th>\n",
       "      <th></th>\n",
       "      <th></th>\n",
       "      <th></th>\n",
       "      <th></th>\n",
       "    </tr>\n",
       "  </thead>\n",
       "  <tbody>\n",
       "    <tr>\n",
       "      <th>ZTF19acpowjm</th>\n",
       "      <td>None</td>\n",
       "      <td>20</td>\n",
       "      <td>None</td>\n",
       "      <td>None</td>\n",
       "      <td>0.0</td>\n",
       "      <td>17.1663</td>\n",
       "      <td>None</td>\n",
       "      <td>17.269</td>\n",
       "      <td>None</td>\n",
       "      <td>58794.237315</td>\n",
       "      <td>...</td>\n",
       "      <td>1</td>\n",
       "      <td>0.999903</td>\n",
       "      <td>None</td>\n",
       "      <td>None</td>\n",
       "      <td>None</td>\n",
       "      <td>None</td>\n",
       "      <td>None</td>\n",
       "      <td>None</td>\n",
       "      <td>None</td>\n",
       "      <td>None</td>\n",
       "    </tr>\n",
       "    <tr>\n",
       "      <th>ZTF19acqdqbf</th>\n",
       "      <td>None</td>\n",
       "      <td>20</td>\n",
       "      <td>None</td>\n",
       "      <td>None</td>\n",
       "      <td>0.0</td>\n",
       "      <td>17.0227</td>\n",
       "      <td>None</td>\n",
       "      <td>17.2785</td>\n",
       "      <td>None</td>\n",
       "      <td>58794.544965</td>\n",
       "      <td>...</td>\n",
       "      <td>1</td>\n",
       "      <td>0.999789</td>\n",
       "      <td>None</td>\n",
       "      <td>None</td>\n",
       "      <td>None</td>\n",
       "      <td>None</td>\n",
       "      <td>None</td>\n",
       "      <td>None</td>\n",
       "      <td>None</td>\n",
       "      <td>None</td>\n",
       "    </tr>\n",
       "    <tr>\n",
       "      <th>ZTF19acpmxhd</th>\n",
       "      <td>None</td>\n",
       "      <td>20</td>\n",
       "      <td>None</td>\n",
       "      <td>None</td>\n",
       "      <td>0.0</td>\n",
       "      <td>None</td>\n",
       "      <td>14.3329</td>\n",
       "      <td>None</td>\n",
       "      <td>14.343</td>\n",
       "      <td>58794.112905</td>\n",
       "      <td>...</td>\n",
       "      <td>1</td>\n",
       "      <td>0.999375</td>\n",
       "      <td>None</td>\n",
       "      <td>None</td>\n",
       "      <td>None</td>\n",
       "      <td>None</td>\n",
       "      <td>None</td>\n",
       "      <td>None</td>\n",
       "      <td>None</td>\n",
       "      <td>None</td>\n",
       "    </tr>\n",
       "    <tr>\n",
       "      <th>ZTF19acpnceh</th>\n",
       "      <td>None</td>\n",
       "      <td>20</td>\n",
       "      <td>None</td>\n",
       "      <td>None</td>\n",
       "      <td>0.0</td>\n",
       "      <td>None</td>\n",
       "      <td>16.849</td>\n",
       "      <td>None</td>\n",
       "      <td>16.673</td>\n",
       "      <td>58794.115243</td>\n",
       "      <td>...</td>\n",
       "      <td>1</td>\n",
       "      <td>0.999351</td>\n",
       "      <td>None</td>\n",
       "      <td>None</td>\n",
       "      <td>None</td>\n",
       "      <td>None</td>\n",
       "      <td>None</td>\n",
       "      <td>None</td>\n",
       "      <td>None</td>\n",
       "      <td>None</td>\n",
       "    </tr>\n",
       "    <tr>\n",
       "      <th>ZTF19acqnnuq</th>\n",
       "      <td>None</td>\n",
       "      <td>20</td>\n",
       "      <td>None</td>\n",
       "      <td>None</td>\n",
       "      <td>0.0</td>\n",
       "      <td>12.4965</td>\n",
       "      <td>None</td>\n",
       "      <td>12.4983</td>\n",
       "      <td>None</td>\n",
       "      <td>58795.115856</td>\n",
       "      <td>...</td>\n",
       "      <td>1</td>\n",
       "      <td>0.999327</td>\n",
       "      <td>None</td>\n",
       "      <td>None</td>\n",
       "      <td>None</td>\n",
       "      <td>None</td>\n",
       "      <td>None</td>\n",
       "      <td>None</td>\n",
       "      <td>None</td>\n",
       "      <td>None</td>\n",
       "    </tr>\n",
       "  </tbody>\n",
       "</table>\n",
       "<p>5 rows × 43 columns</p>\n",
       "</div>"
      ],
      "text/plain": [
       "             catalogid  classearly classrf classxmatch  deltajd first_magap_g  \\\n",
       "oid                                                                             \n",
       "ZTF19acpowjm      None          20    None        None      0.0       17.1663   \n",
       "ZTF19acqdqbf      None          20    None        None      0.0       17.0227   \n",
       "ZTF19acpmxhd      None          20    None        None      0.0          None   \n",
       "ZTF19acpnceh      None          20    None        None      0.0          None   \n",
       "ZTF19acqnnuq      None          20    None        None      0.0       12.4965   \n",
       "\n",
       "             first_magap_r first_magpsf_g first_magpsf_r      firstmjd  ...  \\\n",
       "oid                                                                     ...   \n",
       "ZTF19acpowjm          None         17.269           None  58794.237315  ...   \n",
       "ZTF19acqdqbf          None        17.2785           None  58794.544965  ...   \n",
       "ZTF19acpmxhd       14.3329           None         14.343  58794.112905  ...   \n",
       "ZTF19acpnceh        16.849           None         16.673  58794.115243  ...   \n",
       "ZTF19acqnnuq          None        12.4983           None  58795.115856  ...   \n",
       "\n",
       "             nobs pclassearly pclassrf period  sigma_magap_g sigma_magap_r  \\\n",
       "oid                                                                          \n",
       "ZTF19acpowjm    1    0.999903     None   None           None          None   \n",
       "ZTF19acqdqbf    1    0.999789     None   None           None          None   \n",
       "ZTF19acpmxhd    1    0.999375     None   None           None          None   \n",
       "ZTF19acpnceh    1    0.999351     None   None           None          None   \n",
       "ZTF19acqnnuq    1    0.999327     None   None           None          None   \n",
       "\n",
       "             sigma_magpsf_g sigma_magpsf_r sigmadec sigmara  \n",
       "oid                                                          \n",
       "ZTF19acpowjm           None           None     None    None  \n",
       "ZTF19acqdqbf           None           None     None    None  \n",
       "ZTF19acpmxhd           None           None     None    None  \n",
       "ZTF19acpnceh           None           None     None    None  \n",
       "ZTF19acqnnuq           None           None     None    None  \n",
       "\n",
       "[5 rows x 43 columns]"
      ]
     },
     "execution_count": 12,
     "metadata": {},
     "output_type": "execute_result"
    }
   ],
   "source": [
    "query_results = client.query(params, format='pandas')\n",
    "query_results.head()"
   ]
  },
  {
   "cell_type": "code",
   "execution_count": 13,
   "metadata": {
    "ExecuteTime": {
     "end_time": "2019-11-08T19:55:57.478967Z",
     "start_time": "2019-11-08T19:55:57.309182Z"
    }
   },
   "outputs": [
    {
     "data": {
      "text/plain": [
       "(19.83511572552409, 11.746904127784129)"
      ]
     },
     "execution_count": 13,
     "metadata": {},
     "output_type": "execute_result"
    },
    {
     "data": {
      "image/png": "[encoded data removed]",
      "text/plain": [
       "<Figure size 864x576 with 1 Axes>"
      ]
     },
     "metadata": {},
     "output_type": "display_data"
    }
   ],
   "source": [
    "# Show first mag vs first MJD\n",
    "fig, ax = plt.subplots(figsize = (12, 8))\n",
    "mask = query_results.first_magpsf_r.notnull()\n",
    "ax.scatter(query_results.firstmjd[mask], query_results.first_magpsf_r[mask], c = 'r')\n",
    "mask = query_results.first_magpsf_g.notnull()\n",
    "ax.scatter(query_results.firstmjd[mask], query_results.first_magpsf_g[mask], c = 'g')\n",
    "ax.set_xlabel(\"First MJD\")\n",
    "ax.set_ylabel(\"First mag g|r\")\n",
    "ax.set_ylim(ax.get_ylim()[::-1])"
   ]
  },
  {
   "cell_type": "markdown",
   "metadata": {},
   "source": [
    "You can see the ZTF filter changes during the night. The missing times are due to the ZTF private stream."
   ]
  },
  {
   "cell_type": "markdown",
   "metadata": {},
   "source": [
    "# 2. get_sql\n",
    "\n",
    "Get the sql query using the same parameters as the previous query"
   ]
  },
  {
   "cell_type": "code",
   "execution_count": 14,
   "metadata": {
    "ExecuteTime": {
     "end_time": "2019-11-08T19:56:01.665634Z",
     "start_time": "2019-11-08T19:56:01.260927Z"
    }
   },
   "outputs": [
    {
     "data": {
      "text/plain": [
       "'SELECT * FROM objects WHERE classearly=20 AND  firstmjd >= 58793.83037176905 '"
      ]
     },
     "execution_count": 14,
     "metadata": {},
     "output_type": "execute_result"
    }
   ],
   "source": [
    "client.get_sql(params)"
   ]
  },
  {
   "cell_type": "markdown",
   "metadata": {},
   "source": [
    "# 3. get_detections\n",
    "\n",
    "Get all the detections for an object"
   ]
  },
  {
   "cell_type": "code",
   "execution_count": 16,
   "metadata": {
    "ExecuteTime": {
     "end_time": "2019-11-08T19:56:12.919324Z",
     "start_time": "2019-11-08T19:56:12.907825Z"
    }
   },
   "outputs": [],
   "source": [
    "oid = \"ZTF19abueupg\""
   ]
  },
  {
   "cell_type": "code",
   "execution_count": 18,
   "metadata": {
    "ExecuteTime": {
     "end_time": "2019-11-08T19:56:30.098712Z",
     "start_time": "2019-11-08T19:56:29.595891Z"
    }
   },
   "outputs": [
    {
     "data": {
      "text/html": [
       "<div>\n",
       "<style scoped>\n",
       "    .dataframe tbody tr th:only-of-type {\n",
       "        vertical-align: middle;\n",
       "    }\n",
       "\n",
       "    .dataframe tbody tr th {\n",
       "        vertical-align: top;\n",
       "    }\n",
       "\n",
       "    .dataframe thead th {\n",
       "        text-align: right;\n",
       "    }\n",
       "</style>\n",
       "<table border=\"1\" class=\"dataframe\">\n",
       "  <thead>\n",
       "    <tr style=\"text-align: right;\">\n",
       "      <th></th>\n",
       "      <th>candid_str</th>\n",
       "      <th>dec</th>\n",
       "      <th>diffmaglim</th>\n",
       "      <th>distpsnr1</th>\n",
       "      <th>fid</th>\n",
       "      <th>field</th>\n",
       "      <th>isdiffpos</th>\n",
       "      <th>magap</th>\n",
       "      <th>magap_corr</th>\n",
       "      <th>magnr</th>\n",
       "      <th>...</th>\n",
       "      <th>rb</th>\n",
       "      <th>rcid</th>\n",
       "      <th>sgscore1</th>\n",
       "      <th>sigmadec</th>\n",
       "      <th>sigmagap</th>\n",
       "      <th>sigmagap_corr</th>\n",
       "      <th>sigmagnr</th>\n",
       "      <th>sigmapsf</th>\n",
       "      <th>sigmapsf_corr</th>\n",
       "      <th>sigmara</th>\n",
       "    </tr>\n",
       "    <tr>\n",
       "      <th>candid</th>\n",
       "      <th></th>\n",
       "      <th></th>\n",
       "      <th></th>\n",
       "      <th></th>\n",
       "      <th></th>\n",
       "      <th></th>\n",
       "      <th></th>\n",
       "      <th></th>\n",
       "      <th></th>\n",
       "      <th></th>\n",
       "      <th></th>\n",
       "      <th></th>\n",
       "      <th></th>\n",
       "      <th></th>\n",
       "      <th></th>\n",
       "      <th></th>\n",
       "      <th></th>\n",
       "      <th></th>\n",
       "      <th></th>\n",
       "      <th></th>\n",
       "      <th></th>\n",
       "    </tr>\n",
       "  </thead>\n",
       "  <tbody>\n",
       "    <tr>\n",
       "      <th>970313001115015006</th>\n",
       "      <td>970313001115015006</td>\n",
       "      <td>51.382551</td>\n",
       "      <td>20.446541</td>\n",
       "      <td>5.113520</td>\n",
       "      <td>1</td>\n",
       "      <td>797</td>\n",
       "      <td>1</td>\n",
       "      <td>19.706900</td>\n",
       "      <td>19.706900</td>\n",
       "      <td>20.913000</td>\n",
       "      <td>...</td>\n",
       "      <td>0.920000</td>\n",
       "      <td>11</td>\n",
       "      <td>0.5</td>\n",
       "      <td>0.09</td>\n",
       "      <td>0.1900</td>\n",
       "      <td>0.1900</td>\n",
       "      <td>0.085</td>\n",
       "      <td>0.139590</td>\n",
       "      <td>0.139590</td>\n",
       "      <td>0.09</td>\n",
       "    </tr>\n",
       "    <tr>\n",
       "      <th>971263501115015039</th>\n",
       "      <td>971263501115015039</td>\n",
       "      <td>51.382555</td>\n",
       "      <td>20.572720</td>\n",
       "      <td>5.004293</td>\n",
       "      <td>2</td>\n",
       "      <td>797</td>\n",
       "      <td>1</td>\n",
       "      <td>19.548800</td>\n",
       "      <td>19.548800</td>\n",
       "      <td>19.693001</td>\n",
       "      <td>...</td>\n",
       "      <td>0.592857</td>\n",
       "      <td>11</td>\n",
       "      <td>0.5</td>\n",
       "      <td>0.09</td>\n",
       "      <td>0.1692</td>\n",
       "      <td>0.1692</td>\n",
       "      <td>0.130</td>\n",
       "      <td>0.155431</td>\n",
       "      <td>0.155431</td>\n",
       "      <td>0.09</td>\n",
       "    </tr>\n",
       "    <tr>\n",
       "      <th>971289301115015006</th>\n",
       "      <td>971289301115015006</td>\n",
       "      <td>51.382573</td>\n",
       "      <td>20.407963</td>\n",
       "      <td>5.065497</td>\n",
       "      <td>1</td>\n",
       "      <td>797</td>\n",
       "      <td>1</td>\n",
       "      <td>19.450300</td>\n",
       "      <td>19.450300</td>\n",
       "      <td>20.913000</td>\n",
       "      <td>...</td>\n",
       "      <td>0.877143</td>\n",
       "      <td>11</td>\n",
       "      <td>0.5</td>\n",
       "      <td>0.09</td>\n",
       "      <td>0.1279</td>\n",
       "      <td>0.1279</td>\n",
       "      <td>0.085</td>\n",
       "      <td>0.099974</td>\n",
       "      <td>0.099974</td>\n",
       "      <td>0.09</td>\n",
       "    </tr>\n",
       "    <tr>\n",
       "      <th>972264951115015027</th>\n",
       "      <td>972264951115015027</td>\n",
       "      <td>51.382526</td>\n",
       "      <td>20.445602</td>\n",
       "      <td>5.038084</td>\n",
       "      <td>2</td>\n",
       "      <td>797</td>\n",
       "      <td>1</td>\n",
       "      <td>18.945101</td>\n",
       "      <td>18.945101</td>\n",
       "      <td>19.693001</td>\n",
       "      <td>...</td>\n",
       "      <td>0.934286</td>\n",
       "      <td>11</td>\n",
       "      <td>0.5</td>\n",
       "      <td>0.09</td>\n",
       "      <td>0.1063</td>\n",
       "      <td>0.1063</td>\n",
       "      <td>0.130</td>\n",
       "      <td>0.093884</td>\n",
       "      <td>0.093884</td>\n",
       "      <td>0.09</td>\n",
       "    </tr>\n",
       "    <tr>\n",
       "      <th>972290601115015008</th>\n",
       "      <td>972290601115015008</td>\n",
       "      <td>51.382546</td>\n",
       "      <td>20.350231</td>\n",
       "      <td>5.046748</td>\n",
       "      <td>1</td>\n",
       "      <td>797</td>\n",
       "      <td>1</td>\n",
       "      <td>19.068300</td>\n",
       "      <td>19.068300</td>\n",
       "      <td>20.913000</td>\n",
       "      <td>...</td>\n",
       "      <td>0.951429</td>\n",
       "      <td>11</td>\n",
       "      <td>0.5</td>\n",
       "      <td>0.09</td>\n",
       "      <td>0.1081</td>\n",
       "      <td>0.1081</td>\n",
       "      <td>0.085</td>\n",
       "      <td>0.096079</td>\n",
       "      <td>0.096079</td>\n",
       "      <td>0.09</td>\n",
       "    </tr>\n",
       "  </tbody>\n",
       "</table>\n",
       "<p>5 rows × 25 columns</p>\n",
       "</div>"
      ],
      "text/plain": [
       "                            candid_str        dec  diffmaglim  distpsnr1  fid  \\\n",
       "candid                                                                          \n",
       "970313001115015006  970313001115015006  51.382551   20.446541   5.113520    1   \n",
       "971263501115015039  971263501115015039  51.382555   20.572720   5.004293    2   \n",
       "971289301115015006  971289301115015006  51.382573   20.407963   5.065497    1   \n",
       "972264951115015027  972264951115015027  51.382526   20.445602   5.038084    2   \n",
       "972290601115015008  972290601115015008  51.382546   20.350231   5.046748    1   \n",
       "\n",
       "                    field  isdiffpos      magap  magap_corr      magnr  ...  \\\n",
       "candid                                                                  ...   \n",
       "970313001115015006    797          1  19.706900   19.706900  20.913000  ...   \n",
       "971263501115015039    797          1  19.548800   19.548800  19.693001  ...   \n",
       "971289301115015006    797          1  19.450300   19.450300  20.913000  ...   \n",
       "972264951115015027    797          1  18.945101   18.945101  19.693001  ...   \n",
       "972290601115015008    797          1  19.068300   19.068300  20.913000  ...   \n",
       "\n",
       "                          rb  rcid  sgscore1 sigmadec  sigmagap  \\\n",
       "candid                                                            \n",
       "970313001115015006  0.920000    11       0.5     0.09    0.1900   \n",
       "971263501115015039  0.592857    11       0.5     0.09    0.1692   \n",
       "971289301115015006  0.877143    11       0.5     0.09    0.1279   \n",
       "972264951115015027  0.934286    11       0.5     0.09    0.1063   \n",
       "972290601115015008  0.951429    11       0.5     0.09    0.1081   \n",
       "\n",
       "                    sigmagap_corr  sigmagnr  sigmapsf  sigmapsf_corr  sigmara  \n",
       "candid                                                                         \n",
       "970313001115015006         0.1900     0.085  0.139590       0.139590     0.09  \n",
       "971263501115015039         0.1692     0.130  0.155431       0.155431     0.09  \n",
       "971289301115015006         0.1279     0.085  0.099974       0.099974     0.09  \n",
       "972264951115015027         0.1063     0.130  0.093884       0.093884     0.09  \n",
       "972290601115015008         0.1081     0.085  0.096079       0.096079     0.09  \n",
       "\n",
       "[5 rows x 25 columns]"
      ]
     },
     "metadata": {},
     "output_type": "display_data"
    },
    {
     "data": {
      "text/plain": [
       "'candid_str, dec, diffmaglim, distpsnr1, fid, field, isdiffpos, magap, magap_corr, magnr, magpsf, magpsf_corr, mjd, oid, ra, rb, rcid, sgscore1, sigmadec, sigmagap, sigmagap_corr, sigmagnr, sigmapsf, sigmapsf_corr, sigmara'"
      ]
     },
     "execution_count": 18,
     "metadata": {},
     "output_type": "execute_result"
    }
   ],
   "source": [
    "detections = client.get_detections(oid, format='pandas')\n",
    "display(detections.head())\n",
    "\", \".join(list(detections))"
   ]
  },
  {
   "cell_type": "markdown",
   "metadata": {},
   "source": [
    "# 4. get_non_detections"
   ]
  },
  {
   "cell_type": "code",
   "execution_count": 19,
   "metadata": {
    "ExecuteTime": {
     "end_time": "2019-11-08T19:56:37.008841Z",
     "start_time": "2019-11-08T19:56:36.526149Z"
    }
   },
   "outputs": [
    {
     "data": {
      "text/html": [
       "<div>\n",
       "<style scoped>\n",
       "    .dataframe tbody tr th:only-of-type {\n",
       "        vertical-align: middle;\n",
       "    }\n",
       "\n",
       "    .dataframe tbody tr th {\n",
       "        vertical-align: top;\n",
       "    }\n",
       "\n",
       "    .dataframe thead th {\n",
       "        text-align: right;\n",
       "    }\n",
       "</style>\n",
       "<table border=\"1\" class=\"dataframe\">\n",
       "  <thead>\n",
       "    <tr style=\"text-align: right;\">\n",
       "      <th></th>\n",
       "      <th>diffmaglim</th>\n",
       "      <th>fid</th>\n",
       "      <th>oid</th>\n",
       "    </tr>\n",
       "    <tr>\n",
       "      <th>mjd</th>\n",
       "      <th></th>\n",
       "      <th></th>\n",
       "      <th></th>\n",
       "    </tr>\n",
       "  </thead>\n",
       "  <tbody>\n",
       "    <tr>\n",
       "      <th>58695.278808</th>\n",
       "      <td>18.942801</td>\n",
       "      <td>2</td>\n",
       "      <td>ZTF19abueupg</td>\n",
       "    </tr>\n",
       "    <tr>\n",
       "      <th>58695.308171</th>\n",
       "      <td>20.085800</td>\n",
       "      <td>1</td>\n",
       "      <td>ZTF19abueupg</td>\n",
       "    </tr>\n",
       "    <tr>\n",
       "      <th>58696.280255</th>\n",
       "      <td>20.712299</td>\n",
       "      <td>2</td>\n",
       "      <td>ZTF19abueupg</td>\n",
       "    </tr>\n",
       "    <tr>\n",
       "      <th>58696.309468</th>\n",
       "      <td>20.865499</td>\n",
       "      <td>1</td>\n",
       "      <td>ZTF19abueupg</td>\n",
       "    </tr>\n",
       "    <tr>\n",
       "      <th>58697.302245</th>\n",
       "      <td>20.648100</td>\n",
       "      <td>2</td>\n",
       "      <td>ZTF19abueupg</td>\n",
       "    </tr>\n",
       "  </tbody>\n",
       "</table>\n",
       "</div>"
      ],
      "text/plain": [
       "              diffmaglim  fid           oid\n",
       "mjd                                        \n",
       "58695.278808   18.942801    2  ZTF19abueupg\n",
       "58695.308171   20.085800    1  ZTF19abueupg\n",
       "58696.280255   20.712299    2  ZTF19abueupg\n",
       "58696.309468   20.865499    1  ZTF19abueupg\n",
       "58697.302245   20.648100    2  ZTF19abueupg"
      ]
     },
     "execution_count": 19,
     "metadata": {},
     "output_type": "execute_result"
    }
   ],
   "source": [
    "non_detections = client.get_non_detections(oid, format='pandas')\n",
    "non_detections.head()"
   ]
  },
  {
   "cell_type": "code",
   "execution_count": 20,
   "metadata": {
    "ExecuteTime": {
     "end_time": "2019-11-08T19:56:38.794549Z",
     "start_time": "2019-11-08T19:56:38.650090Z"
    }
   },
   "outputs": [
    {
     "data": {
      "text/plain": [
       "(21.145861079607084, 15.147731491110696)"
      ]
     },
     "execution_count": 20,
     "metadata": {},
     "output_type": "execute_result"
    },
    {
     "data": {
      "image/png": "[encoded data removed]",
      "text/plain": [
       "<Figure size 864x576 with 1 Axes>"
      ]
     },
     "metadata": {},
     "output_type": "display_data"
    }
   ],
   "source": [
    "fig, ax = plt.subplots(figsize = (12, 8))\n",
    "colors = [\"g\", \"r\"]\n",
    "for fid in [1, 2]:\n",
    "    mask = detections.fid == fid\n",
    "    ax.plot(detections.mjd[mask], detections.magpsf[mask], c = colors[fid - 1], marker = \"o\")\n",
    "    mask = non_detections.fid == fid\n",
    "    # note that the index of non-detectionsis the mjd\n",
    "    ax.scatter(non_detections.index[mask], non_detections.diffmaglim[mask], c = colors[fid - 1], marker = \"v\", alpha=0.3)\n",
    "ax.set_xlabel(\"MJD\")\n",
    "ax.set_ylabel(\"mag psf\")\n",
    "ax.set_ylim(ax.get_ylim()[::-1])"
   ]
  },
  {
   "cell_type": "markdown",
   "metadata": {},
   "source": [
    "# 5. get_stats"
   ]
  },
  {
   "cell_type": "code",
   "execution_count": 22,
   "metadata": {
    "ExecuteTime": {
     "end_time": "2019-11-08T19:56:57.793833Z",
     "start_time": "2019-11-08T19:56:57.377977Z"
    }
   },
   "outputs": [
    {
     "data": {
      "text/plain": [
       "oid                ZTF19abueupg\n",
       "nobs                        104\n",
       "mean_magap_g            19.1966\n",
       "mean_magap_r            18.9215\n",
       "median_magap_g          19.1547\n",
       "median_magap_r          18.8601\n",
       "max_magap_g             20.2068\n",
       "max_magap_r             19.5804\n",
       "min_magap_g             18.5337\n",
       "min_magap_r             18.6207\n",
       "sigma_magap_g          0.398469\n",
       "sigma_magap_r          0.227407\n",
       "last_magap_g            19.8079\n",
       "last_magap_r             19.124\n",
       "first_magap_g           19.7069\n",
       "first_magap_r           19.5488\n",
       "mean_magpsf_g           19.1934\n",
       "mean_magpsf_r           18.9291\n",
       "median_magpsf_g         19.1484\n",
       "median_magpsf_r         18.9328\n",
       "max_magpsf_g            19.7455\n",
       "max_magpsf_r            19.4284\n",
       "min_magpsf_g            18.7283\n",
       "min_magpsf_r            18.7589\n",
       "sigma_magpsf_g         0.335785\n",
       "sigma_magpsf_r         0.120453\n",
       "last_magpsf_g           19.7455\n",
       "last_magpsf_r           18.9874\n",
       "first_magpsf_g          19.5887\n",
       "first_magpsf_r          19.4284\n",
       "meanra                  267.803\n",
       "meandec                 51.3825\n",
       "sigmara             4.53795e-05\n",
       "sigmadec            2.94452e-05\n",
       "deltajd                 70.7903\n",
       "lastmjd                 58795.1\n",
       "firstmjd                58724.3\n",
       "period                     None\n",
       "catalogid                  None\n",
       "classxmatch                None\n",
       "classrf                      12\n",
       "pclassrf                  0.232\n",
       "pclassearly             0.99996\n",
       "classearly                   19\n",
       "dtype: object"
      ]
     },
     "metadata": {},
     "output_type": "display_data"
    },
    {
     "data": {
      "text/plain": [
       "Index(['oid', 'nobs', 'mean_magap_g', 'mean_magap_r', 'median_magap_g',\n",
       "       'median_magap_r', 'max_magap_g', 'max_magap_r', 'min_magap_g',\n",
       "       'min_magap_r', 'sigma_magap_g', 'sigma_magap_r', 'last_magap_g',\n",
       "       'last_magap_r', 'first_magap_g', 'first_magap_r', 'mean_magpsf_g',\n",
       "       'mean_magpsf_r', 'median_magpsf_g', 'median_magpsf_r', 'max_magpsf_g',\n",
       "       'max_magpsf_r', 'min_magpsf_g', 'min_magpsf_r', 'sigma_magpsf_g',\n",
       "       'sigma_magpsf_r', 'last_magpsf_g', 'last_magpsf_r', 'first_magpsf_g',\n",
       "       'first_magpsf_r', 'meanra', 'meandec', 'sigmara', 'sigmadec', 'deltajd',\n",
       "       'lastmjd', 'firstmjd', 'period', 'catalogid', 'classxmatch', 'classrf',\n",
       "       'pclassrf', 'pclassearly', 'classearly'],\n",
       "      dtype='object')"
      ]
     },
     "execution_count": 22,
     "metadata": {},
     "output_type": "execute_result"
    }
   ],
   "source": [
    "stats = client.get_stats(oid, format='pandas')\n",
    "display(stats)\n",
    "stats.keys()"
   ]
  },
  {
   "cell_type": "markdown",
   "metadata": {},
   "source": [
    "# 6. get_probabilities"
   ]
  },
  {
   "cell_type": "code",
   "execution_count": 23,
   "metadata": {
    "ExecuteTime": {
     "end_time": "2019-11-08T19:57:13.392284Z",
     "start_time": "2019-11-08T19:57:12.658459Z"
    }
   },
   "outputs": [
    {
     "data": {
      "text/plain": [
       "oid                   ZTF19abueupg\n",
       "agn_prob               1.47033e-09\n",
       "sn_prob                   0.999992\n",
       "vs_prob                 1.6456e-07\n",
       "asteroid_prob          7.57048e-06\n",
       "classifier_version            None\n",
       "bogus_prob             8.68233e-09\n",
       "dtype: object"
      ]
     },
     "metadata": {},
     "output_type": "display_data"
    },
    {
     "data": {
      "text/plain": [
       "oid                    ZTF19abueupg\n",
       "AGN-I_prob                     0.06\n",
       "Blazar_prob                   0.114\n",
       "CV/Nova_prob                  0.022\n",
       "SNIa_prob                     0.046\n",
       "SNIbc_prob                    0.068\n",
       "SNII_prob                     0.232\n",
       "SNIIn_prob                     0.11\n",
       "SLSN_prob                       0.1\n",
       "EBSD/D_prob                   0.016\n",
       "EBC_prob                      0.016\n",
       "DSCT_prob                     0.012\n",
       "RRL_prob                      0.038\n",
       "Ceph_prob                     0.048\n",
       "LPV_prob                      0.094\n",
       "Periodic-Other_prob           0.024\n",
       "dtype: object"
      ]
     },
     "metadata": {},
     "output_type": "display_data"
    }
   ],
   "source": [
    "probs = client.get_probabilities(oid, format='pandas')\n",
    "display(probs[\"early\"])\n",
    "display(probs[\"late\"])"
   ]
  },
  {
   "cell_type": "markdown",
   "metadata": {},
   "source": [
    "# 7. get_features"
   ]
  },
  {
   "cell_type": "code",
   "execution_count": 24,
   "metadata": {
    "ExecuteTime": {
     "end_time": "2019-11-08T19:57:23.697281Z",
     "start_time": "2019-11-08T19:57:23.210412Z"
    }
   },
   "outputs": [
    {
     "data": {
      "text/plain": [
       "oid                    ZTF19abueupg\n",
       "n_samples_1                      47\n",
       "Amplitude_1                0.491896\n",
       "AndersonDarling_1          0.999956\n",
       "Autocor_length_1                 10\n",
       "Beyond1Std_1               0.382979\n",
       "Con_1                             0\n",
       "Eta_e_1                   0.0874861\n",
       "Gskew_1                    0.175563\n",
       "MaxSlope_1                  3.38831\n",
       "Mean_1                      19.1934\n",
       "Meanvariance_1            0.0173077\n",
       "MedianAbsDev_1             0.301222\n",
       "MedianBRP_1                 0.12766\n",
       "PairSlopeTrend_1           0.366667\n",
       "PercentAmplitude_1        0.0311829\n",
       "Q31_1                      0.589397\n",
       "PeriodLS_v2_1               1.01082\n",
       "Period_fit_v2_1                   0\n",
       "Psi_CS_v2_1                0.276381\n",
       "Psi_eta_v2_1               0.338092\n",
       "Rcs_1                      0.449798\n",
       "Skew_1                      0.20374\n",
       "SmallKurtosis_1            -1.33937\n",
       "Std_1                      0.332193\n",
       "StetsonK_1                 0.890372\n",
       "Harmonics_mag_1_1          0.465099\n",
       "Harmonics_mag_2_1         0.0422575\n",
       "Harmonics_mag_3_1         0.0251341\n",
       "Harmonics_mag_4_1         0.0179367\n",
       "                           ...     \n",
       "Psi_eta_v2_2               0.803588\n",
       "Rcs_2                      0.360088\n",
       "Skew_2                      1.24296\n",
       "SmallKurtosis_2             3.96674\n",
       "Std_2                      0.119392\n",
       "StetsonK_2                 0.810635\n",
       "Harmonics_mag_1_2          0.110725\n",
       "Harmonics_mag_2_2         0.0249375\n",
       "Harmonics_mag_3_2         0.0104629\n",
       "Harmonics_mag_4_2         0.0193922\n",
       "Harmonics_mag_5_2         0.0178493\n",
       "Harmonics_mag_6_2         0.0176472\n",
       "Harmonics_mag_7_2         0.0130429\n",
       "Harmonics_phase_2_2       -0.257243\n",
       "Harmonics_phase_3_2         4.87916\n",
       "Harmonics_phase_4_2        -0.75737\n",
       "Harmonics_phase_5_2       -0.754413\n",
       "Harmonics_phase_6_2         4.21903\n",
       "Harmonics_phase_7_2         3.79308\n",
       "Harmonics_mse_2             9.24254\n",
       "Pvar_2                     0.616312\n",
       "ExcessVar_2            -1.32338e-06\n",
       "GP_DRW_sigma_2           0.00621091\n",
       "GP_DRW_tau_2                14.7243\n",
       "SF_ML_amplitude_2                 0\n",
       "SF_ML_gamma_2                     0\n",
       "IAR_phi_2                   0.92906\n",
       "LinearTrend_2            0.00224584\n",
       "gal_b                       30.0373\n",
       "gal_l                       78.8097\n",
       "Length: 97, dtype: object"
      ]
     },
     "execution_count": 24,
     "metadata": {},
     "output_type": "execute_result"
    }
   ],
   "source": [
    "features = client.get_features(oid, format='pandas')\n",
    "features"
   ]
  },
  {
   "cell_type": "markdown",
   "metadata": {},
   "source": [
    "# 8. get_stamp\n",
    "\n",
    "Get the stamps of an object.\n",
    "\n",
    "See https://github.com/alercebroker/usecases/blob/master/api/ALeRCE%20AVRO-STAMP%20Access%20API.md"
   ]
  },
  {
   "cell_type": "code",
   "execution_count": 25,
   "metadata": {
    "ExecuteTime": {
     "end_time": "2019-11-08T19:57:32.180214Z",
     "start_time": "2019-11-08T19:57:31.690097Z"
    }
   },
   "outputs": [
    {
     "name": "stdout",
     "output_type": "stream",
     "text": [
      "ZTF19abueupg\n"
     ]
    },
    {
     "data": {
      "text/html": [
       "\n",
       "        <div>ZTF oid: ZTF19abueupg, candid: 970313001115015006</div>\n",
       "        <div>&emsp;&emsp;&emsp;&emsp;&emsp;\n",
       "        Science\n",
       "        &emsp;&emsp;&emsp;&emsp;&emsp;&emsp;&emsp;&emsp;&emsp;&emsp;&emsp;&emsp;\n",
       "        Template\n",
       "        &emsp;&emsp;&emsp;&emsp;&emsp;&emsp;&emsp;&emsp;&emsp;&emsp;&emsp;&emsp;\n",
       "        Difference\n",
       "        <div class=\"container\">\n",
       "        <div style=\"float:left;width:20%\"><img src=\"http://avro.alerce.online/get_stamp?oid=ZTF19abueupg&candid=970313001115015006&type=science&format=png\"></div>\n",
       "        <div style=\"float:left;width:20%\"><img src=\"http://avro.alerce.online/get_stamp?oid=ZTF19abueupg&candid=970313001115015006&type=template&format=png\"></div>\n",
       "        <div style=\"float:left;width:20%\"><img src=\"http://avro.alerce.online/get_stamp?oid=ZTF19abueupg&candid=970313001115015006&type=difference&format=png\"></div>\n",
       "        </div>\n",
       "        "
      ],
      "text/plain": [
       "<IPython.core.display.HTML object>"
      ]
     },
     "metadata": {},
     "output_type": "display_data"
    },
    {
     "data": {
      "text/html": [
       "\n",
       "        <div>ZTF oid: ZTF19abueupg, candid: 970313001115015006</div>\n",
       "        <div>&emsp;&emsp;&emsp;&emsp;&emsp;\n",
       "        Science\n",
       "        &emsp;&emsp;&emsp;&emsp;&emsp;&emsp;&emsp;&emsp;&emsp;&emsp;&emsp;&emsp;\n",
       "        Template\n",
       "        &emsp;&emsp;&emsp;&emsp;&emsp;&emsp;&emsp;&emsp;&emsp;&emsp;&emsp;&emsp;\n",
       "        Difference\n",
       "        <div class=\"container\">\n",
       "        <div style=\"float:left;width:20%\"><img src=\"http://avro.alerce.online/get_stamp?oid=ZTF19abueupg&candid=970313001115015006&type=science&format=png\"></div>\n",
       "        <div style=\"float:left;width:20%\"><img src=\"http://avro.alerce.online/get_stamp?oid=ZTF19abueupg&candid=970313001115015006&type=template&format=png\"></div>\n",
       "        <div style=\"float:left;width:20%\"><img src=\"http://avro.alerce.online/get_stamp?oid=ZTF19abueupg&candid=970313001115015006&type=difference&format=png\"></div>\n",
       "        </div>\n",
       "        "
      ],
      "text/plain": [
       "<IPython.core.display.HTML object>"
      ]
     },
     "metadata": {},
     "output_type": "display_data"
    },
    {
     "data": {
      "text/html": [
       "\n",
       "        <div>ZTF oid: ZTF19abueupg, candid: 1041103271115015008</div>\n",
       "        <div>&emsp;&emsp;&emsp;&emsp;&emsp;\n",
       "        Science\n",
       "        &emsp;&emsp;&emsp;&emsp;&emsp;&emsp;&emsp;&emsp;&emsp;&emsp;&emsp;&emsp;\n",
       "        Template\n",
       "        &emsp;&emsp;&emsp;&emsp;&emsp;&emsp;&emsp;&emsp;&emsp;&emsp;&emsp;&emsp;\n",
       "        Difference\n",
       "        <div class=\"container\">\n",
       "        <div style=\"float:left;width:20%\"><img src=\"http://avro.alerce.online/get_stamp?oid=ZTF19abueupg&candid=1041103271115015008&type=science&format=png\"></div>\n",
       "        <div style=\"float:left;width:20%\"><img src=\"http://avro.alerce.online/get_stamp?oid=ZTF19abueupg&candid=1041103271115015008&type=template&format=png\"></div>\n",
       "        <div style=\"float:left;width:20%\"><img src=\"http://avro.alerce.online/get_stamp?oid=ZTF19abueupg&candid=1041103271115015008&type=difference&format=png\"></div>\n",
       "        </div>\n",
       "        "
      ],
      "text/plain": [
       "<IPython.core.display.HTML object>"
      ]
     },
     "metadata": {},
     "output_type": "display_data"
    }
   ],
   "source": [
    "# note that the index of detections is the candid\n",
    "print(oid)\n",
    "client.plot_stamp(oid)\n",
    "client.plot_stamp(oid, detections.index.min())\n",
    "client.plot_stamp(oid, detections.index.max())"
   ]
  },
  {
   "cell_type": "code",
   "execution_count": null,
   "metadata": {},
   "outputs": [],
   "source": []
  },
  {
   "cell_type": "code",
   "execution_count": null,
   "metadata": {},
   "outputs": [],
   "source": []
  }
 ],
 "metadata": {
  "kernelspec": {
   "display_name": "Python 3",
   "language": "python",
   "name": "python3"
  },
  "language_info": {
   "codemirror_mode": {
    "name": "ipython",
    "version": 3
   },
   "file_extension": ".py",
   "mimetype": "text/x-python",
   "name": "python",
   "nbconvert_exporter": "python",
   "pygments_lexer": "ipython3",
   "version": "3.6.5"
  }
 },
 "nbformat": 4,
 "nbformat_minor": 2
}
