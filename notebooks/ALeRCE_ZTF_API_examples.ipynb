{
 "cells": [
  {
   "cell_type": "markdown",
   "metadata": {},
   "source": [
    "# ALeRCE API interaction examples"
   ]
  },
  {
   "cell_type": "markdown",
   "metadata": {},
   "source": [
    "Load libraries"
   ]
  },
  {
   "cell_type": "code",
   "execution_count": 1,
   "metadata": {
    "ExecuteTime": {
     "end_time": "2019-08-29T20:20:28.609145Z",
     "start_time": "2019-08-29T20:20:28.008080Z"
    }
   },
   "outputs": [],
   "source": [
    "import sys\n",
    "import requests\n",
    "import matplotlib.pyplot as plt\n",
    "%matplotlib inline\n",
    "import pandas as pd\n",
    "from pandas.io.json import json_normalize\n",
    "from astropy.time import Time\n",
    "from datetime import datetime\n",
    "from IPython.display import HTML\n",
    "\n",
    "sys.path.append(\"../lib\")\n",
    "from alerce_api import *"
   ]
  },
  {
   "cell_type": "markdown",
   "metadata": {},
   "source": [
    "See https://github.com/alercebroker/usecases/blob/master/api/ALeRCE%20ZTF%20DB%20API.md"
   ]
  },
  {
   "cell_type": "code",
   "execution_count": 2,
   "metadata": {
    "ExecuteTime": {
     "end_time": "2019-08-29T20:20:28.832309Z",
     "start_time": "2019-08-29T20:20:28.801129Z"
    }
   },
   "outputs": [],
   "source": [
    "# continuously load modules (for easier debugging)\n",
    "%load_ext autoreload\n",
    "%autoreload 2"
   ]
  },
  {
   "cell_type": "markdown",
   "metadata": {},
   "source": [
    "# Initialize alerce api object"
   ]
  },
  {
   "cell_type": "code",
   "execution_count": 3,
   "metadata": {
    "ExecuteTime": {
     "end_time": "2019-08-29T20:20:29.728927Z",
     "start_time": "2019-08-29T20:20:29.717634Z"
    }
   },
   "outputs": [],
   "source": [
    "alerce = alerce_api()"
   ]
  },
  {
   "cell_type": "markdown",
   "metadata": {},
   "source": [
    "# 1. query\n",
    "\n",
    "Query a list of objects"
   ]
  },
  {
   "cell_type": "markdown",
   "metadata": {
    "ExecuteTime": {
     "end_time": "2019-07-19T02:40:07.495627Z",
     "start_time": "2019-07-19T02:40:07.426187Z"
    }
   },
   "source": [
    "The following json file should be sent\n",
    "\n",
    "```js\n",
    "{\n",
    "total: number, // (if not set the total is counted and the query is slower),\n",
    "records_per_pages: number. // default 20\n",
    "page: number (default 1),\n",
    "sortBy: string columnName, // default nobs\n",
    "query_parameters:{\n",
    "    filters:{\n",
    "        //ZTF Object id\n",
    "        oid: \"ZTFXXXXXX\",\n",
    "        //Number of detections\n",
    "        nobs: { \n",
    "            min: int\n",
    "            max: int\n",
    "        },\n",
    "        //Late Classifier (Random Forest)\n",
    "        classrf: [\"CEPH\",\"DSCT\",\"EB\",\"LPV\",\"RRL\",\"SNe\",\"Other\"] or int,\n",
    "        pclassrf: float [0-1],\n",
    "        //Early Classifier (Stamp Classifier)\n",
    "        classearly: [\"AGN\",\"SN\",\"VS\",\"asteroid\",\"bogus\"] or int,\n",
    "        pclassearly: float [0-1],\n",
    "    },\n",
    "    //Coordinate based search (RA,DEC) and Search Radius.\n",
    "    coordinates:{\n",
    "        ra: float degrees,\n",
    "        dec: float degrees,\n",
    "        sr: float degrees\n",
    "    },\n",
    "    dates:{\n",
    "        //First detection (Discovery date)\n",
    "        firstmjd: {\n",
    "         min: float mjd,\n",
    "         max: float mjd\n",
    "        }\n",
    "    }\n",
    "}\n",
    "```"
   ]
  },
  {
   "cell_type": "markdown",
   "metadata": {},
   "source": [
    "### Example: \n",
    "\n",
    "Give me all the objects with probability of being SNe greater than 0.8 according to the random forest classifier (light curve based), which have between 2 and 40 detections. Give me the second page, with pages of 10 elements each, of a total of at most 40 objects query result.\n",
    "\n",
    "Note: probabilities are experimental and should not be fully trusted"
   ]
  },
  {
   "cell_type": "code",
   "execution_count": 4,
   "metadata": {
    "ExecuteTime": {
     "end_time": "2019-08-29T20:20:59.372293Z",
     "start_time": "2019-08-29T20:20:59.358025Z"
    }
   },
   "outputs": [],
   "source": [
    "total = 40\n",
    "records_per_page = 10\n",
    "page = 2\n",
    "sortBy = \"firstmjd\"\n",
    "nobsmin = 10\n",
    "nobsmax = 40\n",
    "classrf = \"SNe\"\n",
    "pclassrf = 0.8\n",
    "\n",
    "params = {\n",
    "    \"total\": total,\n",
    "    \"records_per_pages\": records_per_page,\n",
    "    \"page\": page,\n",
    "    \"sortBy\": sortBy,\n",
    "    \"query_parameters\": {\n",
    "        \"filters\": {\n",
    "            \"nobs\": { \n",
    "                \"min\": nobsmin,\n",
    "                \"max\": nobsmax\n",
    "            },\n",
    "            \"classrf\": classrf,\n",
    "            \"pclassrf\": pclassrf\n",
    "        }\n",
    "    }\n",
    "}"
   ]
  },
  {
   "cell_type": "code",
   "execution_count": 5,
   "metadata": {
    "ExecuteTime": {
     "end_time": "2019-08-29T20:21:02.706305Z",
     "start_time": "2019-08-29T20:21:01.199659Z"
    }
   },
   "outputs": [
    {
     "data": {
      "text/html": [
       "<div>\n",
       "<style scoped>\n",
       "    .dataframe tbody tr th:only-of-type {\n",
       "        vertical-align: middle;\n",
       "    }\n",
       "\n",
       "    .dataframe tbody tr th {\n",
       "        vertical-align: top;\n",
       "    }\n",
       "\n",
       "    .dataframe thead th {\n",
       "        text-align: right;\n",
       "    }\n",
       "</style>\n",
       "<table border=\"1\" class=\"dataframe\">\n",
       "  <thead>\n",
       "    <tr style=\"text-align: right;\">\n",
       "      <th></th>\n",
       "      <th>catalogid</th>\n",
       "      <th>classearly</th>\n",
       "      <th>classrf</th>\n",
       "      <th>classxmatch</th>\n",
       "      <th>deltajd</th>\n",
       "      <th>first_magap_g</th>\n",
       "      <th>first_magap_r</th>\n",
       "      <th>first_magpsf_g</th>\n",
       "      <th>first_magpsf_r</th>\n",
       "      <th>firstmjd</th>\n",
       "      <th>...</th>\n",
       "      <th>nobs</th>\n",
       "      <th>pclassearly</th>\n",
       "      <th>pclassrf</th>\n",
       "      <th>period</th>\n",
       "      <th>sigma_magap_g</th>\n",
       "      <th>sigma_magap_r</th>\n",
       "      <th>sigma_magpsf_g</th>\n",
       "      <th>sigma_magpsf_r</th>\n",
       "      <th>sigmadec</th>\n",
       "      <th>sigmara</th>\n",
       "    </tr>\n",
       "    <tr>\n",
       "      <th>oid</th>\n",
       "      <th></th>\n",
       "      <th></th>\n",
       "      <th></th>\n",
       "      <th></th>\n",
       "      <th></th>\n",
       "      <th></th>\n",
       "      <th></th>\n",
       "      <th></th>\n",
       "      <th></th>\n",
       "      <th></th>\n",
       "      <th></th>\n",
       "      <th></th>\n",
       "      <th></th>\n",
       "      <th></th>\n",
       "      <th></th>\n",
       "      <th></th>\n",
       "      <th></th>\n",
       "      <th></th>\n",
       "      <th></th>\n",
       "      <th></th>\n",
       "      <th></th>\n",
       "    </tr>\n",
       "  </thead>\n",
       "  <tbody>\n",
       "    <tr>\n",
       "      <td>ZTF19abgqksj</td>\n",
       "      <td>None</td>\n",
       "      <td>None</td>\n",
       "      <td>6</td>\n",
       "      <td>None</td>\n",
       "      <td>15.026655</td>\n",
       "      <td>19.550301</td>\n",
       "      <td>19.503799</td>\n",
       "      <td>19.635380</td>\n",
       "      <td>19.463608</td>\n",
       "      <td>58691.386296</td>\n",
       "      <td>...</td>\n",
       "      <td>16</td>\n",
       "      <td>NaN</td>\n",
       "      <td>0.816</td>\n",
       "      <td>None</td>\n",
       "      <td>0.292516</td>\n",
       "      <td>0.324852</td>\n",
       "      <td>0.246697</td>\n",
       "      <td>0.314788</td>\n",
       "      <td>0.000025</td>\n",
       "      <td>0.000045</td>\n",
       "    </tr>\n",
       "    <tr>\n",
       "      <td>ZTF19abhibzk</td>\n",
       "      <td>None</td>\n",
       "      <td>None</td>\n",
       "      <td>6</td>\n",
       "      <td>None</td>\n",
       "      <td>33.002269</td>\n",
       "      <td>19.014999</td>\n",
       "      <td>18.852400</td>\n",
       "      <td>19.026592</td>\n",
       "      <td>18.879892</td>\n",
       "      <td>58691.403252</td>\n",
       "      <td>...</td>\n",
       "      <td>16</td>\n",
       "      <td>NaN</td>\n",
       "      <td>0.904</td>\n",
       "      <td>None</td>\n",
       "      <td>0.321274</td>\n",
       "      <td>0.488565</td>\n",
       "      <td>0.325666</td>\n",
       "      <td>0.414527</td>\n",
       "      <td>0.000017</td>\n",
       "      <td>0.000026</td>\n",
       "    </tr>\n",
       "    <tr>\n",
       "      <td>ZTF19abitljz</td>\n",
       "      <td>None</td>\n",
       "      <td>SN</td>\n",
       "      <td>6</td>\n",
       "      <td>None</td>\n",
       "      <td>26.982813</td>\n",
       "      <td>18.626900</td>\n",
       "      <td>19.655800</td>\n",
       "      <td>18.632942</td>\n",
       "      <td>19.590849</td>\n",
       "      <td>58691.190683</td>\n",
       "      <td>...</td>\n",
       "      <td>13</td>\n",
       "      <td>0.782735</td>\n",
       "      <td>0.820</td>\n",
       "      <td>None</td>\n",
       "      <td>0.324123</td>\n",
       "      <td>0.371504</td>\n",
       "      <td>0.351915</td>\n",
       "      <td>0.347135</td>\n",
       "      <td>0.000028</td>\n",
       "      <td>0.000020</td>\n",
       "    </tr>\n",
       "    <tr>\n",
       "      <td>ZTF19abjacdu</td>\n",
       "      <td>None</td>\n",
       "      <td>None</td>\n",
       "      <td>6</td>\n",
       "      <td>None</td>\n",
       "      <td>30.994190</td>\n",
       "      <td>20.292000</td>\n",
       "      <td>19.970600</td>\n",
       "      <td>20.194817</td>\n",
       "      <td>20.097849</td>\n",
       "      <td>58693.435810</td>\n",
       "      <td>...</td>\n",
       "      <td>34</td>\n",
       "      <td>NaN</td>\n",
       "      <td>0.866</td>\n",
       "      <td>None</td>\n",
       "      <td>0.257086</td>\n",
       "      <td>0.318557</td>\n",
       "      <td>0.197912</td>\n",
       "      <td>0.319212</td>\n",
       "      <td>0.000024</td>\n",
       "      <td>0.000031</td>\n",
       "    </tr>\n",
       "    <tr>\n",
       "      <td>ZTF19abjarhj</td>\n",
       "      <td>None</td>\n",
       "      <td>asteroid</td>\n",
       "      <td>6</td>\n",
       "      <td>None</td>\n",
       "      <td>32.962106</td>\n",
       "      <td>19.418600</td>\n",
       "      <td>19.499201</td>\n",
       "      <td>19.628256</td>\n",
       "      <td>19.513601</td>\n",
       "      <td>58691.487002</td>\n",
       "      <td>...</td>\n",
       "      <td>20</td>\n",
       "      <td>0.992882</td>\n",
       "      <td>0.812</td>\n",
       "      <td>None</td>\n",
       "      <td>0.400598</td>\n",
       "      <td>0.230288</td>\n",
       "      <td>0.423342</td>\n",
       "      <td>0.253317</td>\n",
       "      <td>0.000026</td>\n",
       "      <td>0.000013</td>\n",
       "    </tr>\n",
       "  </tbody>\n",
       "</table>\n",
       "<p>5 rows × 43 columns</p>\n",
       "</div>"
      ],
      "text/plain": [
       "             catalogid classearly  classrf classxmatch    deltajd  \\\n",
       "oid                                                                 \n",
       "ZTF19abgqksj      None       None        6        None  15.026655   \n",
       "ZTF19abhibzk      None       None        6        None  33.002269   \n",
       "ZTF19abitljz      None         SN        6        None  26.982813   \n",
       "ZTF19abjacdu      None       None        6        None  30.994190   \n",
       "ZTF19abjarhj      None   asteroid        6        None  32.962106   \n",
       "\n",
       "              first_magap_g  first_magap_r  first_magpsf_g  first_magpsf_r  \\\n",
       "oid                                                                          \n",
       "ZTF19abgqksj      19.550301      19.503799       19.635380       19.463608   \n",
       "ZTF19abhibzk      19.014999      18.852400       19.026592       18.879892   \n",
       "ZTF19abitljz      18.626900      19.655800       18.632942       19.590849   \n",
       "ZTF19abjacdu      20.292000      19.970600       20.194817       20.097849   \n",
       "ZTF19abjarhj      19.418600      19.499201       19.628256       19.513601   \n",
       "\n",
       "                  firstmjd  ...  nobs  pclassearly  pclassrf  period  \\\n",
       "oid                         ...                                        \n",
       "ZTF19abgqksj  58691.386296  ...    16          NaN     0.816    None   \n",
       "ZTF19abhibzk  58691.403252  ...    16          NaN     0.904    None   \n",
       "ZTF19abitljz  58691.190683  ...    13     0.782735     0.820    None   \n",
       "ZTF19abjacdu  58693.435810  ...    34          NaN     0.866    None   \n",
       "ZTF19abjarhj  58691.487002  ...    20     0.992882     0.812    None   \n",
       "\n",
       "              sigma_magap_g  sigma_magap_r  sigma_magpsf_g  sigma_magpsf_r  \\\n",
       "oid                                                                          \n",
       "ZTF19abgqksj       0.292516       0.324852        0.246697        0.314788   \n",
       "ZTF19abhibzk       0.321274       0.488565        0.325666        0.414527   \n",
       "ZTF19abitljz       0.324123       0.371504        0.351915        0.347135   \n",
       "ZTF19abjacdu       0.257086       0.318557        0.197912        0.319212   \n",
       "ZTF19abjarhj       0.400598       0.230288        0.423342        0.253317   \n",
       "\n",
       "              sigmadec   sigmara  \n",
       "oid                               \n",
       "ZTF19abgqksj  0.000025  0.000045  \n",
       "ZTF19abhibzk  0.000017  0.000026  \n",
       "ZTF19abitljz  0.000028  0.000020  \n",
       "ZTF19abjacdu  0.000024  0.000031  \n",
       "ZTF19abjarhj  0.000026  0.000013  \n",
       "\n",
       "[5 rows x 43 columns]"
      ]
     },
     "execution_count": 5,
     "metadata": {},
     "output_type": "execute_result"
    }
   ],
   "source": [
    "query_results = alerce.query(params)\n",
    "query_results.head()"
   ]
  },
  {
   "cell_type": "markdown",
   "metadata": {},
   "source": [
    "### Example: \n",
    "\n",
    "Give me the last 100 objects with classified as SNe according to the early classifier (one image stamp)\n",
    "\n",
    "Note: this is experimental, about 90% of the candidates are false positives"
   ]
  },
  {
   "cell_type": "code",
   "execution_count": 6,
   "metadata": {
    "ExecuteTime": {
     "end_time": "2019-08-29T20:21:39.052568Z",
     "start_time": "2019-08-29T20:21:39.037400Z"
    }
   },
   "outputs": [],
   "source": [
    "mjd_48hr = Time(datetime.utcnow(), scale='utc').mjd - 2.\n",
    "\n",
    "total = 100\n",
    "records_per_page = 100\n",
    "sortBy = \"pclassearly\"\n",
    "\n",
    "params = {\n",
    "    \"total\": total,\n",
    "    \"records_per_pages\": records_per_page,\n",
    "    \"sortBy\": sortBy,\n",
    "    \"query_parameters\": {\n",
    "        \"filters\": {\n",
    "            \"classearly\": 2\n",
    "        },\n",
    "        \"dates\": {\n",
    "            \"firstmjd\": {\n",
    "                \"min\": mjd_48hr\n",
    "            }\n",
    "        }\n",
    "    }\n",
    "}"
   ]
  },
  {
   "cell_type": "code",
   "execution_count": 7,
   "metadata": {
    "ExecuteTime": {
     "end_time": "2019-08-29T20:21:42.755066Z",
     "start_time": "2019-08-29T20:21:39.829819Z"
    }
   },
   "outputs": [
    {
     "data": {
      "text/html": [
       "<div>\n",
       "<style scoped>\n",
       "    .dataframe tbody tr th:only-of-type {\n",
       "        vertical-align: middle;\n",
       "    }\n",
       "\n",
       "    .dataframe tbody tr th {\n",
       "        vertical-align: top;\n",
       "    }\n",
       "\n",
       "    .dataframe thead th {\n",
       "        text-align: right;\n",
       "    }\n",
       "</style>\n",
       "<table border=\"1\" class=\"dataframe\">\n",
       "  <thead>\n",
       "    <tr style=\"text-align: right;\">\n",
       "      <th></th>\n",
       "      <th>catalogid</th>\n",
       "      <th>classearly</th>\n",
       "      <th>classrf</th>\n",
       "      <th>classxmatch</th>\n",
       "      <th>deltajd</th>\n",
       "      <th>first_magap_g</th>\n",
       "      <th>first_magap_r</th>\n",
       "      <th>first_magpsf_g</th>\n",
       "      <th>first_magpsf_r</th>\n",
       "      <th>firstmjd</th>\n",
       "      <th>...</th>\n",
       "      <th>nobs</th>\n",
       "      <th>pclassearly</th>\n",
       "      <th>pclassrf</th>\n",
       "      <th>period</th>\n",
       "      <th>sigma_magap_g</th>\n",
       "      <th>sigma_magap_r</th>\n",
       "      <th>sigma_magpsf_g</th>\n",
       "      <th>sigma_magpsf_r</th>\n",
       "      <th>sigmadec</th>\n",
       "      <th>sigmara</th>\n",
       "    </tr>\n",
       "    <tr>\n",
       "      <th>oid</th>\n",
       "      <th></th>\n",
       "      <th></th>\n",
       "      <th></th>\n",
       "      <th></th>\n",
       "      <th></th>\n",
       "      <th></th>\n",
       "      <th></th>\n",
       "      <th></th>\n",
       "      <th></th>\n",
       "      <th></th>\n",
       "      <th></th>\n",
       "      <th></th>\n",
       "      <th></th>\n",
       "      <th></th>\n",
       "      <th></th>\n",
       "      <th></th>\n",
       "      <th></th>\n",
       "      <th></th>\n",
       "      <th></th>\n",
       "      <th></th>\n",
       "      <th></th>\n",
       "    </tr>\n",
       "  </thead>\n",
       "  <tbody>\n",
       "    <tr>\n",
       "      <td>ZTF17aaayied</td>\n",
       "      <td>None</td>\n",
       "      <td>SN</td>\n",
       "      <td>None</td>\n",
       "      <td>None</td>\n",
       "      <td>0.0</td>\n",
       "      <td>NaN</td>\n",
       "      <td>18.539000</td>\n",
       "      <td>NaN</td>\n",
       "      <td>18.934443</td>\n",
       "      <td>58723.501609</td>\n",
       "      <td>...</td>\n",
       "      <td>1</td>\n",
       "      <td>0.998852</td>\n",
       "      <td>None</td>\n",
       "      <td>None</td>\n",
       "      <td>NaN</td>\n",
       "      <td>NaN</td>\n",
       "      <td>NaN</td>\n",
       "      <td>NaN</td>\n",
       "      <td>NaN</td>\n",
       "      <td>NaN</td>\n",
       "    </tr>\n",
       "    <tr>\n",
       "      <td>ZTF17aaayieu</td>\n",
       "      <td>None</td>\n",
       "      <td>SN</td>\n",
       "      <td>None</td>\n",
       "      <td>None</td>\n",
       "      <td>0.0</td>\n",
       "      <td>NaN</td>\n",
       "      <td>18.880600</td>\n",
       "      <td>NaN</td>\n",
       "      <td>19.143442</td>\n",
       "      <td>58723.501609</td>\n",
       "      <td>...</td>\n",
       "      <td>1</td>\n",
       "      <td>0.999961</td>\n",
       "      <td>None</td>\n",
       "      <td>None</td>\n",
       "      <td>NaN</td>\n",
       "      <td>NaN</td>\n",
       "      <td>NaN</td>\n",
       "      <td>NaN</td>\n",
       "      <td>NaN</td>\n",
       "      <td>NaN</td>\n",
       "    </tr>\n",
       "    <tr>\n",
       "      <td>ZTF18aaixhal</td>\n",
       "      <td>None</td>\n",
       "      <td>SN</td>\n",
       "      <td>None</td>\n",
       "      <td>None</td>\n",
       "      <td>0.0</td>\n",
       "      <td>20.054199</td>\n",
       "      <td>NaN</td>\n",
       "      <td>20.129902</td>\n",
       "      <td>NaN</td>\n",
       "      <td>58724.172928</td>\n",
       "      <td>...</td>\n",
       "      <td>1</td>\n",
       "      <td>0.997613</td>\n",
       "      <td>None</td>\n",
       "      <td>None</td>\n",
       "      <td>NaN</td>\n",
       "      <td>NaN</td>\n",
       "      <td>NaN</td>\n",
       "      <td>NaN</td>\n",
       "      <td>NaN</td>\n",
       "      <td>NaN</td>\n",
       "    </tr>\n",
       "    <tr>\n",
       "      <td>ZTF18aajqjka</td>\n",
       "      <td>None</td>\n",
       "      <td>SN</td>\n",
       "      <td>None</td>\n",
       "      <td>None</td>\n",
       "      <td>0.0</td>\n",
       "      <td>NaN</td>\n",
       "      <td>15.527252</td>\n",
       "      <td>NaN</td>\n",
       "      <td>15.522324</td>\n",
       "      <td>58724.154768</td>\n",
       "      <td>...</td>\n",
       "      <td>1</td>\n",
       "      <td>0.999178</td>\n",
       "      <td>None</td>\n",
       "      <td>None</td>\n",
       "      <td>NaN</td>\n",
       "      <td>NaN</td>\n",
       "      <td>NaN</td>\n",
       "      <td>NaN</td>\n",
       "      <td>NaN</td>\n",
       "      <td>NaN</td>\n",
       "    </tr>\n",
       "    <tr>\n",
       "      <td>ZTF18aakidup</td>\n",
       "      <td>None</td>\n",
       "      <td>SN</td>\n",
       "      <td>None</td>\n",
       "      <td>None</td>\n",
       "      <td>0.0</td>\n",
       "      <td>20.259399</td>\n",
       "      <td>NaN</td>\n",
       "      <td>20.178682</td>\n",
       "      <td>NaN</td>\n",
       "      <td>58724.181794</td>\n",
       "      <td>...</td>\n",
       "      <td>1</td>\n",
       "      <td>0.999999</td>\n",
       "      <td>None</td>\n",
       "      <td>None</td>\n",
       "      <td>NaN</td>\n",
       "      <td>NaN</td>\n",
       "      <td>NaN</td>\n",
       "      <td>NaN</td>\n",
       "      <td>NaN</td>\n",
       "      <td>NaN</td>\n",
       "    </tr>\n",
       "  </tbody>\n",
       "</table>\n",
       "<p>5 rows × 43 columns</p>\n",
       "</div>"
      ],
      "text/plain": [
       "             catalogid classearly classrf classxmatch  deltajd  first_magap_g  \\\n",
       "oid                                                                             \n",
       "ZTF17aaayied      None         SN    None        None      0.0            NaN   \n",
       "ZTF17aaayieu      None         SN    None        None      0.0            NaN   \n",
       "ZTF18aaixhal      None         SN    None        None      0.0      20.054199   \n",
       "ZTF18aajqjka      None         SN    None        None      0.0            NaN   \n",
       "ZTF18aakidup      None         SN    None        None      0.0      20.259399   \n",
       "\n",
       "              first_magap_r  first_magpsf_g  first_magpsf_r      firstmjd  \\\n",
       "oid                                                                         \n",
       "ZTF17aaayied      18.539000             NaN       18.934443  58723.501609   \n",
       "ZTF17aaayieu      18.880600             NaN       19.143442  58723.501609   \n",
       "ZTF18aaixhal            NaN       20.129902             NaN  58724.172928   \n",
       "ZTF18aajqjka      15.527252             NaN       15.522324  58724.154768   \n",
       "ZTF18aakidup            NaN       20.178682             NaN  58724.181794   \n",
       "\n",
       "              ...  nobs  pclassearly  pclassrf  period  sigma_magap_g  \\\n",
       "oid           ...                                                       \n",
       "ZTF17aaayied  ...     1     0.998852      None    None            NaN   \n",
       "ZTF17aaayieu  ...     1     0.999961      None    None            NaN   \n",
       "ZTF18aaixhal  ...     1     0.997613      None    None            NaN   \n",
       "ZTF18aajqjka  ...     1     0.999178      None    None            NaN   \n",
       "ZTF18aakidup  ...     1     0.999999      None    None            NaN   \n",
       "\n",
       "              sigma_magap_r  sigma_magpsf_g  sigma_magpsf_r  sigmadec  sigmara  \n",
       "oid                                                                             \n",
       "ZTF17aaayied            NaN             NaN             NaN       NaN      NaN  \n",
       "ZTF17aaayieu            NaN             NaN             NaN       NaN      NaN  \n",
       "ZTF18aaixhal            NaN             NaN             NaN       NaN      NaN  \n",
       "ZTF18aajqjka            NaN             NaN             NaN       NaN      NaN  \n",
       "ZTF18aakidup            NaN             NaN             NaN       NaN      NaN  \n",
       "\n",
       "[5 rows x 43 columns]"
      ]
     },
     "execution_count": 7,
     "metadata": {},
     "output_type": "execute_result"
    }
   ],
   "source": [
    "query_results = alerce.query(params)\n",
    "query_results.head()"
   ]
  },
  {
   "cell_type": "code",
   "execution_count": 8,
   "metadata": {
    "ExecuteTime": {
     "end_time": "2019-08-16T20:36:08.839090Z",
     "start_time": "2019-08-16T20:36:08.669826Z"
    }
   },
   "outputs": [
    {
     "data": {
      "text/plain": [
       "(20.149893975686634, 15.25640988469427)"
      ]
     },
     "execution_count": 8,
     "metadata": {},
     "output_type": "execute_result"
    },
    {
     "data": {
      "image/png": "[encoded data removed]",
      "text/plain": [
       "<Figure size 864x576 with 1 Axes>"
      ]
     },
     "metadata": {},
     "output_type": "display_data"
    }
   ],
   "source": [
    "# Show first mag vs first MJD\n",
    "fig, ax = plt.subplots(figsize = (12, 8))\n",
    "mask = query_results.first_magpsf_r.notnull()\n",
    "ax.scatter(query_results.firstmjd[mask], query_results.first_magpsf_r[mask], c = 'r')\n",
    "mask = query_results.first_magpsf_g.notnull()\n",
    "ax.scatter(query_results.firstmjd[mask], query_results.first_magpsf_g[mask], c = 'g')\n",
    "ax.set_xlabel(\"First MJD\")\n",
    "ax.set_ylabel(\"First mag g|r\")\n",
    "ax.set_ylim(ax.get_ylim()[::-1])"
   ]
  },
  {
   "cell_type": "markdown",
   "metadata": {},
   "source": [
    "You can see the ZTF filter changes during the night. The missing times are due to the ZTF private stream."
   ]
  },
  {
   "cell_type": "markdown",
   "metadata": {},
   "source": [
    "# 2. get_sql\n",
    "\n",
    "Get the sql query using the same parameters as the previous query"
   ]
  },
  {
   "cell_type": "code",
   "execution_count": 9,
   "metadata": {
    "ExecuteTime": {
     "end_time": "2019-08-16T20:36:09.293906Z",
     "start_time": "2019-08-16T20:36:08.841402Z"
    }
   },
   "outputs": [
    {
     "data": {
      "text/plain": [
       "b\"SELECT * FROM objects WHERE  classearly = 'SN' AND  firstmjd >= 58709.85842715923 \""
      ]
     },
     "execution_count": 9,
     "metadata": {},
     "output_type": "execute_result"
    }
   ],
   "source": [
    "alerce.get_sql(params)"
   ]
  },
  {
   "cell_type": "markdown",
   "metadata": {},
   "source": [
    "# 3. get_detections\n",
    "\n",
    "Get all the detections for an object"
   ]
  },
  {
   "cell_type": "code",
   "execution_count": 9,
   "metadata": {
    "ExecuteTime": {
     "end_time": "2019-08-29T20:22:18.732968Z",
     "start_time": "2019-08-29T20:22:18.717714Z"
    }
   },
   "outputs": [],
   "source": [
    "oid = \"ZTF19aaxqsbn\""
   ]
  },
  {
   "cell_type": "code",
   "execution_count": 10,
   "metadata": {
    "ExecuteTime": {
     "end_time": "2019-08-29T20:22:19.949805Z",
     "start_time": "2019-08-29T20:22:19.123660Z"
    }
   },
   "outputs": [
    {
     "data": {
      "text/html": [
       "<div>\n",
       "<style scoped>\n",
       "    .dataframe tbody tr th:only-of-type {\n",
       "        vertical-align: middle;\n",
       "    }\n",
       "\n",
       "    .dataframe tbody tr th {\n",
       "        vertical-align: top;\n",
       "    }\n",
       "\n",
       "    .dataframe thead th {\n",
       "        text-align: right;\n",
       "    }\n",
       "</style>\n",
       "<table border=\"1\" class=\"dataframe\">\n",
       "  <thead>\n",
       "    <tr style=\"text-align: right;\">\n",
       "      <th></th>\n",
       "      <th>candid_str</th>\n",
       "      <th>dec</th>\n",
       "      <th>diffmaglim</th>\n",
       "      <th>distpsnr1</th>\n",
       "      <th>fid</th>\n",
       "      <th>field</th>\n",
       "      <th>isdiffpos</th>\n",
       "      <th>magap</th>\n",
       "      <th>magap_corr</th>\n",
       "      <th>magnr</th>\n",
       "      <th>...</th>\n",
       "      <th>rb</th>\n",
       "      <th>rcid</th>\n",
       "      <th>sgscore1</th>\n",
       "      <th>sigmadec</th>\n",
       "      <th>sigmagap</th>\n",
       "      <th>sigmagap_corr</th>\n",
       "      <th>sigmagnr</th>\n",
       "      <th>sigmapsf</th>\n",
       "      <th>sigmapsf_corr</th>\n",
       "      <th>sigmara</th>\n",
       "    </tr>\n",
       "    <tr>\n",
       "      <th>candid</th>\n",
       "      <th></th>\n",
       "      <th></th>\n",
       "      <th></th>\n",
       "      <th></th>\n",
       "      <th></th>\n",
       "      <th></th>\n",
       "      <th></th>\n",
       "      <th></th>\n",
       "      <th></th>\n",
       "      <th></th>\n",
       "      <th></th>\n",
       "      <th></th>\n",
       "      <th></th>\n",
       "      <th></th>\n",
       "      <th></th>\n",
       "      <th></th>\n",
       "      <th></th>\n",
       "      <th></th>\n",
       "      <th></th>\n",
       "      <th></th>\n",
       "      <th></th>\n",
       "    </tr>\n",
       "  </thead>\n",
       "  <tbody>\n",
       "    <tr>\n",
       "      <td>886240045615015003</td>\n",
       "      <td>886240045615015003</td>\n",
       "      <td>80.162942</td>\n",
       "      <td>20.342619</td>\n",
       "      <td>1.676753</td>\n",
       "      <td>2</td>\n",
       "      <td>862</td>\n",
       "      <td>1</td>\n",
       "      <td>19.145700</td>\n",
       "      <td>19.145700</td>\n",
       "      <td>16.899</td>\n",
       "      <td>...</td>\n",
       "      <td>0.944286</td>\n",
       "      <td>56</td>\n",
       "      <td>0.196298</td>\n",
       "      <td>0.09</td>\n",
       "      <td>0.1670</td>\n",
       "      <td>0.1670</td>\n",
       "      <td>0.073</td>\n",
       "      <td>0.111001</td>\n",
       "      <td>0.111001</td>\n",
       "      <td>0.09</td>\n",
       "    </tr>\n",
       "    <tr>\n",
       "      <td>889199085615015000</td>\n",
       "      <td>889199085615015000</td>\n",
       "      <td>80.162995</td>\n",
       "      <td>20.061783</td>\n",
       "      <td>1.792658</td>\n",
       "      <td>1</td>\n",
       "      <td>862</td>\n",
       "      <td>1</td>\n",
       "      <td>19.063999</td>\n",
       "      <td>19.063999</td>\n",
       "      <td>17.948</td>\n",
       "      <td>...</td>\n",
       "      <td>0.750000</td>\n",
       "      <td>56</td>\n",
       "      <td>0.196298</td>\n",
       "      <td>0.09</td>\n",
       "      <td>0.1374</td>\n",
       "      <td>0.1374</td>\n",
       "      <td>0.062</td>\n",
       "      <td>0.153750</td>\n",
       "      <td>0.153750</td>\n",
       "      <td>0.09</td>\n",
       "    </tr>\n",
       "    <tr>\n",
       "      <td>889249055615015001</td>\n",
       "      <td>889249055615015001</td>\n",
       "      <td>80.162994</td>\n",
       "      <td>20.234301</td>\n",
       "      <td>1.745674</td>\n",
       "      <td>2</td>\n",
       "      <td>862</td>\n",
       "      <td>1</td>\n",
       "      <td>18.581699</td>\n",
       "      <td>18.581699</td>\n",
       "      <td>16.899</td>\n",
       "      <td>...</td>\n",
       "      <td>0.947143</td>\n",
       "      <td>56</td>\n",
       "      <td>0.196298</td>\n",
       "      <td>0.09</td>\n",
       "      <td>0.1058</td>\n",
       "      <td>0.1058</td>\n",
       "      <td>0.073</td>\n",
       "      <td>0.085079</td>\n",
       "      <td>0.085079</td>\n",
       "      <td>0.09</td>\n",
       "    </tr>\n",
       "    <tr>\n",
       "      <td>892240745615015005</td>\n",
       "      <td>892240745615015005</td>\n",
       "      <td>80.162949</td>\n",
       "      <td>19.379860</td>\n",
       "      <td>1.706684</td>\n",
       "      <td>2</td>\n",
       "      <td>862</td>\n",
       "      <td>1</td>\n",
       "      <td>18.940800</td>\n",
       "      <td>18.940800</td>\n",
       "      <td>16.899</td>\n",
       "      <td>...</td>\n",
       "      <td>0.892857</td>\n",
       "      <td>56</td>\n",
       "      <td>0.196298</td>\n",
       "      <td>0.09</td>\n",
       "      <td>0.2974</td>\n",
       "      <td>0.2974</td>\n",
       "      <td>0.073</td>\n",
       "      <td>0.104200</td>\n",
       "      <td>0.104200</td>\n",
       "      <td>0.09</td>\n",
       "    </tr>\n",
       "    <tr>\n",
       "      <td>895195845615015003</td>\n",
       "      <td>895195845615015003</td>\n",
       "      <td>80.162940</td>\n",
       "      <td>19.375284</td>\n",
       "      <td>1.912989</td>\n",
       "      <td>1</td>\n",
       "      <td>862</td>\n",
       "      <td>1</td>\n",
       "      <td>18.676800</td>\n",
       "      <td>18.676800</td>\n",
       "      <td>17.948</td>\n",
       "      <td>...</td>\n",
       "      <td>0.951429</td>\n",
       "      <td>56</td>\n",
       "      <td>0.196298</td>\n",
       "      <td>0.09</td>\n",
       "      <td>0.1865</td>\n",
       "      <td>0.1865</td>\n",
       "      <td>0.062</td>\n",
       "      <td>0.112041</td>\n",
       "      <td>0.112041</td>\n",
       "      <td>0.09</td>\n",
       "    </tr>\n",
       "  </tbody>\n",
       "</table>\n",
       "<p>5 rows × 26 columns</p>\n",
       "</div>"
      ],
      "text/plain": [
       "                            candid_str        dec  diffmaglim  distpsnr1  fid  \\\n",
       "candid                                                                          \n",
       "886240045615015003  886240045615015003  80.162942   20.342619   1.676753    2   \n",
       "889199085615015000  889199085615015000  80.162995   20.061783   1.792658    1   \n",
       "889249055615015001  889249055615015001  80.162994   20.234301   1.745674    2   \n",
       "892240745615015005  892240745615015005  80.162949   19.379860   1.706684    2   \n",
       "895195845615015003  895195845615015003  80.162940   19.375284   1.912989    1   \n",
       "\n",
       "                    field  isdiffpos      magap  magap_corr   magnr  ...  \\\n",
       "candid                                                               ...   \n",
       "886240045615015003    862          1  19.145700   19.145700  16.899  ...   \n",
       "889199085615015000    862          1  19.063999   19.063999  17.948  ...   \n",
       "889249055615015001    862          1  18.581699   18.581699  16.899  ...   \n",
       "892240745615015005    862          1  18.940800   18.940800  16.899  ...   \n",
       "895195845615015003    862          1  18.676800   18.676800  17.948  ...   \n",
       "\n",
       "                          rb  rcid  sgscore1 sigmadec sigmagap  sigmagap_corr  \\\n",
       "candid                                                                          \n",
       "886240045615015003  0.944286    56  0.196298     0.09   0.1670         0.1670   \n",
       "889199085615015000  0.750000    56  0.196298     0.09   0.1374         0.1374   \n",
       "889249055615015001  0.947143    56  0.196298     0.09   0.1058         0.1058   \n",
       "892240745615015005  0.892857    56  0.196298     0.09   0.2974         0.2974   \n",
       "895195845615015003  0.951429    56  0.196298     0.09   0.1865         0.1865   \n",
       "\n",
       "                    sigmagnr  sigmapsf  sigmapsf_corr  sigmara  \n",
       "candid                                                          \n",
       "886240045615015003     0.073  0.111001       0.111001     0.09  \n",
       "889199085615015000     0.062  0.153750       0.153750     0.09  \n",
       "889249055615015001     0.073  0.085079       0.085079     0.09  \n",
       "892240745615015005     0.073  0.104200       0.104200     0.09  \n",
       "895195845615015003     0.062  0.112041       0.112041     0.09  \n",
       "\n",
       "[5 rows x 26 columns]"
      ]
     },
     "metadata": {},
     "output_type": "display_data"
    },
    {
     "data": {
      "text/plain": [
       "['candid_str',\n",
       " 'dec',\n",
       " 'diffmaglim',\n",
       " 'distpsnr1',\n",
       " 'fid',\n",
       " 'field',\n",
       " 'isdiffpos',\n",
       " 'magap',\n",
       " 'magap_corr',\n",
       " 'magnr',\n",
       " 'magpsf',\n",
       " 'magpsf_corr',\n",
       " 'mjd',\n",
       " 'object_id',\n",
       " 'oid',\n",
       " 'ra',\n",
       " 'rb',\n",
       " 'rcid',\n",
       " 'sgscore1',\n",
       " 'sigmadec',\n",
       " 'sigmagap',\n",
       " 'sigmagap_corr',\n",
       " 'sigmagnr',\n",
       " 'sigmapsf',\n",
       " 'sigmapsf_corr',\n",
       " 'sigmara']"
      ]
     },
     "execution_count": 10,
     "metadata": {},
     "output_type": "execute_result"
    }
   ],
   "source": [
    "detections = alerce.get_detections(oid)\n",
    "display(detections.head())\n",
    "list(detections)"
   ]
  },
  {
   "cell_type": "markdown",
   "metadata": {},
   "source": [
    "# 4. get_non_detections"
   ]
  },
  {
   "cell_type": "code",
   "execution_count": 11,
   "metadata": {
    "ExecuteTime": {
     "end_time": "2019-08-29T20:22:24.404816Z",
     "start_time": "2019-08-29T20:22:23.765767Z"
    }
   },
   "outputs": [
    {
     "data": {
      "text/html": [
       "<div>\n",
       "<style scoped>\n",
       "    .dataframe tbody tr th:only-of-type {\n",
       "        vertical-align: middle;\n",
       "    }\n",
       "\n",
       "    .dataframe tbody tr th {\n",
       "        vertical-align: top;\n",
       "    }\n",
       "\n",
       "    .dataframe thead th {\n",
       "        text-align: right;\n",
       "    }\n",
       "</style>\n",
       "<table border=\"1\" class=\"dataframe\">\n",
       "  <thead>\n",
       "    <tr style=\"text-align: right;\">\n",
       "      <th></th>\n",
       "      <th>diffmaglim</th>\n",
       "      <th>fid</th>\n",
       "      <th>object_id</th>\n",
       "      <th>oid</th>\n",
       "    </tr>\n",
       "    <tr>\n",
       "      <th>mjd</th>\n",
       "      <th></th>\n",
       "      <th></th>\n",
       "      <th></th>\n",
       "      <th></th>\n",
       "    </tr>\n",
       "  </thead>\n",
       "  <tbody>\n",
       "    <tr>\n",
       "      <td>58617.203958</td>\n",
       "      <td>19.953899</td>\n",
       "      <td>1</td>\n",
       "      <td>None</td>\n",
       "      <td>ZTF19aaxqsbn</td>\n",
       "    </tr>\n",
       "    <tr>\n",
       "      <td>58617.203958</td>\n",
       "      <td>19.953899</td>\n",
       "      <td>1</td>\n",
       "      <td>None</td>\n",
       "      <td>ZTF19aaxqsbn</td>\n",
       "    </tr>\n",
       "    <tr>\n",
       "      <td>58617.203958</td>\n",
       "      <td>19.953899</td>\n",
       "      <td>1</td>\n",
       "      <td>None</td>\n",
       "      <td>ZTF19aaxqsbn</td>\n",
       "    </tr>\n",
       "    <tr>\n",
       "      <td>58617.203958</td>\n",
       "      <td>19.953899</td>\n",
       "      <td>1</td>\n",
       "      <td>None</td>\n",
       "      <td>ZTF19aaxqsbn</td>\n",
       "    </tr>\n",
       "    <tr>\n",
       "      <td>58617.297940</td>\n",
       "      <td>19.972601</td>\n",
       "      <td>2</td>\n",
       "      <td>None</td>\n",
       "      <td>ZTF19aaxqsbn</td>\n",
       "    </tr>\n",
       "  </tbody>\n",
       "</table>\n",
       "</div>"
      ],
      "text/plain": [
       "              diffmaglim  fid object_id           oid\n",
       "mjd                                                  \n",
       "58617.203958   19.953899    1      None  ZTF19aaxqsbn\n",
       "58617.203958   19.953899    1      None  ZTF19aaxqsbn\n",
       "58617.203958   19.953899    1      None  ZTF19aaxqsbn\n",
       "58617.203958   19.953899    1      None  ZTF19aaxqsbn\n",
       "58617.297940   19.972601    2      None  ZTF19aaxqsbn"
      ]
     },
     "execution_count": 11,
     "metadata": {},
     "output_type": "execute_result"
    }
   ],
   "source": [
    "non_detections = alerce.get_non_detections(oid)\n",
    "non_detections.head()"
   ]
  },
  {
   "cell_type": "code",
   "execution_count": 12,
   "metadata": {
    "ExecuteTime": {
     "end_time": "2019-08-29T20:22:26.762250Z",
     "start_time": "2019-08-29T20:22:26.610687Z"
    }
   },
   "outputs": [
    {
     "data": {
      "text/plain": [
       "(20.85893068626529, 15.77118088180006)"
      ]
     },
     "execution_count": 12,
     "metadata": {},
     "output_type": "execute_result"
    },
    {
     "data": {
      "image/png": "[encoded data removed]",
      "text/plain": [
       "<Figure size 864x576 with 1 Axes>"
      ]
     },
     "metadata": {},
     "output_type": "display_data"
    }
   ],
   "source": [
    "fig, ax = plt.subplots(figsize = (12, 8))\n",
    "colors = [\"g\", \"r\"]\n",
    "for fid in [1, 2]:\n",
    "    mask = detections.fid == fid\n",
    "    ax.plot(detections.mjd[mask], detections.magpsf[mask], c = colors[fid - 1], marker = \"o\")\n",
    "    mask = non_detections.fid == fid\n",
    "    # note that the index of non-detectionsis the mjd\n",
    "    ax.scatter(non_detections.index[mask], non_detections.diffmaglim[mask], c = colors[fid - 1], marker = \"v\")\n",
    "ax.set_xlabel(\"MJD\")\n",
    "ax.set_ylabel(\"mag psf\")\n",
    "ax.set_ylim(ax.get_ylim()[::-1])"
   ]
  },
  {
   "cell_type": "markdown",
   "metadata": {},
   "source": [
    "# 5. get_stats"
   ]
  },
  {
   "cell_type": "code",
   "execution_count": 14,
   "metadata": {
    "ExecuteTime": {
     "end_time": "2019-08-16T20:36:10.979325Z",
     "start_time": "2019-08-16T20:36:10.488551Z"
    }
   },
   "outputs": [
    {
     "data": {
      "text/html": [
       "<div>\n",
       "<style scoped>\n",
       "    .dataframe tbody tr th:only-of-type {\n",
       "        vertical-align: middle;\n",
       "    }\n",
       "\n",
       "    .dataframe tbody tr th {\n",
       "        vertical-align: top;\n",
       "    }\n",
       "\n",
       "    .dataframe thead th {\n",
       "        text-align: right;\n",
       "    }\n",
       "</style>\n",
       "<table border=\"1\" class=\"dataframe\">\n",
       "  <thead>\n",
       "    <tr style=\"text-align: right;\">\n",
       "      <th></th>\n",
       "      <th>classearly</th>\n",
       "      <th>classrf</th>\n",
       "      <th>deltajd</th>\n",
       "      <th>first_magap_g</th>\n",
       "      <th>first_magap_r</th>\n",
       "      <th>first_magpsf_g</th>\n",
       "      <th>first_magpsf_r</th>\n",
       "      <th>firstmjd</th>\n",
       "      <th>last_magap_g</th>\n",
       "      <th>last_magap_r</th>\n",
       "      <th>...</th>\n",
       "      <th>min_magpsf_r</th>\n",
       "      <th>nobs</th>\n",
       "      <th>pclassearly</th>\n",
       "      <th>pclassrf</th>\n",
       "      <th>sigma_magap_g</th>\n",
       "      <th>sigma_magap_r</th>\n",
       "      <th>sigma_magpsf_g</th>\n",
       "      <th>sigma_magpsf_r</th>\n",
       "      <th>sigmadec</th>\n",
       "      <th>sigmara</th>\n",
       "    </tr>\n",
       "    <tr>\n",
       "      <th>oid</th>\n",
       "      <th></th>\n",
       "      <th></th>\n",
       "      <th></th>\n",
       "      <th></th>\n",
       "      <th></th>\n",
       "      <th></th>\n",
       "      <th></th>\n",
       "      <th></th>\n",
       "      <th></th>\n",
       "      <th></th>\n",
       "      <th></th>\n",
       "      <th></th>\n",
       "      <th></th>\n",
       "      <th></th>\n",
       "      <th></th>\n",
       "      <th></th>\n",
       "      <th></th>\n",
       "      <th></th>\n",
       "      <th></th>\n",
       "      <th></th>\n",
       "      <th></th>\n",
       "    </tr>\n",
       "  </thead>\n",
       "  <tbody>\n",
       "    <tr>\n",
       "      <th>ZTF19aaxqsbn</th>\n",
       "      <td>SN</td>\n",
       "      <td>6</td>\n",
       "      <td>68.952431</td>\n",
       "      <td>19.063999</td>\n",
       "      <td>19.1457</td>\n",
       "      <td>18.982498</td>\n",
       "      <td>19.270462</td>\n",
       "      <td>58640.240046</td>\n",
       "      <td>19.572599</td>\n",
       "      <td>19.2003</td>\n",
       "      <td>...</td>\n",
       "      <td>18.316925</td>\n",
       "      <td>34</td>\n",
       "      <td>0.999165</td>\n",
       "      <td>0.652</td>\n",
       "      <td>0.510019</td>\n",
       "      <td>0.496687</td>\n",
       "      <td>0.498423</td>\n",
       "      <td>0.44145</td>\n",
       "      <td>0.000036</td>\n",
       "      <td>0.000183</td>\n",
       "    </tr>\n",
       "  </tbody>\n",
       "</table>\n",
       "<p>1 rows × 40 columns</p>\n",
       "</div>"
      ],
      "text/plain": [
       "             classearly  classrf    deltajd  first_magap_g  first_magap_r  \\\n",
       "oid                                                                         \n",
       "ZTF19aaxqsbn         SN        6  68.952431      19.063999        19.1457   \n",
       "\n",
       "              first_magpsf_g  first_magpsf_r      firstmjd  last_magap_g  \\\n",
       "oid                                                                        \n",
       "ZTF19aaxqsbn       18.982498       19.270462  58640.240046     19.572599   \n",
       "\n",
       "              last_magap_r    ...     min_magpsf_r  nobs  pclassearly  \\\n",
       "oid                           ...                                       \n",
       "ZTF19aaxqsbn       19.2003    ...        18.316925    34     0.999165   \n",
       "\n",
       "              pclassrf  sigma_magap_g  sigma_magap_r  sigma_magpsf_g  \\\n",
       "oid                                                                    \n",
       "ZTF19aaxqsbn     0.652       0.510019       0.496687        0.498423   \n",
       "\n",
       "              sigma_magpsf_r  sigmadec   sigmara  \n",
       "oid                                               \n",
       "ZTF19aaxqsbn         0.44145  0.000036  0.000183  \n",
       "\n",
       "[1 rows x 40 columns]"
      ]
     },
     "metadata": {},
     "output_type": "display_data"
    },
    {
     "data": {
      "text/plain": [
       "['classearly',\n",
       " 'classrf',\n",
       " 'deltajd',\n",
       " 'first_magap_g',\n",
       " 'first_magap_r',\n",
       " 'first_magpsf_g',\n",
       " 'first_magpsf_r',\n",
       " 'firstmjd',\n",
       " 'last_magap_g',\n",
       " 'last_magap_r',\n",
       " 'last_magpsf_g',\n",
       " 'last_magpsf_r',\n",
       " 'lastmjd',\n",
       " 'max_magap_g',\n",
       " 'max_magap_r',\n",
       " 'max_magpsf_g',\n",
       " 'max_magpsf_r',\n",
       " 'mean_magap_g',\n",
       " 'mean_magap_r',\n",
       " 'mean_magpsf_g',\n",
       " 'mean_magpsf_r',\n",
       " 'meandec',\n",
       " 'meanra',\n",
       " 'median_magap_g',\n",
       " 'median_magap_r',\n",
       " 'median_magpsf_g',\n",
       " 'median_magpsf_r',\n",
       " 'min_magap_g',\n",
       " 'min_magap_r',\n",
       " 'min_magpsf_g',\n",
       " 'min_magpsf_r',\n",
       " 'nobs',\n",
       " 'pclassearly',\n",
       " 'pclassrf',\n",
       " 'sigma_magap_g',\n",
       " 'sigma_magap_r',\n",
       " 'sigma_magpsf_g',\n",
       " 'sigma_magpsf_r',\n",
       " 'sigmadec',\n",
       " 'sigmara']"
      ]
     },
     "execution_count": 14,
     "metadata": {},
     "output_type": "execute_result"
    }
   ],
   "source": [
    "stats = alerce.get_stats(oid)\n",
    "display(stats)\n",
    "list(stats)"
   ]
  },
  {
   "cell_type": "markdown",
   "metadata": {},
   "source": [
    "# 6. get_probabilities"
   ]
  },
  {
   "cell_type": "code",
   "execution_count": 15,
   "metadata": {
    "ExecuteTime": {
     "end_time": "2019-08-16T20:36:11.580048Z",
     "start_time": "2019-08-16T20:36:10.980684Z"
    }
   },
   "outputs": [
    {
     "data": {
      "text/html": [
       "<div>\n",
       "<style scoped>\n",
       "    .dataframe tbody tr th:only-of-type {\n",
       "        vertical-align: middle;\n",
       "    }\n",
       "\n",
       "    .dataframe tbody tr th {\n",
       "        vertical-align: top;\n",
       "    }\n",
       "\n",
       "    .dataframe thead th {\n",
       "        text-align: right;\n",
       "    }\n",
       "</style>\n",
       "<table border=\"1\" class=\"dataframe\">\n",
       "  <thead>\n",
       "    <tr style=\"text-align: right;\">\n",
       "      <th></th>\n",
       "      <th>agn_prob</th>\n",
       "      <th>asteroid_prob</th>\n",
       "      <th>bogus_prob</th>\n",
       "      <th>sn_prob</th>\n",
       "      <th>vs_prob</th>\n",
       "    </tr>\n",
       "    <tr>\n",
       "      <th>oid</th>\n",
       "      <th></th>\n",
       "      <th></th>\n",
       "      <th></th>\n",
       "      <th></th>\n",
       "      <th></th>\n",
       "    </tr>\n",
       "  </thead>\n",
       "  <tbody>\n",
       "    <tr>\n",
       "      <th>ZTF19aaxqsbn</th>\n",
       "      <td>0.000005</td>\n",
       "      <td>5.469358e-09</td>\n",
       "      <td>0.000829</td>\n",
       "      <td>0.999165</td>\n",
       "      <td>4.666816e-10</td>\n",
       "    </tr>\n",
       "  </tbody>\n",
       "</table>\n",
       "</div>"
      ],
      "text/plain": [
       "              agn_prob  asteroid_prob  bogus_prob   sn_prob       vs_prob\n",
       "oid                                                                      \n",
       "ZTF19aaxqsbn  0.000005   5.469358e-09    0.000829  0.999165  4.666816e-10"
      ]
     },
     "metadata": {},
     "output_type": "display_data"
    },
    {
     "data": {
      "text/html": [
       "<div>\n",
       "<style scoped>\n",
       "    .dataframe tbody tr th:only-of-type {\n",
       "        vertical-align: middle;\n",
       "    }\n",
       "\n",
       "    .dataframe tbody tr th {\n",
       "        vertical-align: top;\n",
       "    }\n",
       "\n",
       "    .dataframe thead th {\n",
       "        text-align: right;\n",
       "    }\n",
       "</style>\n",
       "<table border=\"1\" class=\"dataframe\">\n",
       "  <thead>\n",
       "    <tr style=\"text-align: right;\">\n",
       "      <th></th>\n",
       "      <th>ceph_prob</th>\n",
       "      <th>classifierid</th>\n",
       "      <th>dsct_prob</th>\n",
       "      <th>eb_prob</th>\n",
       "      <th>lpv_prob</th>\n",
       "      <th>other_prob</th>\n",
       "      <th>rrl_prob</th>\n",
       "      <th>sne_prob</th>\n",
       "    </tr>\n",
       "    <tr>\n",
       "      <th>oid</th>\n",
       "      <th></th>\n",
       "      <th></th>\n",
       "      <th></th>\n",
       "      <th></th>\n",
       "      <th></th>\n",
       "      <th></th>\n",
       "      <th></th>\n",
       "      <th></th>\n",
       "    </tr>\n",
       "  </thead>\n",
       "  <tbody>\n",
       "    <tr>\n",
       "      <th>ZTF19aaxqsbn</th>\n",
       "      <td>0.046</td>\n",
       "      <td>1</td>\n",
       "      <td>0.006</td>\n",
       "      <td>0.006</td>\n",
       "      <td>0.076</td>\n",
       "      <td>0.14</td>\n",
       "      <td>0.074</td>\n",
       "      <td>0.652</td>\n",
       "    </tr>\n",
       "  </tbody>\n",
       "</table>\n",
       "</div>"
      ],
      "text/plain": [
       "              ceph_prob  classifierid  dsct_prob  eb_prob  lpv_prob  \\\n",
       "oid                                                                   \n",
       "ZTF19aaxqsbn      0.046             1      0.006    0.006     0.076   \n",
       "\n",
       "              other_prob  rrl_prob  sne_prob  \n",
       "oid                                           \n",
       "ZTF19aaxqsbn        0.14     0.074     0.652  "
      ]
     },
     "metadata": {},
     "output_type": "display_data"
    }
   ],
   "source": [
    "early, late = alerce.get_probabilities(oid)\n",
    "display(early)\n",
    "display(late)"
   ]
  },
  {
   "cell_type": "markdown",
   "metadata": {},
   "source": [
    "# 7. get_features"
   ]
  },
  {
   "cell_type": "code",
   "execution_count": 16,
   "metadata": {
    "ExecuteTime": {
     "end_time": "2019-08-16T20:36:12.033600Z",
     "start_time": "2019-08-16T20:36:11.581913Z"
    }
   },
   "outputs": [
    {
     "data": {
      "text/html": [
       "<div>\n",
       "<style scoped>\n",
       "    .dataframe tbody tr th:only-of-type {\n",
       "        vertical-align: middle;\n",
       "    }\n",
       "\n",
       "    .dataframe tbody tr th {\n",
       "        vertical-align: top;\n",
       "    }\n",
       "\n",
       "    .dataframe thead th {\n",
       "        text-align: right;\n",
       "    }\n",
       "</style>\n",
       "<table border=\"1\" class=\"dataframe\">\n",
       "  <thead>\n",
       "    <tr style=\"text-align: right;\">\n",
       "      <th></th>\n",
       "      <th>result.period.n_samples_1</th>\n",
       "      <th>result.period.n_samples_2</th>\n",
       "      <th>result.period.periodls_1</th>\n",
       "      <th>result.period.periodls_2</th>\n",
       "    </tr>\n",
       "    <tr>\n",
       "      <th>oid</th>\n",
       "      <th></th>\n",
       "      <th></th>\n",
       "      <th></th>\n",
       "      <th></th>\n",
       "    </tr>\n",
       "  </thead>\n",
       "  <tbody>\n",
       "    <tr>\n",
       "      <th>ZTF19aaxqsbn</th>\n",
       "      <td>10.0</td>\n",
       "      <td>24.0</td>\n",
       "      <td>74.074072</td>\n",
       "      <td>74.074072</td>\n",
       "    </tr>\n",
       "  </tbody>\n",
       "</table>\n",
       "</div>"
      ],
      "text/plain": [
       "              result.period.n_samples_1  result.period.n_samples_2  \\\n",
       "oid                                                                  \n",
       "ZTF19aaxqsbn                       10.0                       24.0   \n",
       "\n",
       "              result.period.periodls_1  result.period.periodls_2  \n",
       "oid                                                               \n",
       "ZTF19aaxqsbn                 74.074072                 74.074072  "
      ]
     },
     "execution_count": 16,
     "metadata": {},
     "output_type": "execute_result"
    }
   ],
   "source": [
    "features = alerce.get_features(oid)\n",
    "features"
   ]
  },
  {
   "cell_type": "markdown",
   "metadata": {},
   "source": [
    "# 8. get_stamp\n",
    "\n",
    "Get the stamps of an object.\n",
    "\n",
    "See https://github.com/alercebroker/usecases/blob/master/api/ALeRCE%20AVRO-STAMP%20Access%20API.md"
   ]
  },
  {
   "cell_type": "code",
   "execution_count": 13,
   "metadata": {
    "ExecuteTime": {
     "end_time": "2019-08-29T20:22:41.288372Z",
     "start_time": "2019-08-29T20:22:40.733265Z"
    }
   },
   "outputs": [
    {
     "name": "stdout",
     "output_type": "stream",
     "text": [
      "ZTF19aaxqsbn\n",
      "ZTF19aaxqsbn 886240045615015003\n"
     ]
    },
    {
     "data": {
      "text/html": [
       "\n",
       "        &emsp;&emsp;&emsp;&emsp;&emsp;\n",
       "        Science\n",
       "        &emsp;&emsp;&emsp;&emsp;&emsp;&emsp;&emsp;&emsp;&emsp;&emsp;&emsp;&emsp; \n",
       "        Template\n",
       "        &emsp;&emsp;&emsp;&emsp;&emsp;&emsp;&emsp;&emsp;&emsp;&emsp;&emsp;&emsp; \n",
       "        Difference\n",
       "        <div class=\"container\">\n",
       "        <div style=\"float:left;width:20%\"><img src=\"http://avro.alerce.online/get_stamp?oid=ZTF19aaxqsbn&candid=886240045615015003&type=science&format=png\"></div>\n",
       "        <div style=\"float:left;width:20%\"><img src=\"http://avro.alerce.online/get_stamp?oid=ZTF19aaxqsbn&candid=886240045615015003&type=template&format=png\"></div>\n",
       "        <div style=\"float:left;width:20%\"><img src=\"http://avro.alerce.online/get_stamp?oid=ZTF19aaxqsbn&candid=886240045615015003&type=difference&format=png\"></div>\n",
       "        </div>\n",
       "        "
      ],
      "text/plain": [
       "<IPython.core.display.HTML object>"
      ]
     },
     "metadata": {},
     "output_type": "display_data"
    },
    {
     "name": "stdout",
     "output_type": "stream",
     "text": [
      "ZTF19aaxqsbn 886240045615015003\n"
     ]
    },
    {
     "data": {
      "text/html": [
       "\n",
       "        &emsp;&emsp;&emsp;&emsp;&emsp;\n",
       "        Science\n",
       "        &emsp;&emsp;&emsp;&emsp;&emsp;&emsp;&emsp;&emsp;&emsp;&emsp;&emsp;&emsp; \n",
       "        Template\n",
       "        &emsp;&emsp;&emsp;&emsp;&emsp;&emsp;&emsp;&emsp;&emsp;&emsp;&emsp;&emsp; \n",
       "        Difference\n",
       "        <div class=\"container\">\n",
       "        <div style=\"float:left;width:20%\"><img src=\"http://avro.alerce.online/get_stamp?oid=ZTF19aaxqsbn&candid=886240045615015003&type=science&format=png\"></div>\n",
       "        <div style=\"float:left;width:20%\"><img src=\"http://avro.alerce.online/get_stamp?oid=ZTF19aaxqsbn&candid=886240045615015003&type=template&format=png\"></div>\n",
       "        <div style=\"float:left;width:20%\"><img src=\"http://avro.alerce.online/get_stamp?oid=ZTF19aaxqsbn&candid=886240045615015003&type=difference&format=png\"></div>\n",
       "        </div>\n",
       "        "
      ],
      "text/plain": [
       "<IPython.core.display.HTML object>"
      ]
     },
     "metadata": {},
     "output_type": "display_data"
    },
    {
     "name": "stdout",
     "output_type": "stream",
     "text": [
      "ZTF19aaxqsbn 969181571415010006\n"
     ]
    },
    {
     "data": {
      "text/html": [
       "\n",
       "        &emsp;&emsp;&emsp;&emsp;&emsp;\n",
       "        Science\n",
       "        &emsp;&emsp;&emsp;&emsp;&emsp;&emsp;&emsp;&emsp;&emsp;&emsp;&emsp;&emsp; \n",
       "        Template\n",
       "        &emsp;&emsp;&emsp;&emsp;&emsp;&emsp;&emsp;&emsp;&emsp;&emsp;&emsp;&emsp; \n",
       "        Difference\n",
       "        <div class=\"container\">\n",
       "        <div style=\"float:left;width:20%\"><img src=\"http://avro.alerce.online/get_stamp?oid=ZTF19aaxqsbn&candid=969181571415010006&type=science&format=png\"></div>\n",
       "        <div style=\"float:left;width:20%\"><img src=\"http://avro.alerce.online/get_stamp?oid=ZTF19aaxqsbn&candid=969181571415010006&type=template&format=png\"></div>\n",
       "        <div style=\"float:left;width:20%\"><img src=\"http://avro.alerce.online/get_stamp?oid=ZTF19aaxqsbn&candid=969181571415010006&type=difference&format=png\"></div>\n",
       "        </div>\n",
       "        "
      ],
      "text/plain": [
       "<IPython.core.display.HTML object>"
      ]
     },
     "metadata": {},
     "output_type": "display_data"
    }
   ],
   "source": [
    "# note that the index of detections is the candid\n",
    "print(oid)\n",
    "alerce.plot_stamp(oid)\n",
    "alerce.plot_stamp(oid, detections.index.min())\n",
    "alerce.plot_stamp(oid, detections.index.max())"
   ]
  },
  {
   "cell_type": "code",
   "execution_count": null,
   "metadata": {},
   "outputs": [],
   "source": []
  },
  {
   "cell_type": "code",
   "execution_count": null,
   "metadata": {},
   "outputs": [],
   "source": []
  }
 ],
 "metadata": {
  "kernelspec": {
   "display_name": "Python 3",
   "language": "python",
   "name": "python3"
  },
  "language_info": {
   "codemirror_mode": {
    "name": "ipython",
    "version": 3
   },
   "file_extension": ".py",
   "mimetype": "text/x-python",
   "name": "python",
   "nbconvert_exporter": "python",
   "pygments_lexer": "ipython3",
   "version": "3.6.5"
  }
 },
 "nbformat": 4,
 "nbformat_minor": 2
}
