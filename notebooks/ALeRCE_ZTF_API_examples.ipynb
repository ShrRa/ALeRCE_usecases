{
 "cells": [
  {
   "cell_type": "markdown",
   "metadata": {},
   "source": [
    "# ALeRCE API interaction examples"
   ]
  },
  {
   "cell_type": "markdown",
   "metadata": {},
   "source": [
    "**WARNING**: This notebook will be replaced by a version using the new database, API and client.\n",
    "\n",
    "Load libraries"
   ]
  },
  {
   "cell_type": "code",
   "execution_count": 1,
   "metadata": {
    "ExecuteTime": {
     "end_time": "2020-08-06T02:09:25.971639Z",
     "start_time": "2020-08-06T02:09:25.224038Z"
    }
   },
   "outputs": [],
   "source": [
    "import sys\n",
    "import requests\n",
    "import matplotlib.pyplot as plt\n",
    "%matplotlib inline\n",
    "import pandas as pd\n",
    "from pandas.io.json import json_normalize\n",
    "from astropy.time import Time\n",
    "from datetime import datetime\n",
    "from IPython.display import HTML"
   ]
  },
  {
   "cell_type": "code",
   "execution_count": 2,
   "metadata": {
    "ExecuteTime": {
     "end_time": "2020-08-06T02:09:26.070127Z",
     "start_time": "2020-08-06T02:09:25.973520Z"
    }
   },
   "outputs": [],
   "source": [
    "#!pip install alerce\n",
    "from alerce.api import AlerceAPI"
   ]
  },
  {
   "cell_type": "markdown",
   "metadata": {},
   "source": [
    "See https://github.com/alercebroker/usecases/blob/master/api/ALeRCE%20ZTF%20DB%20API.md"
   ]
  },
  {
   "cell_type": "code",
   "execution_count": 3,
   "metadata": {
    "ExecuteTime": {
     "end_time": "2020-08-06T02:09:26.093682Z",
     "start_time": "2020-08-06T02:09:26.071701Z"
    }
   },
   "outputs": [],
   "source": [
    "# continuously load modules (for easier debugging)\n",
    "%load_ext autoreload\n",
    "%autoreload 2"
   ]
  },
  {
   "cell_type": "markdown",
   "metadata": {},
   "source": [
    "# Initialize alerce api object"
   ]
  },
  {
   "cell_type": "code",
   "execution_count": 4,
   "metadata": {
    "ExecuteTime": {
     "end_time": "2020-08-06T02:09:26.113516Z",
     "start_time": "2020-08-06T02:09:26.095477Z"
    }
   },
   "outputs": [],
   "source": [
    "client = AlerceAPI()"
   ]
  },
  {
   "cell_type": "markdown",
   "metadata": {},
   "source": [
    "# Classifier taxonomy and numeric mappings"
   ]
  },
  {
   "cell_type": "markdown",
   "metadata": {},
   "source": [
    "There are two classifiers used in ALeRCE, an early classifier and a late classifier. Each one has its own numeric mappings for the different classes. You can use their string or integer names.\n",
    "\n",
    "The early classifier uses as input the first detection stamps and contains the following classes:\n",
    "\n",
    "    \"agn\"\n",
    "    \"sn\"\n",
    "    \"vs\"\n",
    "    \"asteroid\"\n",
    "    \"bogus\"\n",
    "    \n",
    "The late classifier uses the light curve information and contains the following classes:\n",
    "\n",
    "    \"sn ia\"\n",
    "    \"sn ibc\"\n",
    "    \"sn ii\"\n",
    "    \"sn iin\"\n",
    "    \"slsn\"\n",
    "    \"eb/sd/d\"\n",
    "    \"eb/c\"\n",
    "    \"periodic/other\"\n",
    "    \"cv/nova\"\n",
    "    \"blazar\"\n",
    "    \"agn i\"\n",
    "    \"dsct\"\n",
    "    \"ceph\"\n",
    "    \"lpv\"\n",
    "    \"rrl\"\n",
    "    \"other\""
   ]
  },
  {
   "cell_type": "markdown",
   "metadata": {},
   "source": [
    "# 1. query\n",
    "\n",
    "Query a list of objects"
   ]
  },
  {
   "cell_type": "markdown",
   "metadata": {
    "ExecuteTime": {
     "end_time": "2019-07-19T02:40:07.495627Z",
     "start_time": "2019-07-19T02:40:07.426187Z"
    }
   },
   "source": [
    "The following json file should be sent\n",
    "\n",
    "```js\n",
    "{\n",
    "total: number, // (if not set the total is counted and the query is slower),\n",
    "records_per_pages: number. // default 20\n",
    "page: number (default 1),\n",
    "sortBy: string columnName, // default nobs\n",
    "query_parameters:{\n",
    "    filters:{\n",
    "        //ZTF Object id\n",
    "        oid: \"ZTFXXXXXX\",\n",
    "        //Number of detections\n",
    "        nobs: { \n",
    "            min: int\n",
    "            max: int\n",
    "        },\n",
    "        //Late Classifier (Random Forest)\n",
    "        classrf: int,\n",
    "        pclassrf: float [0-1],\n",
    "        //Early Classifier (Stamp Classifier)\n",
    "        classearly: int,\n",
    "        pclassearly: float [0-1],\n",
    "    },\n",
    "    //Coordinate based search (RA,DEC) and Search Radius.\n",
    "    coordinates:{\n",
    "        ra: float degrees,\n",
    "        dec: float degrees,\n",
    "        sr: float degrees\n",
    "    },\n",
    "    dates:{\n",
    "        //First detection (Discovery date)\n",
    "        firstmjd: {\n",
    "         min: float mjd,\n",
    "         max: float mjd\n",
    "        }\n",
    "    }\n",
    "}\n",
    "```"
   ]
  },
  {
   "cell_type": "markdown",
   "metadata": {},
   "source": [
    "### Example: \n",
    "\n",
    "Give me all the objects with probability of being SNe greater than 0.3 according to the random forest classifier (light curve based), which have between 2 and 40 detections. Give me the second page, with pages of 10 elements each, of a total of at most 40 objects query result.\n",
    "\n",
    "Note: probabilities are experimental and should not be fully trusted"
   ]
  },
  {
   "cell_type": "code",
   "execution_count": 5,
   "metadata": {
    "ExecuteTime": {
     "end_time": "2020-08-06T02:09:26.131261Z",
     "start_time": "2020-08-06T02:09:26.115207Z"
    }
   },
   "outputs": [],
   "source": [
    "total = 40\n",
    "records_per_page = 10\n",
    "page = 2\n",
    "sortBy = \"firstmjd\"\n",
    "nobsmin = 10\n",
    "nobsmax = 40\n",
    "classrf = \"sn ia\"\n",
    "pclassrf = 0.3\n",
    "\n",
    "params = {\n",
    "    \"total\": total,\n",
    "    \"records_per_pages\": records_per_page,\n",
    "    \"page\": page,\n",
    "    \"sortBy\": sortBy,\n",
    "    \"query_parameters\": {\n",
    "        \"filters\": {\n",
    "            \"nobs\": { \n",
    "                \"min\": nobsmin,\n",
    "                \"max\": nobsmax\n",
    "            },\n",
    "            \"classrf\": classrf,\n",
    "            \"pclassrf\": pclassrf\n",
    "        }\n",
    "    }\n",
    "}"
   ]
  },
  {
   "cell_type": "code",
   "execution_count": 6,
   "metadata": {
    "ExecuteTime": {
     "end_time": "2020-08-06T02:09:26.853886Z",
     "start_time": "2020-08-06T02:09:26.132704Z"
    }
   },
   "outputs": [
    {
     "data": {
      "text/html": [
       "<div>\n",
       "<style scoped>\n",
       "    .dataframe tbody tr th:only-of-type {\n",
       "        vertical-align: middle;\n",
       "    }\n",
       "\n",
       "    .dataframe tbody tr th {\n",
       "        vertical-align: top;\n",
       "    }\n",
       "\n",
       "    .dataframe thead th {\n",
       "        text-align: right;\n",
       "    }\n",
       "</style>\n",
       "<table border=\"1\" class=\"dataframe\">\n",
       "  <thead>\n",
       "    <tr style=\"text-align: right;\">\n",
       "      <th></th>\n",
       "      <th>catalogid</th>\n",
       "      <th>classearly</th>\n",
       "      <th>classrf</th>\n",
       "      <th>classxmatch</th>\n",
       "      <th>deltajd</th>\n",
       "      <th>first_magap_g</th>\n",
       "      <th>first_magap_r</th>\n",
       "      <th>first_magpsf_g</th>\n",
       "      <th>first_magpsf_r</th>\n",
       "      <th>firstmjd</th>\n",
       "      <th>...</th>\n",
       "      <th>nobs</th>\n",
       "      <th>pclassearly</th>\n",
       "      <th>pclassrf</th>\n",
       "      <th>period</th>\n",
       "      <th>sigma_magap_g</th>\n",
       "      <th>sigma_magap_r</th>\n",
       "      <th>sigma_magpsf_g</th>\n",
       "      <th>sigma_magpsf_r</th>\n",
       "      <th>sigmadec</th>\n",
       "      <th>sigmara</th>\n",
       "    </tr>\n",
       "    <tr>\n",
       "      <th>oid</th>\n",
       "      <th></th>\n",
       "      <th></th>\n",
       "      <th></th>\n",
       "      <th></th>\n",
       "      <th></th>\n",
       "      <th></th>\n",
       "      <th></th>\n",
       "      <th></th>\n",
       "      <th></th>\n",
       "      <th></th>\n",
       "      <th></th>\n",
       "      <th></th>\n",
       "      <th></th>\n",
       "      <th></th>\n",
       "      <th></th>\n",
       "      <th></th>\n",
       "      <th></th>\n",
       "      <th></th>\n",
       "      <th></th>\n",
       "      <th></th>\n",
       "      <th></th>\n",
       "    </tr>\n",
       "  </thead>\n",
       "  <tbody>\n",
       "    <tr>\n",
       "      <th>ZTF20aboprop</th>\n",
       "      <td>None</td>\n",
       "      <td>18</td>\n",
       "      <td>10</td>\n",
       "      <td>None</td>\n",
       "      <td>7.009606</td>\n",
       "      <td>21.218000</td>\n",
       "      <td>20.677099</td>\n",
       "      <td>21.220800</td>\n",
       "      <td>20.822399</td>\n",
       "      <td>59053.373461</td>\n",
       "      <td>...</td>\n",
       "      <td>10</td>\n",
       "      <td>0.343094</td>\n",
       "      <td>0.316920</td>\n",
       "      <td>None</td>\n",
       "      <td>0.401156</td>\n",
       "      <td>0.270273</td>\n",
       "      <td>0.377059</td>\n",
       "      <td>0.346789</td>\n",
       "      <td>0.000045</td>\n",
       "      <td>0.000046</td>\n",
       "    </tr>\n",
       "    <tr>\n",
       "      <th>ZTF20abobcon</th>\n",
       "      <td>None</td>\n",
       "      <td>19</td>\n",
       "      <td>10</td>\n",
       "      <td>None</td>\n",
       "      <td>12.956412</td>\n",
       "      <td>20.798100</td>\n",
       "      <td>19.858801</td>\n",
       "      <td>20.836905</td>\n",
       "      <td>19.947433</td>\n",
       "      <td>59053.350579</td>\n",
       "      <td>...</td>\n",
       "      <td>13</td>\n",
       "      <td>0.689525</td>\n",
       "      <td>0.364032</td>\n",
       "      <td>None</td>\n",
       "      <td>0.710617</td>\n",
       "      <td>0.187579</td>\n",
       "      <td>0.518684</td>\n",
       "      <td>0.218847</td>\n",
       "      <td>0.000036</td>\n",
       "      <td>0.000064</td>\n",
       "    </tr>\n",
       "    <tr>\n",
       "      <th>ZTF20abobpcb</th>\n",
       "      <td>None</td>\n",
       "      <td>19</td>\n",
       "      <td>10</td>\n",
       "      <td>None</td>\n",
       "      <td>13.012431</td>\n",
       "      <td>20.027901</td>\n",
       "      <td>19.989000</td>\n",
       "      <td>20.150982</td>\n",
       "      <td>20.507500</td>\n",
       "      <td>59053.332049</td>\n",
       "      <td>...</td>\n",
       "      <td>15</td>\n",
       "      <td>0.354716</td>\n",
       "      <td>0.307776</td>\n",
       "      <td>None</td>\n",
       "      <td>0.386303</td>\n",
       "      <td>0.351759</td>\n",
       "      <td>0.438840</td>\n",
       "      <td>0.475548</td>\n",
       "      <td>0.000028</td>\n",
       "      <td>0.000058</td>\n",
       "    </tr>\n",
       "    <tr>\n",
       "      <th>ZTF20abonvte</th>\n",
       "      <td>None</td>\n",
       "      <td>19</td>\n",
       "      <td>10</td>\n",
       "      <td>None</td>\n",
       "      <td>12.997998</td>\n",
       "      <td>20.091200</td>\n",
       "      <td>20.675699</td>\n",
       "      <td>19.845469</td>\n",
       "      <td>20.759300</td>\n",
       "      <td>59053.306667</td>\n",
       "      <td>...</td>\n",
       "      <td>14</td>\n",
       "      <td>0.616483</td>\n",
       "      <td>0.361296</td>\n",
       "      <td>None</td>\n",
       "      <td>0.599097</td>\n",
       "      <td>0.597059</td>\n",
       "      <td>0.455294</td>\n",
       "      <td>0.604295</td>\n",
       "      <td>0.000029</td>\n",
       "      <td>0.000049</td>\n",
       "    </tr>\n",
       "    <tr>\n",
       "      <th>ZTF20abnvbzq</th>\n",
       "      <td>None</td>\n",
       "      <td>19</td>\n",
       "      <td>10</td>\n",
       "      <td>None</td>\n",
       "      <td>14.051667</td>\n",
       "      <td>20.423599</td>\n",
       "      <td>20.635300</td>\n",
       "      <td>20.160856</td>\n",
       "      <td>20.410513</td>\n",
       "      <td>59052.434850</td>\n",
       "      <td>...</td>\n",
       "      <td>10</td>\n",
       "      <td>0.459879</td>\n",
       "      <td>0.376992</td>\n",
       "      <td>None</td>\n",
       "      <td>0.713268</td>\n",
       "      <td>0.613953</td>\n",
       "      <td>0.505661</td>\n",
       "      <td>0.501343</td>\n",
       "      <td>0.000021</td>\n",
       "      <td>0.000041</td>\n",
       "    </tr>\n",
       "  </tbody>\n",
       "</table>\n",
       "<p>5 rows × 43 columns</p>\n",
       "</div>"
      ],
      "text/plain": [
       "             catalogid  classearly  classrf classxmatch    deltajd  \\\n",
       "oid                                                                  \n",
       "ZTF20aboprop      None          18       10        None   7.009606   \n",
       "ZTF20abobcon      None          19       10        None  12.956412   \n",
       "ZTF20abobpcb      None          19       10        None  13.012431   \n",
       "ZTF20abonvte      None          19       10        None  12.997998   \n",
       "ZTF20abnvbzq      None          19       10        None  14.051667   \n",
       "\n",
       "              first_magap_g  first_magap_r  first_magpsf_g  first_magpsf_r  \\\n",
       "oid                                                                          \n",
       "ZTF20aboprop      21.218000      20.677099       21.220800       20.822399   \n",
       "ZTF20abobcon      20.798100      19.858801       20.836905       19.947433   \n",
       "ZTF20abobpcb      20.027901      19.989000       20.150982       20.507500   \n",
       "ZTF20abonvte      20.091200      20.675699       19.845469       20.759300   \n",
       "ZTF20abnvbzq      20.423599      20.635300       20.160856       20.410513   \n",
       "\n",
       "                  firstmjd  ...  nobs  pclassearly  pclassrf  period  \\\n",
       "oid                         ...                                        \n",
       "ZTF20aboprop  59053.373461  ...    10     0.343094  0.316920    None   \n",
       "ZTF20abobcon  59053.350579  ...    13     0.689525  0.364032    None   \n",
       "ZTF20abobpcb  59053.332049  ...    15     0.354716  0.307776    None   \n",
       "ZTF20abonvte  59053.306667  ...    14     0.616483  0.361296    None   \n",
       "ZTF20abnvbzq  59052.434850  ...    10     0.459879  0.376992    None   \n",
       "\n",
       "              sigma_magap_g  sigma_magap_r  sigma_magpsf_g  sigma_magpsf_r  \\\n",
       "oid                                                                          \n",
       "ZTF20aboprop       0.401156       0.270273        0.377059        0.346789   \n",
       "ZTF20abobcon       0.710617       0.187579        0.518684        0.218847   \n",
       "ZTF20abobpcb       0.386303       0.351759        0.438840        0.475548   \n",
       "ZTF20abonvte       0.599097       0.597059        0.455294        0.604295   \n",
       "ZTF20abnvbzq       0.713268       0.613953        0.505661        0.501343   \n",
       "\n",
       "              sigmadec   sigmara  \n",
       "oid                               \n",
       "ZTF20aboprop  0.000045  0.000046  \n",
       "ZTF20abobcon  0.000036  0.000064  \n",
       "ZTF20abobpcb  0.000028  0.000058  \n",
       "ZTF20abonvte  0.000029  0.000049  \n",
       "ZTF20abnvbzq  0.000021  0.000041  \n",
       "\n",
       "[5 rows x 43 columns]"
      ]
     },
     "execution_count": 6,
     "metadata": {},
     "output_type": "execute_result"
    }
   ],
   "source": [
    "query_results = client.query(params, format='pandas')\n",
    "query_results.head()"
   ]
  },
  {
   "cell_type": "markdown",
   "metadata": {},
   "source": [
    "### Example: \n",
    "\n",
    "Give me the last 100 objects with classified as SNe according to the early classifier (one image stamp)\n",
    "\n",
    "Note: this is experimental, about 90% of the candidates are false positives"
   ]
  },
  {
   "cell_type": "code",
   "execution_count": 7,
   "metadata": {
    "ExecuteTime": {
     "end_time": "2020-08-06T02:09:26.872799Z",
     "start_time": "2020-08-06T02:09:26.855864Z"
    }
   },
   "outputs": [],
   "source": [
    "mjd_48hr = Time(datetime.utcnow(), scale='utc').mjd - 2.\n",
    "\n",
    "total = 100\n",
    "records_per_page = 100\n",
    "sortBy = \"pclassearly\"\n",
    "classearly = 'sn'\n",
    "\n",
    "params = {\n",
    "    \"total\": total,\n",
    "    \"records_per_pages\": records_per_page,\n",
    "    \"sortBy\": sortBy,\n",
    "    \"query_parameters\": {\n",
    "        \"filters\": {\n",
    "            \"classearly\": classearly\n",
    "        },\n",
    "        \"dates\": {\n",
    "            \"firstmjd\": {\n",
    "                \"min\": mjd_48hr\n",
    "            }\n",
    "        }\n",
    "    }\n",
    "}"
   ]
  },
  {
   "cell_type": "code",
   "execution_count": 8,
   "metadata": {
    "ExecuteTime": {
     "end_time": "2020-08-06T02:09:54.297041Z",
     "start_time": "2020-08-06T02:09:26.874655Z"
    }
   },
   "outputs": [
    {
     "data": {
      "text/html": [
       "<div>\n",
       "<style scoped>\n",
       "    .dataframe tbody tr th:only-of-type {\n",
       "        vertical-align: middle;\n",
       "    }\n",
       "\n",
       "    .dataframe tbody tr th {\n",
       "        vertical-align: top;\n",
       "    }\n",
       "\n",
       "    .dataframe thead th {\n",
       "        text-align: right;\n",
       "    }\n",
       "</style>\n",
       "<table border=\"1\" class=\"dataframe\">\n",
       "  <thead>\n",
       "    <tr style=\"text-align: right;\">\n",
       "      <th></th>\n",
       "      <th>catalogid</th>\n",
       "      <th>classearly</th>\n",
       "      <th>classrf</th>\n",
       "      <th>classxmatch</th>\n",
       "      <th>deltajd</th>\n",
       "      <th>first_magap_g</th>\n",
       "      <th>first_magap_r</th>\n",
       "      <th>first_magpsf_g</th>\n",
       "      <th>first_magpsf_r</th>\n",
       "      <th>firstmjd</th>\n",
       "      <th>...</th>\n",
       "      <th>nobs</th>\n",
       "      <th>pclassearly</th>\n",
       "      <th>pclassrf</th>\n",
       "      <th>period</th>\n",
       "      <th>sigma_magap_g</th>\n",
       "      <th>sigma_magap_r</th>\n",
       "      <th>sigma_magpsf_g</th>\n",
       "      <th>sigma_magpsf_r</th>\n",
       "      <th>sigmadec</th>\n",
       "      <th>sigmara</th>\n",
       "    </tr>\n",
       "    <tr>\n",
       "      <th>oid</th>\n",
       "      <th></th>\n",
       "      <th></th>\n",
       "      <th></th>\n",
       "      <th></th>\n",
       "      <th></th>\n",
       "      <th></th>\n",
       "      <th></th>\n",
       "      <th></th>\n",
       "      <th></th>\n",
       "      <th></th>\n",
       "      <th></th>\n",
       "      <th></th>\n",
       "      <th></th>\n",
       "      <th></th>\n",
       "      <th></th>\n",
       "      <th></th>\n",
       "      <th></th>\n",
       "      <th></th>\n",
       "      <th></th>\n",
       "      <th></th>\n",
       "      <th></th>\n",
       "    </tr>\n",
       "  </thead>\n",
       "  <tbody>\n",
       "    <tr>\n",
       "      <th>ZTF19abyvcsp</th>\n",
       "      <td>None</td>\n",
       "      <td>20</td>\n",
       "      <td>None</td>\n",
       "      <td>None</td>\n",
       "      <td>0.0</td>\n",
       "      <td>None</td>\n",
       "      <td>14.1918</td>\n",
       "      <td>None</td>\n",
       "      <td>14.2153</td>\n",
       "      <td>59065.317917</td>\n",
       "      <td>...</td>\n",
       "      <td>1</td>\n",
       "      <td>0.743372</td>\n",
       "      <td>None</td>\n",
       "      <td>None</td>\n",
       "      <td>None</td>\n",
       "      <td>None</td>\n",
       "      <td>None</td>\n",
       "      <td>None</td>\n",
       "      <td>None</td>\n",
       "      <td>None</td>\n",
       "    </tr>\n",
       "    <tr>\n",
       "      <th>ZTF20aahhmgq</th>\n",
       "      <td>None</td>\n",
       "      <td>20</td>\n",
       "      <td>None</td>\n",
       "      <td>None</td>\n",
       "      <td>0.0</td>\n",
       "      <td>None</td>\n",
       "      <td>14.2984</td>\n",
       "      <td>None</td>\n",
       "      <td>14.3113</td>\n",
       "      <td>59065.318380</td>\n",
       "      <td>...</td>\n",
       "      <td>1</td>\n",
       "      <td>0.716618</td>\n",
       "      <td>None</td>\n",
       "      <td>None</td>\n",
       "      <td>None</td>\n",
       "      <td>None</td>\n",
       "      <td>None</td>\n",
       "      <td>None</td>\n",
       "      <td>None</td>\n",
       "      <td>None</td>\n",
       "    </tr>\n",
       "    <tr>\n",
       "      <th>ZTF19aaetbgh</th>\n",
       "      <td>None</td>\n",
       "      <td>20</td>\n",
       "      <td>None</td>\n",
       "      <td>None</td>\n",
       "      <td>0.0</td>\n",
       "      <td>None</td>\n",
       "      <td>14.0538</td>\n",
       "      <td>None</td>\n",
       "      <td>14.0657</td>\n",
       "      <td>59065.318380</td>\n",
       "      <td>...</td>\n",
       "      <td>1</td>\n",
       "      <td>0.713971</td>\n",
       "      <td>None</td>\n",
       "      <td>None</td>\n",
       "      <td>None</td>\n",
       "      <td>None</td>\n",
       "      <td>None</td>\n",
       "      <td>None</td>\n",
       "      <td>None</td>\n",
       "      <td>None</td>\n",
       "    </tr>\n",
       "    <tr>\n",
       "      <th>ZTF20abhzmkz</th>\n",
       "      <td>None</td>\n",
       "      <td>20</td>\n",
       "      <td>None</td>\n",
       "      <td>None</td>\n",
       "      <td>0.0</td>\n",
       "      <td>None</td>\n",
       "      <td>14.3202</td>\n",
       "      <td>None</td>\n",
       "      <td>14.3592</td>\n",
       "      <td>59065.380856</td>\n",
       "      <td>...</td>\n",
       "      <td>1</td>\n",
       "      <td>0.687644</td>\n",
       "      <td>None</td>\n",
       "      <td>None</td>\n",
       "      <td>None</td>\n",
       "      <td>None</td>\n",
       "      <td>None</td>\n",
       "      <td>None</td>\n",
       "      <td>None</td>\n",
       "      <td>None</td>\n",
       "    </tr>\n",
       "    <tr>\n",
       "      <th>ZTF19aadzggx</th>\n",
       "      <td>None</td>\n",
       "      <td>20</td>\n",
       "      <td>None</td>\n",
       "      <td>None</td>\n",
       "      <td>0.0</td>\n",
       "      <td>None</td>\n",
       "      <td>15.065</td>\n",
       "      <td>None</td>\n",
       "      <td>15.0616</td>\n",
       "      <td>59065.318380</td>\n",
       "      <td>...</td>\n",
       "      <td>1</td>\n",
       "      <td>0.686464</td>\n",
       "      <td>None</td>\n",
       "      <td>None</td>\n",
       "      <td>None</td>\n",
       "      <td>None</td>\n",
       "      <td>None</td>\n",
       "      <td>None</td>\n",
       "      <td>None</td>\n",
       "      <td>None</td>\n",
       "    </tr>\n",
       "  </tbody>\n",
       "</table>\n",
       "<p>5 rows × 43 columns</p>\n",
       "</div>"
      ],
      "text/plain": [
       "             catalogid  classearly classrf classxmatch  deltajd first_magap_g  \\\n",
       "oid                                                                             \n",
       "ZTF19abyvcsp      None          20    None        None      0.0          None   \n",
       "ZTF20aahhmgq      None          20    None        None      0.0          None   \n",
       "ZTF19aaetbgh      None          20    None        None      0.0          None   \n",
       "ZTF20abhzmkz      None          20    None        None      0.0          None   \n",
       "ZTF19aadzggx      None          20    None        None      0.0          None   \n",
       "\n",
       "             first_magap_r first_magpsf_g first_magpsf_r      firstmjd  ...  \\\n",
       "oid                                                                     ...   \n",
       "ZTF19abyvcsp       14.1918           None        14.2153  59065.317917  ...   \n",
       "ZTF20aahhmgq       14.2984           None        14.3113  59065.318380  ...   \n",
       "ZTF19aaetbgh       14.0538           None        14.0657  59065.318380  ...   \n",
       "ZTF20abhzmkz       14.3202           None        14.3592  59065.380856  ...   \n",
       "ZTF19aadzggx        15.065           None        15.0616  59065.318380  ...   \n",
       "\n",
       "             nobs pclassearly pclassrf period  sigma_magap_g sigma_magap_r  \\\n",
       "oid                                                                          \n",
       "ZTF19abyvcsp    1    0.743372     None   None           None          None   \n",
       "ZTF20aahhmgq    1    0.716618     None   None           None          None   \n",
       "ZTF19aaetbgh    1    0.713971     None   None           None          None   \n",
       "ZTF20abhzmkz    1    0.687644     None   None           None          None   \n",
       "ZTF19aadzggx    1    0.686464     None   None           None          None   \n",
       "\n",
       "             sigma_magpsf_g sigma_magpsf_r sigmadec sigmara  \n",
       "oid                                                          \n",
       "ZTF19abyvcsp           None           None     None    None  \n",
       "ZTF20aahhmgq           None           None     None    None  \n",
       "ZTF19aaetbgh           None           None     None    None  \n",
       "ZTF20abhzmkz           None           None     None    None  \n",
       "ZTF19aadzggx           None           None     None    None  \n",
       "\n",
       "[5 rows x 43 columns]"
      ]
     },
     "execution_count": 8,
     "metadata": {},
     "output_type": "execute_result"
    }
   ],
   "source": [
    "query_results = client.query(params, format='pandas')\n",
    "query_results.head()"
   ]
  },
  {
   "cell_type": "code",
   "execution_count": 9,
   "metadata": {
    "ExecuteTime": {
     "end_time": "2020-08-06T02:09:54.656537Z",
     "start_time": "2020-08-06T02:09:54.298743Z"
    }
   },
   "outputs": [
    {
     "data": {
      "text/plain": [
       "(19.039136206193472, 12.181513950719642)"
      ]
     },
     "execution_count": 9,
     "metadata": {},
     "output_type": "execute_result"
    },
    {
     "data": {
      "image/png": "[encoded data removed]",
      "text/plain": [
       "<Figure size 864x576 with 1 Axes>"
      ]
     },
     "metadata": {},
     "output_type": "display_data"
    }
   ],
   "source": [
    "# Show first mag vs first MJD\n",
    "fig, ax = plt.subplots(figsize = (12, 8))\n",
    "mask = query_results.first_magpsf_r.notnull()\n",
    "ax.scatter(query_results.firstmjd[mask], query_results.first_magpsf_r[mask], c = 'r')\n",
    "mask = query_results.first_magpsf_g.notnull()\n",
    "ax.scatter(query_results.firstmjd[mask], query_results.first_magpsf_g[mask], c = 'g')\n",
    "ax.set_xlabel(\"First MJD\")\n",
    "ax.set_ylabel(\"First mag g|r\")\n",
    "ax.set_ylim(ax.get_ylim()[::-1])"
   ]
  },
  {
   "cell_type": "markdown",
   "metadata": {},
   "source": [
    "You can see the ZTF filter changes during the night. The missing times are due to the ZTF private stream."
   ]
  },
  {
   "cell_type": "markdown",
   "metadata": {},
   "source": [
    "# 2. get_sql\n",
    "\n",
    "Get the sql query using the same parameters as the previous query"
   ]
  },
  {
   "cell_type": "code",
   "execution_count": 10,
   "metadata": {
    "ExecuteTime": {
     "end_time": "2020-08-06T02:09:55.337476Z",
     "start_time": "2020-08-06T02:09:54.658075Z"
    }
   },
   "outputs": [
    {
     "data": {
      "text/plain": [
       "'SELECT * FROM objects WHERE classearly=20 AND  firstmjd >= 59065.08989432678 AND firstmjd IS NOT NULL'"
      ]
     },
     "execution_count": 10,
     "metadata": {},
     "output_type": "execute_result"
    }
   ],
   "source": [
    "client.get_sql(params)"
   ]
  },
  {
   "cell_type": "markdown",
   "metadata": {},
   "source": [
    "# 3. get_detections\n",
    "\n",
    "Get all the detections for an object"
   ]
  },
  {
   "cell_type": "code",
   "execution_count": 11,
   "metadata": {
    "ExecuteTime": {
     "end_time": "2020-08-06T02:09:55.371909Z",
     "start_time": "2020-08-06T02:09:55.341733Z"
    }
   },
   "outputs": [],
   "source": [
    "oid = \"ZTF19abueupg\""
   ]
  },
  {
   "cell_type": "code",
   "execution_count": 12,
   "metadata": {
    "ExecuteTime": {
     "end_time": "2020-08-06T02:09:56.007389Z",
     "start_time": "2020-08-06T02:09:55.374513Z"
    }
   },
   "outputs": [
    {
     "data": {
      "text/html": [
       "<div>\n",
       "<style scoped>\n",
       "    .dataframe tbody tr th:only-of-type {\n",
       "        vertical-align: middle;\n",
       "    }\n",
       "\n",
       "    .dataframe tbody tr th {\n",
       "        vertical-align: top;\n",
       "    }\n",
       "\n",
       "    .dataframe thead th {\n",
       "        text-align: right;\n",
       "    }\n",
       "</style>\n",
       "<table border=\"1\" class=\"dataframe\">\n",
       "  <thead>\n",
       "    <tr style=\"text-align: right;\">\n",
       "      <th></th>\n",
       "      <th>candid_str</th>\n",
       "      <th>dec</th>\n",
       "      <th>diffmaglim</th>\n",
       "      <th>distpsnr1</th>\n",
       "      <th>fid</th>\n",
       "      <th>field</th>\n",
       "      <th>has_stamps</th>\n",
       "      <th>isdiffpos</th>\n",
       "      <th>magap</th>\n",
       "      <th>magap_corr</th>\n",
       "      <th>...</th>\n",
       "      <th>rb</th>\n",
       "      <th>rcid</th>\n",
       "      <th>sgscore1</th>\n",
       "      <th>sigmadec</th>\n",
       "      <th>sigmagap</th>\n",
       "      <th>sigmagap_corr</th>\n",
       "      <th>sigmagnr</th>\n",
       "      <th>sigmapsf</th>\n",
       "      <th>sigmapsf_corr</th>\n",
       "      <th>sigmara</th>\n",
       "    </tr>\n",
       "    <tr>\n",
       "      <th>candid</th>\n",
       "      <th></th>\n",
       "      <th></th>\n",
       "      <th></th>\n",
       "      <th></th>\n",
       "      <th></th>\n",
       "      <th></th>\n",
       "      <th></th>\n",
       "      <th></th>\n",
       "      <th></th>\n",
       "      <th></th>\n",
       "      <th></th>\n",
       "      <th></th>\n",
       "      <th></th>\n",
       "      <th></th>\n",
       "      <th></th>\n",
       "      <th></th>\n",
       "      <th></th>\n",
       "      <th></th>\n",
       "      <th></th>\n",
       "      <th></th>\n",
       "      <th></th>\n",
       "    </tr>\n",
       "  </thead>\n",
       "  <tbody>\n",
       "    <tr>\n",
       "      <th>970313001115015006</th>\n",
       "      <td>970313001115015006</td>\n",
       "      <td>51.382551</td>\n",
       "      <td>20.446541</td>\n",
       "      <td>5.113520</td>\n",
       "      <td>1</td>\n",
       "      <td>797</td>\n",
       "      <td>None</td>\n",
       "      <td>1</td>\n",
       "      <td>19.706900</td>\n",
       "      <td>19.706900</td>\n",
       "      <td>...</td>\n",
       "      <td>0.920000</td>\n",
       "      <td>11</td>\n",
       "      <td>0.5</td>\n",
       "      <td>0.09</td>\n",
       "      <td>0.1900</td>\n",
       "      <td>0.1900</td>\n",
       "      <td>0.085</td>\n",
       "      <td>0.139590</td>\n",
       "      <td>0.139590</td>\n",
       "      <td>0.09</td>\n",
       "    </tr>\n",
       "    <tr>\n",
       "      <th>971263501115015039</th>\n",
       "      <td>971263501115015039</td>\n",
       "      <td>51.382555</td>\n",
       "      <td>20.572720</td>\n",
       "      <td>5.004293</td>\n",
       "      <td>2</td>\n",
       "      <td>797</td>\n",
       "      <td>None</td>\n",
       "      <td>1</td>\n",
       "      <td>19.548800</td>\n",
       "      <td>19.548800</td>\n",
       "      <td>...</td>\n",
       "      <td>0.592857</td>\n",
       "      <td>11</td>\n",
       "      <td>0.5</td>\n",
       "      <td>0.09</td>\n",
       "      <td>0.1692</td>\n",
       "      <td>0.1692</td>\n",
       "      <td>0.130</td>\n",
       "      <td>0.155431</td>\n",
       "      <td>0.155431</td>\n",
       "      <td>0.09</td>\n",
       "    </tr>\n",
       "    <tr>\n",
       "      <th>971289301115015006</th>\n",
       "      <td>971289301115015006</td>\n",
       "      <td>51.382573</td>\n",
       "      <td>20.407963</td>\n",
       "      <td>5.065497</td>\n",
       "      <td>1</td>\n",
       "      <td>797</td>\n",
       "      <td>None</td>\n",
       "      <td>1</td>\n",
       "      <td>19.450300</td>\n",
       "      <td>19.450300</td>\n",
       "      <td>...</td>\n",
       "      <td>0.877143</td>\n",
       "      <td>11</td>\n",
       "      <td>0.5</td>\n",
       "      <td>0.09</td>\n",
       "      <td>0.1279</td>\n",
       "      <td>0.1279</td>\n",
       "      <td>0.085</td>\n",
       "      <td>0.099974</td>\n",
       "      <td>0.099974</td>\n",
       "      <td>0.09</td>\n",
       "    </tr>\n",
       "    <tr>\n",
       "      <th>972264951115015027</th>\n",
       "      <td>972264951115015027</td>\n",
       "      <td>51.382526</td>\n",
       "      <td>20.445602</td>\n",
       "      <td>5.038084</td>\n",
       "      <td>2</td>\n",
       "      <td>797</td>\n",
       "      <td>None</td>\n",
       "      <td>1</td>\n",
       "      <td>18.945101</td>\n",
       "      <td>18.945101</td>\n",
       "      <td>...</td>\n",
       "      <td>0.934286</td>\n",
       "      <td>11</td>\n",
       "      <td>0.5</td>\n",
       "      <td>0.09</td>\n",
       "      <td>0.1063</td>\n",
       "      <td>0.1063</td>\n",
       "      <td>0.130</td>\n",
       "      <td>0.093884</td>\n",
       "      <td>0.093884</td>\n",
       "      <td>0.09</td>\n",
       "    </tr>\n",
       "    <tr>\n",
       "      <th>972290601115015008</th>\n",
       "      <td>972290601115015008</td>\n",
       "      <td>51.382546</td>\n",
       "      <td>20.350231</td>\n",
       "      <td>5.046748</td>\n",
       "      <td>1</td>\n",
       "      <td>797</td>\n",
       "      <td>None</td>\n",
       "      <td>1</td>\n",
       "      <td>19.068300</td>\n",
       "      <td>19.068300</td>\n",
       "      <td>...</td>\n",
       "      <td>0.951429</td>\n",
       "      <td>11</td>\n",
       "      <td>0.5</td>\n",
       "      <td>0.09</td>\n",
       "      <td>0.1081</td>\n",
       "      <td>0.1081</td>\n",
       "      <td>0.085</td>\n",
       "      <td>0.096079</td>\n",
       "      <td>0.096079</td>\n",
       "      <td>0.09</td>\n",
       "    </tr>\n",
       "  </tbody>\n",
       "</table>\n",
       "<p>5 rows × 27 columns</p>\n",
       "</div>"
      ],
      "text/plain": [
       "                            candid_str        dec  diffmaglim  distpsnr1  fid  \\\n",
       "candid                                                                          \n",
       "970313001115015006  970313001115015006  51.382551   20.446541   5.113520    1   \n",
       "971263501115015039  971263501115015039  51.382555   20.572720   5.004293    2   \n",
       "971289301115015006  971289301115015006  51.382573   20.407963   5.065497    1   \n",
       "972264951115015027  972264951115015027  51.382526   20.445602   5.038084    2   \n",
       "972290601115015008  972290601115015008  51.382546   20.350231   5.046748    1   \n",
       "\n",
       "                    field has_stamps  isdiffpos      magap  magap_corr  ...  \\\n",
       "candid                                                                  ...   \n",
       "970313001115015006    797       None          1  19.706900   19.706900  ...   \n",
       "971263501115015039    797       None          1  19.548800   19.548800  ...   \n",
       "971289301115015006    797       None          1  19.450300   19.450300  ...   \n",
       "972264951115015027    797       None          1  18.945101   18.945101  ...   \n",
       "972290601115015008    797       None          1  19.068300   19.068300  ...   \n",
       "\n",
       "                          rb  rcid  sgscore1  sigmadec sigmagap sigmagap_corr  \\\n",
       "candid                                                                          \n",
       "970313001115015006  0.920000    11       0.5      0.09   0.1900        0.1900   \n",
       "971263501115015039  0.592857    11       0.5      0.09   0.1692        0.1692   \n",
       "971289301115015006  0.877143    11       0.5      0.09   0.1279        0.1279   \n",
       "972264951115015027  0.934286    11       0.5      0.09   0.1063        0.1063   \n",
       "972290601115015008  0.951429    11       0.5      0.09   0.1081        0.1081   \n",
       "\n",
       "                    sigmagnr  sigmapsf  sigmapsf_corr  sigmara  \n",
       "candid                                                          \n",
       "970313001115015006     0.085  0.139590       0.139590     0.09  \n",
       "971263501115015039     0.130  0.155431       0.155431     0.09  \n",
       "971289301115015006     0.085  0.099974       0.099974     0.09  \n",
       "972264951115015027     0.130  0.093884       0.093884     0.09  \n",
       "972290601115015008     0.085  0.096079       0.096079     0.09  \n",
       "\n",
       "[5 rows x 27 columns]"
      ]
     },
     "metadata": {},
     "output_type": "display_data"
    },
    {
     "data": {
      "text/plain": [
       "'candid_str, dec, diffmaglim, distpsnr1, fid, field, has_stamps, isdiffpos, magap, magap_corr, magnr, magpsf, magpsf_corr, mjd, oid, parent_candid, ra, rb, rcid, sgscore1, sigmadec, sigmagap, sigmagap_corr, sigmagnr, sigmapsf, sigmapsf_corr, sigmara'"
      ]
     },
     "execution_count": 12,
     "metadata": {},
     "output_type": "execute_result"
    }
   ],
   "source": [
    "detections = client.get_detections(oid, format='pandas')\n",
    "display(detections.head())\n",
    "\", \".join(list(detections))"
   ]
  },
  {
   "cell_type": "markdown",
   "metadata": {},
   "source": [
    "# 4. get_non_detections"
   ]
  },
  {
   "cell_type": "code",
   "execution_count": 13,
   "metadata": {
    "ExecuteTime": {
     "end_time": "2020-08-06T02:09:56.588803Z",
     "start_time": "2020-08-06T02:09:56.009281Z"
    }
   },
   "outputs": [
    {
     "data": {
      "text/html": [
       "<div>\n",
       "<style scoped>\n",
       "    .dataframe tbody tr th:only-of-type {\n",
       "        vertical-align: middle;\n",
       "    }\n",
       "\n",
       "    .dataframe tbody tr th {\n",
       "        vertical-align: top;\n",
       "    }\n",
       "\n",
       "    .dataframe thead th {\n",
       "        text-align: right;\n",
       "    }\n",
       "</style>\n",
       "<table border=\"1\" class=\"dataframe\">\n",
       "  <thead>\n",
       "    <tr style=\"text-align: right;\">\n",
       "      <th></th>\n",
       "      <th>diffmaglim</th>\n",
       "      <th>fid</th>\n",
       "      <th>oid</th>\n",
       "    </tr>\n",
       "    <tr>\n",
       "      <th>mjd</th>\n",
       "      <th></th>\n",
       "      <th></th>\n",
       "      <th></th>\n",
       "    </tr>\n",
       "  </thead>\n",
       "  <tbody>\n",
       "    <tr>\n",
       "      <th>58695.278808</th>\n",
       "      <td>18.942801</td>\n",
       "      <td>2</td>\n",
       "      <td>ZTF19abueupg</td>\n",
       "    </tr>\n",
       "    <tr>\n",
       "      <th>58695.308171</th>\n",
       "      <td>20.085800</td>\n",
       "      <td>1</td>\n",
       "      <td>ZTF19abueupg</td>\n",
       "    </tr>\n",
       "    <tr>\n",
       "      <th>58696.280255</th>\n",
       "      <td>20.712299</td>\n",
       "      <td>2</td>\n",
       "      <td>ZTF19abueupg</td>\n",
       "    </tr>\n",
       "    <tr>\n",
       "      <th>58696.309468</th>\n",
       "      <td>20.865499</td>\n",
       "      <td>1</td>\n",
       "      <td>ZTF19abueupg</td>\n",
       "    </tr>\n",
       "    <tr>\n",
       "      <th>58697.302245</th>\n",
       "      <td>20.648100</td>\n",
       "      <td>2</td>\n",
       "      <td>ZTF19abueupg</td>\n",
       "    </tr>\n",
       "  </tbody>\n",
       "</table>\n",
       "</div>"
      ],
      "text/plain": [
       "              diffmaglim  fid           oid\n",
       "mjd                                        \n",
       "58695.278808   18.942801    2  ZTF19abueupg\n",
       "58695.308171   20.085800    1  ZTF19abueupg\n",
       "58696.280255   20.712299    2  ZTF19abueupg\n",
       "58696.309468   20.865499    1  ZTF19abueupg\n",
       "58697.302245   20.648100    2  ZTF19abueupg"
      ]
     },
     "execution_count": 13,
     "metadata": {},
     "output_type": "execute_result"
    }
   ],
   "source": [
    "non_detections = client.get_non_detections(oid, format='pandas')\n",
    "non_detections.head()"
   ]
  },
  {
   "cell_type": "code",
   "execution_count": 14,
   "metadata": {
    "ExecuteTime": {
     "end_time": "2020-08-06T02:09:56.914201Z",
     "start_time": "2020-08-06T02:09:56.590865Z"
    }
   },
   "outputs": [
    {
     "data": {
      "text/plain": [
       "(21.146429470638658, 15.147695824403677)"
      ]
     },
     "execution_count": 14,
     "metadata": {},
     "output_type": "execute_result"
    },
    {
     "data": {
      "image/png": "[encoded data removed]",
      "text/plain": [
       "<Figure size 864x576 with 1 Axes>"
      ]
     },
     "metadata": {},
     "output_type": "display_data"
    }
   ],
   "source": [
    "fig, ax = plt.subplots(figsize = (12, 8))\n",
    "colors = [\"g\", \"r\"]\n",
    "for fid in [1, 2]:\n",
    "    mask = detections.fid == fid\n",
    "    ax.plot(detections.mjd[mask], detections.magpsf[mask], c = colors[fid - 1], marker = \"o\")\n",
    "    mask = non_detections.fid == fid\n",
    "    # note that the index of non-detectionsis the mjd\n",
    "    ax.scatter(non_detections.index[mask], non_detections.diffmaglim[mask], c = colors[fid - 1], marker = \"v\", alpha=0.3)\n",
    "ax.set_xlabel(\"MJD\")\n",
    "ax.set_ylabel(\"mag psf\")\n",
    "ax.set_ylim(ax.get_ylim()[::-1])"
   ]
  },
  {
   "cell_type": "markdown",
   "metadata": {},
   "source": [
    "# 5. get_stats"
   ]
  },
  {
   "cell_type": "code",
   "execution_count": 15,
   "metadata": {
    "ExecuteTime": {
     "end_time": "2020-08-06T02:09:57.607212Z",
     "start_time": "2020-08-06T02:09:56.915682Z"
    }
   },
   "outputs": [
    {
     "data": {
      "text/plain": [
       "oid                ZTF19abueupg\n",
       "nobs                        108\n",
       "mean_magap_g             19.208\n",
       "mean_magap_r            18.9237\n",
       "median_magap_g          19.1557\n",
       "median_magap_r          18.8744\n",
       "max_magap_g             20.2068\n",
       "max_magap_r             19.5804\n",
       "min_magap_g             18.5337\n",
       "min_magap_r             18.6207\n",
       "sigma_magap_g          0.401947\n",
       "sigma_magap_r          0.222362\n",
       "last_magap_g            19.7405\n",
       "last_magap_r            18.9057\n",
       "first_magap_g           19.7069\n",
       "first_magap_r           19.5488\n",
       "mean_magpsf_g           19.2064\n",
       "mean_magpsf_r           18.9317\n",
       "median_magpsf_g         19.1487\n",
       "median_magpsf_r         18.9337\n",
       "max_magpsf_g            19.8168\n",
       "max_magpsf_r            19.4284\n",
       "min_magpsf_g            18.7283\n",
       "min_magpsf_r            18.7589\n",
       "sigma_magpsf_g         0.344163\n",
       "sigma_magpsf_r         0.118769\n",
       "last_magpsf_g           19.8168\n",
       "last_magpsf_r           18.8953\n",
       "first_magpsf_g          19.5887\n",
       "first_magpsf_r          19.4284\n",
       "meanra                  267.803\n",
       "meandec                 51.3825\n",
       "sigmara             4.54748e-05\n",
       "sigmadec             2.9356e-05\n",
       "deltajd                 87.8031\n",
       "lastmjd                 58812.1\n",
       "firstmjd                58724.3\n",
       "period                     None\n",
       "catalogid                  None\n",
       "classxmatch                None\n",
       "classrf                      14\n",
       "pclassrf               0.329784\n",
       "pclassearly             0.99996\n",
       "classearly                   19\n",
       "dtype: object"
      ]
     },
     "metadata": {},
     "output_type": "display_data"
    },
    {
     "data": {
      "text/plain": [
       "Index(['oid', 'nobs', 'mean_magap_g', 'mean_magap_r', 'median_magap_g',\n",
       "       'median_magap_r', 'max_magap_g', 'max_magap_r', 'min_magap_g',\n",
       "       'min_magap_r', 'sigma_magap_g', 'sigma_magap_r', 'last_magap_g',\n",
       "       'last_magap_r', 'first_magap_g', 'first_magap_r', 'mean_magpsf_g',\n",
       "       'mean_magpsf_r', 'median_magpsf_g', 'median_magpsf_r', 'max_magpsf_g',\n",
       "       'max_magpsf_r', 'min_magpsf_g', 'min_magpsf_r', 'sigma_magpsf_g',\n",
       "       'sigma_magpsf_r', 'last_magpsf_g', 'last_magpsf_r', 'first_magpsf_g',\n",
       "       'first_magpsf_r', 'meanra', 'meandec', 'sigmara', 'sigmadec', 'deltajd',\n",
       "       'lastmjd', 'firstmjd', 'period', 'catalogid', 'classxmatch', 'classrf',\n",
       "       'pclassrf', 'pclassearly', 'classearly'],\n",
       "      dtype='object')"
      ]
     },
     "execution_count": 15,
     "metadata": {},
     "output_type": "execute_result"
    }
   ],
   "source": [
    "stats = client.get_stats(oid, format='pandas')\n",
    "display(stats)\n",
    "stats.keys()"
   ]
  },
  {
   "cell_type": "markdown",
   "metadata": {},
   "source": [
    "# 6. get_features"
   ]
  },
  {
   "cell_type": "code",
   "execution_count": 17,
   "metadata": {
    "ExecuteTime": {
     "end_time": "2020-08-06T02:10:19.443752Z",
     "start_time": "2020-08-06T02:10:18.828427Z"
    }
   },
   "outputs": [
    {
     "data": {
      "text/plain": [
       "n_samples_1                                 46\n",
       "Amplitude_1                           0.500953\n",
       "AndersonDarling_1                     0.999878\n",
       "Autocor_length_1                             9\n",
       "Beyond1Std_1                          0.347826\n",
       "Con_1                                        0\n",
       "Eta_e_1                              0.0822985\n",
       "Gskew_1                                0.21965\n",
       "MaxSlope_1                             3.38831\n",
       "Meanvariance_1                       0.0178182\n",
       "MedianAbsDev_1                        0.313098\n",
       "MedianBRP_1                           0.152174\n",
       "PairSlopeTrend_1                      0.433333\n",
       "PercentAmplitude_1                   0.0348891\n",
       "Q31_1                                 0.578411\n",
       "PeriodLS_v2_1                          1.00766\n",
       "Period_fit_v2_1                              0\n",
       "Psi_CS_v2_1                           0.281475\n",
       "Psi_eta_v2_1                           0.36816\n",
       "Rcs_1                                 0.448765\n",
       "Skew_1                                0.201482\n",
       "SmallKurtosis_1                       -1.31349\n",
       "Std_1                                 0.342246\n",
       "StetsonK_1                            0.892151\n",
       "Harmonics_mag_1_1                     0.514007\n",
       "Harmonics_mag_2_1                    0.0578743\n",
       "Harmonics_mag_3_1                   0.00645889\n",
       "Harmonics_mag_4_1                    0.0216465\n",
       "Harmonics_mag_5_1                    0.0172021\n",
       "Harmonics_mag_6_1                   0.00760179\n",
       "                                      ...     \n",
       "dmag_non_det_fid_2                         NaN\n",
       "last_diffmaglim_before_fid_2               NaN\n",
       "last_mjd_before_fid_2                      NaN\n",
       "max_diffmaglim_after_fid_2                 NaN\n",
       "max_diffmaglim_before_fid_2                NaN\n",
       "median_diffmaglim_after_fid_2              NaN\n",
       "median_diffmaglim_before_fid_2             NaN\n",
       "n_non_det_after_fid_2                        0\n",
       "n_non_det_before_fid_2                       0\n",
       "positive_fraction_2                          1\n",
       "mhps_ratio_2                           15.1001\n",
       "mhps_high_2                           0.925872\n",
       "mhps_low_2                             13.9808\n",
       "mhps_PN_flag_2                               0\n",
       "mhps_non_zero_2                             58\n",
       "gal_b                                  30.0373\n",
       "gal_l                                  78.8097\n",
       "sgscore1                                   0.5\n",
       "g-r_max                             -0.0306034\n",
       "g-r_mean                              0.278827\n",
       "rb                                    0.913571\n",
       "oid                               ZTF19abueupg\n",
       "Mean_1                                 19.1941\n",
       "Mean_2                                 18.9294\n",
       "n_det_fid_1                                 45\n",
       "n_det_fid_2                                 57\n",
       "n_neg_1                                      0\n",
       "n_neg_2                                      0\n",
       "n_pos_1                                     45\n",
       "n_pos_2                                     57\n",
       "Length: 143, dtype: object"
      ]
     },
     "execution_count": 17,
     "metadata": {},
     "output_type": "execute_result"
    }
   ],
   "source": [
    "features = client.get_features(oid, format='pandas')\n",
    "features"
   ]
  },
  {
   "cell_type": "markdown",
   "metadata": {},
   "source": [
    "# 7. get_stamp\n",
    "\n",
    "Get the stamps of an object.\n",
    "\n",
    "See https://github.com/alercebroker/usecases/blob/master/api/ALeRCE%20AVRO-STAMP%20Access%20API.md"
   ]
  },
  {
   "cell_type": "code",
   "execution_count": 18,
   "metadata": {
    "ExecuteTime": {
     "end_time": "2020-08-06T02:10:25.576509Z",
     "start_time": "2020-08-06T02:10:24.908641Z"
    }
   },
   "outputs": [
    {
     "name": "stdout",
     "output_type": "stream",
     "text": [
      "ZTF19abueupg\n"
     ]
    },
    {
     "data": {
      "text/html": [
       "\n",
       "        <div>ZTF oid: ZTF19abueupg, candid: 970313001115015006</div>\n",
       "        <div>&emsp;&emsp;&emsp;&emsp;&emsp;\n",
       "        Science\n",
       "        &emsp;&emsp;&emsp;&emsp;&emsp;&emsp;&emsp;&emsp;&emsp;&emsp;&emsp;&emsp;\n",
       "        Template\n",
       "        &emsp;&emsp;&emsp;&emsp;&emsp;&emsp;&emsp;&emsp;&emsp;&emsp;&emsp;&emsp;\n",
       "        Difference\n",
       "        <div class=\"container\">\n",
       "        <div style=\"float:left;width:20%\"><img src=\"http://avro.alerce.online/get_stamp?oid=ZTF19abueupg&candid=970313001115015006&type=science&format=png\"></div>\n",
       "        <div style=\"float:left;width:20%\"><img src=\"http://avro.alerce.online/get_stamp?oid=ZTF19abueupg&candid=970313001115015006&type=template&format=png\"></div>\n",
       "        <div style=\"float:left;width:20%\"><img src=\"http://avro.alerce.online/get_stamp?oid=ZTF19abueupg&candid=970313001115015006&type=difference&format=png\"></div>\n",
       "        </div>\n",
       "        "
      ],
      "text/plain": [
       "<IPython.core.display.HTML object>"
      ]
     },
     "metadata": {},
     "output_type": "display_data"
    },
    {
     "data": {
      "text/html": [
       "\n",
       "        <div>ZTF oid: ZTF19abueupg, candid: 970313001115015006</div>\n",
       "        <div>&emsp;&emsp;&emsp;&emsp;&emsp;\n",
       "        Science\n",
       "        &emsp;&emsp;&emsp;&emsp;&emsp;&emsp;&emsp;&emsp;&emsp;&emsp;&emsp;&emsp;\n",
       "        Template\n",
       "        &emsp;&emsp;&emsp;&emsp;&emsp;&emsp;&emsp;&emsp;&emsp;&emsp;&emsp;&emsp;\n",
       "        Difference\n",
       "        <div class=\"container\">\n",
       "        <div style=\"float:left;width:20%\"><img src=\"http://avro.alerce.online/get_stamp?oid=ZTF19abueupg&candid=970313001115015006&type=science&format=png\"></div>\n",
       "        <div style=\"float:left;width:20%\"><img src=\"http://avro.alerce.online/get_stamp?oid=ZTF19abueupg&candid=970313001115015006&type=template&format=png\"></div>\n",
       "        <div style=\"float:left;width:20%\"><img src=\"http://avro.alerce.online/get_stamp?oid=ZTF19abueupg&candid=970313001115015006&type=difference&format=png\"></div>\n",
       "        </div>\n",
       "        "
      ],
      "text/plain": [
       "<IPython.core.display.HTML object>"
      ]
     },
     "metadata": {},
     "output_type": "display_data"
    },
    {
     "data": {
      "text/html": [
       "\n",
       "        <div>ZTF oid: ZTF19abueupg, candid: 1058116151115015008</div>\n",
       "        <div>&emsp;&emsp;&emsp;&emsp;&emsp;\n",
       "        Science\n",
       "        &emsp;&emsp;&emsp;&emsp;&emsp;&emsp;&emsp;&emsp;&emsp;&emsp;&emsp;&emsp;\n",
       "        Template\n",
       "        &emsp;&emsp;&emsp;&emsp;&emsp;&emsp;&emsp;&emsp;&emsp;&emsp;&emsp;&emsp;\n",
       "        Difference\n",
       "        <div class=\"container\">\n",
       "        <div style=\"float:left;width:20%\"><img src=\"http://avro.alerce.online/get_stamp?oid=ZTF19abueupg&candid=1058116151115015008&type=science&format=png\"></div>\n",
       "        <div style=\"float:left;width:20%\"><img src=\"http://avro.alerce.online/get_stamp?oid=ZTF19abueupg&candid=1058116151115015008&type=template&format=png\"></div>\n",
       "        <div style=\"float:left;width:20%\"><img src=\"http://avro.alerce.online/get_stamp?oid=ZTF19abueupg&candid=1058116151115015008&type=difference&format=png\"></div>\n",
       "        </div>\n",
       "        "
      ],
      "text/plain": [
       "<IPython.core.display.HTML object>"
      ]
     },
     "metadata": {},
     "output_type": "display_data"
    }
   ],
   "source": [
    "# note that the index of detections is the candid\n",
    "print(oid)\n",
    "client.plot_stamp(oid)\n",
    "client.plot_stamp(oid, detections.index.min())\n",
    "client.plot_stamp(oid, detections.index.max())"
   ]
  },
  {
   "cell_type": "code",
   "execution_count": null,
   "metadata": {},
   "outputs": [],
   "source": []
  },
  {
   "cell_type": "code",
   "execution_count": null,
   "metadata": {},
   "outputs": [],
   "source": []
  }
 ],
 "metadata": {
  "kernelspec": {
   "display_name": "Python 3",
   "language": "python",
   "name": "python3"
  },
  "language_info": {
   "codemirror_mode": {
    "name": "ipython",
    "version": 3
   },
   "file_extension": ".py",
   "mimetype": "text/x-python",
   "name": "python",
   "nbconvert_exporter": "python",
   "pygments_lexer": "ipython3",
   "version": "3.6.5"
  }
 },
 "nbformat": 4,
 "nbformat_minor": 2
}
