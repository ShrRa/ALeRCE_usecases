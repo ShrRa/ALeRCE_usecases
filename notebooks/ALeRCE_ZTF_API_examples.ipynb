{
 "cells": [
  {
   "cell_type": "markdown",
   "metadata": {},
   "source": [
    "# ALeRCE API interaction examples"
   ]
  },
  {
   "cell_type": "markdown",
   "metadata": {},
   "source": [
    "Load libraries"
   ]
  },
  {
   "cell_type": "code",
   "execution_count": 1,
   "metadata": {
    "ExecuteTime": {
     "end_time": "2019-11-21T19:14:57.798195Z",
     "start_time": "2019-11-21T19:14:57.092288Z"
    }
   },
   "outputs": [],
   "source": [
    "import sys\n",
    "import requests\n",
    "import matplotlib.pyplot as plt\n",
    "%matplotlib inline\n",
    "import pandas as pd\n",
    "from pandas.io.json import json_normalize\n",
    "from astropy.time import Time\n",
    "from datetime import datetime\n",
    "from IPython.display import HTML"
   ]
  },
  {
   "cell_type": "code",
   "execution_count": 2,
   "metadata": {
    "ExecuteTime": {
     "end_time": "2019-11-21T19:14:57.896895Z",
     "start_time": "2019-11-21T19:14:57.799640Z"
    }
   },
   "outputs": [],
   "source": [
    "#!pip install alerce\n",
    "from alerce.api import AlerceAPI"
   ]
  },
  {
   "cell_type": "markdown",
   "metadata": {},
   "source": [
    "See https://github.com/alercebroker/usecases/blob/master/api/ALeRCE%20ZTF%20DB%20API.md"
   ]
  },
  {
   "cell_type": "code",
   "execution_count": 3,
   "metadata": {
    "ExecuteTime": {
     "end_time": "2019-11-21T19:14:59.330413Z",
     "start_time": "2019-11-21T19:14:59.279189Z"
    }
   },
   "outputs": [],
   "source": [
    "# continuously load modules (for easier debugging)\n",
    "%load_ext autoreload\n",
    "%autoreload 2"
   ]
  },
  {
   "cell_type": "markdown",
   "metadata": {},
   "source": [
    "# Initialize alerce api object"
   ]
  },
  {
   "cell_type": "code",
   "execution_count": 4,
   "metadata": {
    "ExecuteTime": {
     "end_time": "2019-11-21T19:15:00.258531Z",
     "start_time": "2019-11-21T19:15:00.212495Z"
    }
   },
   "outputs": [],
   "source": [
    "client = AlerceAPI()"
   ]
  },
  {
   "cell_type": "markdown",
   "metadata": {},
   "source": [
    "# Classifier taxonomy and numeric mappings"
   ]
  },
  {
   "cell_type": "markdown",
   "metadata": {},
   "source": [
    "There are two classifiers used in ALeRCE, an early classifier and a late classifier. Each one has its own numeric mappings for the different classes. You can use their string or integer names.\n",
    "\n",
    "The early classifier uses as input the first detection stamps and contains the following classes:\n",
    "\n",
    "    \"agn\"\n",
    "    \"sn\"\n",
    "    \"vs\"\n",
    "    \"asteroid\"\n",
    "    \"bogus\"\n",
    "    \n",
    "The late classifier uses the light curve information and contains the following classes:\n",
    "\n",
    "    \"sn ia\"\n",
    "    \"sn ibc\"\n",
    "    \"sn ii\"\n",
    "    \"sn iin\"\n",
    "    \"slsn\"\n",
    "    \"eb/sd/d\"\n",
    "    \"eb/c\"\n",
    "    \"periodic/other\"\n",
    "    \"cv/nova\"\n",
    "    \"blazar\"\n",
    "    \"agn i\"\n",
    "    \"dsct\"\n",
    "    \"ceph\"\n",
    "    \"lpv\"\n",
    "    \"rrl\"\n",
    "    \"other\""
   ]
  },
  {
   "cell_type": "markdown",
   "metadata": {},
   "source": [
    "# 1. query\n",
    "\n",
    "Query a list of objects"
   ]
  },
  {
   "cell_type": "markdown",
   "metadata": {
    "ExecuteTime": {
     "end_time": "2019-07-19T02:40:07.495627Z",
     "start_time": "2019-07-19T02:40:07.426187Z"
    }
   },
   "source": [
    "The following json file should be sent\n",
    "\n",
    "```js\n",
    "{\n",
    "total: number, // (if not set the total is counted and the query is slower),\n",
    "records_per_pages: number. // default 20\n",
    "page: number (default 1),\n",
    "sortBy: string columnName, // default nobs\n",
    "query_parameters:{\n",
    "    filters:{\n",
    "        //ZTF Object id\n",
    "        oid: \"ZTFXXXXXX\",\n",
    "        //Number of detections\n",
    "        nobs: { \n",
    "            min: int\n",
    "            max: int\n",
    "        },\n",
    "        //Late Classifier (Random Forest)\n",
    "        classrf: int,\n",
    "        pclassrf: float [0-1],\n",
    "        //Early Classifier (Stamp Classifier)\n",
    "        classearly: int,\n",
    "        pclassearly: float [0-1],\n",
    "    },\n",
    "    //Coordinate based search (RA,DEC) and Search Radius.\n",
    "    coordinates:{\n",
    "        ra: float degrees,\n",
    "        dec: float degrees,\n",
    "        sr: float degrees\n",
    "    },\n",
    "    dates:{\n",
    "        //First detection (Discovery date)\n",
    "        firstmjd: {\n",
    "         min: float mjd,\n",
    "         max: float mjd\n",
    "        }\n",
    "    }\n",
    "}\n",
    "```"
   ]
  },
  {
   "cell_type": "markdown",
   "metadata": {},
   "source": [
    "### Example: \n",
    "\n",
    "Give me all the objects with probability of being SNe greater than 0.3 according to the random forest classifier (light curve based), which have between 2 and 40 detections. Give me the second page, with pages of 10 elements each, of a total of at most 40 objects query result.\n",
    "\n",
    "Note: probabilities are experimental and should not be fully trusted"
   ]
  },
  {
   "cell_type": "code",
   "execution_count": 5,
   "metadata": {
    "ExecuteTime": {
     "end_time": "2019-11-21T19:16:54.296622Z",
     "start_time": "2019-11-21T19:16:54.218956Z"
    }
   },
   "outputs": [],
   "source": [
    "total = 40\n",
    "records_per_page = 10\n",
    "page = 2\n",
    "sortBy = \"firstmjd\"\n",
    "nobsmin = 10\n",
    "nobsmax = 40\n",
    "classrf = \"sn ia\"\n",
    "pclassrf = 0.3\n",
    "\n",
    "params = {\n",
    "    \"total\": total,\n",
    "    \"records_per_pages\": records_per_page,\n",
    "    \"page\": page,\n",
    "    \"sortBy\": sortBy,\n",
    "    \"query_parameters\": {\n",
    "        \"filters\": {\n",
    "            \"nobs\": { \n",
    "                \"min\": nobsmin,\n",
    "                \"max\": nobsmax\n",
    "            },\n",
    "            \"classrf\": classrf,\n",
    "            \"pclassrf\": pclassrf\n",
    "        }\n",
    "    }\n",
    "}"
   ]
  },
  {
   "cell_type": "code",
   "execution_count": 6,
   "metadata": {
    "ExecuteTime": {
     "end_time": "2019-11-21T19:16:56.430093Z",
     "start_time": "2019-11-21T19:16:55.618915Z"
    }
   },
   "outputs": [
    {
     "data": {
      "text/html": [
       "<div>\n",
       "<style scoped>\n",
       "    .dataframe tbody tr th:only-of-type {\n",
       "        vertical-align: middle;\n",
       "    }\n",
       "\n",
       "    .dataframe tbody tr th {\n",
       "        vertical-align: top;\n",
       "    }\n",
       "\n",
       "    .dataframe thead th {\n",
       "        text-align: right;\n",
       "    }\n",
       "</style>\n",
       "<table border=\"1\" class=\"dataframe\">\n",
       "  <thead>\n",
       "    <tr style=\"text-align: right;\">\n",
       "      <th></th>\n",
       "      <th>catalogid</th>\n",
       "      <th>classearly</th>\n",
       "      <th>classrf</th>\n",
       "      <th>classxmatch</th>\n",
       "      <th>deltajd</th>\n",
       "      <th>first_magap_g</th>\n",
       "      <th>first_magap_r</th>\n",
       "      <th>first_magpsf_g</th>\n",
       "      <th>first_magpsf_r</th>\n",
       "      <th>firstmjd</th>\n",
       "      <th>...</th>\n",
       "      <th>nobs</th>\n",
       "      <th>pclassearly</th>\n",
       "      <th>pclassrf</th>\n",
       "      <th>period</th>\n",
       "      <th>sigma_magap_g</th>\n",
       "      <th>sigma_magap_r</th>\n",
       "      <th>sigma_magpsf_g</th>\n",
       "      <th>sigma_magpsf_r</th>\n",
       "      <th>sigmadec</th>\n",
       "      <th>sigmara</th>\n",
       "    </tr>\n",
       "    <tr>\n",
       "      <th>oid</th>\n",
       "      <th></th>\n",
       "      <th></th>\n",
       "      <th></th>\n",
       "      <th></th>\n",
       "      <th></th>\n",
       "      <th></th>\n",
       "      <th></th>\n",
       "      <th></th>\n",
       "      <th></th>\n",
       "      <th></th>\n",
       "      <th></th>\n",
       "      <th></th>\n",
       "      <th></th>\n",
       "      <th></th>\n",
       "      <th></th>\n",
       "      <th></th>\n",
       "      <th></th>\n",
       "      <th></th>\n",
       "      <th></th>\n",
       "      <th></th>\n",
       "      <th></th>\n",
       "    </tr>\n",
       "  </thead>\n",
       "  <tbody>\n",
       "    <tr>\n",
       "      <th>ZTF19acdgeow</th>\n",
       "      <td>None</td>\n",
       "      <td>19</td>\n",
       "      <td>10</td>\n",
       "      <td>None</td>\n",
       "      <td>34.890000</td>\n",
       "      <td>19.670700</td>\n",
       "      <td>20.448099</td>\n",
       "      <td>19.773035</td>\n",
       "      <td>20.296593</td>\n",
       "      <td>58763.341678</td>\n",
       "      <td>...</td>\n",
       "      <td>12</td>\n",
       "      <td>0.938212</td>\n",
       "      <td>0.304</td>\n",
       "      <td>None</td>\n",
       "      <td>None</td>\n",
       "      <td>0.544348</td>\n",
       "      <td>None</td>\n",
       "      <td>0.427980</td>\n",
       "      <td>0.000045</td>\n",
       "      <td>0.000181</td>\n",
       "    </tr>\n",
       "    <tr>\n",
       "      <th>ZTF19acchjle</th>\n",
       "      <td>None</td>\n",
       "      <td>19</td>\n",
       "      <td>10</td>\n",
       "      <td>None</td>\n",
       "      <td>43.916401</td>\n",
       "      <td>19.125099</td>\n",
       "      <td>19.481600</td>\n",
       "      <td>19.290289</td>\n",
       "      <td>19.466087</td>\n",
       "      <td>58759.376273</td>\n",
       "      <td>...</td>\n",
       "      <td>18</td>\n",
       "      <td>0.999997</td>\n",
       "      <td>0.370</td>\n",
       "      <td>None</td>\n",
       "      <td>0.48655</td>\n",
       "      <td>0.500065</td>\n",
       "      <td>0.517071</td>\n",
       "      <td>0.494134</td>\n",
       "      <td>0.000030</td>\n",
       "      <td>0.000023</td>\n",
       "    </tr>\n",
       "    <tr>\n",
       "      <th>ZTF19acaqqke</th>\n",
       "      <td>None</td>\n",
       "      <td>19</td>\n",
       "      <td>10</td>\n",
       "      <td>None</td>\n",
       "      <td>40.008218</td>\n",
       "      <td>19.640200</td>\n",
       "      <td>18.359900</td>\n",
       "      <td>19.407177</td>\n",
       "      <td>18.537106</td>\n",
       "      <td>58758.526319</td>\n",
       "      <td>...</td>\n",
       "      <td>12</td>\n",
       "      <td>0.973481</td>\n",
       "      <td>0.330</td>\n",
       "      <td>None</td>\n",
       "      <td>None</td>\n",
       "      <td>0.470280</td>\n",
       "      <td>None</td>\n",
       "      <td>0.475869</td>\n",
       "      <td>0.000038</td>\n",
       "      <td>0.000063</td>\n",
       "    </tr>\n",
       "    <tr>\n",
       "      <th>ZTF19acbpzjg</th>\n",
       "      <td>None</td>\n",
       "      <td>21</td>\n",
       "      <td>10</td>\n",
       "      <td>None</td>\n",
       "      <td>27.986100</td>\n",
       "      <td>19.524401</td>\n",
       "      <td>19.807600</td>\n",
       "      <td>19.431410</td>\n",
       "      <td>19.873964</td>\n",
       "      <td>58758.165069</td>\n",
       "      <td>...</td>\n",
       "      <td>40</td>\n",
       "      <td>0.529221</td>\n",
       "      <td>0.306</td>\n",
       "      <td>None</td>\n",
       "      <td>0.384154</td>\n",
       "      <td>0.360205</td>\n",
       "      <td>0.377762</td>\n",
       "      <td>0.322461</td>\n",
       "      <td>0.000031</td>\n",
       "      <td>0.000049</td>\n",
       "    </tr>\n",
       "    <tr>\n",
       "      <th>ZTF19acbswdq</th>\n",
       "      <td>None</td>\n",
       "      <td>19</td>\n",
       "      <td>10</td>\n",
       "      <td>None</td>\n",
       "      <td>36.979502</td>\n",
       "      <td>18.224600</td>\n",
       "      <td>19.533701</td>\n",
       "      <td>18.298929</td>\n",
       "      <td>19.195061</td>\n",
       "      <td>58757.321574</td>\n",
       "      <td>...</td>\n",
       "      <td>18</td>\n",
       "      <td>1.000000</td>\n",
       "      <td>0.320</td>\n",
       "      <td>None</td>\n",
       "      <td>0.59691</td>\n",
       "      <td>0.505103</td>\n",
       "      <td>0.629876</td>\n",
       "      <td>0.419458</td>\n",
       "      <td>0.000026</td>\n",
       "      <td>0.000031</td>\n",
       "    </tr>\n",
       "  </tbody>\n",
       "</table>\n",
       "<p>5 rows × 43 columns</p>\n",
       "</div>"
      ],
      "text/plain": [
       "             catalogid  classearly  classrf classxmatch    deltajd  \\\n",
       "oid                                                                  \n",
       "ZTF19acdgeow      None          19       10        None  34.890000   \n",
       "ZTF19acchjle      None          19       10        None  43.916401   \n",
       "ZTF19acaqqke      None          19       10        None  40.008218   \n",
       "ZTF19acbpzjg      None          21       10        None  27.986100   \n",
       "ZTF19acbswdq      None          19       10        None  36.979502   \n",
       "\n",
       "              first_magap_g  first_magap_r  first_magpsf_g  first_magpsf_r  \\\n",
       "oid                                                                          \n",
       "ZTF19acdgeow      19.670700      20.448099       19.773035       20.296593   \n",
       "ZTF19acchjle      19.125099      19.481600       19.290289       19.466087   \n",
       "ZTF19acaqqke      19.640200      18.359900       19.407177       18.537106   \n",
       "ZTF19acbpzjg      19.524401      19.807600       19.431410       19.873964   \n",
       "ZTF19acbswdq      18.224600      19.533701       18.298929       19.195061   \n",
       "\n",
       "                  firstmjd  ...  nobs  pclassearly  pclassrf  period  \\\n",
       "oid                         ...                                        \n",
       "ZTF19acdgeow  58763.341678  ...    12     0.938212     0.304    None   \n",
       "ZTF19acchjle  58759.376273  ...    18     0.999997     0.370    None   \n",
       "ZTF19acaqqke  58758.526319  ...    12     0.973481     0.330    None   \n",
       "ZTF19acbpzjg  58758.165069  ...    40     0.529221     0.306    None   \n",
       "ZTF19acbswdq  58757.321574  ...    18     1.000000     0.320    None   \n",
       "\n",
       "              sigma_magap_g  sigma_magap_r  sigma_magpsf_g  sigma_magpsf_r  \\\n",
       "oid                                                                          \n",
       "ZTF19acdgeow           None       0.544348            None        0.427980   \n",
       "ZTF19acchjle        0.48655       0.500065        0.517071        0.494134   \n",
       "ZTF19acaqqke           None       0.470280            None        0.475869   \n",
       "ZTF19acbpzjg       0.384154       0.360205        0.377762        0.322461   \n",
       "ZTF19acbswdq        0.59691       0.505103        0.629876        0.419458   \n",
       "\n",
       "              sigmadec   sigmara  \n",
       "oid                               \n",
       "ZTF19acdgeow  0.000045  0.000181  \n",
       "ZTF19acchjle  0.000030  0.000023  \n",
       "ZTF19acaqqke  0.000038  0.000063  \n",
       "ZTF19acbpzjg  0.000031  0.000049  \n",
       "ZTF19acbswdq  0.000026  0.000031  \n",
       "\n",
       "[5 rows x 43 columns]"
      ]
     },
     "execution_count": 6,
     "metadata": {},
     "output_type": "execute_result"
    }
   ],
   "source": [
    "query_results = client.query(params, format='pandas')\n",
    "query_results.head()"
   ]
  },
  {
   "cell_type": "markdown",
   "metadata": {},
   "source": [
    "### Example: \n",
    "\n",
    "Give me the last 100 objects with classified as SNe according to the early classifier (one image stamp)\n",
    "\n",
    "Note: this is experimental, about 90% of the candidates are false positives"
   ]
  },
  {
   "cell_type": "code",
   "execution_count": 7,
   "metadata": {
    "ExecuteTime": {
     "end_time": "2019-11-21T19:17:09.423036Z",
     "start_time": "2019-11-21T19:17:09.372260Z"
    }
   },
   "outputs": [],
   "source": [
    "mjd_48hr = Time(datetime.utcnow(), scale='utc').mjd - 4.\n",
    "\n",
    "total = 100\n",
    "records_per_page = 100\n",
    "sortBy = \"pclassearly\"\n",
    "classearly = 'sn'\n",
    "\n",
    "params = {\n",
    "    \"total\": total,\n",
    "    \"records_per_pages\": records_per_page,\n",
    "    \"sortBy\": sortBy,\n",
    "    \"query_parameters\": {\n",
    "        \"filters\": {\n",
    "            \"classearly\": classearly\n",
    "        },\n",
    "        \"dates\": {\n",
    "            \"firstmjd\": {\n",
    "                \"min\": mjd_48hr\n",
    "            }\n",
    "        }\n",
    "    }\n",
    "}"
   ]
  },
  {
   "cell_type": "code",
   "execution_count": 8,
   "metadata": {
    "ExecuteTime": {
     "end_time": "2019-11-21T19:17:14.295874Z",
     "start_time": "2019-11-21T19:17:12.070866Z"
    }
   },
   "outputs": [
    {
     "data": {
      "text/html": [
       "<div>\n",
       "<style scoped>\n",
       "    .dataframe tbody tr th:only-of-type {\n",
       "        vertical-align: middle;\n",
       "    }\n",
       "\n",
       "    .dataframe tbody tr th {\n",
       "        vertical-align: top;\n",
       "    }\n",
       "\n",
       "    .dataframe thead th {\n",
       "        text-align: right;\n",
       "    }\n",
       "</style>\n",
       "<table border=\"1\" class=\"dataframe\">\n",
       "  <thead>\n",
       "    <tr style=\"text-align: right;\">\n",
       "      <th></th>\n",
       "      <th>catalogid</th>\n",
       "      <th>classearly</th>\n",
       "      <th>classrf</th>\n",
       "      <th>classxmatch</th>\n",
       "      <th>deltajd</th>\n",
       "      <th>first_magap_g</th>\n",
       "      <th>first_magap_r</th>\n",
       "      <th>first_magpsf_g</th>\n",
       "      <th>first_magpsf_r</th>\n",
       "      <th>firstmjd</th>\n",
       "      <th>...</th>\n",
       "      <th>nobs</th>\n",
       "      <th>pclassearly</th>\n",
       "      <th>pclassrf</th>\n",
       "      <th>period</th>\n",
       "      <th>sigma_magap_g</th>\n",
       "      <th>sigma_magap_r</th>\n",
       "      <th>sigma_magpsf_g</th>\n",
       "      <th>sigma_magpsf_r</th>\n",
       "      <th>sigmadec</th>\n",
       "      <th>sigmara</th>\n",
       "    </tr>\n",
       "    <tr>\n",
       "      <th>oid</th>\n",
       "      <th></th>\n",
       "      <th></th>\n",
       "      <th></th>\n",
       "      <th></th>\n",
       "      <th></th>\n",
       "      <th></th>\n",
       "      <th></th>\n",
       "      <th></th>\n",
       "      <th></th>\n",
       "      <th></th>\n",
       "      <th></th>\n",
       "      <th></th>\n",
       "      <th></th>\n",
       "      <th></th>\n",
       "      <th></th>\n",
       "      <th></th>\n",
       "      <th></th>\n",
       "      <th></th>\n",
       "      <th></th>\n",
       "      <th></th>\n",
       "      <th></th>\n",
       "    </tr>\n",
       "  </thead>\n",
       "  <tbody>\n",
       "    <tr>\n",
       "      <th>ZTF19acthyfd</th>\n",
       "      <td>None</td>\n",
       "      <td>20</td>\n",
       "      <td>None</td>\n",
       "      <td>None</td>\n",
       "      <td>0.000000</td>\n",
       "      <td>None</td>\n",
       "      <td>18.1178</td>\n",
       "      <td>None</td>\n",
       "      <td>18.097</td>\n",
       "      <td>58805.222951</td>\n",
       "      <td>...</td>\n",
       "      <td>1</td>\n",
       "      <td>0.999851</td>\n",
       "      <td>None</td>\n",
       "      <td>None</td>\n",
       "      <td>None</td>\n",
       "      <td>None</td>\n",
       "      <td>None</td>\n",
       "      <td>None</td>\n",
       "      <td>None</td>\n",
       "      <td>None</td>\n",
       "    </tr>\n",
       "    <tr>\n",
       "      <th>ZTF19acthbkm</th>\n",
       "      <td>None</td>\n",
       "      <td>20</td>\n",
       "      <td>None</td>\n",
       "      <td>None</td>\n",
       "      <td>0.000000</td>\n",
       "      <td>17.933</td>\n",
       "      <td>None</td>\n",
       "      <td>17.5273</td>\n",
       "      <td>None</td>\n",
       "      <td>58806.201968</td>\n",
       "      <td>...</td>\n",
       "      <td>1</td>\n",
       "      <td>0.999706</td>\n",
       "      <td>None</td>\n",
       "      <td>None</td>\n",
       "      <td>None</td>\n",
       "      <td>None</td>\n",
       "      <td>None</td>\n",
       "      <td>None</td>\n",
       "      <td>None</td>\n",
       "      <td>None</td>\n",
       "    </tr>\n",
       "    <tr>\n",
       "      <th>ZTF19actnvzh</th>\n",
       "      <td>None</td>\n",
       "      <td>20</td>\n",
       "      <td>None</td>\n",
       "      <td>None</td>\n",
       "      <td>0.000000</td>\n",
       "      <td>18.3465</td>\n",
       "      <td>None</td>\n",
       "      <td>18.2034</td>\n",
       "      <td>None</td>\n",
       "      <td>58805.499005</td>\n",
       "      <td>...</td>\n",
       "      <td>1</td>\n",
       "      <td>0.999701</td>\n",
       "      <td>None</td>\n",
       "      <td>None</td>\n",
       "      <td>None</td>\n",
       "      <td>None</td>\n",
       "      <td>None</td>\n",
       "      <td>None</td>\n",
       "      <td>None</td>\n",
       "      <td>None</td>\n",
       "    </tr>\n",
       "    <tr>\n",
       "      <th>ZTF18actvtdj</th>\n",
       "      <td>None</td>\n",
       "      <td>20</td>\n",
       "      <td>None</td>\n",
       "      <td>None</td>\n",
       "      <td>0.029294</td>\n",
       "      <td>16.4423</td>\n",
       "      <td>13.3973</td>\n",
       "      <td>16.5933</td>\n",
       "      <td>13.4786</td>\n",
       "      <td>58805.074826</td>\n",
       "      <td>...</td>\n",
       "      <td>2</td>\n",
       "      <td>0.999669</td>\n",
       "      <td>None</td>\n",
       "      <td>None</td>\n",
       "      <td>None</td>\n",
       "      <td>None</td>\n",
       "      <td>None</td>\n",
       "      <td>None</td>\n",
       "      <td>7.67211e-05</td>\n",
       "      <td>2.33345e-06</td>\n",
       "    </tr>\n",
       "    <tr>\n",
       "      <th>ZTF19actieth</th>\n",
       "      <td>None</td>\n",
       "      <td>20</td>\n",
       "      <td>None</td>\n",
       "      <td>None</td>\n",
       "      <td>0.000000</td>\n",
       "      <td>None</td>\n",
       "      <td>13.8314</td>\n",
       "      <td>None</td>\n",
       "      <td>13.8384</td>\n",
       "      <td>58805.218299</td>\n",
       "      <td>...</td>\n",
       "      <td>1</td>\n",
       "      <td>0.999662</td>\n",
       "      <td>None</td>\n",
       "      <td>None</td>\n",
       "      <td>None</td>\n",
       "      <td>None</td>\n",
       "      <td>None</td>\n",
       "      <td>None</td>\n",
       "      <td>None</td>\n",
       "      <td>None</td>\n",
       "    </tr>\n",
       "  </tbody>\n",
       "</table>\n",
       "<p>5 rows × 43 columns</p>\n",
       "</div>"
      ],
      "text/plain": [
       "             catalogid  classearly classrf classxmatch   deltajd  \\\n",
       "oid                                                                \n",
       "ZTF19acthyfd      None          20    None        None  0.000000   \n",
       "ZTF19acthbkm      None          20    None        None  0.000000   \n",
       "ZTF19actnvzh      None          20    None        None  0.000000   \n",
       "ZTF18actvtdj      None          20    None        None  0.029294   \n",
       "ZTF19actieth      None          20    None        None  0.000000   \n",
       "\n",
       "             first_magap_g first_magap_r first_magpsf_g first_magpsf_r  \\\n",
       "oid                                                                      \n",
       "ZTF19acthyfd          None       18.1178           None         18.097   \n",
       "ZTF19acthbkm        17.933          None        17.5273           None   \n",
       "ZTF19actnvzh       18.3465          None        18.2034           None   \n",
       "ZTF18actvtdj       16.4423       13.3973        16.5933        13.4786   \n",
       "ZTF19actieth          None       13.8314           None        13.8384   \n",
       "\n",
       "                  firstmjd  ... nobs pclassearly pclassrf period  \\\n",
       "oid                         ...                                    \n",
       "ZTF19acthyfd  58805.222951  ...    1    0.999851     None   None   \n",
       "ZTF19acthbkm  58806.201968  ...    1    0.999706     None   None   \n",
       "ZTF19actnvzh  58805.499005  ...    1    0.999701     None   None   \n",
       "ZTF18actvtdj  58805.074826  ...    2    0.999669     None   None   \n",
       "ZTF19actieth  58805.218299  ...    1    0.999662     None   None   \n",
       "\n",
       "              sigma_magap_g sigma_magap_r sigma_magpsf_g sigma_magpsf_r  \\\n",
       "oid                                                                       \n",
       "ZTF19acthyfd           None          None           None           None   \n",
       "ZTF19acthbkm           None          None           None           None   \n",
       "ZTF19actnvzh           None          None           None           None   \n",
       "ZTF18actvtdj           None          None           None           None   \n",
       "ZTF19actieth           None          None           None           None   \n",
       "\n",
       "                 sigmadec      sigmara  \n",
       "oid                                     \n",
       "ZTF19acthyfd         None         None  \n",
       "ZTF19acthbkm         None         None  \n",
       "ZTF19actnvzh         None         None  \n",
       "ZTF18actvtdj  7.67211e-05  2.33345e-06  \n",
       "ZTF19actieth         None         None  \n",
       "\n",
       "[5 rows x 43 columns]"
      ]
     },
     "execution_count": 8,
     "metadata": {},
     "output_type": "execute_result"
    }
   ],
   "source": [
    "query_results = client.query(params, format='pandas')\n",
    "query_results.head()"
   ]
  },
  {
   "cell_type": "code",
   "execution_count": 9,
   "metadata": {
    "ExecuteTime": {
     "end_time": "2019-11-21T19:17:17.200703Z",
     "start_time": "2019-11-21T19:17:16.996324Z"
    }
   },
   "outputs": [
    {
     "data": {
      "text/plain": [
       "(18.923491507315788, 11.903524917190207)"
      ]
     },
     "execution_count": 9,
     "metadata": {},
     "output_type": "execute_result"
    },
    {
     "data": {
      "image/png": "[encoded data removed]",
      "text/plain": [
       "<Figure size 864x576 with 1 Axes>"
      ]
     },
     "metadata": {},
     "output_type": "display_data"
    }
   ],
   "source": [
    "# Show first mag vs first MJD\n",
    "fig, ax = plt.subplots(figsize = (12, 8))\n",
    "mask = query_results.first_magpsf_r.notnull()\n",
    "ax.scatter(query_results.firstmjd[mask], query_results.first_magpsf_r[mask], c = 'r')\n",
    "mask = query_results.first_magpsf_g.notnull()\n",
    "ax.scatter(query_results.firstmjd[mask], query_results.first_magpsf_g[mask], c = 'g')\n",
    "ax.set_xlabel(\"First MJD\")\n",
    "ax.set_ylabel(\"First mag g|r\")\n",
    "ax.set_ylim(ax.get_ylim()[::-1])"
   ]
  },
  {
   "cell_type": "markdown",
   "metadata": {},
   "source": [
    "You can see the ZTF filter changes during the night. The missing times are due to the ZTF private stream."
   ]
  },
  {
   "cell_type": "markdown",
   "metadata": {},
   "source": [
    "# 2. get_sql\n",
    "\n",
    "Get the sql query using the same parameters as the previous query"
   ]
  },
  {
   "cell_type": "code",
   "execution_count": 10,
   "metadata": {
    "ExecuteTime": {
     "end_time": "2019-11-21T19:17:39.089724Z",
     "start_time": "2019-11-21T19:17:38.398626Z"
    }
   },
   "outputs": [
    {
     "data": {
      "text/plain": [
       "'SELECT * FROM objects WHERE classearly=20 AND  firstmjd >= 58804.803581209 '"
      ]
     },
     "execution_count": 10,
     "metadata": {},
     "output_type": "execute_result"
    }
   ],
   "source": [
    "client.get_sql(params)"
   ]
  },
  {
   "cell_type": "markdown",
   "metadata": {},
   "source": [
    "# 3. get_detections\n",
    "\n",
    "Get all the detections for an object"
   ]
  },
  {
   "cell_type": "code",
   "execution_count": 11,
   "metadata": {
    "ExecuteTime": {
     "end_time": "2019-11-21T19:17:42.722152Z",
     "start_time": "2019-11-21T19:17:42.683551Z"
    }
   },
   "outputs": [],
   "source": [
    "oid = \"ZTF19abueupg\""
   ]
  },
  {
   "cell_type": "code",
   "execution_count": 12,
   "metadata": {
    "ExecuteTime": {
     "end_time": "2019-11-21T19:17:44.104216Z",
     "start_time": "2019-11-21T19:17:43.388944Z"
    }
   },
   "outputs": [
    {
     "data": {
      "text/html": [
       "<div>\n",
       "<style scoped>\n",
       "    .dataframe tbody tr th:only-of-type {\n",
       "        vertical-align: middle;\n",
       "    }\n",
       "\n",
       "    .dataframe tbody tr th {\n",
       "        vertical-align: top;\n",
       "    }\n",
       "\n",
       "    .dataframe thead th {\n",
       "        text-align: right;\n",
       "    }\n",
       "</style>\n",
       "<table border=\"1\" class=\"dataframe\">\n",
       "  <thead>\n",
       "    <tr style=\"text-align: right;\">\n",
       "      <th></th>\n",
       "      <th>candid_str</th>\n",
       "      <th>dec</th>\n",
       "      <th>diffmaglim</th>\n",
       "      <th>distpsnr1</th>\n",
       "      <th>fid</th>\n",
       "      <th>field</th>\n",
       "      <th>isdiffpos</th>\n",
       "      <th>magap</th>\n",
       "      <th>magap_corr</th>\n",
       "      <th>magnr</th>\n",
       "      <th>...</th>\n",
       "      <th>rb</th>\n",
       "      <th>rcid</th>\n",
       "      <th>sgscore1</th>\n",
       "      <th>sigmadec</th>\n",
       "      <th>sigmagap</th>\n",
       "      <th>sigmagap_corr</th>\n",
       "      <th>sigmagnr</th>\n",
       "      <th>sigmapsf</th>\n",
       "      <th>sigmapsf_corr</th>\n",
       "      <th>sigmara</th>\n",
       "    </tr>\n",
       "    <tr>\n",
       "      <th>candid</th>\n",
       "      <th></th>\n",
       "      <th></th>\n",
       "      <th></th>\n",
       "      <th></th>\n",
       "      <th></th>\n",
       "      <th></th>\n",
       "      <th></th>\n",
       "      <th></th>\n",
       "      <th></th>\n",
       "      <th></th>\n",
       "      <th></th>\n",
       "      <th></th>\n",
       "      <th></th>\n",
       "      <th></th>\n",
       "      <th></th>\n",
       "      <th></th>\n",
       "      <th></th>\n",
       "      <th></th>\n",
       "      <th></th>\n",
       "      <th></th>\n",
       "      <th></th>\n",
       "    </tr>\n",
       "  </thead>\n",
       "  <tbody>\n",
       "    <tr>\n",
       "      <th>970313001115015006</th>\n",
       "      <td>970313001115015006</td>\n",
       "      <td>51.382551</td>\n",
       "      <td>20.446541</td>\n",
       "      <td>5.113520</td>\n",
       "      <td>1</td>\n",
       "      <td>797</td>\n",
       "      <td>1</td>\n",
       "      <td>19.706900</td>\n",
       "      <td>19.706900</td>\n",
       "      <td>20.913000</td>\n",
       "      <td>...</td>\n",
       "      <td>0.920000</td>\n",
       "      <td>11</td>\n",
       "      <td>0.5</td>\n",
       "      <td>0.09</td>\n",
       "      <td>0.1900</td>\n",
       "      <td>0.1900</td>\n",
       "      <td>0.085</td>\n",
       "      <td>0.139590</td>\n",
       "      <td>0.139590</td>\n",
       "      <td>0.09</td>\n",
       "    </tr>\n",
       "    <tr>\n",
       "      <th>971263501115015039</th>\n",
       "      <td>971263501115015039</td>\n",
       "      <td>51.382555</td>\n",
       "      <td>20.572720</td>\n",
       "      <td>5.004293</td>\n",
       "      <td>2</td>\n",
       "      <td>797</td>\n",
       "      <td>1</td>\n",
       "      <td>19.548800</td>\n",
       "      <td>19.548800</td>\n",
       "      <td>19.693001</td>\n",
       "      <td>...</td>\n",
       "      <td>0.592857</td>\n",
       "      <td>11</td>\n",
       "      <td>0.5</td>\n",
       "      <td>0.09</td>\n",
       "      <td>0.1692</td>\n",
       "      <td>0.1692</td>\n",
       "      <td>0.130</td>\n",
       "      <td>0.155431</td>\n",
       "      <td>0.155431</td>\n",
       "      <td>0.09</td>\n",
       "    </tr>\n",
       "    <tr>\n",
       "      <th>971289301115015006</th>\n",
       "      <td>971289301115015006</td>\n",
       "      <td>51.382573</td>\n",
       "      <td>20.407963</td>\n",
       "      <td>5.065497</td>\n",
       "      <td>1</td>\n",
       "      <td>797</td>\n",
       "      <td>1</td>\n",
       "      <td>19.450300</td>\n",
       "      <td>19.450300</td>\n",
       "      <td>20.913000</td>\n",
       "      <td>...</td>\n",
       "      <td>0.877143</td>\n",
       "      <td>11</td>\n",
       "      <td>0.5</td>\n",
       "      <td>0.09</td>\n",
       "      <td>0.1279</td>\n",
       "      <td>0.1279</td>\n",
       "      <td>0.085</td>\n",
       "      <td>0.099974</td>\n",
       "      <td>0.099974</td>\n",
       "      <td>0.09</td>\n",
       "    </tr>\n",
       "    <tr>\n",
       "      <th>972264951115015027</th>\n",
       "      <td>972264951115015027</td>\n",
       "      <td>51.382526</td>\n",
       "      <td>20.445602</td>\n",
       "      <td>5.038084</td>\n",
       "      <td>2</td>\n",
       "      <td>797</td>\n",
       "      <td>1</td>\n",
       "      <td>18.945101</td>\n",
       "      <td>18.945101</td>\n",
       "      <td>19.693001</td>\n",
       "      <td>...</td>\n",
       "      <td>0.934286</td>\n",
       "      <td>11</td>\n",
       "      <td>0.5</td>\n",
       "      <td>0.09</td>\n",
       "      <td>0.1063</td>\n",
       "      <td>0.1063</td>\n",
       "      <td>0.130</td>\n",
       "      <td>0.093884</td>\n",
       "      <td>0.093884</td>\n",
       "      <td>0.09</td>\n",
       "    </tr>\n",
       "    <tr>\n",
       "      <th>972290601115015008</th>\n",
       "      <td>972290601115015008</td>\n",
       "      <td>51.382546</td>\n",
       "      <td>20.350231</td>\n",
       "      <td>5.046748</td>\n",
       "      <td>1</td>\n",
       "      <td>797</td>\n",
       "      <td>1</td>\n",
       "      <td>19.068300</td>\n",
       "      <td>19.068300</td>\n",
       "      <td>20.913000</td>\n",
       "      <td>...</td>\n",
       "      <td>0.951429</td>\n",
       "      <td>11</td>\n",
       "      <td>0.5</td>\n",
       "      <td>0.09</td>\n",
       "      <td>0.1081</td>\n",
       "      <td>0.1081</td>\n",
       "      <td>0.085</td>\n",
       "      <td>0.096079</td>\n",
       "      <td>0.096079</td>\n",
       "      <td>0.09</td>\n",
       "    </tr>\n",
       "  </tbody>\n",
       "</table>\n",
       "<p>5 rows × 25 columns</p>\n",
       "</div>"
      ],
      "text/plain": [
       "                            candid_str        dec  diffmaglim  distpsnr1  fid  \\\n",
       "candid                                                                          \n",
       "970313001115015006  970313001115015006  51.382551   20.446541   5.113520    1   \n",
       "971263501115015039  971263501115015039  51.382555   20.572720   5.004293    2   \n",
       "971289301115015006  971289301115015006  51.382573   20.407963   5.065497    1   \n",
       "972264951115015027  972264951115015027  51.382526   20.445602   5.038084    2   \n",
       "972290601115015008  972290601115015008  51.382546   20.350231   5.046748    1   \n",
       "\n",
       "                    field  isdiffpos      magap  magap_corr      magnr  ...  \\\n",
       "candid                                                                  ...   \n",
       "970313001115015006    797          1  19.706900   19.706900  20.913000  ...   \n",
       "971263501115015039    797          1  19.548800   19.548800  19.693001  ...   \n",
       "971289301115015006    797          1  19.450300   19.450300  20.913000  ...   \n",
       "972264951115015027    797          1  18.945101   18.945101  19.693001  ...   \n",
       "972290601115015008    797          1  19.068300   19.068300  20.913000  ...   \n",
       "\n",
       "                          rb  rcid  sgscore1 sigmadec  sigmagap  \\\n",
       "candid                                                            \n",
       "970313001115015006  0.920000    11       0.5     0.09    0.1900   \n",
       "971263501115015039  0.592857    11       0.5     0.09    0.1692   \n",
       "971289301115015006  0.877143    11       0.5     0.09    0.1279   \n",
       "972264951115015027  0.934286    11       0.5     0.09    0.1063   \n",
       "972290601115015008  0.951429    11       0.5     0.09    0.1081   \n",
       "\n",
       "                    sigmagap_corr  sigmagnr  sigmapsf  sigmapsf_corr  sigmara  \n",
       "candid                                                                         \n",
       "970313001115015006         0.1900     0.085  0.139590       0.139590     0.09  \n",
       "971263501115015039         0.1692     0.130  0.155431       0.155431     0.09  \n",
       "971289301115015006         0.1279     0.085  0.099974       0.099974     0.09  \n",
       "972264951115015027         0.1063     0.130  0.093884       0.093884     0.09  \n",
       "972290601115015008         0.1081     0.085  0.096079       0.096079     0.09  \n",
       "\n",
       "[5 rows x 25 columns]"
      ]
     },
     "metadata": {},
     "output_type": "display_data"
    },
    {
     "data": {
      "text/plain": [
       "'candid_str, dec, diffmaglim, distpsnr1, fid, field, isdiffpos, magap, magap_corr, magnr, magpsf, magpsf_corr, mjd, oid, ra, rb, rcid, sgscore1, sigmadec, sigmagap, sigmagap_corr, sigmagnr, sigmapsf, sigmapsf_corr, sigmara'"
      ]
     },
     "execution_count": 12,
     "metadata": {},
     "output_type": "execute_result"
    }
   ],
   "source": [
    "detections = client.get_detections(oid, format='pandas')\n",
    "display(detections.head())\n",
    "\", \".join(list(detections))"
   ]
  },
  {
   "cell_type": "markdown",
   "metadata": {},
   "source": [
    "# 4. get_non_detections"
   ]
  },
  {
   "cell_type": "code",
   "execution_count": 13,
   "metadata": {
    "ExecuteTime": {
     "end_time": "2019-11-21T19:36:42.096869Z",
     "start_time": "2019-11-21T19:36:41.417996Z"
    }
   },
   "outputs": [
    {
     "data": {
      "text/html": [
       "<div>\n",
       "<style scoped>\n",
       "    .dataframe tbody tr th:only-of-type {\n",
       "        vertical-align: middle;\n",
       "    }\n",
       "\n",
       "    .dataframe tbody tr th {\n",
       "        vertical-align: top;\n",
       "    }\n",
       "\n",
       "    .dataframe thead th {\n",
       "        text-align: right;\n",
       "    }\n",
       "</style>\n",
       "<table border=\"1\" class=\"dataframe\">\n",
       "  <thead>\n",
       "    <tr style=\"text-align: right;\">\n",
       "      <th></th>\n",
       "      <th>diffmaglim</th>\n",
       "      <th>fid</th>\n",
       "      <th>oid</th>\n",
       "    </tr>\n",
       "    <tr>\n",
       "      <th>mjd</th>\n",
       "      <th></th>\n",
       "      <th></th>\n",
       "      <th></th>\n",
       "    </tr>\n",
       "  </thead>\n",
       "  <tbody>\n",
       "    <tr>\n",
       "      <th>58695.278808</th>\n",
       "      <td>18.942801</td>\n",
       "      <td>2</td>\n",
       "      <td>ZTF19abueupg</td>\n",
       "    </tr>\n",
       "    <tr>\n",
       "      <th>58695.308171</th>\n",
       "      <td>20.085800</td>\n",
       "      <td>1</td>\n",
       "      <td>ZTF19abueupg</td>\n",
       "    </tr>\n",
       "    <tr>\n",
       "      <th>58696.280255</th>\n",
       "      <td>20.712299</td>\n",
       "      <td>2</td>\n",
       "      <td>ZTF19abueupg</td>\n",
       "    </tr>\n",
       "    <tr>\n",
       "      <th>58696.309468</th>\n",
       "      <td>20.865499</td>\n",
       "      <td>1</td>\n",
       "      <td>ZTF19abueupg</td>\n",
       "    </tr>\n",
       "    <tr>\n",
       "      <th>58697.302245</th>\n",
       "      <td>20.648100</td>\n",
       "      <td>2</td>\n",
       "      <td>ZTF19abueupg</td>\n",
       "    </tr>\n",
       "  </tbody>\n",
       "</table>\n",
       "</div>"
      ],
      "text/plain": [
       "              diffmaglim  fid           oid\n",
       "mjd                                        \n",
       "58695.278808   18.942801    2  ZTF19abueupg\n",
       "58695.308171   20.085800    1  ZTF19abueupg\n",
       "58696.280255   20.712299    2  ZTF19abueupg\n",
       "58696.309468   20.865499    1  ZTF19abueupg\n",
       "58697.302245   20.648100    2  ZTF19abueupg"
      ]
     },
     "execution_count": 13,
     "metadata": {},
     "output_type": "execute_result"
    }
   ],
   "source": [
    "non_detections = client.get_non_detections(oid, format='pandas')\n",
    "non_detections.head()"
   ]
  },
  {
   "cell_type": "code",
   "execution_count": 14,
   "metadata": {
    "ExecuteTime": {
     "end_time": "2019-11-21T19:36:43.109684Z",
     "start_time": "2019-11-21T19:36:42.843956Z"
    }
   },
   "outputs": [
    {
     "data": {
      "text/plain": [
       "(21.145861079607084, 15.147731491110696)"
      ]
     },
     "execution_count": 14,
     "metadata": {},
     "output_type": "execute_result"
    },
    {
     "data": {
      "image/png": "[encoded data removed]",
      "text/plain": [
       "<Figure size 864x576 with 1 Axes>"
      ]
     },
     "metadata": {},
     "output_type": "display_data"
    }
   ],
   "source": [
    "fig, ax = plt.subplots(figsize = (12, 8))\n",
    "colors = [\"g\", \"r\"]\n",
    "for fid in [1, 2]:\n",
    "    mask = detections.fid == fid\n",
    "    ax.plot(detections.mjd[mask], detections.magpsf[mask], c = colors[fid - 1], marker = \"o\")\n",
    "    mask = non_detections.fid == fid\n",
    "    # note that the index of non-detectionsis the mjd\n",
    "    ax.scatter(non_detections.index[mask], non_detections.diffmaglim[mask], c = colors[fid - 1], marker = \"v\", alpha=0.3)\n",
    "ax.set_xlabel(\"MJD\")\n",
    "ax.set_ylabel(\"mag psf\")\n",
    "ax.set_ylim(ax.get_ylim()[::-1])"
   ]
  },
  {
   "cell_type": "markdown",
   "metadata": {},
   "source": [
    "# 5. get_stats"
   ]
  },
  {
   "cell_type": "code",
   "execution_count": 15,
   "metadata": {
    "ExecuteTime": {
     "end_time": "2019-11-21T19:37:54.805920Z",
     "start_time": "2019-11-21T19:37:54.167581Z"
    }
   },
   "outputs": [
    {
     "data": {
      "text/plain": [
       "oid                ZTF19abueupg\n",
       "nobs                        106\n",
       "mean_magap_g            19.1966\n",
       "mean_magap_r             18.924\n",
       "median_magap_g          19.1547\n",
       "median_magap_r          18.8615\n",
       "max_magap_g             20.2068\n",
       "max_magap_r             19.5804\n",
       "min_magap_g             18.5337\n",
       "min_magap_r             18.6207\n",
       "sigma_magap_g          0.398469\n",
       "sigma_magap_r          0.224258\n",
       "last_magap_g            19.8079\n",
       "last_magap_r            19.0674\n",
       "first_magap_g           19.7069\n",
       "first_magap_r           19.5488\n",
       "mean_magpsf_g           19.1934\n",
       "mean_magpsf_r           18.9323\n",
       "median_magpsf_g         19.1484\n",
       "median_magpsf_r         18.9347\n",
       "max_magpsf_g            19.7455\n",
       "max_magpsf_r            19.4284\n",
       "min_magpsf_g            18.7283\n",
       "min_magpsf_r            18.7589\n",
       "sigma_magpsf_g         0.335785\n",
       "sigma_magpsf_r         0.119691\n",
       "last_magpsf_g           19.7455\n",
       "last_magpsf_r           19.0055\n",
       "first_magpsf_g          19.5887\n",
       "first_magpsf_r          19.4284\n",
       "meanra                  267.803\n",
       "meandec                 51.3825\n",
       "sigmara             4.51597e-05\n",
       "sigmadec            2.93102e-05\n",
       "deltajd                 72.7803\n",
       "lastmjd                 58797.1\n",
       "firstmjd                58724.3\n",
       "period                     None\n",
       "catalogid                  None\n",
       "classxmatch                None\n",
       "classrf                      12\n",
       "pclassrf                  0.238\n",
       "pclassearly             0.99996\n",
       "classearly                   19\n",
       "dtype: object"
      ]
     },
     "metadata": {},
     "output_type": "display_data"
    },
    {
     "data": {
      "text/plain": [
       "Index(['oid', 'nobs', 'mean_magap_g', 'mean_magap_r', 'median_magap_g',\n",
       "       'median_magap_r', 'max_magap_g', 'max_magap_r', 'min_magap_g',\n",
       "       'min_magap_r', 'sigma_magap_g', 'sigma_magap_r', 'last_magap_g',\n",
       "       'last_magap_r', 'first_magap_g', 'first_magap_r', 'mean_magpsf_g',\n",
       "       'mean_magpsf_r', 'median_magpsf_g', 'median_magpsf_r', 'max_magpsf_g',\n",
       "       'max_magpsf_r', 'min_magpsf_g', 'min_magpsf_r', 'sigma_magpsf_g',\n",
       "       'sigma_magpsf_r', 'last_magpsf_g', 'last_magpsf_r', 'first_magpsf_g',\n",
       "       'first_magpsf_r', 'meanra', 'meandec', 'sigmara', 'sigmadec', 'deltajd',\n",
       "       'lastmjd', 'firstmjd', 'period', 'catalogid', 'classxmatch', 'classrf',\n",
       "       'pclassrf', 'pclassearly', 'classearly'],\n",
       "      dtype='object')"
      ]
     },
     "execution_count": 15,
     "metadata": {},
     "output_type": "execute_result"
    }
   ],
   "source": [
    "stats = client.get_stats(oid, format='pandas')\n",
    "display(stats)\n",
    "stats.keys()"
   ]
  },
  {
   "cell_type": "markdown",
   "metadata": {},
   "source": [
    "# 6. get_probabilities"
   ]
  },
  {
   "cell_type": "code",
   "execution_count": 16,
   "metadata": {
    "ExecuteTime": {
     "end_time": "2019-11-21T19:37:57.673431Z",
     "start_time": "2019-11-21T19:37:56.747562Z"
    }
   },
   "outputs": [
    {
     "data": {
      "text/plain": [
       "oid                   ZTF19abueupg\n",
       "agn_prob               1.47033e-09\n",
       "sn_prob                   0.999992\n",
       "vs_prob                 1.6456e-07\n",
       "asteroid_prob          7.57048e-06\n",
       "classifier_version            None\n",
       "bogus_prob             8.68233e-09\n",
       "dtype: object"
      ]
     },
     "metadata": {},
     "output_type": "display_data"
    },
    {
     "data": {
      "text/plain": [
       "oid                    ZTF19abueupg\n",
       "AGN-I_prob                    0.056\n",
       "Blazar_prob                   0.092\n",
       "CV/Nova_prob                   0.02\n",
       "SNIa_prob                     0.072\n",
       "SNIbc_prob                    0.142\n",
       "SNII_prob                     0.238\n",
       "SNIIn_prob                    0.142\n",
       "SLSN_prob                     0.094\n",
       "EBSD/D_prob                   0.004\n",
       "EBC_prob                       0.01\n",
       "DSCT_prob                     0.012\n",
       "RRL_prob                      0.018\n",
       "Ceph_prob                     0.022\n",
       "LPV_prob                      0.052\n",
       "Periodic-Other_prob           0.026\n",
       "dtype: object"
      ]
     },
     "metadata": {},
     "output_type": "display_data"
    }
   ],
   "source": [
    "probs = client.get_probabilities(oid, format='pandas')\n",
    "display(probs[\"early\"])\n",
    "display(probs[\"late\"])"
   ]
  },
  {
   "cell_type": "markdown",
   "metadata": {},
   "source": [
    "# 7. get_features"
   ]
  },
  {
   "cell_type": "code",
   "execution_count": 17,
   "metadata": {
    "ExecuteTime": {
     "end_time": "2019-11-21T19:38:00.331583Z",
     "start_time": "2019-11-21T19:37:59.684890Z"
    }
   },
   "outputs": [
    {
     "data": {
      "text/plain": [
       "oid                    ZTF19abueupg\n",
       "n_samples_1                      47\n",
       "Amplitude_1                0.491896\n",
       "AndersonDarling_1          0.999956\n",
       "Autocor_length_1                 10\n",
       "Beyond1Std_1               0.382979\n",
       "Con_1                             0\n",
       "Eta_e_1                   0.0874861\n",
       "Gskew_1                    0.175563\n",
       "MaxSlope_1                  3.38831\n",
       "Mean_1                      19.1934\n",
       "Meanvariance_1            0.0173077\n",
       "MedianAbsDev_1             0.301222\n",
       "MedianBRP_1                 0.12766\n",
       "PairSlopeTrend_1           0.366667\n",
       "PercentAmplitude_1        0.0311829\n",
       "Q31_1                      0.589397\n",
       "PeriodLS_v2_1               1.01082\n",
       "Period_fit_v2_1                   0\n",
       "Psi_CS_v2_1                0.276381\n",
       "Psi_eta_v2_1               0.338092\n",
       "Rcs_1                      0.449798\n",
       "Skew_1                      0.20374\n",
       "SmallKurtosis_1            -1.33937\n",
       "Std_1                      0.332193\n",
       "StetsonK_1                 0.890372\n",
       "Harmonics_mag_1_1          0.465099\n",
       "Harmonics_mag_2_1         0.0422575\n",
       "Harmonics_mag_3_1         0.0251341\n",
       "Harmonics_mag_4_1         0.0179367\n",
       "                           ...     \n",
       "Psi_eta_v2_2               0.553497\n",
       "Rcs_2                      0.364805\n",
       "Skew_2                      1.16071\n",
       "SmallKurtosis_2             3.74112\n",
       "Std_2                      0.118673\n",
       "StetsonK_2                 0.815719\n",
       "Harmonics_mag_1_2          0.111779\n",
       "Harmonics_mag_2_2          0.024121\n",
       "Harmonics_mag_3_2        0.00835761\n",
       "Harmonics_mag_4_2          0.022394\n",
       "Harmonics_mag_5_2         0.0203637\n",
       "Harmonics_mag_6_2         0.0152591\n",
       "Harmonics_mag_7_2         0.0100256\n",
       "Harmonics_phase_2_2        -3.25718\n",
       "Harmonics_phase_3_2       -0.889252\n",
       "Harmonics_phase_4_2        -3.75332\n",
       "Harmonics_phase_5_2       -0.770371\n",
       "Harmonics_phase_6_2         1.07161\n",
       "Harmonics_phase_7_2        -2.20708\n",
       "Harmonics_mse_2              8.8441\n",
       "Pvar_2                     0.604025\n",
       "ExcessVar_2            -2.45385e-06\n",
       "GP_DRW_sigma_2           0.00627407\n",
       "GP_DRW_tau_2                15.5785\n",
       "SF_ML_amplitude_2           2.10974\n",
       "SF_ML_gamma_2               1.44766\n",
       "IAR_phi_2                  0.931073\n",
       "LinearTrend_2             0.0022849\n",
       "gal_b                       30.0373\n",
       "gal_l                       78.8097\n",
       "Length: 97, dtype: object"
      ]
     },
     "execution_count": 17,
     "metadata": {},
     "output_type": "execute_result"
    }
   ],
   "source": [
    "features = client.get_features(oid, format='pandas')\n",
    "features"
   ]
  },
  {
   "cell_type": "markdown",
   "metadata": {},
   "source": [
    "# 8. get_stamp\n",
    "\n",
    "Get the stamps of an object.\n",
    "\n",
    "See https://github.com/alercebroker/usecases/blob/master/api/ALeRCE%20AVRO-STAMP%20Access%20API.md"
   ]
  },
  {
   "cell_type": "code",
   "execution_count": 18,
   "metadata": {
    "ExecuteTime": {
     "end_time": "2019-11-21T19:38:03.225275Z",
     "start_time": "2019-11-21T19:38:02.560686Z"
    }
   },
   "outputs": [
    {
     "name": "stdout",
     "output_type": "stream",
     "text": [
      "ZTF19abueupg\n"
     ]
    },
    {
     "data": {
      "text/html": [
       "\n",
       "        <div>ZTF oid: ZTF19abueupg, candid: 970313001115015006</div>\n",
       "        <div>&emsp;&emsp;&emsp;&emsp;&emsp;\n",
       "        Science\n",
       "        &emsp;&emsp;&emsp;&emsp;&emsp;&emsp;&emsp;&emsp;&emsp;&emsp;&emsp;&emsp;\n",
       "        Template\n",
       "        &emsp;&emsp;&emsp;&emsp;&emsp;&emsp;&emsp;&emsp;&emsp;&emsp;&emsp;&emsp;\n",
       "        Difference\n",
       "        <div class=\"container\">\n",
       "        <div style=\"float:left;width:20%\"><img src=\"http://avro.alerce.online/get_stamp?oid=ZTF19abueupg&candid=970313001115015006&type=science&format=png\"></div>\n",
       "        <div style=\"float:left;width:20%\"><img src=\"http://avro.alerce.online/get_stamp?oid=ZTF19abueupg&candid=970313001115015006&type=template&format=png\"></div>\n",
       "        <div style=\"float:left;width:20%\"><img src=\"http://avro.alerce.online/get_stamp?oid=ZTF19abueupg&candid=970313001115015006&type=difference&format=png\"></div>\n",
       "        </div>\n",
       "        "
      ],
      "text/plain": [
       "<IPython.core.display.HTML object>"
      ]
     },
     "metadata": {},
     "output_type": "display_data"
    },
    {
     "data": {
      "text/html": [
       "\n",
       "        <div>ZTF oid: ZTF19abueupg, candid: 970313001115015006</div>\n",
       "        <div>&emsp;&emsp;&emsp;&emsp;&emsp;\n",
       "        Science\n",
       "        &emsp;&emsp;&emsp;&emsp;&emsp;&emsp;&emsp;&emsp;&emsp;&emsp;&emsp;&emsp;\n",
       "        Template\n",
       "        &emsp;&emsp;&emsp;&emsp;&emsp;&emsp;&emsp;&emsp;&emsp;&emsp;&emsp;&emsp;\n",
       "        Difference\n",
       "        <div class=\"container\">\n",
       "        <div style=\"float:left;width:20%\"><img src=\"http://avro.alerce.online/get_stamp?oid=ZTF19abueupg&candid=970313001115015006&type=science&format=png\"></div>\n",
       "        <div style=\"float:left;width:20%\"><img src=\"http://avro.alerce.online/get_stamp?oid=ZTF19abueupg&candid=970313001115015006&type=template&format=png\"></div>\n",
       "        <div style=\"float:left;width:20%\"><img src=\"http://avro.alerce.online/get_stamp?oid=ZTF19abueupg&candid=970313001115015006&type=difference&format=png\"></div>\n",
       "        </div>\n",
       "        "
      ],
      "text/plain": [
       "<IPython.core.display.HTML object>"
      ]
     },
     "metadata": {},
     "output_type": "display_data"
    },
    {
     "data": {
      "text/html": [
       "\n",
       "        <div>ZTF oid: ZTF19abueupg, candid: 1043093261115015005</div>\n",
       "        <div>&emsp;&emsp;&emsp;&emsp;&emsp;\n",
       "        Science\n",
       "        &emsp;&emsp;&emsp;&emsp;&emsp;&emsp;&emsp;&emsp;&emsp;&emsp;&emsp;&emsp;\n",
       "        Template\n",
       "        &emsp;&emsp;&emsp;&emsp;&emsp;&emsp;&emsp;&emsp;&emsp;&emsp;&emsp;&emsp;\n",
       "        Difference\n",
       "        <div class=\"container\">\n",
       "        <div style=\"float:left;width:20%\"><img src=\"http://avro.alerce.online/get_stamp?oid=ZTF19abueupg&candid=1043093261115015005&type=science&format=png\"></div>\n",
       "        <div style=\"float:left;width:20%\"><img src=\"http://avro.alerce.online/get_stamp?oid=ZTF19abueupg&candid=1043093261115015005&type=template&format=png\"></div>\n",
       "        <div style=\"float:left;width:20%\"><img src=\"http://avro.alerce.online/get_stamp?oid=ZTF19abueupg&candid=1043093261115015005&type=difference&format=png\"></div>\n",
       "        </div>\n",
       "        "
      ],
      "text/plain": [
       "<IPython.core.display.HTML object>"
      ]
     },
     "metadata": {},
     "output_type": "display_data"
    }
   ],
   "source": [
    "# note that the index of detections is the candid\n",
    "print(oid)\n",
    "client.plot_stamp(oid)\n",
    "client.plot_stamp(oid, detections.index.min())\n",
    "client.plot_stamp(oid, detections.index.max())"
   ]
  },
  {
   "cell_type": "code",
   "execution_count": null,
   "metadata": {},
   "outputs": [],
   "source": []
  },
  {
   "cell_type": "code",
   "execution_count": null,
   "metadata": {},
   "outputs": [],
   "source": []
  }
 ],
 "metadata": {
  "kernelspec": {
   "display_name": "Python 3",
   "language": "python",
   "name": "python3"
  },
  "language_info": {
   "codemirror_mode": {
    "name": "ipython",
    "version": 3
   },
   "file_extension": ".py",
   "mimetype": "text/x-python",
   "name": "python",
   "nbconvert_exporter": "python",
   "pygments_lexer": "ipython3",
   "version": "3.6.5"
  }
 },
 "nbformat": 4,
 "nbformat_minor": 2
}
