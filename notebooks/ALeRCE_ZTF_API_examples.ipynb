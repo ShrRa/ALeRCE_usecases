{
 "cells": [
  {
   "cell_type": "markdown",
   "metadata": {},
   "source": [
    "# ALeRCE API interaction examples"
   ]
  },
  {
   "cell_type": "markdown",
   "metadata": {},
   "source": [
    "Load libraries"
   ]
  },
  {
   "cell_type": "code",
   "execution_count": 1,
   "metadata": {
    "ExecuteTime": {
     "end_time": "2019-09-03T21:53:33.114019Z",
     "start_time": "2019-09-03T21:53:32.438894Z"
    }
   },
   "outputs": [],
   "source": [
    "import sys\n",
    "import requests\n",
    "import matplotlib.pyplot as plt\n",
    "%matplotlib inline\n",
    "import pandas as pd\n",
    "from pandas.io.json import json_normalize\n",
    "from astropy.time import Time\n",
    "from datetime import datetime\n",
    "from IPython.display import HTML\n",
    "\n",
    "from alerce.api import AlerceAPI"
   ]
  },
  {
   "cell_type": "markdown",
   "metadata": {},
   "source": [
    "See https://github.com/alercebroker/usecases/blob/master/api/ALeRCE%20ZTF%20DB%20API.md"
   ]
  },
  {
   "cell_type": "code",
   "execution_count": 2,
   "metadata": {
    "ExecuteTime": {
     "end_time": "2019-09-03T21:53:33.130487Z",
     "start_time": "2019-09-03T21:53:33.115275Z"
    }
   },
   "outputs": [],
   "source": [
    "# continuously load modules (for easier debugging)\n",
    "%load_ext autoreload\n",
    "%autoreload 2"
   ]
  },
  {
   "cell_type": "markdown",
   "metadata": {},
   "source": [
    "# Initialize alerce api object"
   ]
  },
  {
   "cell_type": "code",
   "execution_count": 3,
   "metadata": {
    "ExecuteTime": {
     "end_time": "2019-09-03T21:53:33.144926Z",
     "start_time": "2019-09-03T21:53:33.132516Z"
    }
   },
   "outputs": [],
   "source": [
    "alerce = AlerceAPI()"
   ]
  },
  {
   "cell_type": "markdown",
   "metadata": {},
   "source": [
    "# 1. query\n",
    "\n",
    "Query a list of objects"
   ]
  },
  {
   "cell_type": "markdown",
   "metadata": {
    "ExecuteTime": {
     "end_time": "2019-07-19T02:40:07.495627Z",
     "start_time": "2019-07-19T02:40:07.426187Z"
    }
   },
   "source": [
    "The following json file should be sent\n",
    "\n",
    "```js\n",
    "{\n",
    "total: number, // (if not set the total is counted and the query is slower),\n",
    "records_per_pages: number. // default 20\n",
    "page: number (default 1),\n",
    "sortBy: string columnName, // default nobs\n",
    "query_parameters:{\n",
    "    filters:{\n",
    "        //ZTF Object id\n",
    "        oid: \"ZTFXXXXXX\",\n",
    "        //Number of detections\n",
    "        nobs: { \n",
    "            min: int\n",
    "            max: int\n",
    "        },\n",
    "        //Late Classifier (Random Forest)\n",
    "        classrf: [\"CEPH\",\"DSCT\",\"EB\",\"LPV\",\"RRL\",\"SNe\",\"Other\"] or int,\n",
    "        pclassrf: float [0-1],\n",
    "        //Early Classifier (Stamp Classifier)\n",
    "        classearly: [\"AGN\",\"SN\",\"VS\",\"asteroid\",\"bogus\"] or int,\n",
    "        pclassearly: float [0-1],\n",
    "    },\n",
    "    //Coordinate based search (RA,DEC) and Search Radius.\n",
    "    coordinates:{\n",
    "        ra: float degrees,\n",
    "        dec: float degrees,\n",
    "        sr: float degrees\n",
    "    },\n",
    "    dates:{\n",
    "        //First detection (Discovery date)\n",
    "        firstmjd: {\n",
    "         min: float mjd,\n",
    "         max: float mjd\n",
    "        }\n",
    "    }\n",
    "}\n",
    "```"
   ]
  },
  {
   "cell_type": "markdown",
   "metadata": {},
   "source": [
    "### Example: \n",
    "\n",
    "Give me all the objects with probability of being SNe greater than 0.8 according to the random forest classifier (light curve based), which have between 2 and 40 detections. Give me the second page, with pages of 10 elements each, of a total of at most 40 objects query result.\n",
    "\n",
    "Note: probabilities are experimental and should not be fully trusted"
   ]
  },
  {
   "cell_type": "code",
   "execution_count": 4,
   "metadata": {
    "ExecuteTime": {
     "end_time": "2019-09-03T21:53:33.585144Z",
     "start_time": "2019-09-03T21:53:33.548908Z"
    }
   },
   "outputs": [],
   "source": [
    "total = 40\n",
    "records_per_page = 10\n",
    "page = 2\n",
    "sortBy = \"firstmjd\"\n",
    "nobsmin = 10\n",
    "nobsmax = 40\n",
    "classrf = \"SNe\"\n",
    "pclassrf = 0.8\n",
    "\n",
    "params = {\n",
    "    \"total\": total,\n",
    "    \"records_per_pages\": records_per_page,\n",
    "    \"page\": page,\n",
    "    \"sortBy\": sortBy,\n",
    "    \"query_parameters\": {\n",
    "        \"filters\": {\n",
    "            \"nobs\": { \n",
    "                \"min\": nobsmin,\n",
    "                \"max\": nobsmax\n",
    "            },\n",
    "            \"classrf\": classrf,\n",
    "            \"pclassrf\": pclassrf\n",
    "        }\n",
    "    }\n",
    "}"
   ]
  },
  {
   "cell_type": "code",
   "execution_count": 5,
   "metadata": {
    "ExecuteTime": {
     "end_time": "2019-09-03T21:53:34.472167Z",
     "start_time": "2019-09-03T21:53:33.697480Z"
    }
   },
   "outputs": [
    {
     "data": {
      "text/html": [
       "<div>\n",
       "<style scoped>\n",
       "    .dataframe tbody tr th:only-of-type {\n",
       "        vertical-align: middle;\n",
       "    }\n",
       "\n",
       "    .dataframe tbody tr th {\n",
       "        vertical-align: top;\n",
       "    }\n",
       "\n",
       "    .dataframe thead th {\n",
       "        text-align: right;\n",
       "    }\n",
       "</style>\n",
       "<table border=\"1\" class=\"dataframe\">\n",
       "  <thead>\n",
       "    <tr style=\"text-align: right;\">\n",
       "      <th></th>\n",
       "      <th>catalogid</th>\n",
       "      <th>classearly</th>\n",
       "      <th>classrf</th>\n",
       "      <th>classxmatch</th>\n",
       "      <th>deltajd</th>\n",
       "      <th>first_magap_g</th>\n",
       "      <th>first_magap_r</th>\n",
       "      <th>first_magpsf_g</th>\n",
       "      <th>first_magpsf_r</th>\n",
       "      <th>firstmjd</th>\n",
       "      <th>...</th>\n",
       "      <th>nobs</th>\n",
       "      <th>pclassearly</th>\n",
       "      <th>pclassrf</th>\n",
       "      <th>period</th>\n",
       "      <th>sigma_magap_g</th>\n",
       "      <th>sigma_magap_r</th>\n",
       "      <th>sigma_magpsf_g</th>\n",
       "      <th>sigma_magpsf_r</th>\n",
       "      <th>sigmadec</th>\n",
       "      <th>sigmara</th>\n",
       "    </tr>\n",
       "    <tr>\n",
       "      <th>oid</th>\n",
       "      <th></th>\n",
       "      <th></th>\n",
       "      <th></th>\n",
       "      <th></th>\n",
       "      <th></th>\n",
       "      <th></th>\n",
       "      <th></th>\n",
       "      <th></th>\n",
       "      <th></th>\n",
       "      <th></th>\n",
       "      <th></th>\n",
       "      <th></th>\n",
       "      <th></th>\n",
       "      <th></th>\n",
       "      <th></th>\n",
       "      <th></th>\n",
       "      <th></th>\n",
       "      <th></th>\n",
       "      <th></th>\n",
       "      <th></th>\n",
       "      <th></th>\n",
       "    </tr>\n",
       "  </thead>\n",
       "  <tbody>\n",
       "    <tr>\n",
       "      <td>ZTF19ablekwo</td>\n",
       "      <td>None</td>\n",
       "      <td>SN</td>\n",
       "      <td>6</td>\n",
       "      <td>None</td>\n",
       "      <td>29.929456</td>\n",
       "      <td>19.643200</td>\n",
       "      <td>19.394400</td>\n",
       "      <td>19.937077</td>\n",
       "      <td>19.435888</td>\n",
       "      <td>58697.474363</td>\n",
       "      <td>...</td>\n",
       "      <td>17</td>\n",
       "      <td>0.999589</td>\n",
       "      <td>0.800</td>\n",
       "      <td>None</td>\n",
       "      <td>0.399619</td>\n",
       "      <td>0.342431</td>\n",
       "      <td>0.442817</td>\n",
       "      <td>0.257825</td>\n",
       "      <td>0.000026</td>\n",
       "      <td>0.000047</td>\n",
       "    </tr>\n",
       "    <tr>\n",
       "      <td>ZTF19ablesob</td>\n",
       "      <td>None</td>\n",
       "      <td>None</td>\n",
       "      <td>6</td>\n",
       "      <td>None</td>\n",
       "      <td>29.961620</td>\n",
       "      <td>19.430201</td>\n",
       "      <td>19.760201</td>\n",
       "      <td>19.483698</td>\n",
       "      <td>19.729057</td>\n",
       "      <td>58695.415093</td>\n",
       "      <td>...</td>\n",
       "      <td>20</td>\n",
       "      <td>NaN</td>\n",
       "      <td>0.842</td>\n",
       "      <td>None</td>\n",
       "      <td>0.503572</td>\n",
       "      <td>0.686431</td>\n",
       "      <td>0.481555</td>\n",
       "      <td>0.637454</td>\n",
       "      <td>0.000015</td>\n",
       "      <td>0.000011</td>\n",
       "    </tr>\n",
       "    <tr>\n",
       "      <td>ZTF19abloocj</td>\n",
       "      <td>None</td>\n",
       "      <td>SN</td>\n",
       "      <td>6</td>\n",
       "      <td>None</td>\n",
       "      <td>31.059074</td>\n",
       "      <td>20.024300</td>\n",
       "      <td>20.180201</td>\n",
       "      <td>20.374308</td>\n",
       "      <td>20.492908</td>\n",
       "      <td>58696.428137</td>\n",
       "      <td>...</td>\n",
       "      <td>30</td>\n",
       "      <td>0.999269</td>\n",
       "      <td>0.880</td>\n",
       "      <td>None</td>\n",
       "      <td>0.327595</td>\n",
       "      <td>0.402456</td>\n",
       "      <td>0.407508</td>\n",
       "      <td>0.366603</td>\n",
       "      <td>0.000021</td>\n",
       "      <td>0.000027</td>\n",
       "    </tr>\n",
       "    <tr>\n",
       "      <td>ZTF19ablpfhz</td>\n",
       "      <td>None</td>\n",
       "      <td>SN</td>\n",
       "      <td>6</td>\n",
       "      <td>None</td>\n",
       "      <td>29.043935</td>\n",
       "      <td>19.297600</td>\n",
       "      <td>19.292801</td>\n",
       "      <td>19.211479</td>\n",
       "      <td>19.203821</td>\n",
       "      <td>58696.451701</td>\n",
       "      <td>...</td>\n",
       "      <td>20</td>\n",
       "      <td>0.998146</td>\n",
       "      <td>0.902</td>\n",
       "      <td>None</td>\n",
       "      <td>0.373591</td>\n",
       "      <td>0.339308</td>\n",
       "      <td>0.414614</td>\n",
       "      <td>0.298704</td>\n",
       "      <td>0.000013</td>\n",
       "      <td>0.000026</td>\n",
       "    </tr>\n",
       "    <tr>\n",
       "      <td>ZTF19ablpnmk</td>\n",
       "      <td>None</td>\n",
       "      <td>SN</td>\n",
       "      <td>6</td>\n",
       "      <td>None</td>\n",
       "      <td>29.020463</td>\n",
       "      <td>19.664801</td>\n",
       "      <td>20.113701</td>\n",
       "      <td>19.805483</td>\n",
       "      <td>19.919849</td>\n",
       "      <td>58696.463738</td>\n",
       "      <td>...</td>\n",
       "      <td>21</td>\n",
       "      <td>1.000000</td>\n",
       "      <td>0.802</td>\n",
       "      <td>None</td>\n",
       "      <td>0.343581</td>\n",
       "      <td>0.420156</td>\n",
       "      <td>0.151708</td>\n",
       "      <td>0.334835</td>\n",
       "      <td>0.000039</td>\n",
       "      <td>0.000050</td>\n",
       "    </tr>\n",
       "  </tbody>\n",
       "</table>\n",
       "<p>5 rows × 43 columns</p>\n",
       "</div>"
      ],
      "text/plain": [
       "             catalogid classearly  classrf classxmatch    deltajd  \\\n",
       "oid                                                                 \n",
       "ZTF19ablekwo      None         SN        6        None  29.929456   \n",
       "ZTF19ablesob      None       None        6        None  29.961620   \n",
       "ZTF19abloocj      None         SN        6        None  31.059074   \n",
       "ZTF19ablpfhz      None         SN        6        None  29.043935   \n",
       "ZTF19ablpnmk      None         SN        6        None  29.020463   \n",
       "\n",
       "              first_magap_g  first_magap_r  first_magpsf_g  first_magpsf_r  \\\n",
       "oid                                                                          \n",
       "ZTF19ablekwo      19.643200      19.394400       19.937077       19.435888   \n",
       "ZTF19ablesob      19.430201      19.760201       19.483698       19.729057   \n",
       "ZTF19abloocj      20.024300      20.180201       20.374308       20.492908   \n",
       "ZTF19ablpfhz      19.297600      19.292801       19.211479       19.203821   \n",
       "ZTF19ablpnmk      19.664801      20.113701       19.805483       19.919849   \n",
       "\n",
       "                  firstmjd  ...  nobs  pclassearly  pclassrf  period  \\\n",
       "oid                         ...                                        \n",
       "ZTF19ablekwo  58697.474363  ...    17     0.999589     0.800    None   \n",
       "ZTF19ablesob  58695.415093  ...    20          NaN     0.842    None   \n",
       "ZTF19abloocj  58696.428137  ...    30     0.999269     0.880    None   \n",
       "ZTF19ablpfhz  58696.451701  ...    20     0.998146     0.902    None   \n",
       "ZTF19ablpnmk  58696.463738  ...    21     1.000000     0.802    None   \n",
       "\n",
       "              sigma_magap_g  sigma_magap_r  sigma_magpsf_g  sigma_magpsf_r  \\\n",
       "oid                                                                          \n",
       "ZTF19ablekwo       0.399619       0.342431        0.442817        0.257825   \n",
       "ZTF19ablesob       0.503572       0.686431        0.481555        0.637454   \n",
       "ZTF19abloocj       0.327595       0.402456        0.407508        0.366603   \n",
       "ZTF19ablpfhz       0.373591       0.339308        0.414614        0.298704   \n",
       "ZTF19ablpnmk       0.343581       0.420156        0.151708        0.334835   \n",
       "\n",
       "              sigmadec   sigmara  \n",
       "oid                               \n",
       "ZTF19ablekwo  0.000026  0.000047  \n",
       "ZTF19ablesob  0.000015  0.000011  \n",
       "ZTF19abloocj  0.000021  0.000027  \n",
       "ZTF19ablpfhz  0.000013  0.000026  \n",
       "ZTF19ablpnmk  0.000039  0.000050  \n",
       "\n",
       "[5 rows x 43 columns]"
      ]
     },
     "execution_count": 5,
     "metadata": {},
     "output_type": "execute_result"
    }
   ],
   "source": [
    "query_results = alerce.query(params)\n",
    "query_results.head()"
   ]
  },
  {
   "cell_type": "markdown",
   "metadata": {},
   "source": [
    "### Example: \n",
    "\n",
    "Give me the last 100 objects with classified as SNe according to the early classifier (one image stamp)\n",
    "\n",
    "Note: this is experimental, about 90% of the candidates are false positives"
   ]
  },
  {
   "cell_type": "code",
   "execution_count": 6,
   "metadata": {
    "ExecuteTime": {
     "end_time": "2019-09-03T21:53:34.494133Z",
     "start_time": "2019-09-03T21:53:34.473805Z"
    }
   },
   "outputs": [],
   "source": [
    "mjd_48hr = Time(datetime.utcnow(), scale='utc').mjd - 2.\n",
    "\n",
    "total = 100\n",
    "records_per_page = 100\n",
    "sortBy = \"pclassearly\"\n",
    "\n",
    "params = {\n",
    "    \"total\": total,\n",
    "    \"records_per_pages\": records_per_page,\n",
    "    \"sortBy\": sortBy,\n",
    "    \"query_parameters\": {\n",
    "        \"filters\": {\n",
    "            \"classearly\": 2\n",
    "        },\n",
    "        \"dates\": {\n",
    "            \"firstmjd\": {\n",
    "                \"min\": mjd_48hr\n",
    "            }\n",
    "        }\n",
    "    }\n",
    "}"
   ]
  },
  {
   "cell_type": "code",
   "execution_count": 7,
   "metadata": {
    "ExecuteTime": {
     "end_time": "2019-09-03T21:53:34.912485Z",
     "start_time": "2019-09-03T21:53:34.495725Z"
    }
   },
   "outputs": [
    {
     "data": {
      "text/html": [
       "<div>\n",
       "<style scoped>\n",
       "    .dataframe tbody tr th:only-of-type {\n",
       "        vertical-align: middle;\n",
       "    }\n",
       "\n",
       "    .dataframe tbody tr th {\n",
       "        vertical-align: top;\n",
       "    }\n",
       "\n",
       "    .dataframe thead th {\n",
       "        text-align: right;\n",
       "    }\n",
       "</style>\n",
       "<table border=\"1\" class=\"dataframe\">\n",
       "  <thead>\n",
       "    <tr style=\"text-align: right;\">\n",
       "      <th></th>\n",
       "      <th>catalogid</th>\n",
       "      <th>classearly</th>\n",
       "      <th>classrf</th>\n",
       "      <th>classxmatch</th>\n",
       "      <th>deltajd</th>\n",
       "      <th>first_magap_g</th>\n",
       "      <th>first_magap_r</th>\n",
       "      <th>first_magpsf_g</th>\n",
       "      <th>first_magpsf_r</th>\n",
       "      <th>firstmjd</th>\n",
       "      <th>...</th>\n",
       "      <th>nobs</th>\n",
       "      <th>pclassearly</th>\n",
       "      <th>pclassrf</th>\n",
       "      <th>period</th>\n",
       "      <th>sigma_magap_g</th>\n",
       "      <th>sigma_magap_r</th>\n",
       "      <th>sigma_magpsf_g</th>\n",
       "      <th>sigma_magpsf_r</th>\n",
       "      <th>sigmadec</th>\n",
       "      <th>sigmara</th>\n",
       "    </tr>\n",
       "    <tr>\n",
       "      <th>oid</th>\n",
       "      <th></th>\n",
       "      <th></th>\n",
       "      <th></th>\n",
       "      <th></th>\n",
       "      <th></th>\n",
       "      <th></th>\n",
       "      <th></th>\n",
       "      <th></th>\n",
       "      <th></th>\n",
       "      <th></th>\n",
       "      <th></th>\n",
       "      <th></th>\n",
       "      <th></th>\n",
       "      <th></th>\n",
       "      <th></th>\n",
       "      <th></th>\n",
       "      <th></th>\n",
       "      <th></th>\n",
       "      <th></th>\n",
       "      <th></th>\n",
       "      <th></th>\n",
       "    </tr>\n",
       "  </thead>\n",
       "  <tbody>\n",
       "    <tr>\n",
       "      <td>ZTF19abvnkob</td>\n",
       "      <td>None</td>\n",
       "      <td>SN</td>\n",
       "      <td>None</td>\n",
       "      <td>None</td>\n",
       "      <td>0.0</td>\n",
       "      <td>16.058011</td>\n",
       "      <td>None</td>\n",
       "      <td>16.072726</td>\n",
       "      <td>None</td>\n",
       "      <td>58728.275255</td>\n",
       "      <td>...</td>\n",
       "      <td>1</td>\n",
       "      <td>0.630518</td>\n",
       "      <td>None</td>\n",
       "      <td>None</td>\n",
       "      <td>None</td>\n",
       "      <td>None</td>\n",
       "      <td>None</td>\n",
       "      <td>None</td>\n",
       "      <td>None</td>\n",
       "      <td>None</td>\n",
       "    </tr>\n",
       "    <tr>\n",
       "      <td>ZTF19abvnkoe</td>\n",
       "      <td>None</td>\n",
       "      <td>SN</td>\n",
       "      <td>None</td>\n",
       "      <td>None</td>\n",
       "      <td>0.0</td>\n",
       "      <td>16.000115</td>\n",
       "      <td>None</td>\n",
       "      <td>16.316786</td>\n",
       "      <td>None</td>\n",
       "      <td>58728.275255</td>\n",
       "      <td>...</td>\n",
       "      <td>1</td>\n",
       "      <td>0.741625</td>\n",
       "      <td>None</td>\n",
       "      <td>None</td>\n",
       "      <td>None</td>\n",
       "      <td>None</td>\n",
       "      <td>None</td>\n",
       "      <td>None</td>\n",
       "      <td>None</td>\n",
       "      <td>None</td>\n",
       "    </tr>\n",
       "    <tr>\n",
       "      <td>ZTF19abvnkoj</td>\n",
       "      <td>None</td>\n",
       "      <td>SN</td>\n",
       "      <td>None</td>\n",
       "      <td>None</td>\n",
       "      <td>0.0</td>\n",
       "      <td>15.845390</td>\n",
       "      <td>None</td>\n",
       "      <td>16.198460</td>\n",
       "      <td>None</td>\n",
       "      <td>58728.275255</td>\n",
       "      <td>...</td>\n",
       "      <td>1</td>\n",
       "      <td>0.565247</td>\n",
       "      <td>None</td>\n",
       "      <td>None</td>\n",
       "      <td>None</td>\n",
       "      <td>None</td>\n",
       "      <td>None</td>\n",
       "      <td>None</td>\n",
       "      <td>None</td>\n",
       "      <td>None</td>\n",
       "    </tr>\n",
       "    <tr>\n",
       "      <td>ZTF19abvnkpb</td>\n",
       "      <td>None</td>\n",
       "      <td>SN</td>\n",
       "      <td>None</td>\n",
       "      <td>None</td>\n",
       "      <td>0.0</td>\n",
       "      <td>13.551824</td>\n",
       "      <td>None</td>\n",
       "      <td>13.537934</td>\n",
       "      <td>None</td>\n",
       "      <td>58728.275255</td>\n",
       "      <td>...</td>\n",
       "      <td>1</td>\n",
       "      <td>0.931445</td>\n",
       "      <td>None</td>\n",
       "      <td>None</td>\n",
       "      <td>None</td>\n",
       "      <td>None</td>\n",
       "      <td>None</td>\n",
       "      <td>None</td>\n",
       "      <td>None</td>\n",
       "      <td>None</td>\n",
       "    </tr>\n",
       "    <tr>\n",
       "      <td>ZTF19abvnkpi</td>\n",
       "      <td>None</td>\n",
       "      <td>SN</td>\n",
       "      <td>None</td>\n",
       "      <td>None</td>\n",
       "      <td>0.0</td>\n",
       "      <td>19.552396</td>\n",
       "      <td>None</td>\n",
       "      <td>17.418259</td>\n",
       "      <td>None</td>\n",
       "      <td>58728.275255</td>\n",
       "      <td>...</td>\n",
       "      <td>1</td>\n",
       "      <td>0.663202</td>\n",
       "      <td>None</td>\n",
       "      <td>None</td>\n",
       "      <td>None</td>\n",
       "      <td>None</td>\n",
       "      <td>None</td>\n",
       "      <td>None</td>\n",
       "      <td>None</td>\n",
       "      <td>None</td>\n",
       "    </tr>\n",
       "  </tbody>\n",
       "</table>\n",
       "<p>5 rows × 43 columns</p>\n",
       "</div>"
      ],
      "text/plain": [
       "             catalogid classearly classrf classxmatch  deltajd  first_magap_g  \\\n",
       "oid                                                                             \n",
       "ZTF19abvnkob      None         SN    None        None      0.0      16.058011   \n",
       "ZTF19abvnkoe      None         SN    None        None      0.0      16.000115   \n",
       "ZTF19abvnkoj      None         SN    None        None      0.0      15.845390   \n",
       "ZTF19abvnkpb      None         SN    None        None      0.0      13.551824   \n",
       "ZTF19abvnkpi      None         SN    None        None      0.0      19.552396   \n",
       "\n",
       "             first_magap_r  first_magpsf_g first_magpsf_r      firstmjd  ...  \\\n",
       "oid                                                                      ...   \n",
       "ZTF19abvnkob          None       16.072726           None  58728.275255  ...   \n",
       "ZTF19abvnkoe          None       16.316786           None  58728.275255  ...   \n",
       "ZTF19abvnkoj          None       16.198460           None  58728.275255  ...   \n",
       "ZTF19abvnkpb          None       13.537934           None  58728.275255  ...   \n",
       "ZTF19abvnkpi          None       17.418259           None  58728.275255  ...   \n",
       "\n",
       "              nobs pclassearly  pclassrf period  sigma_magap_g  sigma_magap_r  \\\n",
       "oid                                                                             \n",
       "ZTF19abvnkob     1    0.630518      None   None           None           None   \n",
       "ZTF19abvnkoe     1    0.741625      None   None           None           None   \n",
       "ZTF19abvnkoj     1    0.565247      None   None           None           None   \n",
       "ZTF19abvnkpb     1    0.931445      None   None           None           None   \n",
       "ZTF19abvnkpi     1    0.663202      None   None           None           None   \n",
       "\n",
       "             sigma_magpsf_g  sigma_magpsf_r sigmadec  sigmara  \n",
       "oid                                                            \n",
       "ZTF19abvnkob           None            None     None     None  \n",
       "ZTF19abvnkoe           None            None     None     None  \n",
       "ZTF19abvnkoj           None            None     None     None  \n",
       "ZTF19abvnkpb           None            None     None     None  \n",
       "ZTF19abvnkpi           None            None     None     None  \n",
       "\n",
       "[5 rows x 43 columns]"
      ]
     },
     "execution_count": 7,
     "metadata": {},
     "output_type": "execute_result"
    }
   ],
   "source": [
    "query_results = alerce.query(params)\n",
    "query_results.head()"
   ]
  },
  {
   "cell_type": "code",
   "execution_count": 8,
   "metadata": {
    "ExecuteTime": {
     "end_time": "2019-09-03T21:53:35.075130Z",
     "start_time": "2019-09-03T21:53:34.914480Z"
    }
   },
   "outputs": [
    {
     "data": {
      "text/plain": [
       "(20.212865754614146, 12.851902817885259)"
      ]
     },
     "execution_count": 8,
     "metadata": {},
     "output_type": "execute_result"
    },
    {
     "data": {
      "image/png": "[encoded data removed]",
      "text/plain": [
       "<Figure size 864x576 with 1 Axes>"
      ]
     },
     "metadata": {},
     "output_type": "display_data"
    }
   ],
   "source": [
    "# Show first mag vs first MJD\n",
    "fig, ax = plt.subplots(figsize = (12, 8))\n",
    "mask = query_results.first_magpsf_r.notnull()\n",
    "ax.scatter(query_results.firstmjd[mask], query_results.first_magpsf_r[mask], c = 'r')\n",
    "mask = query_results.first_magpsf_g.notnull()\n",
    "ax.scatter(query_results.firstmjd[mask], query_results.first_magpsf_g[mask], c = 'g')\n",
    "ax.set_xlabel(\"First MJD\")\n",
    "ax.set_ylabel(\"First mag g|r\")\n",
    "ax.set_ylim(ax.get_ylim()[::-1])"
   ]
  },
  {
   "cell_type": "markdown",
   "metadata": {},
   "source": [
    "You can see the ZTF filter changes during the night. The missing times are due to the ZTF private stream."
   ]
  },
  {
   "cell_type": "markdown",
   "metadata": {},
   "source": [
    "# 2. get_sql\n",
    "\n",
    "Get the sql query using the same parameters as the previous query"
   ]
  },
  {
   "cell_type": "code",
   "execution_count": 9,
   "metadata": {
    "ExecuteTime": {
     "end_time": "2019-09-03T21:53:35.428030Z",
     "start_time": "2019-09-03T21:53:35.078905Z"
    }
   },
   "outputs": [
    {
     "data": {
      "text/plain": [
       "b\"SELECT * FROM objects WHERE  classearly = 'SN' AND  firstmjd >= 58727.912204766726 \""
      ]
     },
     "execution_count": 9,
     "metadata": {},
     "output_type": "execute_result"
    }
   ],
   "source": [
    "alerce.get_sql(params)"
   ]
  },
  {
   "cell_type": "markdown",
   "metadata": {},
   "source": [
    "# 3. get_detections\n",
    "\n",
    "Get all the detections for an object"
   ]
  },
  {
   "cell_type": "code",
   "execution_count": 10,
   "metadata": {
    "ExecuteTime": {
     "end_time": "2019-09-03T21:53:35.445656Z",
     "start_time": "2019-09-03T21:53:35.431321Z"
    }
   },
   "outputs": [],
   "source": [
    "oid = \"ZTF19aaxqsbn\""
   ]
  },
  {
   "cell_type": "code",
   "execution_count": 11,
   "metadata": {
    "ExecuteTime": {
     "end_time": "2019-09-03T21:53:35.845191Z",
     "start_time": "2019-09-03T21:53:35.447110Z"
    }
   },
   "outputs": [
    {
     "data": {
      "text/html": [
       "<div>\n",
       "<style scoped>\n",
       "    .dataframe tbody tr th:only-of-type {\n",
       "        vertical-align: middle;\n",
       "    }\n",
       "\n",
       "    .dataframe tbody tr th {\n",
       "        vertical-align: top;\n",
       "    }\n",
       "\n",
       "    .dataframe thead th {\n",
       "        text-align: right;\n",
       "    }\n",
       "</style>\n",
       "<table border=\"1\" class=\"dataframe\">\n",
       "  <thead>\n",
       "    <tr style=\"text-align: right;\">\n",
       "      <th></th>\n",
       "      <th>candid_str</th>\n",
       "      <th>dec</th>\n",
       "      <th>diffmaglim</th>\n",
       "      <th>distpsnr1</th>\n",
       "      <th>fid</th>\n",
       "      <th>field</th>\n",
       "      <th>isdiffpos</th>\n",
       "      <th>magap</th>\n",
       "      <th>magap_corr</th>\n",
       "      <th>magnr</th>\n",
       "      <th>...</th>\n",
       "      <th>rb</th>\n",
       "      <th>rcid</th>\n",
       "      <th>sgscore1</th>\n",
       "      <th>sigmadec</th>\n",
       "      <th>sigmagap</th>\n",
       "      <th>sigmagap_corr</th>\n",
       "      <th>sigmagnr</th>\n",
       "      <th>sigmapsf</th>\n",
       "      <th>sigmapsf_corr</th>\n",
       "      <th>sigmara</th>\n",
       "    </tr>\n",
       "    <tr>\n",
       "      <th>candid</th>\n",
       "      <th></th>\n",
       "      <th></th>\n",
       "      <th></th>\n",
       "      <th></th>\n",
       "      <th></th>\n",
       "      <th></th>\n",
       "      <th></th>\n",
       "      <th></th>\n",
       "      <th></th>\n",
       "      <th></th>\n",
       "      <th></th>\n",
       "      <th></th>\n",
       "      <th></th>\n",
       "      <th></th>\n",
       "      <th></th>\n",
       "      <th></th>\n",
       "      <th></th>\n",
       "      <th></th>\n",
       "      <th></th>\n",
       "      <th></th>\n",
       "      <th></th>\n",
       "    </tr>\n",
       "  </thead>\n",
       "  <tbody>\n",
       "    <tr>\n",
       "      <td>886240045615015003</td>\n",
       "      <td>886240045615015003</td>\n",
       "      <td>80.162942</td>\n",
       "      <td>20.342619</td>\n",
       "      <td>1.676753</td>\n",
       "      <td>2</td>\n",
       "      <td>862</td>\n",
       "      <td>1</td>\n",
       "      <td>19.145700</td>\n",
       "      <td>19.145700</td>\n",
       "      <td>16.899</td>\n",
       "      <td>...</td>\n",
       "      <td>0.944286</td>\n",
       "      <td>56</td>\n",
       "      <td>0.196298</td>\n",
       "      <td>0.09</td>\n",
       "      <td>0.1670</td>\n",
       "      <td>0.1670</td>\n",
       "      <td>0.073</td>\n",
       "      <td>0.111001</td>\n",
       "      <td>0.111001</td>\n",
       "      <td>0.09</td>\n",
       "    </tr>\n",
       "    <tr>\n",
       "      <td>889199085615015000</td>\n",
       "      <td>889199085615015000</td>\n",
       "      <td>80.162995</td>\n",
       "      <td>20.061783</td>\n",
       "      <td>1.792658</td>\n",
       "      <td>1</td>\n",
       "      <td>862</td>\n",
       "      <td>1</td>\n",
       "      <td>19.063999</td>\n",
       "      <td>19.063999</td>\n",
       "      <td>17.948</td>\n",
       "      <td>...</td>\n",
       "      <td>0.750000</td>\n",
       "      <td>56</td>\n",
       "      <td>0.196298</td>\n",
       "      <td>0.09</td>\n",
       "      <td>0.1374</td>\n",
       "      <td>0.1374</td>\n",
       "      <td>0.062</td>\n",
       "      <td>0.153750</td>\n",
       "      <td>0.153750</td>\n",
       "      <td>0.09</td>\n",
       "    </tr>\n",
       "    <tr>\n",
       "      <td>889249055615015001</td>\n",
       "      <td>889249055615015001</td>\n",
       "      <td>80.162994</td>\n",
       "      <td>20.234301</td>\n",
       "      <td>1.745674</td>\n",
       "      <td>2</td>\n",
       "      <td>862</td>\n",
       "      <td>1</td>\n",
       "      <td>18.581699</td>\n",
       "      <td>18.581699</td>\n",
       "      <td>16.899</td>\n",
       "      <td>...</td>\n",
       "      <td>0.947143</td>\n",
       "      <td>56</td>\n",
       "      <td>0.196298</td>\n",
       "      <td>0.09</td>\n",
       "      <td>0.1058</td>\n",
       "      <td>0.1058</td>\n",
       "      <td>0.073</td>\n",
       "      <td>0.085079</td>\n",
       "      <td>0.085079</td>\n",
       "      <td>0.09</td>\n",
       "    </tr>\n",
       "    <tr>\n",
       "      <td>892240745615015005</td>\n",
       "      <td>892240745615015005</td>\n",
       "      <td>80.162949</td>\n",
       "      <td>19.379860</td>\n",
       "      <td>1.706684</td>\n",
       "      <td>2</td>\n",
       "      <td>862</td>\n",
       "      <td>1</td>\n",
       "      <td>18.940800</td>\n",
       "      <td>18.940800</td>\n",
       "      <td>16.899</td>\n",
       "      <td>...</td>\n",
       "      <td>0.892857</td>\n",
       "      <td>56</td>\n",
       "      <td>0.196298</td>\n",
       "      <td>0.09</td>\n",
       "      <td>0.2974</td>\n",
       "      <td>0.2974</td>\n",
       "      <td>0.073</td>\n",
       "      <td>0.104200</td>\n",
       "      <td>0.104200</td>\n",
       "      <td>0.09</td>\n",
       "    </tr>\n",
       "    <tr>\n",
       "      <td>895195845615015003</td>\n",
       "      <td>895195845615015003</td>\n",
       "      <td>80.162940</td>\n",
       "      <td>19.375284</td>\n",
       "      <td>1.912989</td>\n",
       "      <td>1</td>\n",
       "      <td>862</td>\n",
       "      <td>1</td>\n",
       "      <td>18.676800</td>\n",
       "      <td>18.676800</td>\n",
       "      <td>17.948</td>\n",
       "      <td>...</td>\n",
       "      <td>0.951429</td>\n",
       "      <td>56</td>\n",
       "      <td>0.196298</td>\n",
       "      <td>0.09</td>\n",
       "      <td>0.1865</td>\n",
       "      <td>0.1865</td>\n",
       "      <td>0.062</td>\n",
       "      <td>0.112041</td>\n",
       "      <td>0.112041</td>\n",
       "      <td>0.09</td>\n",
       "    </tr>\n",
       "  </tbody>\n",
       "</table>\n",
       "<p>5 rows × 26 columns</p>\n",
       "</div>"
      ],
      "text/plain": [
       "                            candid_str        dec  diffmaglim  distpsnr1  fid  \\\n",
       "candid                                                                          \n",
       "886240045615015003  886240045615015003  80.162942   20.342619   1.676753    2   \n",
       "889199085615015000  889199085615015000  80.162995   20.061783   1.792658    1   \n",
       "889249055615015001  889249055615015001  80.162994   20.234301   1.745674    2   \n",
       "892240745615015005  892240745615015005  80.162949   19.379860   1.706684    2   \n",
       "895195845615015003  895195845615015003  80.162940   19.375284   1.912989    1   \n",
       "\n",
       "                    field  isdiffpos      magap  magap_corr   magnr  ...  \\\n",
       "candid                                                               ...   \n",
       "886240045615015003    862          1  19.145700   19.145700  16.899  ...   \n",
       "889199085615015000    862          1  19.063999   19.063999  17.948  ...   \n",
       "889249055615015001    862          1  18.581699   18.581699  16.899  ...   \n",
       "892240745615015005    862          1  18.940800   18.940800  16.899  ...   \n",
       "895195845615015003    862          1  18.676800   18.676800  17.948  ...   \n",
       "\n",
       "                          rb  rcid  sgscore1 sigmadec sigmagap  sigmagap_corr  \\\n",
       "candid                                                                          \n",
       "886240045615015003  0.944286    56  0.196298     0.09   0.1670         0.1670   \n",
       "889199085615015000  0.750000    56  0.196298     0.09   0.1374         0.1374   \n",
       "889249055615015001  0.947143    56  0.196298     0.09   0.1058         0.1058   \n",
       "892240745615015005  0.892857    56  0.196298     0.09   0.2974         0.2974   \n",
       "895195845615015003  0.951429    56  0.196298     0.09   0.1865         0.1865   \n",
       "\n",
       "                    sigmagnr  sigmapsf  sigmapsf_corr  sigmara  \n",
       "candid                                                          \n",
       "886240045615015003     0.073  0.111001       0.111001     0.09  \n",
       "889199085615015000     0.062  0.153750       0.153750     0.09  \n",
       "889249055615015001     0.073  0.085079       0.085079     0.09  \n",
       "892240745615015005     0.073  0.104200       0.104200     0.09  \n",
       "895195845615015003     0.062  0.112041       0.112041     0.09  \n",
       "\n",
       "[5 rows x 26 columns]"
      ]
     },
     "metadata": {},
     "output_type": "display_data"
    },
    {
     "data": {
      "text/plain": [
       "['candid_str',\n",
       " 'dec',\n",
       " 'diffmaglim',\n",
       " 'distpsnr1',\n",
       " 'fid',\n",
       " 'field',\n",
       " 'isdiffpos',\n",
       " 'magap',\n",
       " 'magap_corr',\n",
       " 'magnr',\n",
       " 'magpsf',\n",
       " 'magpsf_corr',\n",
       " 'mjd',\n",
       " 'object_id',\n",
       " 'oid',\n",
       " 'ra',\n",
       " 'rb',\n",
       " 'rcid',\n",
       " 'sgscore1',\n",
       " 'sigmadec',\n",
       " 'sigmagap',\n",
       " 'sigmagap_corr',\n",
       " 'sigmagnr',\n",
       " 'sigmapsf',\n",
       " 'sigmapsf_corr',\n",
       " 'sigmara']"
      ]
     },
     "execution_count": 11,
     "metadata": {},
     "output_type": "execute_result"
    }
   ],
   "source": [
    "detections = alerce.get_detections(oid)\n",
    "display(detections.head())\n",
    "list(detections)"
   ]
  },
  {
   "cell_type": "markdown",
   "metadata": {},
   "source": [
    "# 4. get_non_detections"
   ]
  },
  {
   "cell_type": "code",
   "execution_count": 12,
   "metadata": {
    "ExecuteTime": {
     "end_time": "2019-09-03T21:53:36.154086Z",
     "start_time": "2019-09-03T21:53:35.846855Z"
    }
   },
   "outputs": [
    {
     "data": {
      "text/html": [
       "<div>\n",
       "<style scoped>\n",
       "    .dataframe tbody tr th:only-of-type {\n",
       "        vertical-align: middle;\n",
       "    }\n",
       "\n",
       "    .dataframe tbody tr th {\n",
       "        vertical-align: top;\n",
       "    }\n",
       "\n",
       "    .dataframe thead th {\n",
       "        text-align: right;\n",
       "    }\n",
       "</style>\n",
       "<table border=\"1\" class=\"dataframe\">\n",
       "  <thead>\n",
       "    <tr style=\"text-align: right;\">\n",
       "      <th></th>\n",
       "      <th>diffmaglim</th>\n",
       "      <th>fid</th>\n",
       "      <th>object_id</th>\n",
       "      <th>oid</th>\n",
       "    </tr>\n",
       "    <tr>\n",
       "      <th>mjd</th>\n",
       "      <th></th>\n",
       "      <th></th>\n",
       "      <th></th>\n",
       "      <th></th>\n",
       "    </tr>\n",
       "  </thead>\n",
       "  <tbody>\n",
       "    <tr>\n",
       "      <td>58617.203958</td>\n",
       "      <td>19.953899</td>\n",
       "      <td>1</td>\n",
       "      <td>None</td>\n",
       "      <td>ZTF19aaxqsbn</td>\n",
       "    </tr>\n",
       "    <tr>\n",
       "      <td>58617.203958</td>\n",
       "      <td>19.953899</td>\n",
       "      <td>1</td>\n",
       "      <td>None</td>\n",
       "      <td>ZTF19aaxqsbn</td>\n",
       "    </tr>\n",
       "    <tr>\n",
       "      <td>58617.203958</td>\n",
       "      <td>19.953899</td>\n",
       "      <td>1</td>\n",
       "      <td>None</td>\n",
       "      <td>ZTF19aaxqsbn</td>\n",
       "    </tr>\n",
       "    <tr>\n",
       "      <td>58617.203958</td>\n",
       "      <td>19.953899</td>\n",
       "      <td>1</td>\n",
       "      <td>None</td>\n",
       "      <td>ZTF19aaxqsbn</td>\n",
       "    </tr>\n",
       "    <tr>\n",
       "      <td>58617.297940</td>\n",
       "      <td>19.972601</td>\n",
       "      <td>2</td>\n",
       "      <td>None</td>\n",
       "      <td>ZTF19aaxqsbn</td>\n",
       "    </tr>\n",
       "  </tbody>\n",
       "</table>\n",
       "</div>"
      ],
      "text/plain": [
       "              diffmaglim  fid object_id           oid\n",
       "mjd                                                  \n",
       "58617.203958   19.953899    1      None  ZTF19aaxqsbn\n",
       "58617.203958   19.953899    1      None  ZTF19aaxqsbn\n",
       "58617.203958   19.953899    1      None  ZTF19aaxqsbn\n",
       "58617.203958   19.953899    1      None  ZTF19aaxqsbn\n",
       "58617.297940   19.972601    2      None  ZTF19aaxqsbn"
      ]
     },
     "execution_count": 12,
     "metadata": {},
     "output_type": "execute_result"
    }
   ],
   "source": [
    "non_detections = alerce.get_non_detections(oid)\n",
    "non_detections.head()"
   ]
  },
  {
   "cell_type": "code",
   "execution_count": 13,
   "metadata": {
    "ExecuteTime": {
     "end_time": "2019-09-03T21:53:36.327606Z",
     "start_time": "2019-09-03T21:53:36.157198Z"
    }
   },
   "outputs": [
    {
     "data": {
      "text/plain": [
       "(20.85893068626529, 15.77118088180006)"
      ]
     },
     "execution_count": 13,
     "metadata": {},
     "output_type": "execute_result"
    },
    {
     "data": {
      "image/png": "[encoded data removed]",
      "text/plain": [
       "<Figure size 864x576 with 1 Axes>"
      ]
     },
     "metadata": {},
     "output_type": "display_data"
    }
   ],
   "source": [
    "fig, ax = plt.subplots(figsize = (12, 8))\n",
    "colors = [\"g\", \"r\"]\n",
    "for fid in [1, 2]:\n",
    "    mask = detections.fid == fid\n",
    "    ax.plot(detections.mjd[mask], detections.magpsf[mask], c = colors[fid - 1], marker = \"o\")\n",
    "    mask = non_detections.fid == fid\n",
    "    # note that the index of non-detectionsis the mjd\n",
    "    ax.scatter(non_detections.index[mask], non_detections.diffmaglim[mask], c = colors[fid - 1], marker = \"v\")\n",
    "ax.set_xlabel(\"MJD\")\n",
    "ax.set_ylabel(\"mag psf\")\n",
    "ax.set_ylim(ax.get_ylim()[::-1])"
   ]
  },
  {
   "cell_type": "markdown",
   "metadata": {},
   "source": [
    "# 5. get_stats"
   ]
  },
  {
   "cell_type": "code",
   "execution_count": 14,
   "metadata": {
    "ExecuteTime": {
     "end_time": "2019-09-03T21:53:37.268441Z",
     "start_time": "2019-09-03T21:53:36.865729Z"
    }
   },
   "outputs": [
    {
     "data": {
      "text/html": [
       "<div>\n",
       "<style scoped>\n",
       "    .dataframe tbody tr th:only-of-type {\n",
       "        vertical-align: middle;\n",
       "    }\n",
       "\n",
       "    .dataframe tbody tr th {\n",
       "        vertical-align: top;\n",
       "    }\n",
       "\n",
       "    .dataframe thead th {\n",
       "        text-align: right;\n",
       "    }\n",
       "</style>\n",
       "<table border=\"1\" class=\"dataframe\">\n",
       "  <thead>\n",
       "    <tr style=\"text-align: right;\">\n",
       "      <th></th>\n",
       "      <th>catalogid</th>\n",
       "      <th>classearly</th>\n",
       "      <th>classrf</th>\n",
       "      <th>classxmatch</th>\n",
       "      <th>deltajd</th>\n",
       "      <th>first_magap_g</th>\n",
       "      <th>first_magap_r</th>\n",
       "      <th>first_magpsf_g</th>\n",
       "      <th>first_magpsf_r</th>\n",
       "      <th>firstmjd</th>\n",
       "      <th>...</th>\n",
       "      <th>nobs</th>\n",
       "      <th>pclassearly</th>\n",
       "      <th>pclassrf</th>\n",
       "      <th>period</th>\n",
       "      <th>sigma_magap_g</th>\n",
       "      <th>sigma_magap_r</th>\n",
       "      <th>sigma_magpsf_g</th>\n",
       "      <th>sigma_magpsf_r</th>\n",
       "      <th>sigmadec</th>\n",
       "      <th>sigmara</th>\n",
       "    </tr>\n",
       "    <tr>\n",
       "      <th>oid</th>\n",
       "      <th></th>\n",
       "      <th></th>\n",
       "      <th></th>\n",
       "      <th></th>\n",
       "      <th></th>\n",
       "      <th></th>\n",
       "      <th></th>\n",
       "      <th></th>\n",
       "      <th></th>\n",
       "      <th></th>\n",
       "      <th></th>\n",
       "      <th></th>\n",
       "      <th></th>\n",
       "      <th></th>\n",
       "      <th></th>\n",
       "      <th></th>\n",
       "      <th></th>\n",
       "      <th></th>\n",
       "      <th></th>\n",
       "      <th></th>\n",
       "      <th></th>\n",
       "    </tr>\n",
       "  </thead>\n",
       "  <tbody>\n",
       "    <tr>\n",
       "      <td>ZTF19aaxqsbn</td>\n",
       "      <td>None</td>\n",
       "      <td>SN</td>\n",
       "      <td>6</td>\n",
       "      <td>None</td>\n",
       "      <td>85.914155</td>\n",
       "      <td>19.063999</td>\n",
       "      <td>19.1457</td>\n",
       "      <td>18.982498</td>\n",
       "      <td>19.270462</td>\n",
       "      <td>58640.240046</td>\n",
       "      <td>...</td>\n",
       "      <td>41</td>\n",
       "      <td>0.999165</td>\n",
       "      <td>0.658</td>\n",
       "      <td>None</td>\n",
       "      <td>0.509753</td>\n",
       "      <td>0.469893</td>\n",
       "      <td>0.470786</td>\n",
       "      <td>0.421461</td>\n",
       "      <td>0.000044</td>\n",
       "      <td>0.000244</td>\n",
       "    </tr>\n",
       "  </tbody>\n",
       "</table>\n",
       "<p>1 rows × 43 columns</p>\n",
       "</div>"
      ],
      "text/plain": [
       "             catalogid classearly  classrf classxmatch    deltajd  \\\n",
       "oid                                                                 \n",
       "ZTF19aaxqsbn      None         SN        6        None  85.914155   \n",
       "\n",
       "              first_magap_g  first_magap_r  first_magpsf_g  first_magpsf_r  \\\n",
       "oid                                                                          \n",
       "ZTF19aaxqsbn      19.063999        19.1457       18.982498       19.270462   \n",
       "\n",
       "                  firstmjd  ...  nobs  pclassearly  pclassrf  period  \\\n",
       "oid                         ...                                        \n",
       "ZTF19aaxqsbn  58640.240046  ...    41     0.999165     0.658    None   \n",
       "\n",
       "              sigma_magap_g  sigma_magap_r  sigma_magpsf_g  sigma_magpsf_r  \\\n",
       "oid                                                                          \n",
       "ZTF19aaxqsbn       0.509753       0.469893        0.470786        0.421461   \n",
       "\n",
       "              sigmadec   sigmara  \n",
       "oid                               \n",
       "ZTF19aaxqsbn  0.000044  0.000244  \n",
       "\n",
       "[1 rows x 43 columns]"
      ]
     },
     "metadata": {},
     "output_type": "display_data"
    },
    {
     "data": {
      "text/plain": [
       "['catalogid',\n",
       " 'classearly',\n",
       " 'classrf',\n",
       " 'classxmatch',\n",
       " 'deltajd',\n",
       " 'first_magap_g',\n",
       " 'first_magap_r',\n",
       " 'first_magpsf_g',\n",
       " 'first_magpsf_r',\n",
       " 'firstmjd',\n",
       " 'last_magap_g',\n",
       " 'last_magap_r',\n",
       " 'last_magpsf_g',\n",
       " 'last_magpsf_r',\n",
       " 'lastmjd',\n",
       " 'max_magap_g',\n",
       " 'max_magap_r',\n",
       " 'max_magpsf_g',\n",
       " 'max_magpsf_r',\n",
       " 'mean_magap_g',\n",
       " 'mean_magap_r',\n",
       " 'mean_magpsf_g',\n",
       " 'mean_magpsf_r',\n",
       " 'meandec',\n",
       " 'meanra',\n",
       " 'median_magap_g',\n",
       " 'median_magap_r',\n",
       " 'median_magpsf_g',\n",
       " 'median_magpsf_r',\n",
       " 'min_magap_g',\n",
       " 'min_magap_r',\n",
       " 'min_magpsf_g',\n",
       " 'min_magpsf_r',\n",
       " 'nobs',\n",
       " 'pclassearly',\n",
       " 'pclassrf',\n",
       " 'period',\n",
       " 'sigma_magap_g',\n",
       " 'sigma_magap_r',\n",
       " 'sigma_magpsf_g',\n",
       " 'sigma_magpsf_r',\n",
       " 'sigmadec',\n",
       " 'sigmara']"
      ]
     },
     "execution_count": 14,
     "metadata": {},
     "output_type": "execute_result"
    }
   ],
   "source": [
    "stats = alerce.get_stats(oid)\n",
    "display(stats)\n",
    "list(stats)"
   ]
  },
  {
   "cell_type": "markdown",
   "metadata": {},
   "source": [
    "# 6. get_probabilities"
   ]
  },
  {
   "cell_type": "code",
   "execution_count": 15,
   "metadata": {
    "ExecuteTime": {
     "end_time": "2019-09-03T21:53:40.210734Z",
     "start_time": "2019-09-03T21:53:39.036443Z"
    }
   },
   "outputs": [
    {
     "data": {
      "text/plain": [
       "(              agn_prob  asteroid_prob  bogus_prob classifier_version  \\\n",
       " oid                                                                    \n",
       " ZTF19aaxqsbn  0.000005   5.469358e-09    0.000829               None   \n",
       " \n",
       "                sn_prob       vs_prob  \n",
       " oid                                   \n",
       " ZTF19aaxqsbn  0.999165  4.666816e-10  ,\n",
       "               ceph_prob  classifierid  dsct_prob  eb_prob  lpv_prob object_id  \\\n",
       " oid                                                                             \n",
       " ZTF19aaxqsbn      0.026             1      0.006    0.016     0.076      None   \n",
       " \n",
       "               other_prob  rrl_prob  sne_prob  \n",
       " oid                                           \n",
       " ZTF19aaxqsbn        0.14     0.078     0.658  )"
      ]
     },
     "execution_count": 15,
     "metadata": {},
     "output_type": "execute_result"
    }
   ],
   "source": [
    "alerce.get_probabilities(oid)"
   ]
  },
  {
   "cell_type": "code",
   "execution_count": 17,
   "metadata": {
    "ExecuteTime": {
     "end_time": "2019-09-03T21:54:11.079880Z",
     "start_time": "2019-09-03T21:54:10.379929Z"
    }
   },
   "outputs": [
    {
     "data": {
      "text/html": [
       "<div>\n",
       "<style scoped>\n",
       "    .dataframe tbody tr th:only-of-type {\n",
       "        vertical-align: middle;\n",
       "    }\n",
       "\n",
       "    .dataframe tbody tr th {\n",
       "        vertical-align: top;\n",
       "    }\n",
       "\n",
       "    .dataframe thead th {\n",
       "        text-align: right;\n",
       "    }\n",
       "</style>\n",
       "<table border=\"1\" class=\"dataframe\">\n",
       "  <thead>\n",
       "    <tr style=\"text-align: right;\">\n",
       "      <th></th>\n",
       "      <th>agn_prob</th>\n",
       "      <th>asteroid_prob</th>\n",
       "      <th>bogus_prob</th>\n",
       "      <th>classifier_version</th>\n",
       "      <th>sn_prob</th>\n",
       "      <th>vs_prob</th>\n",
       "    </tr>\n",
       "    <tr>\n",
       "      <th>oid</th>\n",
       "      <th></th>\n",
       "      <th></th>\n",
       "      <th></th>\n",
       "      <th></th>\n",
       "      <th></th>\n",
       "      <th></th>\n",
       "    </tr>\n",
       "  </thead>\n",
       "  <tbody>\n",
       "    <tr>\n",
       "      <td>ZTF19aaxqsbn</td>\n",
       "      <td>0.000005</td>\n",
       "      <td>5.469358e-09</td>\n",
       "      <td>0.000829</td>\n",
       "      <td>None</td>\n",
       "      <td>0.999165</td>\n",
       "      <td>4.666816e-10</td>\n",
       "    </tr>\n",
       "  </tbody>\n",
       "</table>\n",
       "</div>"
      ],
      "text/plain": [
       "              agn_prob  asteroid_prob  bogus_prob classifier_version  \\\n",
       "oid                                                                    \n",
       "ZTF19aaxqsbn  0.000005   5.469358e-09    0.000829               None   \n",
       "\n",
       "               sn_prob       vs_prob  \n",
       "oid                                   \n",
       "ZTF19aaxqsbn  0.999165  4.666816e-10  "
      ]
     },
     "metadata": {},
     "output_type": "display_data"
    },
    {
     "data": {
      "text/html": [
       "<div>\n",
       "<style scoped>\n",
       "    .dataframe tbody tr th:only-of-type {\n",
       "        vertical-align: middle;\n",
       "    }\n",
       "\n",
       "    .dataframe tbody tr th {\n",
       "        vertical-align: top;\n",
       "    }\n",
       "\n",
       "    .dataframe thead th {\n",
       "        text-align: right;\n",
       "    }\n",
       "</style>\n",
       "<table border=\"1\" class=\"dataframe\">\n",
       "  <thead>\n",
       "    <tr style=\"text-align: right;\">\n",
       "      <th></th>\n",
       "      <th>ceph_prob</th>\n",
       "      <th>classifierid</th>\n",
       "      <th>dsct_prob</th>\n",
       "      <th>eb_prob</th>\n",
       "      <th>lpv_prob</th>\n",
       "      <th>object_id</th>\n",
       "      <th>other_prob</th>\n",
       "      <th>rrl_prob</th>\n",
       "      <th>sne_prob</th>\n",
       "    </tr>\n",
       "    <tr>\n",
       "      <th>oid</th>\n",
       "      <th></th>\n",
       "      <th></th>\n",
       "      <th></th>\n",
       "      <th></th>\n",
       "      <th></th>\n",
       "      <th></th>\n",
       "      <th></th>\n",
       "      <th></th>\n",
       "      <th></th>\n",
       "    </tr>\n",
       "  </thead>\n",
       "  <tbody>\n",
       "    <tr>\n",
       "      <td>ZTF19aaxqsbn</td>\n",
       "      <td>0.026</td>\n",
       "      <td>1</td>\n",
       "      <td>0.006</td>\n",
       "      <td>0.016</td>\n",
       "      <td>0.076</td>\n",
       "      <td>None</td>\n",
       "      <td>0.14</td>\n",
       "      <td>0.078</td>\n",
       "      <td>0.658</td>\n",
       "    </tr>\n",
       "  </tbody>\n",
       "</table>\n",
       "</div>"
      ],
      "text/plain": [
       "              ceph_prob  classifierid  dsct_prob  eb_prob  lpv_prob object_id  \\\n",
       "oid                                                                             \n",
       "ZTF19aaxqsbn      0.026             1      0.006    0.016     0.076      None   \n",
       "\n",
       "              other_prob  rrl_prob  sne_prob  \n",
       "oid                                           \n",
       "ZTF19aaxqsbn        0.14     0.078     0.658  "
      ]
     },
     "metadata": {},
     "output_type": "display_data"
    }
   ],
   "source": [
    "probs = alerce.get_probabilities(oid)\n",
    "display(probs[0])\n",
    "display(probs[1])"
   ]
  },
  {
   "cell_type": "code",
   "execution_count": 21,
   "metadata": {
    "ExecuteTime": {
     "end_time": "2019-09-03T21:50:55.114855Z",
     "start_time": "2019-09-03T21:50:55.093934Z"
    }
   },
   "outputs": [
    {
     "data": {
      "text/plain": [
       "(              agn_prob  asteroid_prob  bogus_prob classifier_version  \\\n",
       " oid                                                                    \n",
       " ZTF19aaxqsbn  0.000005   5.469358e-09    0.000829               None   \n",
       " \n",
       "                sn_prob       vs_prob  \n",
       " oid                                   \n",
       " ZTF19aaxqsbn  0.999165  4.666816e-10  ,\n",
       "               ceph_prob  classifierid  dsct_prob  eb_prob  lpv_prob object_id  \\\n",
       " oid                                                                             \n",
       " ZTF19aaxqsbn      0.026             1      0.006    0.016     0.076      None   \n",
       " \n",
       "               other_prob  rrl_prob  sne_prob  \n",
       " oid                                           \n",
       " ZTF19aaxqsbn        0.14     0.078     0.658  )"
      ]
     },
     "execution_count": 21,
     "metadata": {},
     "output_type": "execute_result"
    }
   ],
   "source": [
    "probs"
   ]
  },
  {
   "cell_type": "markdown",
   "metadata": {},
   "source": [
    "# 7. get_features"
   ]
  },
  {
   "cell_type": "code",
   "execution_count": 16,
   "metadata": {
    "ExecuteTime": {
     "end_time": "2019-08-16T20:36:12.033600Z",
     "start_time": "2019-08-16T20:36:11.581913Z"
    }
   },
   "outputs": [
    {
     "data": {
      "text/html": [
       "<div>\n",
       "<style scoped>\n",
       "    .dataframe tbody tr th:only-of-type {\n",
       "        vertical-align: middle;\n",
       "    }\n",
       "\n",
       "    .dataframe tbody tr th {\n",
       "        vertical-align: top;\n",
       "    }\n",
       "\n",
       "    .dataframe thead th {\n",
       "        text-align: right;\n",
       "    }\n",
       "</style>\n",
       "<table border=\"1\" class=\"dataframe\">\n",
       "  <thead>\n",
       "    <tr style=\"text-align: right;\">\n",
       "      <th></th>\n",
       "      <th>result.period.n_samples_1</th>\n",
       "      <th>result.period.n_samples_2</th>\n",
       "      <th>result.period.periodls_1</th>\n",
       "      <th>result.period.periodls_2</th>\n",
       "    </tr>\n",
       "    <tr>\n",
       "      <th>oid</th>\n",
       "      <th></th>\n",
       "      <th></th>\n",
       "      <th></th>\n",
       "      <th></th>\n",
       "    </tr>\n",
       "  </thead>\n",
       "  <tbody>\n",
       "    <tr>\n",
       "      <th>ZTF19aaxqsbn</th>\n",
       "      <td>10.0</td>\n",
       "      <td>24.0</td>\n",
       "      <td>74.074072</td>\n",
       "      <td>74.074072</td>\n",
       "    </tr>\n",
       "  </tbody>\n",
       "</table>\n",
       "</div>"
      ],
      "text/plain": [
       "              result.period.n_samples_1  result.period.n_samples_2  \\\n",
       "oid                                                                  \n",
       "ZTF19aaxqsbn                       10.0                       24.0   \n",
       "\n",
       "              result.period.periodls_1  result.period.periodls_2  \n",
       "oid                                                               \n",
       "ZTF19aaxqsbn                 74.074072                 74.074072  "
      ]
     },
     "execution_count": 16,
     "metadata": {},
     "output_type": "execute_result"
    }
   ],
   "source": [
    "features = alerce.get_features(oid)\n",
    "features"
   ]
  },
  {
   "cell_type": "markdown",
   "metadata": {},
   "source": [
    "# 8. get_stamp\n",
    "\n",
    "Get the stamps of an object.\n",
    "\n",
    "See https://github.com/alercebroker/usecases/blob/master/api/ALeRCE%20AVRO-STAMP%20Access%20API.md"
   ]
  },
  {
   "cell_type": "code",
   "execution_count": 13,
   "metadata": {
    "ExecuteTime": {
     "end_time": "2019-08-29T20:22:41.288372Z",
     "start_time": "2019-08-29T20:22:40.733265Z"
    }
   },
   "outputs": [
    {
     "name": "stdout",
     "output_type": "stream",
     "text": [
      "ZTF19aaxqsbn\n",
      "ZTF19aaxqsbn 886240045615015003\n"
     ]
    },
    {
     "data": {
      "text/html": [
       "\n",
       "        &emsp;&emsp;&emsp;&emsp;&emsp;\n",
       "        Science\n",
       "        &emsp;&emsp;&emsp;&emsp;&emsp;&emsp;&emsp;&emsp;&emsp;&emsp;&emsp;&emsp; \n",
       "        Template\n",
       "        &emsp;&emsp;&emsp;&emsp;&emsp;&emsp;&emsp;&emsp;&emsp;&emsp;&emsp;&emsp; \n",
       "        Difference\n",
       "        <div class=\"container\">\n",
       "        <div style=\"float:left;width:20%\"><img src=\"http://avro.alerce.online/get_stamp?oid=ZTF19aaxqsbn&candid=886240045615015003&type=science&format=png\"></div>\n",
       "        <div style=\"float:left;width:20%\"><img src=\"http://avro.alerce.online/get_stamp?oid=ZTF19aaxqsbn&candid=886240045615015003&type=template&format=png\"></div>\n",
       "        <div style=\"float:left;width:20%\"><img src=\"http://avro.alerce.online/get_stamp?oid=ZTF19aaxqsbn&candid=886240045615015003&type=difference&format=png\"></div>\n",
       "        </div>\n",
       "        "
      ],
      "text/plain": [
       "<IPython.core.display.HTML object>"
      ]
     },
     "metadata": {},
     "output_type": "display_data"
    },
    {
     "name": "stdout",
     "output_type": "stream",
     "text": [
      "ZTF19aaxqsbn 886240045615015003\n"
     ]
    },
    {
     "data": {
      "text/html": [
       "\n",
       "        &emsp;&emsp;&emsp;&emsp;&emsp;\n",
       "        Science\n",
       "        &emsp;&emsp;&emsp;&emsp;&emsp;&emsp;&emsp;&emsp;&emsp;&emsp;&emsp;&emsp; \n",
       "        Template\n",
       "        &emsp;&emsp;&emsp;&emsp;&emsp;&emsp;&emsp;&emsp;&emsp;&emsp;&emsp;&emsp; \n",
       "        Difference\n",
       "        <div class=\"container\">\n",
       "        <div style=\"float:left;width:20%\"><img src=\"http://avro.alerce.online/get_stamp?oid=ZTF19aaxqsbn&candid=886240045615015003&type=science&format=png\"></div>\n",
       "        <div style=\"float:left;width:20%\"><img src=\"http://avro.alerce.online/get_stamp?oid=ZTF19aaxqsbn&candid=886240045615015003&type=template&format=png\"></div>\n",
       "        <div style=\"float:left;width:20%\"><img src=\"http://avro.alerce.online/get_stamp?oid=ZTF19aaxqsbn&candid=886240045615015003&type=difference&format=png\"></div>\n",
       "        </div>\n",
       "        "
      ],
      "text/plain": [
       "<IPython.core.display.HTML object>"
      ]
     },
     "metadata": {},
     "output_type": "display_data"
    },
    {
     "name": "stdout",
     "output_type": "stream",
     "text": [
      "ZTF19aaxqsbn 969181571415010006\n"
     ]
    },
    {
     "data": {
      "text/html": [
       "\n",
       "        &emsp;&emsp;&emsp;&emsp;&emsp;\n",
       "        Science\n",
       "        &emsp;&emsp;&emsp;&emsp;&emsp;&emsp;&emsp;&emsp;&emsp;&emsp;&emsp;&emsp; \n",
       "        Template\n",
       "        &emsp;&emsp;&emsp;&emsp;&emsp;&emsp;&emsp;&emsp;&emsp;&emsp;&emsp;&emsp; \n",
       "        Difference\n",
       "        <div class=\"container\">\n",
       "        <div style=\"float:left;width:20%\"><img src=\"http://avro.alerce.online/get_stamp?oid=ZTF19aaxqsbn&candid=969181571415010006&type=science&format=png\"></div>\n",
       "        <div style=\"float:left;width:20%\"><img src=\"http://avro.alerce.online/get_stamp?oid=ZTF19aaxqsbn&candid=969181571415010006&type=template&format=png\"></div>\n",
       "        <div style=\"float:left;width:20%\"><img src=\"http://avro.alerce.online/get_stamp?oid=ZTF19aaxqsbn&candid=969181571415010006&type=difference&format=png\"></div>\n",
       "        </div>\n",
       "        "
      ],
      "text/plain": [
       "<IPython.core.display.HTML object>"
      ]
     },
     "metadata": {},
     "output_type": "display_data"
    }
   ],
   "source": [
    "# note that the index of detections is the candid\n",
    "print(oid)\n",
    "alerce.plot_stamp(oid)\n",
    "alerce.plot_stamp(oid, detections.index.min())\n",
    "alerce.plot_stamp(oid, detections.index.max())"
   ]
  },
  {
   "cell_type": "code",
   "execution_count": null,
   "metadata": {},
   "outputs": [],
   "source": []
  },
  {
   "cell_type": "code",
   "execution_count": null,
   "metadata": {},
   "outputs": [],
   "source": []
  }
 ],
 "metadata": {
  "kernelspec": {
   "display_name": "Python 3",
   "language": "python",
   "name": "python3"
  },
  "language_info": {
   "codemirror_mode": {
    "name": "ipython",
    "version": 3
   },
   "file_extension": ".py",
   "mimetype": "text/x-python",
   "name": "python",
   "nbconvert_exporter": "python",
   "pygments_lexer": "ipython3",
   "version": "3.6.5"
  }
 },
 "nbformat": 4,
 "nbformat_minor": 2
}
