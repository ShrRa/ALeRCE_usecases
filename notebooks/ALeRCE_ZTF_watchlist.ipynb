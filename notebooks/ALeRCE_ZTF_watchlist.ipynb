{
 "cells": [
  {
   "cell_type": "markdown",
   "metadata": {},
   "source": [
    "# Watchlist example notebook"
   ]
  },
  {
   "cell_type": "markdown",
   "metadata": {},
   "source": [
    "Here we will do a xmatch against a list of positions in the sky, given in the file ```watchlist.csv```"
   ]
  },
  {
   "cell_type": "code",
   "execution_count": 1,
   "metadata": {
    "ExecuteTime": {
     "end_time": "2021-04-06T22:16:47.872752Z",
     "start_time": "2021-04-06T22:16:47.551695Z"
    }
   },
   "outputs": [],
   "source": [
    "import pandas as pd\n",
    "import psycopg2"
   ]
  },
  {
   "cell_type": "markdown",
   "metadata": {},
   "source": [
    "# Get credentials to open a direct connection with the database"
   ]
  },
  {
   "cell_type": "code",
   "execution_count": 2,
   "metadata": {
    "ExecuteTime": {
     "end_time": "2021-04-06T22:16:47.895220Z",
     "start_time": "2021-04-06T22:16:47.890781Z"
    }
   },
   "outputs": [],
   "source": [
    "import json\n",
    "# use the location of your credentials file here\n",
    "credentials_file = \"/home/fforster/Dropbox/Work/alercebroker/usecases/alercereaduser_v4.json\"\n",
    "with open(credentials_file) as jsonfile:\n",
    "    params = json.load(jsonfile)[\"params\"]"
   ]
  },
  {
   "cell_type": "code",
   "execution_count": 3,
   "metadata": {
    "ExecuteTime": {
     "end_time": "2021-04-06T22:16:49.297600Z",
     "start_time": "2021-04-06T22:16:48.088628Z"
    }
   },
   "outputs": [],
   "source": [
    "conn = psycopg2.connect(dbname=params[\"dbname\"], user=params[\"user\"], host=params[\"host\"], password=params[\"password\"])"
   ]
  },
  {
   "cell_type": "markdown",
   "metadata": {},
   "source": [
    "# Get watchlist of objects"
   ]
  },
  {
   "cell_type": "code",
   "execution_count": 4,
   "metadata": {
    "ExecuteTime": {
     "end_time": "2021-04-06T22:16:49.361228Z",
     "start_time": "2021-04-06T22:16:49.304133Z"
    }
   },
   "outputs": [
    {
     "data": {
      "text/html": [
       "<div>\n",
       "<style scoped>\n",
       "    .dataframe tbody tr th:only-of-type {\n",
       "        vertical-align: middle;\n",
       "    }\n",
       "\n",
       "    .dataframe tbody tr th {\n",
       "        vertical-align: top;\n",
       "    }\n",
       "\n",
       "    .dataframe thead th {\n",
       "        text-align: right;\n",
       "    }\n",
       "</style>\n",
       "<table border=\"1\" class=\"dataframe\">\n",
       "  <thead>\n",
       "    <tr style=\"text-align: right;\">\n",
       "      <th></th>\n",
       "      <th>id_source</th>\n",
       "      <th>ra</th>\n",
       "      <th>dec</th>\n",
       "    </tr>\n",
       "  </thead>\n",
       "  <tbody>\n",
       "    <tr>\n",
       "      <th>0</th>\n",
       "      <td>source_1</td>\n",
       "      <td>160.183014</td>\n",
       "      <td>33.016467</td>\n",
       "    </tr>\n",
       "    <tr>\n",
       "      <th>1</th>\n",
       "      <td>source_2</td>\n",
       "      <td>174.215249</td>\n",
       "      <td>44.837895</td>\n",
       "    </tr>\n",
       "  </tbody>\n",
       "</table>\n",
       "</div>"
      ],
      "text/plain": [
       "  id_source          ra        dec\n",
       "0  source_1  160.183014  33.016467\n",
       "1  source_2  174.215249  44.837895"
      ]
     },
     "execution_count": 4,
     "metadata": {},
     "output_type": "execute_result"
    }
   ],
   "source": [
    "df = pd.read_csv(\"../example_data/watchlist.csv\")\n",
    "df.head()"
   ]
  },
  {
   "cell_type": "markdown",
   "metadata": {},
   "source": [
    "# Prepare the query string for watchlist for object within 1 degress of given positions, and  happening within the last 10 days"
   ]
  },
  {
   "cell_type": "code",
   "execution_count": 5,
   "metadata": {
    "ExecuteTime": {
     "end_time": "2021-04-06T22:16:49.368916Z",
     "start_time": "2021-04-06T22:16:49.363031Z"
    }
   },
   "outputs": [
    {
     "data": {
      "text/plain": [
       "\"('source_1', 160.18301441363647, 33.0164673528409),\\n('source_2', 174.21524897555543, 44.83789535222221)\""
      ]
     },
     "execution_count": 5,
     "metadata": {},
     "output_type": "execute_result"
    }
   ],
   "source": [
    "objects = []\n",
    "for _,row in df.iterrows():\n",
    "    objects.append(f\"(\\'{row.id_source}\\', {row.ra}, {row.dec})\")\n",
    "objects_str = \",\\n\".join(objects)\n",
    "objects_str"
   ]
  },
  {
   "cell_type": "markdown",
   "metadata": {
    "ExecuteTime": {
     "end_time": "2021-04-02T17:36:00.076713Z",
     "start_time": "2021-04-02T17:36:00.067559Z"
    }
   },
   "source": [
    "Create query string"
   ]
  },
  {
   "cell_type": "code",
   "execution_count": 6,
   "metadata": {
    "ExecuteTime": {
     "end_time": "2021-04-06T22:16:50.969311Z",
     "start_time": "2021-04-06T22:16:50.539906Z"
    }
   },
   "outputs": [],
   "source": [
    "from astropy.time import Time\n",
    "nt = Time.now()\n",
    "last_mjd_discovery = nt.mjd - 10"
   ]
  },
  {
   "cell_type": "code",
   "execution_count": 7,
   "metadata": {
    "ExecuteTime": {
     "end_time": "2021-04-06T22:16:51.297967Z",
     "start_time": "2021-04-06T22:16:51.290478Z"
    }
   },
   "outputs": [],
   "source": [
    "search_radius = 1 # degrees\n",
    "query = \"\"\"\n",
    "WITH catalog ( source_id, ra, dec) AS (\n",
    "    VALUES\n",
    "        {values}\n",
    ")\n",
    "SELECT \n",
    "    c.source_id, c.ra, c.dec, o.oid, o.meanra, o.meandec, q3c_dist(c.ra,c.dec,o.meanra,o.meandec), \n",
    "    o.firstmjd\n",
    "\n",
    "FROM object o, catalog c\n",
    "    /*\n",
    "     * It is REALLY important to first use the catalog then the object ra,dec for speed. The radius is in degrees.\n",
    "     */\n",
    "WHERE\n",
    "    q3c_join(c.ra, c.dec,o.meanra, o.meandec, {radius})\n",
    "    AND o.firstmjd > %s\n",
    "\"\"\" % (last_mjd_discovery)\n",
    "query_str = query.format(values = objects_str, radius = search_radius) # radius in degrees"
   ]
  },
  {
   "cell_type": "code",
   "execution_count": 8,
   "metadata": {
    "ExecuteTime": {
     "end_time": "2021-04-06T22:16:56.048416Z",
     "start_time": "2021-04-06T22:16:52.044720Z"
    }
   },
   "outputs": [
    {
     "name": "stdout",
     "output_type": "stream",
     "text": [
      "(144, 8)\n"
     ]
    },
    {
     "data": {
      "text/html": [
       "<div>\n",
       "<style scoped>\n",
       "    .dataframe tbody tr th:only-of-type {\n",
       "        vertical-align: middle;\n",
       "    }\n",
       "\n",
       "    .dataframe tbody tr th {\n",
       "        vertical-align: top;\n",
       "    }\n",
       "\n",
       "    .dataframe thead th {\n",
       "        text-align: right;\n",
       "    }\n",
       "</style>\n",
       "<table border=\"1\" class=\"dataframe\">\n",
       "  <thead>\n",
       "    <tr style=\"text-align: right;\">\n",
       "      <th></th>\n",
       "      <th>source_id</th>\n",
       "      <th>ra</th>\n",
       "      <th>dec</th>\n",
       "      <th>oid</th>\n",
       "      <th>meanra</th>\n",
       "      <th>meandec</th>\n",
       "      <th>q3c_dist</th>\n",
       "      <th>firstmjd</th>\n",
       "    </tr>\n",
       "  </thead>\n",
       "  <tbody>\n",
       "    <tr>\n",
       "      <th>0</th>\n",
       "      <td>source_1</td>\n",
       "      <td>160.183014</td>\n",
       "      <td>33.016467</td>\n",
       "      <td>ZTF21aaqwdiv</td>\n",
       "      <td>159.371305</td>\n",
       "      <td>32.521336</td>\n",
       "      <td>0.843207</td>\n",
       "      <td>59301.299630</td>\n",
       "    </tr>\n",
       "    <tr>\n",
       "      <th>1</th>\n",
       "      <td>source_1</td>\n",
       "      <td>160.183014</td>\n",
       "      <td>33.016467</td>\n",
       "      <td>ZTF21aaqwdiu</td>\n",
       "      <td>159.756359</td>\n",
       "      <td>32.659909</td>\n",
       "      <td>0.505608</td>\n",
       "      <td>59301.299630</td>\n",
       "    </tr>\n",
       "    <tr>\n",
       "      <th>2</th>\n",
       "      <td>source_1</td>\n",
       "      <td>160.183014</td>\n",
       "      <td>33.016467</td>\n",
       "      <td>ZTF21aaqwdki</td>\n",
       "      <td>160.806774</td>\n",
       "      <td>32.632821</td>\n",
       "      <td>0.649563</td>\n",
       "      <td>59301.299630</td>\n",
       "    </tr>\n",
       "    <tr>\n",
       "      <th>3</th>\n",
       "      <td>source_1</td>\n",
       "      <td>160.183014</td>\n",
       "      <td>33.016467</td>\n",
       "      <td>ZTF21aaqypmo</td>\n",
       "      <td>159.991994</td>\n",
       "      <td>32.595622</td>\n",
       "      <td>0.450431</td>\n",
       "      <td>59303.259306</td>\n",
       "    </tr>\n",
       "    <tr>\n",
       "      <th>4</th>\n",
       "      <td>source_1</td>\n",
       "      <td>160.183014</td>\n",
       "      <td>33.016467</td>\n",
       "      <td>ZTF21aaqypmp</td>\n",
       "      <td>160.168464</td>\n",
       "      <td>32.870279</td>\n",
       "      <td>0.146698</td>\n",
       "      <td>59303.259306</td>\n",
       "    </tr>\n",
       "    <tr>\n",
       "      <th>...</th>\n",
       "      <td>...</td>\n",
       "      <td>...</td>\n",
       "      <td>...</td>\n",
       "      <td>...</td>\n",
       "      <td>...</td>\n",
       "      <td>...</td>\n",
       "      <td>...</td>\n",
       "      <td>...</td>\n",
       "    </tr>\n",
       "    <tr>\n",
       "      <th>139</th>\n",
       "      <td>source_1</td>\n",
       "      <td>160.183014</td>\n",
       "      <td>33.016467</td>\n",
       "      <td>ZTF21aasvhsy</td>\n",
       "      <td>159.297297</td>\n",
       "      <td>32.430306</td>\n",
       "      <td>0.948058</td>\n",
       "      <td>59310.311944</td>\n",
       "    </tr>\n",
       "    <tr>\n",
       "      <th>140</th>\n",
       "      <td>source_1</td>\n",
       "      <td>160.183014</td>\n",
       "      <td>33.016467</td>\n",
       "      <td>ZTF21aasvhta</td>\n",
       "      <td>160.157761</td>\n",
       "      <td>32.993761</td>\n",
       "      <td>0.031049</td>\n",
       "      <td>59310.311944</td>\n",
       "    </tr>\n",
       "    <tr>\n",
       "      <th>141</th>\n",
       "      <td>source_1</td>\n",
       "      <td>160.183014</td>\n",
       "      <td>33.016467</td>\n",
       "      <td>ZTF21aasvhso</td>\n",
       "      <td>161.249858</td>\n",
       "      <td>33.147698</td>\n",
       "      <td>0.903474</td>\n",
       "      <td>59310.311944</td>\n",
       "    </tr>\n",
       "    <tr>\n",
       "      <th>142</th>\n",
       "      <td>source_1</td>\n",
       "      <td>160.183014</td>\n",
       "      <td>33.016467</td>\n",
       "      <td>ZTF21aasvhsz</td>\n",
       "      <td>159.336525</td>\n",
       "      <td>33.232791</td>\n",
       "      <td>0.741189</td>\n",
       "      <td>59310.311944</td>\n",
       "    </tr>\n",
       "    <tr>\n",
       "      <th>143</th>\n",
       "      <td>source_1</td>\n",
       "      <td>160.183014</td>\n",
       "      <td>33.016467</td>\n",
       "      <td>ZTF20aaehmxs</td>\n",
       "      <td>160.156098</td>\n",
       "      <td>32.661575</td>\n",
       "      <td>0.355612</td>\n",
       "      <td>59310.311944</td>\n",
       "    </tr>\n",
       "  </tbody>\n",
       "</table>\n",
       "<p>144 rows × 8 columns</p>\n",
       "</div>"
      ],
      "text/plain": [
       "    source_id          ra        dec           oid      meanra    meandec  \\\n",
       "0    source_1  160.183014  33.016467  ZTF21aaqwdiv  159.371305  32.521336   \n",
       "1    source_1  160.183014  33.016467  ZTF21aaqwdiu  159.756359  32.659909   \n",
       "2    source_1  160.183014  33.016467  ZTF21aaqwdki  160.806774  32.632821   \n",
       "3    source_1  160.183014  33.016467  ZTF21aaqypmo  159.991994  32.595622   \n",
       "4    source_1  160.183014  33.016467  ZTF21aaqypmp  160.168464  32.870279   \n",
       "..        ...         ...        ...           ...         ...        ...   \n",
       "139  source_1  160.183014  33.016467  ZTF21aasvhsy  159.297297  32.430306   \n",
       "140  source_1  160.183014  33.016467  ZTF21aasvhta  160.157761  32.993761   \n",
       "141  source_1  160.183014  33.016467  ZTF21aasvhso  161.249858  33.147698   \n",
       "142  source_1  160.183014  33.016467  ZTF21aasvhsz  159.336525  33.232791   \n",
       "143  source_1  160.183014  33.016467  ZTF20aaehmxs  160.156098  32.661575   \n",
       "\n",
       "     q3c_dist      firstmjd  \n",
       "0    0.843207  59301.299630  \n",
       "1    0.505608  59301.299630  \n",
       "2    0.649563  59301.299630  \n",
       "3    0.450431  59303.259306  \n",
       "4    0.146698  59303.259306  \n",
       "..        ...           ...  \n",
       "139  0.948058  59310.311944  \n",
       "140  0.031049  59310.311944  \n",
       "141  0.903474  59310.311944  \n",
       "142  0.741189  59310.311944  \n",
       "143  0.355612  59310.311944  \n",
       "\n",
       "[144 rows x 8 columns]"
      ]
     },
     "execution_count": 8,
     "metadata": {},
     "output_type": "execute_result"
    }
   ],
   "source": [
    "matches = pd.read_sql(query_str,conn)\n",
    "print(matches.shape)\n",
    "matches"
   ]
  },
  {
   "cell_type": "markdown",
   "metadata": {},
   "source": [
    "# Query objects within 10 degress of given positions, first detected within the last 10 days, with SN probabilities > 0.4, and ranking=1 in the stamp classifier"
   ]
  },
  {
   "cell_type": "code",
   "execution_count": 9,
   "metadata": {
    "ExecuteTime": {
     "end_time": "2021-04-06T22:16:57.423678Z",
     "start_time": "2021-04-06T22:16:57.414106Z"
    }
   },
   "outputs": [],
   "source": [
    "search_radius = 10 # degrees\n",
    "query = \"\"\"\n",
    "WITH catalog ( source_id, ra, dec) AS (\n",
    "    VALUES\n",
    "        {values}\n",
    "),\n",
    "sn (oid, classifier_name, class_name, probability, ranking) AS (\n",
    "    SELECT\n",
    "        o.oid, p.classifier_name, p.class_name, p.probability, p.ranking\n",
    "    FROM\n",
    "        probability p\n",
    "    INNER JOIN \n",
    "        object o\n",
    "    ON \n",
    "        o.oid=p.oid\n",
    "    WHERE\n",
    "        p.classifier_name='stamp_classifier'\n",
    "        AND p.class_name IN ('SN', 'AGN')\n",
    "        AND p.ranking=1\n",
    "        AND p.probability > 0.4\n",
    "        AND o.firstmjd > %s\n",
    ")\n",
    "\n",
    "SELECT \n",
    "    c.source_id, c.ra, c.dec, o.oid, o.meanra, o.meandec, q3c_dist(c.ra,c.dec,o.meanra,o.meandec), \n",
    "    o.firstmjd, sn.classifier_name, sn.class_name, sn.probability, sn.ranking\n",
    "\n",
    "FROM object o INNER JOIN sn ON sn.oid=o.oid, catalog c\n",
    "    /*\n",
    "     * It is REALLY important to first use the catalog then the object ra,dec for speed. The radius is in degrees.\n",
    "     */\n",
    "WHERE\n",
    "    q3c_join(c.ra, c.dec,o.meanra, o.meandec, {radius})\n",
    "    AND o.firstmjd > %s\n",
    "ORDER BY\n",
    "    c.source_id\n",
    "\"\"\" % (last_mjd_discovery, last_mjd_discovery)\n",
    "query_str = query.format(values = objects_str, radius = search_radius) # radius in degrees"
   ]
  },
  {
   "cell_type": "code",
   "execution_count": 10,
   "metadata": {
    "ExecuteTime": {
     "end_time": "2021-04-06T22:17:01.493426Z",
     "start_time": "2021-04-06T22:16:58.334497Z"
    }
   },
   "outputs": [
    {
     "name": "stdout",
     "output_type": "stream",
     "text": [
      "(313, 12)\n"
     ]
    },
    {
     "data": {
      "text/html": [
       "<div>\n",
       "<style scoped>\n",
       "    .dataframe tbody tr th:only-of-type {\n",
       "        vertical-align: middle;\n",
       "    }\n",
       "\n",
       "    .dataframe tbody tr th {\n",
       "        vertical-align: top;\n",
       "    }\n",
       "\n",
       "    .dataframe thead th {\n",
       "        text-align: right;\n",
       "    }\n",
       "</style>\n",
       "<table border=\"1\" class=\"dataframe\">\n",
       "  <thead>\n",
       "    <tr style=\"text-align: right;\">\n",
       "      <th></th>\n",
       "      <th>source_id</th>\n",
       "      <th>ra</th>\n",
       "      <th>dec</th>\n",
       "      <th>oid</th>\n",
       "      <th>meanra</th>\n",
       "      <th>meandec</th>\n",
       "      <th>q3c_dist</th>\n",
       "      <th>firstmjd</th>\n",
       "      <th>classifier_name</th>\n",
       "      <th>class_name</th>\n",
       "      <th>probability</th>\n",
       "      <th>ranking</th>\n",
       "    </tr>\n",
       "  </thead>\n",
       "  <tbody>\n",
       "    <tr>\n",
       "      <th>0</th>\n",
       "      <td>source_1</td>\n",
       "      <td>160.183014</td>\n",
       "      <td>33.016467</td>\n",
       "      <td>ZTF18acpmlui</td>\n",
       "      <td>166.640634</td>\n",
       "      <td>26.016864</td>\n",
       "      <td>8.971510</td>\n",
       "      <td>59308.339965</td>\n",
       "      <td>stamp_classifier</td>\n",
       "      <td>AGN</td>\n",
       "      <td>0.715071</td>\n",
       "      <td>1</td>\n",
       "    </tr>\n",
       "    <tr>\n",
       "      <th>1</th>\n",
       "      <td>source_1</td>\n",
       "      <td>160.183014</td>\n",
       "      <td>33.016467</td>\n",
       "      <td>ZTF18acxdfdo</td>\n",
       "      <td>171.094971</td>\n",
       "      <td>35.390679</td>\n",
       "      <td>9.326095</td>\n",
       "      <td>59305.288137</td>\n",
       "      <td>stamp_classifier</td>\n",
       "      <td>AGN</td>\n",
       "      <td>0.677221</td>\n",
       "      <td>1</td>\n",
       "    </tr>\n",
       "    <tr>\n",
       "      <th>2</th>\n",
       "      <td>source_1</td>\n",
       "      <td>160.183014</td>\n",
       "      <td>33.016467</td>\n",
       "      <td>ZTF20acsfwsy</td>\n",
       "      <td>149.798671</td>\n",
       "      <td>34.506218</td>\n",
       "      <td>8.756553</td>\n",
       "      <td>59306.236181</td>\n",
       "      <td>stamp_classifier</td>\n",
       "      <td>AGN</td>\n",
       "      <td>0.686381</td>\n",
       "      <td>1</td>\n",
       "    </tr>\n",
       "    <tr>\n",
       "      <th>3</th>\n",
       "      <td>source_1</td>\n",
       "      <td>160.183014</td>\n",
       "      <td>33.016467</td>\n",
       "      <td>ZTF21aaogfkk</td>\n",
       "      <td>168.123513</td>\n",
       "      <td>35.580565</td>\n",
       "      <td>7.040297</td>\n",
       "      <td>59304.173646</td>\n",
       "      <td>stamp_classifier</td>\n",
       "      <td>AGN</td>\n",
       "      <td>0.650135</td>\n",
       "      <td>1</td>\n",
       "    </tr>\n",
       "    <tr>\n",
       "      <th>4</th>\n",
       "      <td>source_1</td>\n",
       "      <td>160.183014</td>\n",
       "      <td>33.016467</td>\n",
       "      <td>ZTF21aakgowm</td>\n",
       "      <td>167.804548</td>\n",
       "      <td>32.316459</td>\n",
       "      <td>6.452625</td>\n",
       "      <td>59306.372836</td>\n",
       "      <td>stamp_classifier</td>\n",
       "      <td>AGN</td>\n",
       "      <td>0.674133</td>\n",
       "      <td>1</td>\n",
       "    </tr>\n",
       "    <tr>\n",
       "      <th>...</th>\n",
       "      <td>...</td>\n",
       "      <td>...</td>\n",
       "      <td>...</td>\n",
       "      <td>...</td>\n",
       "      <td>...</td>\n",
       "      <td>...</td>\n",
       "      <td>...</td>\n",
       "      <td>...</td>\n",
       "      <td>...</td>\n",
       "      <td>...</td>\n",
       "      <td>...</td>\n",
       "      <td>...</td>\n",
       "    </tr>\n",
       "    <tr>\n",
       "      <th>95</th>\n",
       "      <td>source_2</td>\n",
       "      <td>174.215249</td>\n",
       "      <td>44.837895</td>\n",
       "      <td>ZTF18aawxqhb</td>\n",
       "      <td>175.292711</td>\n",
       "      <td>35.805777</td>\n",
       "      <td>9.069154</td>\n",
       "      <td>59305.288137</td>\n",
       "      <td>stamp_classifier</td>\n",
       "      <td>AGN</td>\n",
       "      <td>0.425976</td>\n",
       "      <td>1</td>\n",
       "    </tr>\n",
       "    <tr>\n",
       "      <th>96</th>\n",
       "      <td>source_2</td>\n",
       "      <td>174.215249</td>\n",
       "      <td>44.837895</td>\n",
       "      <td>ZTF21aargssp</td>\n",
       "      <td>175.077453</td>\n",
       "      <td>35.803898</td>\n",
       "      <td>9.057726</td>\n",
       "      <td>59305.288137</td>\n",
       "      <td>stamp_classifier</td>\n",
       "      <td>AGN</td>\n",
       "      <td>0.697723</td>\n",
       "      <td>1</td>\n",
       "    </tr>\n",
       "    <tr>\n",
       "      <th>97</th>\n",
       "      <td>source_2</td>\n",
       "      <td>174.215249</td>\n",
       "      <td>44.837895</td>\n",
       "      <td>ZTF18acstzfc</td>\n",
       "      <td>175.990114</td>\n",
       "      <td>35.860073</td>\n",
       "      <td>9.078492</td>\n",
       "      <td>59305.288137</td>\n",
       "      <td>stamp_classifier</td>\n",
       "      <td>AGN</td>\n",
       "      <td>0.591342</td>\n",
       "      <td>1</td>\n",
       "    </tr>\n",
       "    <tr>\n",
       "      <th>98</th>\n",
       "      <td>source_2</td>\n",
       "      <td>174.215249</td>\n",
       "      <td>44.837895</td>\n",
       "      <td>ZTF18aawxqhu</td>\n",
       "      <td>176.032205</td>\n",
       "      <td>35.652406</td>\n",
       "      <td>9.288893</td>\n",
       "      <td>59305.288137</td>\n",
       "      <td>stamp_classifier</td>\n",
       "      <td>AGN</td>\n",
       "      <td>0.607130</td>\n",
       "      <td>1</td>\n",
       "    </tr>\n",
       "    <tr>\n",
       "      <th>99</th>\n",
       "      <td>source_2</td>\n",
       "      <td>174.215249</td>\n",
       "      <td>44.837895</td>\n",
       "      <td>ZTF18aawxqjk</td>\n",
       "      <td>175.110095</td>\n",
       "      <td>35.840358</td>\n",
       "      <td>9.023185</td>\n",
       "      <td>59305.288137</td>\n",
       "      <td>stamp_classifier</td>\n",
       "      <td>AGN</td>\n",
       "      <td>0.727341</td>\n",
       "      <td>1</td>\n",
       "    </tr>\n",
       "  </tbody>\n",
       "</table>\n",
       "<p>100 rows × 12 columns</p>\n",
       "</div>"
      ],
      "text/plain": [
       "   source_id          ra        dec           oid      meanra    meandec  \\\n",
       "0   source_1  160.183014  33.016467  ZTF18acpmlui  166.640634  26.016864   \n",
       "1   source_1  160.183014  33.016467  ZTF18acxdfdo  171.094971  35.390679   \n",
       "2   source_1  160.183014  33.016467  ZTF20acsfwsy  149.798671  34.506218   \n",
       "3   source_1  160.183014  33.016467  ZTF21aaogfkk  168.123513  35.580565   \n",
       "4   source_1  160.183014  33.016467  ZTF21aakgowm  167.804548  32.316459   \n",
       "..       ...         ...        ...           ...         ...        ...   \n",
       "95  source_2  174.215249  44.837895  ZTF18aawxqhb  175.292711  35.805777   \n",
       "96  source_2  174.215249  44.837895  ZTF21aargssp  175.077453  35.803898   \n",
       "97  source_2  174.215249  44.837895  ZTF18acstzfc  175.990114  35.860073   \n",
       "98  source_2  174.215249  44.837895  ZTF18aawxqhu  176.032205  35.652406   \n",
       "99  source_2  174.215249  44.837895  ZTF18aawxqjk  175.110095  35.840358   \n",
       "\n",
       "    q3c_dist      firstmjd   classifier_name class_name  probability  ranking  \n",
       "0   8.971510  59308.339965  stamp_classifier        AGN     0.715071        1  \n",
       "1   9.326095  59305.288137  stamp_classifier        AGN     0.677221        1  \n",
       "2   8.756553  59306.236181  stamp_classifier        AGN     0.686381        1  \n",
       "3   7.040297  59304.173646  stamp_classifier        AGN     0.650135        1  \n",
       "4   6.452625  59306.372836  stamp_classifier        AGN     0.674133        1  \n",
       "..       ...           ...               ...        ...          ...      ...  \n",
       "95  9.069154  59305.288137  stamp_classifier        AGN     0.425976        1  \n",
       "96  9.057726  59305.288137  stamp_classifier        AGN     0.697723        1  \n",
       "97  9.078492  59305.288137  stamp_classifier        AGN     0.591342        1  \n",
       "98  9.288893  59305.288137  stamp_classifier        AGN     0.607130        1  \n",
       "99  9.023185  59305.288137  stamp_classifier        AGN     0.727341        1  \n",
       "\n",
       "[100 rows x 12 columns]"
      ]
     },
     "execution_count": 10,
     "metadata": {},
     "output_type": "execute_result"
    }
   ],
   "source": [
    "matches = pd.read_sql(query_str,conn)\n",
    "print(matches.shape)\n",
    "matches.head(100)"
   ]
  },
  {
   "cell_type": "code",
   "execution_count": null,
   "metadata": {},
   "outputs": [],
   "source": []
  }
 ],
 "metadata": {
  "kernelspec": {
   "display_name": "Python 3",
   "language": "python",
   "name": "python3"
  },
  "language_info": {
   "codemirror_mode": {
    "name": "ipython",
    "version": 3
   },
   "file_extension": ".py",
   "mimetype": "text/x-python",
   "name": "python",
   "nbconvert_exporter": "python",
   "pygments_lexer": "ipython3",
   "version": "3.6.5"
  },
  "toc": {
   "base_numbering": 1,
   "nav_menu": {},
   "number_sections": true,
   "sideBar": true,
   "skip_h1_title": false,
   "title_cell": "Table of Contents",
   "title_sidebar": "Contents",
   "toc_cell": false,
   "toc_position": {},
   "toc_section_display": true,
   "toc_window_display": true
  }
 },
 "nbformat": 4,
 "nbformat_minor": 4
}
