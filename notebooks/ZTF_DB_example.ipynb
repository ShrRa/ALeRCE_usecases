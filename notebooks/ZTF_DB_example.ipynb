{
 "cells": [
  {
   "cell_type": "code",
   "execution_count": 1,
   "metadata": {
    "ExecuteTime": {
     "end_time": "2019-05-17T19:52:25.664938Z",
     "start_time": "2019-05-17T19:52:24.577634Z"
    }
   },
   "outputs": [],
   "source": [
    "import pandas\n",
    "import numpy as np\n",
    "from ztf_pipeline.db import DBClient"
   ]
  },
  {
   "cell_type": "markdown",
   "metadata": {},
   "source": [
    "Get credentials (not from github repository!)"
   ]
  },
  {
   "cell_type": "code",
   "execution_count": 2,
   "metadata": {
    "ExecuteTime": {
     "end_time": "2019-05-17T19:52:25.669170Z",
     "start_time": "2019-05-17T19:52:25.666442Z"
    }
   },
   "outputs": [],
   "source": [
    "import json\n",
    "with open(\"../alerceuser.json\") as jsonfile:\n",
    "    params = json.load(jsonfile)[\"params\"]"
   ]
  },
  {
   "cell_type": "markdown",
   "metadata": {},
   "source": [
    "DB Client"
   ]
  },
  {
   "cell_type": "code",
   "execution_count": 3,
   "metadata": {
    "ExecuteTime": {
     "end_time": "2019-05-17T19:52:26.521291Z",
     "start_time": "2019-05-17T19:52:26.429885Z"
    }
   },
   "outputs": [],
   "source": [
    "#DBClient\n",
    "client = DBClient(params)\n",
    "client.connect()"
   ]
  },
  {
   "cell_type": "markdown",
   "metadata": {},
   "source": [
    "Query data"
   ]
  },
  {
   "cell_type": "code",
   "execution_count": 4,
   "metadata": {
    "ExecuteTime": {
     "end_time": "2019-05-17T19:52:27.382906Z",
     "start_time": "2019-05-17T19:52:27.276120Z"
    }
   },
   "outputs": [],
   "source": [
    "query = \"select * from detections limit 100\"\n",
    "client.execute(query)\n",
    "result = client.fetchall()\n",
    "client.close()"
   ]
  },
  {
   "cell_type": "markdown",
   "metadata": {},
   "source": [
    "Convert to dataframe"
   ]
  },
  {
   "cell_type": "code",
   "execution_count": 5,
   "metadata": {
    "ExecuteTime": {
     "end_time": "2019-05-17T19:52:28.212142Z",
     "start_time": "2019-05-17T19:52:28.183715Z"
    },
    "scrolled": false
   },
   "outputs": [
    {
     "data": {
      "text/html": [
       "<div>\n",
       "<style scoped>\n",
       "    .dataframe tbody tr th:only-of-type {\n",
       "        vertical-align: middle;\n",
       "    }\n",
       "\n",
       "    .dataframe tbody tr th {\n",
       "        vertical-align: top;\n",
       "    }\n",
       "\n",
       "    .dataframe thead th {\n",
       "        text-align: right;\n",
       "    }\n",
       "</style>\n",
       "<table border=\"1\" class=\"dataframe\">\n",
       "  <thead>\n",
       "    <tr style=\"text-align: right;\">\n",
       "      <th></th>\n",
       "      <th>0</th>\n",
       "      <th>1</th>\n",
       "      <th>2</th>\n",
       "      <th>3</th>\n",
       "      <th>4</th>\n",
       "      <th>5</th>\n",
       "      <th>6</th>\n",
       "      <th>7</th>\n",
       "      <th>8</th>\n",
       "      <th>9</th>\n",
       "      <th>...</th>\n",
       "      <th>15</th>\n",
       "      <th>16</th>\n",
       "      <th>17</th>\n",
       "      <th>18</th>\n",
       "      <th>19</th>\n",
       "      <th>20</th>\n",
       "      <th>21</th>\n",
       "      <th>22</th>\n",
       "      <th>23</th>\n",
       "      <th>24</th>\n",
       "    </tr>\n",
       "  </thead>\n",
       "  <tbody>\n",
       "    <tr>\n",
       "      <th>0</th>\n",
       "      <td>520400050515015050</td>\n",
       "      <td>ZTF18aayeqaa</td>\n",
       "      <td>58274.4</td>\n",
       "      <td>1</td>\n",
       "      <td>20.7201</td>\n",
       "      <td>19.1307</td>\n",
       "      <td>19.1307</td>\n",
       "      <td>0.0959</td>\n",
       "      <td>0.0959</td>\n",
       "      <td>294.095</td>\n",
       "      <td>...</td>\n",
       "      <td>0.898292</td>\n",
       "      <td>639</td>\n",
       "      <td>5</td>\n",
       "      <td>21.474</td>\n",
       "      <td>0.15</td>\n",
       "      <td>0.283333</td>\n",
       "      <td>19.012</td>\n",
       "      <td>19.012</td>\n",
       "      <td>0.0873606</td>\n",
       "      <td>0.0873606</td>\n",
       "    </tr>\n",
       "    <tr>\n",
       "      <th>1</th>\n",
       "      <td>528393990515015050</td>\n",
       "      <td>ZTF18aayeqaa</td>\n",
       "      <td>58282.4</td>\n",
       "      <td>1</td>\n",
       "      <td>20.9428</td>\n",
       "      <td>19.3859</td>\n",
       "      <td>19.3859</td>\n",
       "      <td>0.1005</td>\n",
       "      <td>0.1005</td>\n",
       "      <td>294.095</td>\n",
       "      <td>...</td>\n",
       "      <td>0.898292</td>\n",
       "      <td>639</td>\n",
       "      <td>5</td>\n",
       "      <td>21.474</td>\n",
       "      <td>0.15</td>\n",
       "      <td>0.293333</td>\n",
       "      <td>19.2378</td>\n",
       "      <td>19.2378</td>\n",
       "      <td>0.0897474</td>\n",
       "      <td>0.0897474</td>\n",
       "    </tr>\n",
       "    <tr>\n",
       "      <th>2</th>\n",
       "      <td>529403370515015033</td>\n",
       "      <td>ZTF18aayeqaa</td>\n",
       "      <td>58283.4</td>\n",
       "      <td>1</td>\n",
       "      <td>21.0718</td>\n",
       "      <td>19.2539</td>\n",
       "      <td>19.2539</td>\n",
       "      <td>0.0795</td>\n",
       "      <td>0.0795</td>\n",
       "      <td>294.095</td>\n",
       "      <td>...</td>\n",
       "      <td>0.898292</td>\n",
       "      <td>639</td>\n",
       "      <td>5</td>\n",
       "      <td>21.474</td>\n",
       "      <td>0.15</td>\n",
       "      <td>0.353333</td>\n",
       "      <td>19.1218</td>\n",
       "      <td>19.1218</td>\n",
       "      <td>0.0724587</td>\n",
       "      <td>0.0724587</td>\n",
       "    </tr>\n",
       "    <tr>\n",
       "      <th>3</th>\n",
       "      <td>520400050515015040</td>\n",
       "      <td>ZTF18aayeqab</td>\n",
       "      <td>58274.4</td>\n",
       "      <td>1</td>\n",
       "      <td>20.7201</td>\n",
       "      <td>19.1772</td>\n",
       "      <td>19.1772</td>\n",
       "      <td>0.1012</td>\n",
       "      <td>0.1012</td>\n",
       "      <td>293.414</td>\n",
       "      <td>...</td>\n",
       "      <td>0.817208</td>\n",
       "      <td>639</td>\n",
       "      <td>5</td>\n",
       "      <td>18.341</td>\n",
       "      <td>0.015</td>\n",
       "      <td>0.31</td>\n",
       "      <td>19.1772</td>\n",
       "      <td>19.1772</td>\n",
       "      <td>0.1012</td>\n",
       "      <td>0.1012</td>\n",
       "    </tr>\n",
       "    <tr>\n",
       "      <th>4</th>\n",
       "      <td>528393990515015038</td>\n",
       "      <td>ZTF18aayeqab</td>\n",
       "      <td>58282.4</td>\n",
       "      <td>1</td>\n",
       "      <td>20.9428</td>\n",
       "      <td>18.8044</td>\n",
       "      <td>18.8044</td>\n",
       "      <td>0.061</td>\n",
       "      <td>0.061</td>\n",
       "      <td>293.414</td>\n",
       "      <td>...</td>\n",
       "      <td>0.817208</td>\n",
       "      <td>639</td>\n",
       "      <td>5</td>\n",
       "      <td>18.341</td>\n",
       "      <td>0.015</td>\n",
       "      <td>0.236667</td>\n",
       "      <td>18.8044</td>\n",
       "      <td>18.8044</td>\n",
       "      <td>0.061</td>\n",
       "      <td>0.061</td>\n",
       "    </tr>\n",
       "  </tbody>\n",
       "</table>\n",
       "<p>5 rows × 25 columns</p>\n",
       "</div>"
      ],
      "text/plain": [
       "                   0             1        2  3        4        5        6   \\\n",
       "0  520400050515015050  ZTF18aayeqaa  58274.4  1  20.7201  19.1307  19.1307   \n",
       "1  528393990515015050  ZTF18aayeqaa  58282.4  1  20.9428  19.3859  19.3859   \n",
       "2  529403370515015033  ZTF18aayeqaa  58283.4  1  21.0718  19.2539  19.2539   \n",
       "3  520400050515015040  ZTF18aayeqab  58274.4  1  20.7201  19.1772  19.1772   \n",
       "4  528393990515015038  ZTF18aayeqab  58282.4  1  20.9428  18.8044  18.8044   \n",
       "\n",
       "       7       8        9     ...            15   16 17      18     19  \\\n",
       "0  0.0959  0.0959  294.095    ...      0.898292  639  5  21.474   0.15   \n",
       "1  0.1005  0.1005  294.095    ...      0.898292  639  5  21.474   0.15   \n",
       "2  0.0795  0.0795  294.095    ...      0.898292  639  5  21.474   0.15   \n",
       "3  0.1012  0.1012  293.414    ...      0.817208  639  5  18.341  0.015   \n",
       "4   0.061   0.061  293.414    ...      0.817208  639  5  18.341  0.015   \n",
       "\n",
       "         20       21       22         23         24  \n",
       "0  0.283333   19.012   19.012  0.0873606  0.0873606  \n",
       "1  0.293333  19.2378  19.2378  0.0897474  0.0897474  \n",
       "2  0.353333  19.1218  19.1218  0.0724587  0.0724587  \n",
       "3      0.31  19.1772  19.1772     0.1012     0.1012  \n",
       "4  0.236667  18.8044  18.8044      0.061      0.061  \n",
       "\n",
       "[5 rows x 25 columns]"
      ]
     },
     "execution_count": 5,
     "metadata": {},
     "output_type": "execute_result"
    }
   ],
   "source": [
    "df = pandas.DataFrame(np.array(result))\n",
    "df.head()"
   ]
  },
  {
   "cell_type": "code",
   "execution_count": null,
   "metadata": {},
   "outputs": [],
   "source": []
  },
  {
   "cell_type": "code",
   "execution_count": null,
   "metadata": {},
   "outputs": [],
   "source": []
  }
 ],
 "metadata": {
  "kernelspec": {
   "display_name": "Python 3",
   "language": "python",
   "name": "python3"
  },
  "language_info": {
   "codemirror_mode": {
    "name": "ipython",
    "version": 3
   },
   "file_extension": ".py",
   "mimetype": "text/x-python",
   "name": "python",
   "nbconvert_exporter": "python",
   "pygments_lexer": "ipython3",
   "version": "3.6.5"
  }
 },
 "nbformat": 4,
 "nbformat_minor": 2
}
