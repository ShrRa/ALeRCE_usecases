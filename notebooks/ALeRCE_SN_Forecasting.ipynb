{
 "cells": [
  {
   "cell_type": "markdown",
   "metadata": {},
   "source": [
    "# Testing the ALeRCE forecasting tool\n",
    "\n",
    "Francisco Förster \n",
    "\n",
    "Last modification: `20210120`"
   ]
  },
  {
   "cell_type": "code",
   "execution_count": 1,
   "metadata": {
    "ExecuteTime": {
     "end_time": "2022-01-20T14:32:15.523984Z",
     "start_time": "2022-01-20T14:32:15.066126Z"
    }
   },
   "outputs": [],
   "source": [
    "import pandas as pd\n",
    "import numpy as np\n",
    "import matplotlib.pyplot as plt\n",
    "import requests"
   ]
  },
  {
   "cell_type": "markdown",
   "metadata": {},
   "source": [
    "# Load the ALeRCE client \n",
    "https://alerce.readthedocs.io/en/latest/ \n",
    "(API http://api.alerce.online/ztf/v1)"
   ]
  },
  {
   "cell_type": "code",
   "execution_count": 2,
   "metadata": {
    "ExecuteTime": {
     "end_time": "2022-01-20T14:32:15.532301Z",
     "start_time": "2022-01-20T14:32:15.530722Z"
    }
   },
   "outputs": [],
   "source": [
    "#!pip install alerce"
   ]
  },
  {
   "cell_type": "code",
   "execution_count": 3,
   "metadata": {
    "ExecuteTime": {
     "end_time": "2022-01-20T14:32:16.063714Z",
     "start_time": "2022-01-20T14:32:15.605662Z"
    }
   },
   "outputs": [],
   "source": [
    "from alerce.core import Alerce\n",
    "alerce = Alerce()"
   ]
  },
  {
   "cell_type": "markdown",
   "metadata": {},
   "source": [
    "# Select a SN"
   ]
  },
  {
   "cell_type": "code",
   "execution_count": 4,
   "metadata": {
    "ExecuteTime": {
     "end_time": "2022-01-20T14:32:16.073154Z",
     "start_time": "2022-01-20T14:32:16.071335Z"
    }
   },
   "outputs": [],
   "source": [
    "oid = \"ZTF19abahvdh\" #\"ZTF21aaqftuq\""
   ]
  },
  {
   "cell_type": "code",
   "execution_count": 5,
   "metadata": {
    "ExecuteTime": {
     "end_time": "2022-01-20T14:32:28.948067Z",
     "start_time": "2022-01-20T14:32:16.328783Z"
    }
   },
   "outputs": [],
   "source": [
    "from astropy.time import Time\n",
    "nt = Time.now()\n",
    "search_radius=30\n",
    "dataframe = alerce.query_objects(\n",
    "    ra=220,\n",
    "    dec=0,\n",
    "    lastmjd=[nt.mjd-365./2,nt.mjd],\n",
    "    radius=search_radius*3600,\n",
    "    classifier='stamp_classifier',\n",
    "    class_name='SN',\n",
    "    page_size=200,\n",
    "    count='False'\n",
    ")"
   ]
  },
  {
   "cell_type": "code",
   "execution_count": 6,
   "metadata": {
    "ExecuteTime": {
     "end_time": "2022-01-20T14:32:29.312645Z",
     "start_time": "2022-01-20T14:32:28.975832Z"
    }
   },
   "outputs": [
    {
     "data": {
      "text/html": [
       "<div>\n",
       "<style scoped>\n",
       "    .dataframe tbody tr th:only-of-type {\n",
       "        vertical-align: middle;\n",
       "    }\n",
       "\n",
       "    .dataframe tbody tr th {\n",
       "        vertical-align: top;\n",
       "    }\n",
       "\n",
       "    .dataframe thead th {\n",
       "        text-align: right;\n",
       "    }\n",
       "</style>\n",
       "<table border=\"1\" class=\"dataframe\">\n",
       "  <thead>\n",
       "    <tr style=\"text-align: right;\">\n",
       "      <th></th>\n",
       "      <th>oid</th>\n",
       "      <th>ndethist</th>\n",
       "      <th>ncovhist</th>\n",
       "      <th>mjdstarthist</th>\n",
       "      <th>mjdendhist</th>\n",
       "      <th>corrected</th>\n",
       "      <th>stellar</th>\n",
       "      <th>ndet</th>\n",
       "      <th>g_r_max</th>\n",
       "      <th>g_r_max_corr</th>\n",
       "      <th>...</th>\n",
       "      <th>lastmjd</th>\n",
       "      <th>deltajd</th>\n",
       "      <th>meanra</th>\n",
       "      <th>meandec</th>\n",
       "      <th>sigmara</th>\n",
       "      <th>sigmadec</th>\n",
       "      <th>class</th>\n",
       "      <th>classifier</th>\n",
       "      <th>probability</th>\n",
       "      <th>step_id_corr</th>\n",
       "    </tr>\n",
       "  </thead>\n",
       "  <tbody>\n",
       "    <tr>\n",
       "      <th>0</th>\n",
       "      <td>ZTF19abahvdh</td>\n",
       "      <td>27</td>\n",
       "      <td>135</td>\n",
       "      <td>58652.172269</td>\n",
       "      <td>58705.165648</td>\n",
       "      <td>False</td>\n",
       "      <td>False</td>\n",
       "      <td>25</td>\n",
       "      <td>-0.205154</td>\n",
       "      <td>None</td>\n",
       "      <td>...</td>\n",
       "      <td>58705.165648</td>\n",
       "      <td>52.99338</td>\n",
       "      <td>232.864384</td>\n",
       "      <td>7.095238</td>\n",
       "      <td>0.000024</td>\n",
       "      <td>0.00003</td>\n",
       "      <td>None</td>\n",
       "      <td>None</td>\n",
       "      <td>None</td>\n",
       "      <td>corr_bulk_0.0.1</td>\n",
       "    </tr>\n",
       "  </tbody>\n",
       "</table>\n",
       "<p>1 rows × 23 columns</p>\n",
       "</div>"
      ],
      "text/plain": [
       "            oid ndethist  ncovhist  mjdstarthist    mjdendhist  corrected  \\\n",
       "0  ZTF19abahvdh       27       135  58652.172269  58705.165648      False   \n",
       "\n",
       "   stellar  ndet   g_r_max g_r_max_corr  ...       lastmjd   deltajd  \\\n",
       "0    False    25 -0.205154         None  ...  58705.165648  52.99338   \n",
       "\n",
       "       meanra   meandec   sigmara  sigmadec  class  classifier  probability  \\\n",
       "0  232.864384  7.095238  0.000024   0.00003   None        None         None   \n",
       "\n",
       "      step_id_corr  \n",
       "0  corr_bulk_0.0.1  \n",
       "\n",
       "[1 rows x 23 columns]"
      ]
     },
     "execution_count": 6,
     "metadata": {},
     "output_type": "execute_result"
    }
   ],
   "source": [
    "alerce.query_objects(oid=oid, format='pandas')"
   ]
  },
  {
   "cell_type": "markdown",
   "metadata": {},
   "source": [
    "# Check in ALeRCE explorer"
   ]
  },
  {
   "cell_type": "code",
   "execution_count": 7,
   "metadata": {
    "ExecuteTime": {
     "end_time": "2022-01-20T14:32:29.341677Z",
     "start_time": "2022-01-20T14:32:29.338962Z"
    }
   },
   "outputs": [
    {
     "data": {
      "text/html": [
       "<a href=\"https://dev.alerce.online/object/ZTF19abahvdh\">ZTF19abahvdh</a>"
      ],
      "text/plain": [
       "<IPython.core.display.HTML object>"
      ]
     },
     "metadata": {},
     "output_type": "display_data"
    }
   ],
   "source": [
    "from IPython.core.display import display, HTML\n",
    "display(HTML(\"<a href=\\\"https://dev.alerce.online/object/%s\\\">%s</a>\" % (oid, oid)))\n",
    "# control-left click to open in new tab"
   ]
  },
  {
   "cell_type": "markdown",
   "metadata": {},
   "source": [
    "# Query object statistics"
   ]
  },
  {
   "cell_type": "markdown",
   "metadata": {},
   "source": [
    "Let's look at the `object` table using the `query_objects` function. Note that `oid` is a unique identifier per object, as reported by ZTF. Also, note that the `meanra` and `meandec` fields show the mean of the right ascension and declination."
   ]
  },
  {
   "cell_type": "code",
   "execution_count": 8,
   "metadata": {
    "ExecuteTime": {
     "end_time": "2022-01-20T14:32:29.672635Z",
     "start_time": "2022-01-20T14:32:29.366794Z"
    }
   },
   "outputs": [
    {
     "data": {
      "text/html": [
       "<div>\n",
       "<style scoped>\n",
       "    .dataframe tbody tr th:only-of-type {\n",
       "        vertical-align: middle;\n",
       "    }\n",
       "\n",
       "    .dataframe tbody tr th {\n",
       "        vertical-align: top;\n",
       "    }\n",
       "\n",
       "    .dataframe thead th {\n",
       "        text-align: right;\n",
       "    }\n",
       "</style>\n",
       "<table border=\"1\" class=\"dataframe\">\n",
       "  <thead>\n",
       "    <tr style=\"text-align: right;\">\n",
       "      <th></th>\n",
       "      <th>oid</th>\n",
       "      <th>ndethist</th>\n",
       "      <th>ncovhist</th>\n",
       "      <th>mjdstarthist</th>\n",
       "      <th>mjdendhist</th>\n",
       "      <th>corrected</th>\n",
       "      <th>stellar</th>\n",
       "      <th>ndet</th>\n",
       "      <th>g_r_max</th>\n",
       "      <th>g_r_max_corr</th>\n",
       "      <th>...</th>\n",
       "      <th>lastmjd</th>\n",
       "      <th>deltajd</th>\n",
       "      <th>meanra</th>\n",
       "      <th>meandec</th>\n",
       "      <th>sigmara</th>\n",
       "      <th>sigmadec</th>\n",
       "      <th>class</th>\n",
       "      <th>classifier</th>\n",
       "      <th>probability</th>\n",
       "      <th>step_id_corr</th>\n",
       "    </tr>\n",
       "  </thead>\n",
       "  <tbody>\n",
       "    <tr>\n",
       "      <th>0</th>\n",
       "      <td>ZTF19abahvdh</td>\n",
       "      <td>27</td>\n",
       "      <td>135</td>\n",
       "      <td>58652.172269</td>\n",
       "      <td>58705.165648</td>\n",
       "      <td>False</td>\n",
       "      <td>False</td>\n",
       "      <td>25</td>\n",
       "      <td>-0.205154</td>\n",
       "      <td>None</td>\n",
       "      <td>...</td>\n",
       "      <td>58705.165648</td>\n",
       "      <td>52.99338</td>\n",
       "      <td>232.864384</td>\n",
       "      <td>7.095238</td>\n",
       "      <td>0.000024</td>\n",
       "      <td>0.00003</td>\n",
       "      <td>None</td>\n",
       "      <td>None</td>\n",
       "      <td>None</td>\n",
       "      <td>corr_bulk_0.0.1</td>\n",
       "    </tr>\n",
       "  </tbody>\n",
       "</table>\n",
       "<p>1 rows × 23 columns</p>\n",
       "</div>"
      ],
      "text/plain": [
       "            oid ndethist  ncovhist  mjdstarthist    mjdendhist  corrected  \\\n",
       "0  ZTF19abahvdh       27       135  58652.172269  58705.165648      False   \n",
       "\n",
       "   stellar  ndet   g_r_max g_r_max_corr  ...       lastmjd   deltajd  \\\n",
       "0    False    25 -0.205154         None  ...  58705.165648  52.99338   \n",
       "\n",
       "       meanra   meandec   sigmara  sigmadec  class  classifier  probability  \\\n",
       "0  232.864384  7.095238  0.000024   0.00003   None        None         None   \n",
       "\n",
       "      step_id_corr  \n",
       "0  corr_bulk_0.0.1  \n",
       "\n",
       "[1 rows x 23 columns]"
      ]
     },
     "execution_count": 8,
     "metadata": {},
     "output_type": "execute_result"
    }
   ],
   "source": [
    "alerce.query_objects(oid=oid, format='pandas')"
   ]
  },
  {
   "cell_type": "markdown",
   "metadata": {},
   "source": [
    "# Query object band dependent statistics"
   ]
  },
  {
   "cell_type": "markdown",
   "metadata": {},
   "source": [
    "Let's query some filter dependent statistics from the `magstats` table using the `query_magstats` function. Note that `fid` is a unique identifier per filter (`fid=1` for g band and `fid=2` for r band)."
   ]
  },
  {
   "cell_type": "code",
   "execution_count": 9,
   "metadata": {
    "ExecuteTime": {
     "end_time": "2022-01-20T14:32:29.872941Z",
     "start_time": "2022-01-20T14:32:29.699999Z"
    }
   },
   "outputs": [
    {
     "data": {
      "text/html": [
       "<div>\n",
       "<style scoped>\n",
       "    .dataframe tbody tr th:only-of-type {\n",
       "        vertical-align: middle;\n",
       "    }\n",
       "\n",
       "    .dataframe tbody tr th {\n",
       "        vertical-align: top;\n",
       "    }\n",
       "\n",
       "    .dataframe thead th {\n",
       "        text-align: right;\n",
       "    }\n",
       "</style>\n",
       "<table border=\"1\" class=\"dataframe\">\n",
       "  <thead>\n",
       "    <tr style=\"text-align: right;\">\n",
       "      <th></th>\n",
       "      <th>fid</th>\n",
       "      <th>stellar</th>\n",
       "      <th>corrected</th>\n",
       "      <th>ndet</th>\n",
       "      <th>ndubious</th>\n",
       "      <th>magmean</th>\n",
       "      <th>magmedian</th>\n",
       "      <th>magmax</th>\n",
       "      <th>magmin</th>\n",
       "      <th>magsigma</th>\n",
       "      <th>maglast</th>\n",
       "      <th>magfirst</th>\n",
       "      <th>firstmjd</th>\n",
       "      <th>lastmjd</th>\n",
       "      <th>step_id_corr</th>\n",
       "    </tr>\n",
       "  </thead>\n",
       "  <tbody>\n",
       "    <tr>\n",
       "      <th>0</th>\n",
       "      <td>1</td>\n",
       "      <td>False</td>\n",
       "      <td>False</td>\n",
       "      <td>11</td>\n",
       "      <td>0</td>\n",
       "      <td>18.913940</td>\n",
       "      <td>18.838703</td>\n",
       "      <td>19.8553</td>\n",
       "      <td>18.138979</td>\n",
       "      <td>None</td>\n",
       "      <td>19.845331</td>\n",
       "      <td>19.8553</td>\n",
       "      <td>58652.170</td>\n",
       "      <td>58692.190</td>\n",
       "      <td>bulk_version_0.0.1</td>\n",
       "    </tr>\n",
       "    <tr>\n",
       "      <th>1</th>\n",
       "      <td>2</td>\n",
       "      <td>False</td>\n",
       "      <td>False</td>\n",
       "      <td>14</td>\n",
       "      <td>0</td>\n",
       "      <td>19.044666</td>\n",
       "      <td>19.071957</td>\n",
       "      <td>20.1245</td>\n",
       "      <td>18.344133</td>\n",
       "      <td>None</td>\n",
       "      <td>19.691998</td>\n",
       "      <td>20.1245</td>\n",
       "      <td>58652.293</td>\n",
       "      <td>58705.164</td>\n",
       "      <td>bulk_version_0.0.1</td>\n",
       "    </tr>\n",
       "  </tbody>\n",
       "</table>\n",
       "</div>"
      ],
      "text/plain": [
       "   fid  stellar  corrected  ndet  ndubious    magmean  magmedian   magmax  \\\n",
       "0    1    False      False    11         0  18.913940  18.838703  19.8553   \n",
       "1    2    False      False    14         0  19.044666  19.071957  20.1245   \n",
       "\n",
       "      magmin magsigma    maglast  magfirst   firstmjd    lastmjd  \\\n",
       "0  18.138979     None  19.845331   19.8553  58652.170  58692.190   \n",
       "1  18.344133     None  19.691998   20.1245  58652.293  58705.164   \n",
       "\n",
       "         step_id_corr  \n",
       "0  bulk_version_0.0.1  \n",
       "1  bulk_version_0.0.1  "
      ]
     },
     "execution_count": 9,
     "metadata": {},
     "output_type": "execute_result"
    }
   ],
   "source": [
    "alerce.query_magstats(oid=oid, format='pandas')"
   ]
  },
  {
   "cell_type": "markdown",
   "metadata": {},
   "source": [
    "# Get light curve"
   ]
  },
  {
   "cell_type": "markdown",
   "metadata": {},
   "source": [
    "Now we will get the object's light curve of detections (from the `detection` table) and non-detections (from the `non-detection` table) using the `query_detections` and `query_non_detections` functions, respectively. Note that `candid` is a unique identifier per detection."
   ]
  },
  {
   "cell_type": "code",
   "execution_count": 10,
   "metadata": {
    "ExecuteTime": {
     "end_time": "2022-01-20T14:32:30.093815Z",
     "start_time": "2022-01-20T14:32:29.897044Z"
    }
   },
   "outputs": [
    {
     "data": {
      "text/html": [
       "<div>\n",
       "<style scoped>\n",
       "    .dataframe tbody tr th:only-of-type {\n",
       "        vertical-align: middle;\n",
       "    }\n",
       "\n",
       "    .dataframe tbody tr th {\n",
       "        vertical-align: top;\n",
       "    }\n",
       "\n",
       "    .dataframe thead th {\n",
       "        text-align: right;\n",
       "    }\n",
       "</style>\n",
       "<table border=\"1\" class=\"dataframe\">\n",
       "  <thead>\n",
       "    <tr style=\"text-align: right;\">\n",
       "      <th></th>\n",
       "      <th>mjd</th>\n",
       "      <th>candid</th>\n",
       "      <th>fid</th>\n",
       "      <th>pid</th>\n",
       "      <th>diffmaglim</th>\n",
       "      <th>isdiffpos</th>\n",
       "      <th>nid</th>\n",
       "      <th>distnr</th>\n",
       "      <th>magpsf</th>\n",
       "      <th>magpsf_corr</th>\n",
       "      <th>...</th>\n",
       "      <th>magapbig</th>\n",
       "      <th>sigmagapbig</th>\n",
       "      <th>rfid</th>\n",
       "      <th>has_stamp</th>\n",
       "      <th>corrected</th>\n",
       "      <th>dubious</th>\n",
       "      <th>candid_alert</th>\n",
       "      <th>step_id_corr</th>\n",
       "      <th>phase</th>\n",
       "      <th>parent_candid</th>\n",
       "    </tr>\n",
       "  </thead>\n",
       "  <tbody>\n",
       "    <tr>\n",
       "      <th>0</th>\n",
       "      <td>58652.172269</td>\n",
       "      <td>898172265915015003</td>\n",
       "      <td>1</td>\n",
       "      <td>898172265915</td>\n",
       "      <td>19.591700</td>\n",
       "      <td>1</td>\n",
       "      <td>898</td>\n",
       "      <td>3.101610</td>\n",
       "      <td>19.855300</td>\n",
       "      <td>None</td>\n",
       "      <td>...</td>\n",
       "      <td>19.7412</td>\n",
       "      <td>0.6077</td>\n",
       "      <td>NaN</td>\n",
       "      <td>False</td>\n",
       "      <td>False</td>\n",
       "      <td>False</td>\n",
       "      <td>None</td>\n",
       "      <td>bulk_1.0.0</td>\n",
       "      <td>None</td>\n",
       "      <td>920204945915015004</td>\n",
       "    </tr>\n",
       "    <tr>\n",
       "      <th>1</th>\n",
       "      <td>58652.292697</td>\n",
       "      <td>898292695915015003</td>\n",
       "      <td>2</td>\n",
       "      <td>898292695915</td>\n",
       "      <td>19.592000</td>\n",
       "      <td>1</td>\n",
       "      <td>898</td>\n",
       "      <td>2.392100</td>\n",
       "      <td>20.124500</td>\n",
       "      <td>None</td>\n",
       "      <td>...</td>\n",
       "      <td>19.0745</td>\n",
       "      <td>0.3604</td>\n",
       "      <td>NaN</td>\n",
       "      <td>False</td>\n",
       "      <td>False</td>\n",
       "      <td>False</td>\n",
       "      <td>None</td>\n",
       "      <td>bulk_1.0.0</td>\n",
       "      <td>None</td>\n",
       "      <td>920204945915015004</td>\n",
       "    </tr>\n",
       "    <tr>\n",
       "      <th>2</th>\n",
       "      <td>58655.192130</td>\n",
       "      <td>901192125915015004</td>\n",
       "      <td>2</td>\n",
       "      <td>901192125915</td>\n",
       "      <td>20.360611</td>\n",
       "      <td>1</td>\n",
       "      <td>901</td>\n",
       "      <td>2.802778</td>\n",
       "      <td>19.360770</td>\n",
       "      <td>None</td>\n",
       "      <td>...</td>\n",
       "      <td>19.1880</td>\n",
       "      <td>0.1500</td>\n",
       "      <td>480120259.0</td>\n",
       "      <td>False</td>\n",
       "      <td>False</td>\n",
       "      <td>False</td>\n",
       "      <td>None</td>\n",
       "      <td>bulk_1.0.0</td>\n",
       "      <td>None</td>\n",
       "      <td>920204945915015004</td>\n",
       "    </tr>\n",
       "    <tr>\n",
       "      <th>3</th>\n",
       "      <td>58655.231933</td>\n",
       "      <td>901231935915015006</td>\n",
       "      <td>1</td>\n",
       "      <td>901231935915</td>\n",
       "      <td>20.553211</td>\n",
       "      <td>1</td>\n",
       "      <td>901</td>\n",
       "      <td>2.999988</td>\n",
       "      <td>19.257492</td>\n",
       "      <td>None</td>\n",
       "      <td>...</td>\n",
       "      <td>19.2263</td>\n",
       "      <td>0.1062</td>\n",
       "      <td>480120159.0</td>\n",
       "      <td>False</td>\n",
       "      <td>False</td>\n",
       "      <td>False</td>\n",
       "      <td>None</td>\n",
       "      <td>bulk_1.0.0</td>\n",
       "      <td>None</td>\n",
       "      <td>920204945915015004</td>\n",
       "    </tr>\n",
       "    <tr>\n",
       "      <th>4</th>\n",
       "      <td>58658.211331</td>\n",
       "      <td>904211335915015003</td>\n",
       "      <td>1</td>\n",
       "      <td>904211335915</td>\n",
       "      <td>20.703148</td>\n",
       "      <td>1</td>\n",
       "      <td>904</td>\n",
       "      <td>2.865873</td>\n",
       "      <td>18.606083</td>\n",
       "      <td>None</td>\n",
       "      <td>...</td>\n",
       "      <td>18.6431</td>\n",
       "      <td>0.0760</td>\n",
       "      <td>480120159.0</td>\n",
       "      <td>False</td>\n",
       "      <td>False</td>\n",
       "      <td>False</td>\n",
       "      <td>None</td>\n",
       "      <td>bulk_1.0.0</td>\n",
       "      <td>None</td>\n",
       "      <td>920204945915015004</td>\n",
       "    </tr>\n",
       "  </tbody>\n",
       "</table>\n",
       "<p>5 rows × 33 columns</p>\n",
       "</div>"
      ],
      "text/plain": [
       "            mjd              candid  fid           pid  diffmaglim  isdiffpos  \\\n",
       "0  58652.172269  898172265915015003    1  898172265915   19.591700          1   \n",
       "1  58652.292697  898292695915015003    2  898292695915   19.592000          1   \n",
       "2  58655.192130  901192125915015004    2  901192125915   20.360611          1   \n",
       "3  58655.231933  901231935915015006    1  901231935915   20.553211          1   \n",
       "4  58658.211331  904211335915015003    1  904211335915   20.703148          1   \n",
       "\n",
       "   nid    distnr     magpsf magpsf_corr  ... magapbig  sigmagapbig  \\\n",
       "0  898  3.101610  19.855300        None  ...  19.7412       0.6077   \n",
       "1  898  2.392100  20.124500        None  ...  19.0745       0.3604   \n",
       "2  901  2.802778  19.360770        None  ...  19.1880       0.1500   \n",
       "3  901  2.999988  19.257492        None  ...  19.2263       0.1062   \n",
       "4  904  2.865873  18.606083        None  ...  18.6431       0.0760   \n",
       "\n",
       "          rfid  has_stamp corrected dubious  candid_alert step_id_corr  phase  \\\n",
       "0          NaN      False     False   False          None   bulk_1.0.0   None   \n",
       "1          NaN      False     False   False          None   bulk_1.0.0   None   \n",
       "2  480120259.0      False     False   False          None   bulk_1.0.0   None   \n",
       "3  480120159.0      False     False   False          None   bulk_1.0.0   None   \n",
       "4  480120159.0      False     False   False          None   bulk_1.0.0   None   \n",
       "\n",
       "        parent_candid  \n",
       "0  920204945915015004  \n",
       "1  920204945915015004  \n",
       "2  920204945915015004  \n",
       "3  920204945915015004  \n",
       "4  920204945915015004  \n",
       "\n",
       "[5 rows x 33 columns]"
      ]
     },
     "execution_count": 10,
     "metadata": {},
     "output_type": "execute_result"
    }
   ],
   "source": [
    "# Getting detections for an object\n",
    "det = alerce.query_detections(oid, format=\"pandas\")\n",
    "det.head()"
   ]
  },
  {
   "cell_type": "code",
   "execution_count": 11,
   "metadata": {
    "ExecuteTime": {
     "end_time": "2022-01-20T14:32:30.294445Z",
     "start_time": "2022-01-20T14:32:30.132477Z"
    }
   },
   "outputs": [
    {
     "data": {
      "text/html": [
       "<div>\n",
       "<style scoped>\n",
       "    .dataframe tbody tr th:only-of-type {\n",
       "        vertical-align: middle;\n",
       "    }\n",
       "\n",
       "    .dataframe tbody tr th {\n",
       "        vertical-align: top;\n",
       "    }\n",
       "\n",
       "    .dataframe thead th {\n",
       "        text-align: right;\n",
       "    }\n",
       "</style>\n",
       "<table border=\"1\" class=\"dataframe\">\n",
       "  <thead>\n",
       "    <tr style=\"text-align: right;\">\n",
       "      <th></th>\n",
       "      <th>mjd</th>\n",
       "      <th>fid</th>\n",
       "      <th>diffmaglim</th>\n",
       "    </tr>\n",
       "  </thead>\n",
       "  <tbody>\n",
       "    <tr>\n",
       "      <th>0</th>\n",
       "      <td>58633.297870</td>\n",
       "      <td>2</td>\n",
       "      <td>20.5317</td>\n",
       "    </tr>\n",
       "    <tr>\n",
       "      <th>1</th>\n",
       "      <td>58636.211343</td>\n",
       "      <td>2</td>\n",
       "      <td>20.5167</td>\n",
       "    </tr>\n",
       "    <tr>\n",
       "      <th>2</th>\n",
       "      <td>58636.273090</td>\n",
       "      <td>1</td>\n",
       "      <td>20.9806</td>\n",
       "    </tr>\n",
       "    <tr>\n",
       "      <th>3</th>\n",
       "      <td>58639.252338</td>\n",
       "      <td>1</td>\n",
       "      <td>20.7302</td>\n",
       "    </tr>\n",
       "    <tr>\n",
       "      <th>4</th>\n",
       "      <td>58639.273032</td>\n",
       "      <td>2</td>\n",
       "      <td>20.5695</td>\n",
       "    </tr>\n",
       "  </tbody>\n",
       "</table>\n",
       "</div>"
      ],
      "text/plain": [
       "            mjd  fid  diffmaglim\n",
       "0  58633.297870    2     20.5317\n",
       "1  58636.211343    2     20.5167\n",
       "2  58636.273090    1     20.9806\n",
       "3  58639.252338    1     20.7302\n",
       "4  58639.273032    2     20.5695"
      ]
     },
     "execution_count": 11,
     "metadata": {},
     "output_type": "execute_result"
    }
   ],
   "source": [
    "# Getting non detections for an object\n",
    "non_det = alerce.query_non_detections(oid, format=\"pandas\")\n",
    "non_det.head()"
   ]
  },
  {
   "cell_type": "markdown",
   "metadata": {},
   "source": [
    "# Plot stamps"
   ]
  },
  {
   "cell_type": "markdown",
   "metadata": {},
   "source": [
    "Let's look at the image stamps using the `plot_stamps` function. By default it uses the first available stamp."
   ]
  },
  {
   "cell_type": "code",
   "execution_count": 12,
   "metadata": {
    "ExecuteTime": {
     "end_time": "2022-01-20T14:32:31.111858Z",
     "start_time": "2022-01-20T14:32:30.343821Z"
    }
   },
   "outputs": [
    {
     "data": {
      "text/html": [
       "\n",
       "        <div>ZTF oid: ZTF19abahvdh, candid: 951165645915015004</div>\n",
       "        <div>&emsp;&emsp;&emsp;&emsp;&emsp;\n",
       "        Science\n",
       "        &emsp;&emsp;&emsp;&emsp;&emsp;&emsp;&emsp;&emsp;&emsp;&emsp;&emsp;&emsp;\n",
       "        Template\n",
       "        &emsp;&emsp;&emsp;&emsp;&emsp;&emsp;&emsp;&emsp;&emsp;&emsp;&emsp;&emsp;\n",
       "        Difference\n",
       "        <div class=\"container\">\n",
       "        <div style=\"float:left;width:20%\"><img src=\"https://avro.alerce.online/get_stamp?oid=ZTF19abahvdh&candid=951165645915015004&type=science&format=png\"></div>\n",
       "        <div style=\"float:left;width:20%\"><img src=\"https://avro.alerce.online/get_stamp?oid=ZTF19abahvdh&candid=951165645915015004&type=template&format=png\"></div>\n",
       "        <div style=\"float:left;width:20%\"><img src=\"https://avro.alerce.online/get_stamp?oid=ZTF19abahvdh&candid=951165645915015004&type=difference&format=png\"></div>\n",
       "        </div>\n",
       "        "
      ],
      "text/plain": [
       "<IPython.core.display.HTML object>"
      ]
     },
     "metadata": {},
     "output_type": "display_data"
    }
   ],
   "source": [
    "alerce.plot_stamps(oid)"
   ]
  },
  {
   "cell_type": "markdown",
   "metadata": {},
   "source": [
    "You can also select an arbitrary detection. Let's look at the peak magnitude stamp giving the `candid` associated to the minimum magnitude."
   ]
  },
  {
   "cell_type": "code",
   "execution_count": 13,
   "metadata": {
    "ExecuteTime": {
     "end_time": "2022-01-20T14:32:31.164165Z",
     "start_time": "2022-01-20T14:32:31.161360Z"
    }
   },
   "outputs": [
    {
     "data": {
      "text/html": [
       "\n",
       "        <div>ZTF oid: ZTF19abahvdh, candid: 911190175915015006</div>\n",
       "        <div>&emsp;&emsp;&emsp;&emsp;&emsp;\n",
       "        Science\n",
       "        &emsp;&emsp;&emsp;&emsp;&emsp;&emsp;&emsp;&emsp;&emsp;&emsp;&emsp;&emsp;\n",
       "        Template\n",
       "        &emsp;&emsp;&emsp;&emsp;&emsp;&emsp;&emsp;&emsp;&emsp;&emsp;&emsp;&emsp;\n",
       "        Difference\n",
       "        <div class=\"container\">\n",
       "        <div style=\"float:left;width:20%\"><img src=\"https://avro.alerce.online/get_stamp?oid=ZTF19abahvdh&candid=911190175915015006&type=science&format=png\"></div>\n",
       "        <div style=\"float:left;width:20%\"><img src=\"https://avro.alerce.online/get_stamp?oid=ZTF19abahvdh&candid=911190175915015006&type=template&format=png\"></div>\n",
       "        <div style=\"float:left;width:20%\"><img src=\"https://avro.alerce.online/get_stamp?oid=ZTF19abahvdh&candid=911190175915015006&type=difference&format=png\"></div>\n",
       "        </div>\n",
       "        "
      ],
      "text/plain": [
       "<IPython.core.display.HTML object>"
      ]
     },
     "metadata": {},
     "output_type": "display_data"
    }
   ],
   "source": [
    "alerce.plot_stamps(oid=oid, candid=det.candid.loc[det.magpsf.idxmin()])"
   ]
  },
  {
   "cell_type": "markdown",
   "metadata": {},
   "source": [
    "# Plot light curve"
   ]
  },
  {
   "cell_type": "markdown",
   "metadata": {},
   "source": [
    "Let's plot the light curve"
   ]
  },
  {
   "cell_type": "code",
   "execution_count": 14,
   "metadata": {
    "ExecuteTime": {
     "end_time": "2022-01-20T14:32:31.313043Z",
     "start_time": "2022-01-20T14:32:31.202887Z"
    }
   },
   "outputs": [
    {
     "data": {
      "text/plain": [
       "Text(0, 0.5, 'mag')"
      ]
     },
     "execution_count": 14,
     "metadata": {},
     "output_type": "execute_result"
    },
    {
     "data": {
      "image/png": "[encoded data removed]",
      "text/plain": [
       "<Figure size 432x288 with 1 Axes>"
      ]
     },
     "metadata": {
      "needs_background": "light"
     },
     "output_type": "display_data"
    }
   ],
   "source": [
    "fig, ax = plt.subplots()\n",
    "colors = {1: 'g', 2: 'r'}\n",
    "for fid in det.fid.unique():\n",
    "    mask = det.fid == fid\n",
    "    ax.errorbar(det.loc[mask].mjd, det.loc[mask].magpsf, yerr=det.loc[mask].sigmapsf, c=colors[fid], marker='o')\n",
    "for fid in non_det.fid.unique():\n",
    "    mask = non_det.fid == fid\n",
    "    ax.scatter(non_det.loc[mask].mjd, non_det.loc[mask].diffmaglim, c=colors[fid], marker='v', alpha=0.3)\n",
    "ax.set_ylim(ax.get_ylim()[::-1])\n",
    "ax.set_xlabel(\"MJD\")\n",
    "ax.set_ylabel(\"mag\")"
   ]
  },
  {
   "cell_type": "markdown",
   "metadata": {},
   "source": [
    "# Forecasting"
   ]
  },
  {
   "cell_type": "markdown",
   "metadata": {},
   "source": [
    "All objects with at least six detections in ZTF are automatically fitted with a parametric model by the ALeRCE pipeline. The model is a modified version from Villar et al. 2019, relevant for supernova-like objects."
   ]
  },
  {
   "cell_type": "markdown",
   "metadata": {},
   "source": [
    "* Modified model from Villar et al. 2019"
   ]
  },
  {
   "cell_type": "markdown",
   "metadata": {},
   "source": [
    "$$\n",
    "\\Large\n",
    "F = \\begin{cases}\n",
    "        \\cfrac{A \\left(1 - \\beta' \\frac{t - t_0}{t_1 - t_0}\\right)}{1 + \\exp{\\left(-\\frac{t - t_0}{\\tau_{\\rm rise}}\\right)}} & \\mbox{if} \\; t < t_1  \\\\ \n",
    "        \\\\\n",
    "        \\cfrac{A (1 - \\beta') \\exp{\\left(-\\frac{t - t_1}{\\tau_{\\rm fall}}\\right)}}{1 + \\exp{\\left(-\\frac{t - t_0}{\\tau_{\\rm rise}}\\right)}} & \\mbox{if} \\; t \\ge t_1,\n",
    "  \\end{cases}\n",
    "$$"
   ]
  },
  {
   "cell_type": "markdown",
   "metadata": {},
   "source": [
    "* Compare with Villar et al. 2019"
   ]
  },
  {
   "cell_type": "markdown",
   "metadata": {},
   "source": [
    "![](figures/Villar+19.png)"
   ]
  },
  {
   "cell_type": "markdown",
   "metadata": {},
   "source": [
    "The best fitting parameters can be accessed from `feature` table, using the `query_features` function."
   ]
  },
  {
   "cell_type": "code",
   "execution_count": 15,
   "metadata": {
    "ExecuteTime": {
     "end_time": "2022-01-20T14:32:31.534805Z",
     "start_time": "2022-01-20T14:32:31.355933Z"
    }
   },
   "outputs": [
    {
     "data": {
      "text/html": [
       "<div>\n",
       "<style scoped>\n",
       "    .dataframe tbody tr th:only-of-type {\n",
       "        vertical-align: middle;\n",
       "    }\n",
       "\n",
       "    .dataframe tbody tr th {\n",
       "        vertical-align: top;\n",
       "    }\n",
       "\n",
       "    .dataframe thead th {\n",
       "        text-align: right;\n",
       "    }\n",
       "</style>\n",
       "<table border=\"1\" class=\"dataframe\">\n",
       "  <thead>\n",
       "    <tr style=\"text-align: right;\">\n",
       "      <th></th>\n",
       "      <th>name</th>\n",
       "      <th>value</th>\n",
       "      <th>fid</th>\n",
       "      <th>version</th>\n",
       "    </tr>\n",
       "  </thead>\n",
       "  <tbody>\n",
       "    <tr>\n",
       "      <th>0</th>\n",
       "      <td>gal_b</td>\n",
       "      <td>47.123631</td>\n",
       "      <td>0</td>\n",
       "      <td>lc_classifier_1.2.1-P</td>\n",
       "    </tr>\n",
       "    <tr>\n",
       "      <th>1</th>\n",
       "      <td>gal_l</td>\n",
       "      <td>12.576955</td>\n",
       "      <td>0</td>\n",
       "      <td>lc_classifier_1.2.1-P</td>\n",
       "    </tr>\n",
       "    <tr>\n",
       "      <th>2</th>\n",
       "      <td>g-r_max</td>\n",
       "      <td>-0.205154</td>\n",
       "      <td>12</td>\n",
       "      <td>lc_classifier_1.2.1-P</td>\n",
       "    </tr>\n",
       "    <tr>\n",
       "      <th>3</th>\n",
       "      <td>g-r_mean</td>\n",
       "      <td>-0.141795</td>\n",
       "      <td>12</td>\n",
       "      <td>lc_classifier_1.2.1-P</td>\n",
       "    </tr>\n",
       "    <tr>\n",
       "      <th>4</th>\n",
       "      <td>g-r_max_corr</td>\n",
       "      <td>NaN</td>\n",
       "      <td>12</td>\n",
       "      <td>lc_classifier_1.2.1-P</td>\n",
       "    </tr>\n",
       "  </tbody>\n",
       "</table>\n",
       "</div>"
      ],
      "text/plain": [
       "           name      value  fid                version\n",
       "0         gal_b  47.123631    0  lc_classifier_1.2.1-P\n",
       "1         gal_l  12.576955    0  lc_classifier_1.2.1-P\n",
       "2       g-r_max  -0.205154   12  lc_classifier_1.2.1-P\n",
       "3      g-r_mean  -0.141795   12  lc_classifier_1.2.1-P\n",
       "4  g-r_max_corr        NaN   12  lc_classifier_1.2.1-P"
      ]
     },
     "execution_count": 15,
     "metadata": {},
     "output_type": "execute_result"
    }
   ],
   "source": [
    "features = alerce.query_features(oid, format=\"pandas\")\n",
    "features.head()"
   ]
  },
  {
   "cell_type": "markdown",
   "metadata": {},
   "source": [
    "Let's look at all the available features (we use unique as some features are given per filter)."
   ]
  },
  {
   "cell_type": "code",
   "execution_count": 16,
   "metadata": {
    "ExecuteTime": {
     "end_time": "2022-01-20T14:32:32.128020Z",
     "start_time": "2022-01-20T14:32:32.121329Z"
    }
   },
   "outputs": [
    {
     "data": {
      "text/plain": [
       "'gal_b, gal_l, g-r_max, g-r_mean, g-r_max_corr, g-r_mean_corr, rb, MHPS_ratio, MHPS_low, MHPS_high, MHPS_non_zero, MHPS_PN_flag, iqr, Amplitude, AndersonDarling, Autocor_length, Beyond1Std, Con, Eta_e, Gskew, MaxSlope, Mean, Meanvariance, MedianAbsDev, MedianBRP, PairSlopeTrend, PercentAmplitude, Q31, Rcs, Skew, SmallKurtosis, Std, StetsonK, Pvar, ExcessVar, SF_ML_amplitude, SF_ML_gamma, IAR_phi, LinearTrend, delta_mag_fid, delta_mjd_fid, first_mag, mean_mag, min_mag, n_det, n_neg, n_pos, positive_fraction, n_non_det_before_fid, max_diffmaglim_before_fid, median_diffmaglim_before_fid, last_diffmaglim_before_fid, last_mjd_before_fid, dmag_non_det_fid, dmag_first_det_fid, n_non_det_after_fid, max_diffmaglim_after_fid, median_diffmaglim_after_fid, SPM_A, SPM_t0, SPM_gamma, SPM_beta, SPM_tau_rise, SPM_tau_fall, SPM_chi, Multiband_period, PPE, Period_band, delta_period, Power_rate_1/4, Power_rate_1/3, Power_rate_1/2, Power_rate_2, Power_rate_3, Power_rate_4, Psi_CS, Psi_eta, Harmonics_mag_1, Harmonics_mag_2, Harmonics_mag_3, Harmonics_mag_4, Harmonics_mag_5, Harmonics_mag_6, Harmonics_mag_7, Harmonics_phase_2, Harmonics_phase_3, Harmonics_phase_4, Harmonics_phase_5, Harmonics_phase_6, Harmonics_phase_7, Harmonics_mse, GP_DRW_sigma, GP_DRW_tau, sgscore1, W1-W2, W2-W3, g-W2, g-W3, r-W2, r-W3'"
      ]
     },
     "execution_count": 16,
     "metadata": {},
     "output_type": "execute_result"
    }
   ],
   "source": [
    "\", \".join(features.name.unique())"
   ]
  },
  {
   "cell_type": "markdown",
   "metadata": {},
   "source": [
    "All the SPM_xx features are associated to the supernova parametric model shown above. Let's have a look at them:"
   ]
  },
  {
   "cell_type": "code",
   "execution_count": 17,
   "metadata": {
    "ExecuteTime": {
     "end_time": "2022-01-20T14:32:32.910067Z",
     "start_time": "2022-01-20T14:32:32.893569Z"
    }
   },
   "outputs": [
    {
     "data": {
      "text/html": [
       "<div>\n",
       "<style scoped>\n",
       "    .dataframe tbody tr th:only-of-type {\n",
       "        vertical-align: middle;\n",
       "    }\n",
       "\n",
       "    .dataframe tbody tr th {\n",
       "        vertical-align: top;\n",
       "    }\n",
       "\n",
       "    .dataframe thead th {\n",
       "        text-align: right;\n",
       "    }\n",
       "</style>\n",
       "<table border=\"1\" class=\"dataframe\">\n",
       "  <thead>\n",
       "    <tr style=\"text-align: right;\">\n",
       "      <th></th>\n",
       "      <th>name</th>\n",
       "      <th>value</th>\n",
       "      <th>fid</th>\n",
       "      <th>version</th>\n",
       "    </tr>\n",
       "  </thead>\n",
       "  <tbody>\n",
       "    <tr>\n",
       "      <th>109</th>\n",
       "      <td>SPM_A</td>\n",
       "      <td>0.249661</td>\n",
       "      <td>1</td>\n",
       "      <td>lc_classifier_1.2.1-P</td>\n",
       "    </tr>\n",
       "    <tr>\n",
       "      <th>110</th>\n",
       "      <td>SPM_t0</td>\n",
       "      <td>2.824984</td>\n",
       "      <td>1</td>\n",
       "      <td>lc_classifier_1.2.1-P</td>\n",
       "    </tr>\n",
       "    <tr>\n",
       "      <th>111</th>\n",
       "      <td>SPM_gamma</td>\n",
       "      <td>17.062072</td>\n",
       "      <td>1</td>\n",
       "      <td>lc_classifier_1.2.1-P</td>\n",
       "    </tr>\n",
       "    <tr>\n",
       "      <th>112</th>\n",
       "      <td>SPM_beta</td>\n",
       "      <td>0.361050</td>\n",
       "      <td>1</td>\n",
       "      <td>lc_classifier_1.2.1-P</td>\n",
       "    </tr>\n",
       "    <tr>\n",
       "      <th>113</th>\n",
       "      <td>SPM_tau_rise</td>\n",
       "      <td>2.927568</td>\n",
       "      <td>1</td>\n",
       "      <td>lc_classifier_1.2.1-P</td>\n",
       "    </tr>\n",
       "    <tr>\n",
       "      <th>114</th>\n",
       "      <td>SPM_tau_fall</td>\n",
       "      <td>12.768163</td>\n",
       "      <td>1</td>\n",
       "      <td>lc_classifier_1.2.1-P</td>\n",
       "    </tr>\n",
       "    <tr>\n",
       "      <th>115</th>\n",
       "      <td>SPM_chi</td>\n",
       "      <td>0.054587</td>\n",
       "      <td>1</td>\n",
       "      <td>lc_classifier_1.2.1-P</td>\n",
       "    </tr>\n",
       "    <tr>\n",
       "      <th>116</th>\n",
       "      <td>SPM_A</td>\n",
       "      <td>0.258165</td>\n",
       "      <td>2</td>\n",
       "      <td>lc_classifier_1.2.1-P</td>\n",
       "    </tr>\n",
       "    <tr>\n",
       "      <th>117</th>\n",
       "      <td>SPM_t0</td>\n",
       "      <td>4.817869</td>\n",
       "      <td>2</td>\n",
       "      <td>lc_classifier_1.2.1-P</td>\n",
       "    </tr>\n",
       "    <tr>\n",
       "      <th>118</th>\n",
       "      <td>SPM_gamma</td>\n",
       "      <td>19.794919</td>\n",
       "      <td>2</td>\n",
       "      <td>lc_classifier_1.2.1-P</td>\n",
       "    </tr>\n",
       "    <tr>\n",
       "      <th>119</th>\n",
       "      <td>SPM_beta</td>\n",
       "      <td>0.580508</td>\n",
       "      <td>2</td>\n",
       "      <td>lc_classifier_1.2.1-P</td>\n",
       "    </tr>\n",
       "    <tr>\n",
       "      <th>120</th>\n",
       "      <td>SPM_tau_rise</td>\n",
       "      <td>4.069782</td>\n",
       "      <td>2</td>\n",
       "      <td>lc_classifier_1.2.1-P</td>\n",
       "    </tr>\n",
       "    <tr>\n",
       "      <th>121</th>\n",
       "      <td>SPM_tau_fall</td>\n",
       "      <td>32.156988</td>\n",
       "      <td>2</td>\n",
       "      <td>lc_classifier_1.2.1-P</td>\n",
       "    </tr>\n",
       "    <tr>\n",
       "      <th>122</th>\n",
       "      <td>SPM_chi</td>\n",
       "      <td>0.120505</td>\n",
       "      <td>2</td>\n",
       "      <td>lc_classifier_1.2.1-P</td>\n",
       "    </tr>\n",
       "  </tbody>\n",
       "</table>\n",
       "</div>"
      ],
      "text/plain": [
       "             name      value  fid                version\n",
       "109         SPM_A   0.249661    1  lc_classifier_1.2.1-P\n",
       "110        SPM_t0   2.824984    1  lc_classifier_1.2.1-P\n",
       "111     SPM_gamma  17.062072    1  lc_classifier_1.2.1-P\n",
       "112      SPM_beta   0.361050    1  lc_classifier_1.2.1-P\n",
       "113  SPM_tau_rise   2.927568    1  lc_classifier_1.2.1-P\n",
       "114  SPM_tau_fall  12.768163    1  lc_classifier_1.2.1-P\n",
       "115       SPM_chi   0.054587    1  lc_classifier_1.2.1-P\n",
       "116         SPM_A   0.258165    2  lc_classifier_1.2.1-P\n",
       "117        SPM_t0   4.817869    2  lc_classifier_1.2.1-P\n",
       "118     SPM_gamma  19.794919    2  lc_classifier_1.2.1-P\n",
       "119      SPM_beta   0.580508    2  lc_classifier_1.2.1-P\n",
       "120  SPM_tau_rise   4.069782    2  lc_classifier_1.2.1-P\n",
       "121  SPM_tau_fall  32.156988    2  lc_classifier_1.2.1-P\n",
       "122       SPM_chi   0.120505    2  lc_classifier_1.2.1-P"
      ]
     },
     "execution_count": 17,
     "metadata": {},
     "output_type": "execute_result"
    }
   ],
   "source": [
    "features.loc[features.name.isin([\"SPM_tau_rise\", \"SPM_tau_fall\", \"SPM_t0\",\n",
    "                                 \"SPM_gamma\", \"SPM_chi\", \"SPM_beta\", \"SPM_A\"])]"
   ]
  },
  {
   "cell_type": "markdown",
   "metadata": {},
   "source": [
    "Note that these values are given per filter. Also, note that the `SPM_A` is a flux stored in numerically convenient units (see Sánchez-Sáez et al. 2021)."
   ]
  },
  {
   "cell_type": "markdown",
   "metadata": {},
   "source": [
    "# Forecast API \n",
    "\n",
    "https://api.alerce.online/forecast/v1/parametric/sn"
   ]
  },
  {
   "cell_type": "markdown",
   "metadata": {},
   "source": [
    "A beta forecasting tool API is available in the address shown above. This first version can do forecasting based on the parametric model shown before. The inputs parameters for the API are the unique object's ID, `oid`, and the time in modified Julian date `mjd`. Let's create a function to get forecasts for a list of `mjd` times."
   ]
  },
  {
   "cell_type": "code",
   "execution_count": 18,
   "metadata": {
    "ExecuteTime": {
     "end_time": "2022-01-20T14:32:34.521477Z",
     "start_time": "2022-01-20T14:32:34.517115Z"
    }
   },
   "outputs": [],
   "source": [
    "def get_forecasts(oid, times):\n",
    "    print(\"Getting forecasts for %s...\" % oid)\n",
    "    forecasts = []\n",
    "    url = \"https://api.alerce.online/forecast/v1/parametric/sn?oid=%s&%s\" % (oid, \"&\".join([\"mjd=%s\" % mjd for mjd in times]))\n",
    "    print(url)\n",
    "    response = requests.get(url)\n",
    "    print(response.json())\n",
    "    return pd.DataFrame(response.json()[\"forecast\"]).apply(pd.Series.explode)"
   ]
  },
  {
   "cell_type": "markdown",
   "metadata": {},
   "source": [
    "And a function to plot the detections, non-detections, and forecasts together:"
   ]
  },
  {
   "cell_type": "code",
   "execution_count": 19,
   "metadata": {
    "ExecuteTime": {
     "end_time": "2022-01-20T14:32:35.242002Z",
     "start_time": "2022-01-20T14:32:35.238010Z"
    }
   },
   "outputs": [],
   "source": [
    "def plot_SN(oid, det, non_det, pred):\n",
    "    fig, ax = plt.subplots()\n",
    "    colors = {1: 'g', 2: 'r'}\n",
    "    for fid in det.fid.unique():\n",
    "        mask = det.fid == fid\n",
    "        ax.errorbar(det.loc[mask].mjd, det.loc[mask].magpsf, yerr=det.loc[mask].sigmapsf, c=colors[fid], marker='o', lw=0, elinewidth=1)\n",
    "        mask_f = pred.fid == fid\n",
    "        ax.plot(pred.loc[mask_f].mjd.values, np.array(pred.loc[mask_f].magpsf.values), c=colors[fid], ls=\":\")\n",
    "    if not non_det.empty:\n",
    "        for fid in non_det.fid.unique():\n",
    "            mask = non_det.fid == fid\n",
    "            ax.scatter(non_det.loc[mask].mjd, non_det.loc[mask].diffmaglim, c=colors[fid], marker='v', alpha=0.3)\n",
    "    ax.set_ylim(ax.get_ylim()[::-1])\n",
    "    ax.set_xlabel(\"MJD\")\n",
    "    ax.set_ylabel(\"mag\")\n",
    "    ax.set_title(oid)\n",
    "    plt.show()\n",
    "    plt.close()"
   ]
  },
  {
   "cell_type": "markdown",
   "metadata": {},
   "source": [
    "Let's combine both functions"
   ]
  },
  {
   "cell_type": "code",
   "execution_count": 20,
   "metadata": {
    "ExecuteTime": {
     "end_time": "2022-01-20T14:32:36.220061Z",
     "start_time": "2022-01-20T14:32:36.217416Z"
    }
   },
   "outputs": [],
   "source": [
    "def show_forecast(oid):\n",
    "    det = alerce.query_detections(oid, format=\"pandas\")\n",
    "    non_det = alerce.query_non_detections(oid, format=\"pandas\")\n",
    "    times = np.linspace(det.mjd.min() - 10, det.mjd.max() + 30, 10)\n",
    "    pred = get_forecasts(oid, times)\n",
    "    plot_SN(oid, det, non_det, pred)"
   ]
  },
  {
   "cell_type": "markdown",
   "metadata": {},
   "source": [
    "And let's test it"
   ]
  },
  {
   "cell_type": "code",
   "execution_count": 21,
   "metadata": {
    "ExecuteTime": {
     "end_time": "2022-01-20T14:32:38.941973Z",
     "start_time": "2022-01-20T14:32:37.142973Z"
    }
   },
   "outputs": [
    {
     "name": "stdout",
     "output_type": "stream",
     "text": [
      "Getting forecasts for ZTF19abahvdh...\n",
      "https://api.alerce.online/forecast/v1/parametric/sn?oid=ZTF19abahvdh&mjd=58642.172268500086&mjd=58652.50486623341&mjd=58662.83746396672&mjd=58673.170061700046&mjd=58683.50265943337&mjd=58693.835257166684&mjd=58704.167854900006&mjd=58714.50045263333&mjd=58724.833050366644&mjd=58735.165648099966\n",
      "{'oid': 'ZTF19abahvdh', 'forecast': [{'magpsf': [22.415568692559958, 19.158208369420393, 18.148365895617676, 18.46730872543773, 19.35394617215102, 20.244256867460862, 21.123335682154227, 22.00193043499295, 22.88055084469322, 23.759178564256512], 'mjd': [58642.172268500086, 58652.50486623341, 58662.83746396672, 58673.170061700046, 58683.50265943337, 58693.835257166684, 58704.167854900006, 58714.50045263333, 58724.833050366644, 58735.165648099966], 'fid': 1}, {'magpsf': [21.459688288777187, 19.244140501613437, 18.30828618714584, 18.616063675282902, 19.07869652032422, 19.39414428713842, 19.73837091195395, 20.086880582951625, 20.435723421725093, 20.784587921455838], 'mjd': [58642.172268500086, 58652.50486623341, 58662.83746396672, 58673.170061700046, 58683.50265943337, 58693.835257166684, 58704.167854900006, 58714.50045263333, 58724.833050366644, 58735.165648099966], 'fid': 2}], 'comment': 'Forecast based on modified Villar et al. 2019. analytic model (see [https://arxiv.org/abs/1905.07422] and [https://arxiv.org/abs/2008.03311]). Using precomputed ALeRCE [http://alerce.science] parameters.'}\n"
     ]
    },
    {
     "data": {
      "image/png": "[encoded data removed]",
      "text/plain": [
       "<Figure size 432x288 with 1 Axes>"
      ]
     },
     "metadata": {
      "needs_background": "light"
     },
     "output_type": "display_data"
    }
   ],
   "source": [
    "show_forecast(oid)"
   ]
  }
 ],
 "metadata": {
  "kernelspec": {
   "display_name": "Python 3",
   "language": "python",
   "name": "python3"
  },
  "language_info": {
   "codemirror_mode": {
    "name": "ipython",
    "version": 3
   },
   "file_extension": ".py",
   "mimetype": "text/x-python",
   "name": "python",
   "nbconvert_exporter": "python",
   "pygments_lexer": "ipython3",
   "version": "3.8.8"
  },
  "toc": {
   "base_numbering": 1,
   "nav_menu": {},
   "number_sections": true,
   "sideBar": true,
   "skip_h1_title": false,
   "title_cell": "Table of Contents",
   "title_sidebar": "Contents",
   "toc_cell": false,
   "toc_position": {
    "height": "calc(100% - 180px)",
    "left": "10px",
    "top": "150px",
    "width": "255px"
   },
   "toc_section_display": true,
   "toc_window_display": true
  },
  "varInspector": {
   "cols": {
    "lenName": 16,
    "lenType": 16,
    "lenVar": 40
   },
   "kernels_config": {
    "python": {
     "delete_cmd_postfix": "",
     "delete_cmd_prefix": "del ",
     "library": "var_list.py",
     "varRefreshCmd": "print(var_dic_list())"
    },
    "r": {
     "delete_cmd_postfix": ") ",
     "delete_cmd_prefix": "rm(",
     "library": "var_list.r",
     "varRefreshCmd": "cat(var_dic_list()) "
    }
   },
   "types_to_exclude": [
    "module",
    "function",
    "builtin_function_or_method",
    "instance",
    "_Feature"
   ],
   "window_display": false
  }
 },
 "nbformat": 4,
 "nbformat_minor": 2
}
