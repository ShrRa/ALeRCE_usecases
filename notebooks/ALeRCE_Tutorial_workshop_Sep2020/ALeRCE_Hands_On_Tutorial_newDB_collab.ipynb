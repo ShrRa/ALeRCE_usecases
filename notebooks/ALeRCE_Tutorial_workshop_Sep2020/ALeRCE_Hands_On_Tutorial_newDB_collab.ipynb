{
 "cells": [
  {
   "cell_type": "markdown",
   "metadata": {
    "colab_type": "text",
    "id": "aARiWZB804Yh"
   },
   "source": [
    "# ALeRCE Hands On Tutorial\n",
    "\n",
    "In this tutorial we will put in practice what we have learned in this workshop. The idea is that you try to use the tools we provide and adapt them to your specific science workflow.\n",
    "\n",
    "As a way to test your knowledge using ALeRCE's services we ask you to complete **3 challenges**.\n",
    "\n",
    "\n",
    "1. Plot lightcurve using *alerce* client\n",
    "2. Plot any combination of attributes from any table\n",
    "3. Download a dataframe as CSV and open it again with pandas"
   ]
  },
  {
   "cell_type": "markdown",
   "metadata": {
    "colab_type": "text",
    "id": "o48zzNVY0zo8"
   },
   "source": [
    "We are going to be using the alerce client so first we need to install it"
   ]
  },
  {
   "cell_type": "code",
   "execution_count": null,
   "metadata": {
    "colab": null,
    "colab_type": "code",
    "id": "cDYh15Vin1vZ"
   },
   "outputs": [],
   "source": [
    "!pip install git+https://git@github.com/alercebroker/alerce_client_new#alerce"
   ]
  },
  {
   "cell_type": "markdown",
   "metadata": {
    "colab_type": "text",
    "id": "KQd1JdMUtrZy"
   },
   "source": [
    "# First Challenge: Plot a light curve using the ALeRCE client"
   ]
  },
  {
   "cell_type": "markdown",
   "metadata": {
    "colab_type": "text",
    "id": "YGWC0LfSt8HX"
   },
   "source": [
    "# Second Challenge: Query a list of objects and plot some attributes"
   ]
  },
  {
   "cell_type": "markdown",
   "metadata": {
    "colab_type": "text",
    "id": "T_H86iLMzpKp"
   },
   "source": [
    "# Third Challenge: Save and download data using pandas"
   ]
  },
  {
   "cell_type": "markdown",
   "metadata": {
    "colab_type": "text",
    "id": "JTCG_nynIZSz"
   },
   "source": [
    "**Congratulations, you completed the challenge!**\n",
    "\n",
    "---\n",
    "\n"
   ]
  }
 ],
 "metadata": {
  "colab": {
   "collapsed_sections": null,
   "name": "ALeRCE_Hands_On_Tutorial_newDB_collab.ipynb",
   "provenance": null
  },
  "kernelspec": {
   "display_name": "Python 3",
   "language": "python",
   "name": "python3"
  },
  "language_info": {
   "codemirror_mode": {
    "name": "ipython",
    "version": 3
   },
   "file_extension": ".py",
   "mimetype": "text/x-python",
   "name": "python",
   "nbconvert_exporter": "python",
   "pygments_lexer": "ipython3",
   "version": "3.8.5"
  },
  "name": "ALeRCE_Hands_On_Tutorial_newDB_collab.ipynb"
 },
 "nbformat": 4,
 "nbformat_minor": 1
}
