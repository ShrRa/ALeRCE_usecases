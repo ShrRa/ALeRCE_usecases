{
 "cells": [
  {
   "cell_type": "markdown",
   "metadata": {},
   "source": [
    "# Supernova use case notebook\n",
    "\n",
    "ALeRCE starter notebook for supernova science.\n",
    "\n",
    "You will need to install psycopg2, astroquery, ipyaladin\n",
    "\n",
    "In this notebook you will connect to the ALeRCE database, download some objects with probability greater than 0.7 of being supernova, get selected light curves and plot, as well as querying NED for galaxy crossmatches."
   ]
  },
  {
   "cell_type": "markdown",
   "metadata": {},
   "source": [
    "### Load libraries"
   ]
  },
  {
   "cell_type": "code",
   "execution_count": 1,
   "metadata": {
    "ExecuteTime": {
     "end_time": "2019-08-29T21:00:59.636698Z",
     "start_time": "2019-08-29T21:00:58.894148Z"
    }
   },
   "outputs": [],
   "source": [
    "import pandas as pd\n",
    "import numpy as np\n",
    "import matplotlib.pyplot as plt\n",
    "import astropy.units as u\n",
    "from astropy import coordinates\n",
    "from astropy.time import Time\n",
    "from IPython.display import HTML\n",
    "from ipywidgets import Layout, Box, widgets"
   ]
  },
  {
   "cell_type": "markdown",
   "metadata": {},
   "source": [
    "Astroquery https://astroquery.readthedocs.io/en/latest/"
   ]
  },
  {
   "cell_type": "code",
   "execution_count": 2,
   "metadata": {
    "ExecuteTime": {
     "end_time": "2019-08-29T21:00:59.856429Z",
     "start_time": "2019-08-29T21:00:59.638168Z"
    }
   },
   "outputs": [],
   "source": [
    "#!pip install astroquery\n",
    "from astroquery.ned import Ned"
   ]
  },
  {
   "cell_type": "markdown",
   "metadata": {},
   "source": [
    "Install psycopg2 https://github.com/psycopg/psycopg2"
   ]
  },
  {
   "cell_type": "code",
   "execution_count": 3,
   "metadata": {
    "ExecuteTime": {
     "end_time": "2019-08-29T21:00:59.879084Z",
     "start_time": "2019-08-29T21:00:59.859188Z"
    }
   },
   "outputs": [],
   "source": [
    "#!pip install psycopg2-binary\n",
    "import psycopg2"
   ]
  },
  {
   "cell_type": "markdown",
   "metadata": {},
   "source": [
    "Install pyaladin https://github.com/cds-astro/ipyaladin"
   ]
  },
  {
   "cell_type": "code",
   "execution_count": 4,
   "metadata": {
    "ExecuteTime": {
     "end_time": "2019-08-29T21:00:59.884427Z",
     "start_time": "2019-08-29T21:00:59.881697Z"
    }
   },
   "outputs": [],
   "source": [
    "# you may need to restart the notebook after running the following lines\n",
    "#!pip install ipyaladin\n",
    "#!jupyter nbextension enable --py widgetsnbextension\n",
    "#!jupyter nbextension enable --py --sys-prefix ipyaladin"
   ]
  },
  {
   "cell_type": "code",
   "execution_count": 5,
   "metadata": {
    "ExecuteTime": {
     "end_time": "2019-08-29T21:00:59.890735Z",
     "start_time": "2019-08-29T21:00:59.886387Z"
    }
   },
   "outputs": [],
   "source": [
    "import ipyaladin as ipyal # see installation instructions here: https://github.com/cds-astro/ipyaladin"
   ]
  },
  {
   "cell_type": "markdown",
   "metadata": {},
   "source": [
    "### Get credentials (not in github repository)"
   ]
  },
  {
   "cell_type": "code",
   "execution_count": 6,
   "metadata": {
    "ExecuteTime": {
     "end_time": "2019-08-29T21:00:59.896091Z",
     "start_time": "2019-08-29T21:00:59.892827Z"
    }
   },
   "outputs": [],
   "source": [
    "import json\n",
    "credentials_file = \"../alercereaduser.json\"\n",
    "with open(credentials_file) as jsonfile:\n",
    "    params = json.load(jsonfile)[\"params\"]"
   ]
  },
  {
   "cell_type": "markdown",
   "metadata": {},
   "source": [
    "### Connect to DB"
   ]
  },
  {
   "cell_type": "code",
   "execution_count": 7,
   "metadata": {
    "ExecuteTime": {
     "end_time": "2019-08-29T21:03:11.265437Z",
     "start_time": "2019-08-29T21:00:59.898033Z"
    }
   },
   "outputs": [
    {
     "ename": "OperationalError",
     "evalue": "could not connect to server: Connection timed out\n\tIs the server running on host \"psql.alerce.online\" (3.214.224.132) and accepting\n\tTCP/IP connections on port 5432?\n",
     "output_type": "error",
     "traceback": [
      "\u001b[0;31m---------------------------------------------------------------------------\u001b[0m",
      "\u001b[0;31mOperationalError\u001b[0m                          Traceback (most recent call last)",
      "\u001b[0;32m<ipython-input-7-17b345dc8931>\u001b[0m in \u001b[0;36m<module>\u001b[0;34m()\u001b[0m\n\u001b[0;32m----> 1\u001b[0;31m \u001b[0mconn\u001b[0m \u001b[0;34m=\u001b[0m \u001b[0mpsycopg2\u001b[0m\u001b[0;34m.\u001b[0m\u001b[0mconnect\u001b[0m\u001b[0;34m(\u001b[0m\u001b[0mdbname\u001b[0m\u001b[0;34m=\u001b[0m\u001b[0mparams\u001b[0m\u001b[0;34m[\u001b[0m\u001b[0;34m'dbname'\u001b[0m\u001b[0;34m]\u001b[0m\u001b[0;34m,\u001b[0m \u001b[0muser\u001b[0m\u001b[0;34m=\u001b[0m\u001b[0mparams\u001b[0m\u001b[0;34m[\u001b[0m\u001b[0;34m'user'\u001b[0m\u001b[0;34m]\u001b[0m\u001b[0;34m,\u001b[0m \u001b[0mhost\u001b[0m\u001b[0;34m=\u001b[0m\u001b[0mparams\u001b[0m\u001b[0;34m[\u001b[0m\u001b[0;34m'host'\u001b[0m\u001b[0;34m]\u001b[0m\u001b[0;34m,\u001b[0m \u001b[0mpassword\u001b[0m\u001b[0;34m=\u001b[0m\u001b[0mparams\u001b[0m\u001b[0;34m[\u001b[0m\u001b[0;34m'password'\u001b[0m\u001b[0;34m]\u001b[0m\u001b[0;34m)\u001b[0m\u001b[0;34m\u001b[0m\u001b[0m\n\u001b[0m",
      "\u001b[0;32m~/anaconda3/lib/python3.6/site-packages/psycopg2/__init__.py\u001b[0m in \u001b[0;36mconnect\u001b[0;34m(dsn, connection_factory, cursor_factory, **kwargs)\u001b[0m\n\u001b[1;32m    124\u001b[0m \u001b[0;34m\u001b[0m\u001b[0m\n\u001b[1;32m    125\u001b[0m     \u001b[0mdsn\u001b[0m \u001b[0;34m=\u001b[0m \u001b[0m_ext\u001b[0m\u001b[0;34m.\u001b[0m\u001b[0mmake_dsn\u001b[0m\u001b[0;34m(\u001b[0m\u001b[0mdsn\u001b[0m\u001b[0;34m,\u001b[0m \u001b[0;34m**\u001b[0m\u001b[0mkwargs\u001b[0m\u001b[0;34m)\u001b[0m\u001b[0;34m\u001b[0m\u001b[0m\n\u001b[0;32m--> 126\u001b[0;31m     \u001b[0mconn\u001b[0m \u001b[0;34m=\u001b[0m \u001b[0m_connect\u001b[0m\u001b[0;34m(\u001b[0m\u001b[0mdsn\u001b[0m\u001b[0;34m,\u001b[0m \u001b[0mconnection_factory\u001b[0m\u001b[0;34m=\u001b[0m\u001b[0mconnection_factory\u001b[0m\u001b[0;34m,\u001b[0m \u001b[0;34m**\u001b[0m\u001b[0mkwasync\u001b[0m\u001b[0;34m)\u001b[0m\u001b[0;34m\u001b[0m\u001b[0m\n\u001b[0m\u001b[1;32m    127\u001b[0m     \u001b[0;32mif\u001b[0m \u001b[0mcursor_factory\u001b[0m \u001b[0;32mis\u001b[0m \u001b[0;32mnot\u001b[0m \u001b[0;32mNone\u001b[0m\u001b[0;34m:\u001b[0m\u001b[0;34m\u001b[0m\u001b[0m\n\u001b[1;32m    128\u001b[0m         \u001b[0mconn\u001b[0m\u001b[0;34m.\u001b[0m\u001b[0mcursor_factory\u001b[0m \u001b[0;34m=\u001b[0m \u001b[0mcursor_factory\u001b[0m\u001b[0;34m\u001b[0m\u001b[0m\n",
      "\u001b[0;31mOperationalError\u001b[0m: could not connect to server: Connection timed out\n\tIs the server running on host \"psql.alerce.online\" (3.214.224.132) and accepting\n\tTCP/IP connections on port 5432?\n"
     ]
    }
   ],
   "source": [
    "conn = psycopg2.connect(dbname=params['dbname'], user=params['user'], host=params['host'], password=params['password'])"
   ]
  },
  {
   "cell_type": "markdown",
   "metadata": {},
   "source": [
    "### Show all the available tables"
   ]
  },
  {
   "cell_type": "code",
   "execution_count": null,
   "metadata": {
    "ExecuteTime": {
     "end_time": "2019-08-29T21:03:11.267757Z",
     "start_time": "2019-08-29T21:00:58.946Z"
    }
   },
   "outputs": [],
   "source": [
    "query = \"select tablename from pg_tables where schemaname='public';\"\n",
    "tables = pd.read_sql_query(query, conn)\n",
    "tables.sort_values(by=\"tablename\")"
   ]
  },
  {
   "cell_type": "markdown",
   "metadata": {},
   "source": [
    "### For each table, show column names and column types"
   ]
  },
  {
   "cell_type": "code",
   "execution_count": null,
   "metadata": {
    "ExecuteTime": {
     "end_time": "2019-08-29T21:03:11.270330Z",
     "start_time": "2019-08-29T21:00:58.996Z"
    },
    "scrolled": true
   },
   "outputs": [],
   "source": [
    "alltabs = []\n",
    "for tab in sorted(tables.tablename):\n",
    "    cols = pd.DataFrame()\n",
    "    query = \"select column_name, data_type from information_schema.columns where table_name = '%s';\" % tab\n",
    "    results = pd.read_sql_query(query, conn)\n",
    "    results[\"table\"] = tab\n",
    "    alltabs.append(results)\n",
    "dftab = pd.concat(alltabs)\n",
    "pd.options.display.max_rows = 999\n",
    "display(dftab[[\"table\", \"column_name\", \"data_type\"]])\n",
    "pd.options.display.max_rows = 101"
   ]
  },
  {
   "cell_type": "markdown",
   "metadata": {},
   "source": [
    "### Query class numbers"
   ]
  },
  {
   "cell_type": "code",
   "execution_count": null,
   "metadata": {
    "ExecuteTime": {
     "end_time": "2019-08-29T21:03:11.273748Z",
     "start_time": "2019-08-29T21:00:58.998Z"
    }
   },
   "outputs": [],
   "source": [
    "query = \"select * from class\"\n",
    "classes = pd.read_sql_query(query, conn)\n",
    "classmapper = dict(zip(classes.name.tolist(), classes.id.tolist()))\n",
    "classmapper"
   ]
  },
  {
   "cell_type": "markdown",
   "metadata": {},
   "source": [
    "### Query SN which exploded at least 70 days after ZTF's 1st light"
   ]
  },
  {
   "cell_type": "code",
   "execution_count": null,
   "metadata": {
    "ExecuteTime": {
     "end_time": "2019-08-29T21:03:11.277130Z",
     "start_time": "2019-08-29T21:00:59.002Z"
    },
    "scrolled": false
   },
   "outputs": [],
   "source": [
    "mjd_1stlight = Time(\"2017-11-01T00:00:00\", format=\"isot\", scale=\"utc\").mjd + 70\n",
    "\n",
    "query='''\n",
    "select probabilities.oid, probabilities.other_prob, objects.meanra, \n",
    "objects.meandec, objects.nobs, objects.mean_magpsf_g, objects.mean_magpsf_r,\n",
    "objects.min_magpsf_g, objects.min_magpsf_r, objects.classxmatch, objects.firstMJD\n",
    "\n",
    "from probabilities \n",
    "\n",
    "inner join objects\n",
    "on probabilities.oid=objects.oid\n",
    "\n",
    "where probabilities.sne_prob>0.7 and objects.classxmatch=%s\n",
    "and objects.firstMJD > %s\n",
    "''' % (classmapper[\"SNe\"], mjd_1stlight)\n",
    "\n",
    "SNe = pd.read_sql_query(query, conn)\n",
    "SNe.set_index('oid', inplace=True)\n",
    "SNe.head()"
   ]
  },
  {
   "cell_type": "markdown",
   "metadata": {},
   "source": [
    "### Create function to plot SN light curve"
   ]
  },
  {
   "cell_type": "code",
   "execution_count": null,
   "metadata": {
    "ExecuteTime": {
     "end_time": "2019-08-29T21:03:11.280277Z",
     "start_time": "2019-08-29T21:00:59.004Z"
    }
   },
   "outputs": [],
   "source": [
    "def plotLC(oid, SN_det, SN_nondet):\n",
    "    fig, ax = plt.subplots(figsize = (14, 7))\n",
    "    labels = {1: 'g', 2: 'r'}\n",
    "    colors = {1: 'g', 2: 'r'}\n",
    "    for fid in [1, 2]:\n",
    "        mask = SN_det.fid == fid\n",
    "        if np.sum(mask) > 0:            \n",
    "            ax.errorbar(SN_det[mask].mjd, SN_det[mask].magpsf_corr, \n",
    "                yerr = SN_det[mask].sigmapsf_corr, c = colors[fid], marker = 'o', label = labels[fid])\n",
    "        mask = (SN_nondet.fid == fid) & (SN_nondet.diffmaglim > -900)\n",
    "        if np.sum(mask) > 0:            \n",
    "            ax.scatter(SN_nondet[mask].mjd, SN_nondet[mask].diffmaglim, c = colors[fid], alpha = 0.5,\n",
    "                marker = 'v', label = \"lim.mag. %s\" % labels[fid])\n",
    "    ax.set_title(oid)\n",
    "    ax.set_xlabel(\"MJD\")\n",
    "    ax.set_ylabel(\"Magnitude\")\n",
    "    ax.legend()\n",
    "    ax.set_ylim(ax.get_ylim()[::-1])"
   ]
  },
  {
   "cell_type": "markdown",
   "metadata": {},
   "source": [
    "### Create function to show stamp"
   ]
  },
  {
   "cell_type": "code",
   "execution_count": null,
   "metadata": {
    "ExecuteTime": {
     "end_time": "2019-08-29T21:03:11.282825Z",
     "start_time": "2019-08-29T21:00:59.006Z"
    }
   },
   "outputs": [],
   "source": [
    "def plotstamp(oid, candid):\n",
    "    science = \"http://avro.alerce.online/get_stamp?oid=%s&candid=%s&type=science&format=png\" % (oid, candid)\n",
    "    images=\"\"\"\n",
    "    &emsp;&emsp;&emsp;&emsp;&emsp;\n",
    "    Science\n",
    "    &emsp;&emsp;&emsp;&emsp;&emsp;&emsp;&emsp;&emsp;&emsp;&emsp;&emsp;&emsp; \n",
    "    Template\n",
    "    &emsp;&emsp;&emsp;&emsp;&emsp;&emsp;&emsp;&emsp;&emsp;&emsp;&emsp;&emsp; \n",
    "    Difference\n",
    "    <div class=\"container\">\n",
    "    <div style=\"float:left;width:20%%\"><img src=\"%s\"></div>\n",
    "    <div style=\"float:left;width:20%%\"><img src=\"%s\"></div>\n",
    "    <div style=\"float:left;width:20%%\"><img src=\"%s\"></div>\n",
    "    </div>\n",
    "    \"\"\" % (science, science.replace(\"science\", \"template\"), science.replace(\"science\", \"difference\"))\n",
    "    display(HTML(images))"
   ]
  },
  {
   "cell_type": "markdown",
   "metadata": {},
   "source": [
    "### Create function to get data and plot SN light curve"
   ]
  },
  {
   "cell_type": "code",
   "execution_count": null,
   "metadata": {
    "ExecuteTime": {
     "end_time": "2019-08-29T21:03:11.285332Z",
     "start_time": "2019-08-29T21:00:59.008Z"
    }
   },
   "outputs": [],
   "source": [
    "def getSNdata(oid, doLC = False, dostamp = False, doNED = False):\n",
    "\n",
    "    results = {}\n",
    "    \n",
    "    # query detections and sort by mjd\n",
    "    query=\"select oid, candid, ra, dec, fid, mjd, magpsf_corr, sigmapsf_corr from detections where oid='%s'\" % oid\n",
    "    SN_det = pd.read_sql_query(query, conn)\n",
    "    SN_det.sort_values(by=['mjd'], inplace=True)\n",
    "    results[\"LC_det\"] = SN_det\n",
    "        \n",
    "    # query non detections and sort by mjd\n",
    "    query=\"select oid, fid, mjd, diffmaglim from non_detections where oid='%s'\" % oid\n",
    "    SN_nondet = pd.read_sql_query(query, conn)\n",
    "    SN_nondet.sort_values(by=['mjd'], inplace=True)\n",
    "    results[\"LC_nondet\"] = SN_nondet\n",
    "    \n",
    "    if doLC:\n",
    "        plotLC(oid, SN_det, SN_nondet)\n",
    "        \n",
    "    # find NED galaxies\n",
    "    if doNED:\n",
    "        co = coordinates.SkyCoord(ra=SNe.meanra[oid], dec=SNe.meandec[oid], unit=(u.deg, u.deg), frame='fk5')\n",
    "        Ned_table = Ned.query_region(co, radius=0.01 * u.deg, equinox='J2000.0')\n",
    "        display(Ned_table)\n",
    "        results[\"Ned_table\"] = Ned_table\n",
    "                \n",
    "    if dostamp:\n",
    "        plotstamp(oid, SN_det.candid.min())\n",
    "        \n",
    "\n",
    "    # return data\n",
    "    return results"
   ]
  },
  {
   "cell_type": "markdown",
   "metadata": {
    "ExecuteTime": {
     "end_time": "2019-05-28T03:02:47.774585Z",
     "start_time": "2019-05-28T03:02:47.769536Z"
    }
   },
   "source": [
    "### Get the brightest SN"
   ]
  },
  {
   "cell_type": "code",
   "execution_count": null,
   "metadata": {
    "ExecuteTime": {
     "end_time": "2019-08-29T21:03:11.288611Z",
     "start_time": "2019-08-29T21:00:59.013Z"
    }
   },
   "outputs": [],
   "source": [
    "seloid = SNe.min_magpsf_g.idxmin()\n",
    "print(seloid)"
   ]
  },
  {
   "cell_type": "markdown",
   "metadata": {},
   "source": [
    "### Do one SN with NED and Aladin"
   ]
  },
  {
   "cell_type": "code",
   "execution_count": null,
   "metadata": {
    "ExecuteTime": {
     "end_time": "2019-08-29T21:03:11.291352Z",
     "start_time": "2019-08-29T21:00:59.017Z"
    },
    "scrolled": false
   },
   "outputs": [],
   "source": [
    "#seloid = np.random.choice(SNe.index)\n",
    "print(seloid)\n",
    "results = getSNdata(seloid, doLC=True, dostamp=True, doNED=True);\n",
    "LC_det = results[\"LC_det\"]\n",
    "LC_nondet = results[\"LC_nondet\"]\n",
    "Ned_table = results[\"Ned_table\"]"
   ]
  },
  {
   "cell_type": "code",
   "execution_count": null,
   "metadata": {
    "ExecuteTime": {
     "end_time": "2019-08-29T21:03:11.294299Z",
     "start_time": "2019-08-29T21:00:59.019Z"
    }
   },
   "outputs": [],
   "source": [
    "LC_det.shape, LC_nondet.shape"
   ]
  },
  {
   "cell_type": "code",
   "execution_count": null,
   "metadata": {
    "ExecuteTime": {
     "end_time": "2019-08-29T21:03:11.297061Z",
     "start_time": "2019-08-29T21:00:59.021Z"
    }
   },
   "outputs": [],
   "source": [
    "info = widgets.HTML()\n",
    "\n",
    "def process_objectHovered(data):\n",
    "    \n",
    "    output = '<font color=\"red\">'\n",
    "    # NED\n",
    "    if \"Object Name\" in data[\"data\"].keys():\n",
    "        output = \"<h2>NED</h2>\"\n",
    "        output += \"<p>Object Name: %s</p>\" % data[\"data\"][\"Object Name\"]\n",
    "        sel_keys = [\"Type\", \"Redshift\", \"Redshift_flag\"]\n",
    "    for key in sel_keys:\n",
    "        if key in data[\"data\"].keys():\n",
    "            output += \"<p>%s: %s</p>\" % (key, data[\"data\"][key])\n",
    "    info.value =  '%s' % output"
   ]
  },
  {
   "cell_type": "code",
   "execution_count": null,
   "metadata": {
    "ExecuteTime": {
     "end_time": "2019-08-29T21:03:11.299796Z",
     "start_time": "2019-08-29T21:00:59.022Z"
    }
   },
   "outputs": [],
   "source": [
    "aladin= ipyal.Aladin(target='%s %s' % (SNe.meanra[seloid], SNe.meandec[seloid]), \n",
    "                    fov=0.04, survey='P/PanSTARRS/DR1/color-z-zg-g',\n",
    "                    reticle_size= 64,\n",
    "                    layout=Layout(width='70%'))\n",
    "box_layout = Layout(display='flex', flex_flow='row', align_items='stretch', width='100%')\n",
    "box = Box(children=[aladin, info], layout=box_layout)\n",
    "display(box)\n",
    "aladin.add_table(Ned_table)\n",
    "aladin.add_listener('objectHovered', process_objectHovered)"
   ]
  },
  {
   "cell_type": "markdown",
   "metadata": {
    "ExecuteTime": {
     "end_time": "2019-06-28T04:57:13.825249Z",
     "start_time": "2019-06-28T04:57:13.819317Z"
    }
   },
   "source": [
    "### Try more SNe"
   ]
  },
  {
   "cell_type": "code",
   "execution_count": null,
   "metadata": {
    "ExecuteTime": {
     "end_time": "2019-08-29T21:03:11.302481Z",
     "start_time": "2019-08-29T21:00:59.025Z"
    },
    "scrolled": false
   },
   "outputs": [],
   "source": [
    "for idx, oid in enumerate(SNe.index):\n",
    "    if np.mod(idx, 60) == 0:\n",
    "        getSNdata(oid, doLC = True, dostamp=True, doNED = False);"
   ]
  },
  {
   "cell_type": "code",
   "execution_count": null,
   "metadata": {},
   "outputs": [],
   "source": []
  },
  {
   "cell_type": "code",
   "execution_count": null,
   "metadata": {},
   "outputs": [],
   "source": []
  }
 ],
 "metadata": {
  "kernelspec": {
   "display_name": "Python 3",
   "language": "python",
   "name": "python3"
  },
  "language_info": {
   "codemirror_mode": {
    "name": "ipython",
    "version": 3
   },
   "file_extension": ".py",
   "mimetype": "text/x-python",
   "name": "python",
   "nbconvert_exporter": "python",
   "pygments_lexer": "ipython3",
   "version": "3.6.5"
  }
 },
 "nbformat": 4,
 "nbformat_minor": 2
}
