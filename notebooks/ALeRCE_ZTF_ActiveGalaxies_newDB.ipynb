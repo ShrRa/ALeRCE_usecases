{
 "cells": [
  {
   "cell_type": "markdown",
   "metadata": {},
   "source": [
    "# ALeRCE active galaxies starter notebook\n",
    "\n",
    "```Author: Paula Sánchez-Sáez, Last updated: 20200728```\n",
    "\n",
    "ALeRCE starter notebook for active galaxy science using the ALeRCE client, API, and a direct database connection.\n",
    "For more information about the ALeRCE broker, please visit http://alerce.science/"
   ]
  },
  {
   "cell_type": "markdown",
   "metadata": {},
   "source": [
    "# Introduction <a class=\"anchor\" id=\"intro\"></a>"
   ]
  },
  {
   "cell_type": "markdown",
   "metadata": {},
   "source": [
    "In this notebook we will focus on the results obtained by the light curve classifier, particularly for the case of active galaxies. \n",
    "\n",
    "The ALeRCE light curve classifier (Sánchez-Sáez et al. 2020) uses variability features computed from the ZTF alert stream, and colors obtained from AllWISE and ZTF photometry. It uses a Balanced Hierarchical Random Forest algorithm with a two-level scheme, where the top level classifies each source as periodic, stochastic, and transient, and the bottom level further resolve each hierarchical class, yielding a total of 15 classes. This classifier corresponds to the first attempt to classify multiple classes of stochastic variables (including nucleus- and host-dominated active galaxies, blazars, young stellar objects, and cataclysmic variables) in addition to different classes of periodic and transient sources, using real data.\n",
    "\n",
    "The first version of the ALeRCE light curve classifier considers 15 subclasses of variable and transient objects, presented as a taxonomy tree defined by the ALeRCE collaboration:\n",
    "![SanchezSaez+2020](taxonomy_tree.png)\n",
    "\n"
   ]
  },
  {
   "cell_type": "markdown",
   "metadata": {},
   "source": [
    "In particular, the light curve classifier considers the following classes of active galaxies: \n",
    "\n",
    "* AGN: type 1 Seyfert galaxies (i.e., galaxies whose emission is dominated by the host galaxy), selected from MILLIQUAS (broad type \"A\"), and from Oh et al. 2015. \n",
    "\n",
    "* QSO: type 1 nucleus-dominated active galaxies (i.e., galaxies whose emission is dominated by their active nuclei), selected from MILLIQUAS (broad type \"Q\").\n",
    "\n",
    "* Blazar: BL Lac objects and Flat Spectrum Radio Quasars (FSRQ), selected from ROMABZCAT and MILLIQUAS."
   ]
  },
  {
   "cell_type": "markdown",
   "metadata": {},
   "source": [
    "The confusion matrix from Sánchez-Saéz et al. 2020 shows that the light curve classifier has a very good performance separating QSOs, AGNs, and Blazars:\n",
    "\n",
    "![SanchezSaez+2020](SanchezSaez+2020_confusion.png)"
   ]
  },
  {
   "cell_type": "markdown",
   "metadata": {},
   "source": [
    "The recall curves as a function of magnitude and number of detections for active galaxies grouped as a single class are shown below:\n",
    "<table><tr>\n",
    "<td> <img src=\"recall_agn_qso_blazar_for_mag.png\" alt=\"Drawing\" style=\"width: 450px;\"/> </td>\n",
    "<td> <img src=\"recall_agn_qso_blazar_for_ndet.png\" alt=\"Drawing\" style=\"width: 450px;\"/> </td>\n",
    "</tr></table>"
   ]
  },
  {
   "cell_type": "markdown",
   "metadata": {},
   "source": [
    "These recall curves are computed considering: a) the features available for the $g$ and $r$ bands (black triangles), b) the features available only for the $g$ band (green circles), and c) the features available only for the $r$ band (red squares). For details see Sánchez-Sáez et al. 2020. In general, both bands are available for the case of active galaxies. From these curves we can see that the light curve classifier has a very good performance selecting active galaxies as a single class. "
   ]
  },
  {
   "cell_type": "markdown",
   "metadata": {},
   "source": [
    "In this notebook we will query data from a single AGN in order to plot its difference magnitude and corrected magnitude light curve, applying Milky Way dust attenuation corrections as well. We will also see its ZTF image stamp, and its Aladin image.\n",
    "\n",
    "Then, we will query many AGNs, QSOs, and Blazars using the ALeRCE client, showing ...\n",
    "Finally, we will repeat this calculation for a much larger sample size connecting directly to the ALeRCE database.\n"
   ]
  },
  {
   "cell_type": "markdown",
   "metadata": {},
   "source": [
    "# Table of contents:\n",
    "* [Introduction](#intro)\n",
    "* [Requirements](#req)\n",
    "* [ALeRCE client](#client)\n",
    "* [Simple functions to plot light curves](#simplefunctions)\n",
    "* [Advanced plotting functions including dust and distance attenuation corrections](#advancedfunctions)\n",
    "* [Using Aladin](#aladdin)\n",
    "* [Query many AGN candidates using the client](#angiaclient)\n",
    "* [Query many AGN candidates using a direct DB connection](#angiadb)"
   ]
  },
  {
   "cell_type": "markdown",
   "metadata": {},
   "source": [
    "# Requirements <a class=\"anchor\" id=\"req\"></a>"
   ]
  },
  {
   "cell_type": "markdown",
   "metadata": {},
   "source": [
    "Basic requirements"
   ]
  },
  {
   "cell_type": "code",
   "execution_count": 1,
   "metadata": {},
   "outputs": [],
   "source": [
    "import sys\n",
    "import pandas as pd\n",
    "import numpy as np\n",
    "import matplotlib.pyplot as plt\n",
    "import seaborn as sns"
   ]
  },
  {
   "cell_type": "markdown",
   "metadata": {},
   "source": [
    "Astropy"
   ]
  },
  {
   "cell_type": "code",
   "execution_count": 2,
   "metadata": {},
   "outputs": [],
   "source": [
    "import astropy.units as u\n",
    "from astropy import coordinates\n",
    "from astropy.time import Time\n",
    "from astropy.table import Table, Column\n",
    "from astropy.coordinates import Distance\n",
    "from astropy.cosmology import WMAP7"
   ]
  },
  {
   "cell_type": "markdown",
   "metadata": {},
   "source": [
    "Install and import pyaladin https://github.com/cds-astro/ipyaladin"
   ]
  },
  {
   "cell_type": "code",
   "execution_count": 3,
   "metadata": {},
   "outputs": [],
   "source": [
    "# you may need to restart the notebook after running the following lines\n",
    "#!pip install ipyaladin\n",
    "#!jupyter nbextension enable --py widgetsnbextension\n",
    "#!jupyter nbextension enable --py --sys-prefix ipyaladin"
   ]
  },
  {
   "cell_type": "code",
   "execution_count": 4,
   "metadata": {},
   "outputs": [],
   "source": [
    "import ipyaladin as ipyal # see installation instructions here: https://github.com/cds-astro/ipyaladin"
   ]
  },
  {
   "cell_type": "markdown",
   "metadata": {},
   "source": [
    "Install and import Astroquery https://astroquery.readthedocs.io/en/latest/"
   ]
  },
  {
   "cell_type": "code",
   "execution_count": 5,
   "metadata": {},
   "outputs": [],
   "source": [
    "#!pip install astroquery\n",
    "\n",
    "from astroquery.irsa_dust import IrsaDust\n",
    "from astroquery.ned import Ned\n"
   ]
  },
  {
   "cell_type": "markdown",
   "metadata": {},
   "source": [
    "Other external packages"
   ]
  },
  {
   "cell_type": "code",
   "execution_count": 6,
   "metadata": {},
   "outputs": [],
   "source": [
    "from IPython.display import HTML\n",
    "from ipywidgets import Layout, Box, widgets"
   ]
  },
  {
   "cell_type": "markdown",
   "metadata": {},
   "source": [
    "# ALeRCE client <a class=\"anchor\" id=\"client\"></a>"
   ]
  },
  {
   "cell_type": "markdown",
   "metadata": {},
   "source": [
    "Install and import the ALeRCE API client https://alerce.readthedocs.io/en/latest/"
   ]
  },
  {
   "cell_type": "code",
   "execution_count": 7,
   "metadata": {},
   "outputs": [],
   "source": [
    "#!python3 -m pip install --user alerce\n",
    "\n",
    "from alerce.core import Alerce\n",
    "client = Alerce()"
   ]
  },
  {
   "cell_type": "markdown",
   "metadata": {},
   "source": [
    "# Simple functions to plot light curves  <a class=\"anchor\" id=\"simplefunctions\"></a>\n"
   ]
  },
  {
   "cell_type": "markdown",
   "metadata": {},
   "source": [
    "We will create two functions that plot the light curve given an object id (oid):\n",
    "\n",
    "a) The first function (plot_diffLC) plots the difference magnitude light curve, as well as the non-detection diffmaglims (limiting magnitudes in the difference images). \n",
    "\n",
    "b) The second function (plot_corrLC) plots the apparent magnitude light curve (an estimate of the science images light curve). These apparent magnitudes are computed by the ALeRCE pipeline by summing up the flux measured in the difference images ($f_{\\rm diff}$) and the flux measured from the template image ($f_{\\rm ref}$), taking into account whether the difference between the science and reference image in a given epoch ($\\rm sgn$) is positive or negative (for more details see the appendix of Förster et al. 2020) :\n",
    "\n",
    "$$\n",
    "    \\hat f_{\\rm sci} = f_{\\rm ref} + {\\rm sgn}~ f_{\\rm diff}\n",
    "$$\n",
    "\n",
    "These functions use a dataframe with detections and a dataframe with non detections.\n",
    "\n",
    "We will first define manually the oid which we want to explore (we select an AGN with known redshift from NED for test purposes, we will later do queries for a collection of sources)."
   ]
  },
  {
   "cell_type": "code",
   "execution_count": 8,
   "metadata": {},
   "outputs": [],
   "source": [
    "seloid = \"ZTF18aajupnt\" # changing-look LINER from Frederick et al. 2019 \n",
    "                        # (https://ui.adsabs.harvard.edu/abs/2019ApJ...883...31F/abstract)"
   ]
  },
  {
   "cell_type": "markdown",
   "metadata": {},
   "source": [
    "We start defining the function that plots the difference image magnitudes"
   ]
  },
  {
   "cell_type": "code",
   "execution_count": 9,
   "metadata": {},
   "outputs": [],
   "source": [
    "def plot_diffLC(oid, LC_det, LC_nondet): \n",
    "    \n",
    "    fig, ax = plt.subplots(figsize = (14, 8))\n",
    "    labels = {1: 'g', 2: 'r'}\n",
    "    colors = {1: '#56E03A', 2: '#D42F4B'}\n",
    "    markers = {1: 'o', 2: 's'}\n",
    "    \n",
    "    # loop the passbands\n",
    "    for fid in [1, 2]:\n",
    "        \n",
    "        # plot detections if available\n",
    "        mask = LC_det.fid == fid\n",
    "        if np.sum(mask) > 0:\n",
    "            # note that the detections index is candid and that we are plotting the psf corrected magnitudes\n",
    "            ax.errorbar(LC_det[mask].mjd, LC_det[mask].magpsf, \n",
    "                yerr = LC_det[mask].sigmapsf, c = colors[fid], fmt=markers[fid], label = labels[fid])\n",
    "        \n",
    "        # plot non detections if available and if wanted:\n",
    "        mask = (LC_nondet.fid == fid) & (LC_nondet.diffmaglim > -900)\n",
    "        if (np.sum(mask) > 0):     \n",
    "            # non detections index is mjd\n",
    "            ax.scatter(LC_nondet[mask].mjd, LC_nondet[mask].diffmaglim, c = colors[fid], alpha = 0.5,\n",
    "                marker = 'v', label = \"lim.mag. %s\" % labels[fid])\n",
    "            \n",
    "    ax.set_title(oid)\n",
    "    ax.set_xlabel(\"MJD\")\n",
    "    ax.set_ylabel(\"difference magnitude\")\n",
    "    ax.legend()\n",
    "    ax.set_ylim(ax.get_ylim()[::-1])"
   ]
  },
  {
   "cell_type": "markdown",
   "metadata": {},
   "source": [
    "And now the function that plot the apparent magnitude light curve, also called the \"corrected light curve\""
   ]
  },
  {
   "cell_type": "code",
   "execution_count": 10,
   "metadata": {},
   "outputs": [],
   "source": [
    "def plot_corrLC(oid, LC_det):\n",
    "    \n",
    "    fig, ax = plt.subplots(figsize = (14, 8))\n",
    "    labels = {1: 'g', 2: 'r'}\n",
    "    colors = {1: '#56E03A', 2: '#D42F4B'}\n",
    "    markers = {1: 'o', 2: 's'}\n",
    "    \n",
    "    # loop the passbands\n",
    "    for fid in [1, 2]:\n",
    "        \n",
    "        # plot detections if available\n",
    "        mask = LC_det.fid == fid\n",
    "        if np.sum(mask) > 0:\n",
    "            # note that the detections index is candid and that we are plotting the psf corrected magnitudes\n",
    "            ax.errorbar(LC_det[mask].mjd, LC_det[mask].magpsf_corr, \n",
    "                yerr = LC_det[mask].sigmapsf_corr_ext, c = colors[fid], fmt=markers[fid], label = labels[fid])\n",
    "        \n",
    "            \n",
    "    ax.set_title(oid)\n",
    "    ax.set_xlabel(\"MJD\")\n",
    "    ax.set_ylabel(\"Apparent magnitude\")\n",
    "    ax.legend()\n",
    "    ax.set_ylim(ax.get_ylim()[::-1])"
   ]
  },
  {
   "cell_type": "markdown",
   "metadata": {},
   "source": [
    "Now, we will create a function that gets the light curve data and plots it if required, selecting whether we want the differnce or apparent magnitude light curves. The results are then returned to the user as a dictionary. Note that we use the client to query the detections and non detections and that we return the results in pandas format (default is votable)."
   ]
  },
  {
   "cell_type": "code",
   "execution_count": 11,
   "metadata": {},
   "outputs": [],
   "source": [
    "def getLCdata(oid, doLC = False,  plot_diff = False):\n",
    "\n",
    "    results = {\"oid\": oid}\n",
    "        \n",
    "    # query detections\n",
    "    LC_det = client.query_detections(oid, format='pandas')\n",
    "    results[\"lc_det\"] = LC_det\n",
    "        \n",
    "    # query non detections\n",
    "    LC_nondet = client.query_non_detections(oid, format='pandas')\n",
    "    results[\"lc_nondet\"] = LC_nondet\n",
    "    \n",
    "    # plot the LC\n",
    "    if doLC:\n",
    "        if plot_diff:\n",
    "            plot_diffLC(oid, LC_det, LC_nondet)\n",
    "        else: \n",
    "            plot_corrLC(oid, LC_det)\n",
    "        \n",
    "    # return data\n",
    "    return results"
   ]
  },
  {
   "cell_type": "markdown",
   "metadata": {},
   "source": [
    "And now we can plot the object's difference light curve, including detections and non-detections"
   ]
  },
  {
   "cell_type": "code",
   "execution_count": 12,
   "metadata": {},
   "outputs": [
    {
     "data": {
      "image/png": "[encoded data removed]",
      "text/plain": [
       "<Figure size 1008x576 with 1 Axes>"
      ]
     },
     "metadata": {
      "needs_background": "light"
     },
     "output_type": "display_data"
    }
   ],
   "source": [
    "results = getLCdata(seloid, doLC=True, plot_diff = True)"
   ]
  },
  {
   "cell_type": "markdown",
   "metadata": {},
   "source": [
    "And the object's apparent magnitude, showing only the detections"
   ]
  },
  {
   "cell_type": "code",
   "execution_count": 13,
   "metadata": {},
   "outputs": [
    {
     "data": {
      "image/png": "[encoded data removed]",
      "text/plain": [
       "<Figure size 1008x576 with 1 Axes>"
      ]
     },
     "metadata": {
      "needs_background": "light"
     },
     "output_type": "display_data"
    }
   ],
   "source": [
    "results = getLCdata(seloid, doLC=True)"
   ]
  },
  {
   "cell_type": "markdown",
   "metadata": {},
   "source": [
    "ZTF18aajupnt (AT2018dyk) was classified as a changing-look LINER by Frederick et al. 2019. This source was first classified as TDE (https://wis-tns.weizmann.ac.il/object/2018dyk/classification-cert), however its light curve does not show the power-law decline characteristic of an optical TDE. Frederick et al. 2019 performed a detailed multi-wavelength photometric and spectroscopic analysis of this target (see Section 3.6), and demonstrate that ZTF18aajupnt is an \"extreme\" changing-look LINER, which transitioned into a narrow-line Seyfert 1 (NLS1).\n",
    "\n",
    "ZTF18aajupnt is classified as AGN by the light curve classifier, with a probability of 0.626.\n",
    "\n",
    "Note the difference between the difference and corrected light curves. The corrected light curve of ZTF18aajupnt is much redder. \n",
    "\n",
    "\n"
   ]
  },
  {
   "cell_type": "markdown",
   "metadata": {},
   "source": [
    "It is important to use the corrected light curve for variability analyses, in particular for sources with changes in the sign of the difference between the reference and the science image. This can be seen in the light curve of Mrk 817 (ZTF18aamgjku):"
   ]
  },
  {
   "cell_type": "code",
   "execution_count": 14,
   "metadata": {},
   "outputs": [
    {
     "data": {
      "image/png": "[encoded data removed]",
      "text/plain": [
       "<Figure size 1008x576 with 1 Axes>"
      ]
     },
     "metadata": {
      "needs_background": "light"
     },
     "output_type": "display_data"
    }
   ],
   "source": [
    "seloid = \"ZTF18aamgjku\"\n",
    "results = getLCdata(seloid, doLC=True, plot_diff = True)"
   ]
  },
  {
   "cell_type": "code",
   "execution_count": 15,
   "metadata": {},
   "outputs": [
    {
     "data": {
      "image/png": "[encoded data removed]",
      "text/plain": [
       "<Figure size 1008x576 with 1 Axes>"
      ]
     },
     "metadata": {
      "needs_background": "light"
     },
     "output_type": "display_data"
    }
   ],
   "source": [
    "results = getLCdata(seloid, doLC=True)"
   ]
  },
  {
   "cell_type": "markdown",
   "metadata": {},
   "source": [
    "This target (Mrk 817) is particularly interesting, since it shows flaring activity from MJD=58900. This flare cannot be detected easily when the difference light curve is plotted, since it does not take into account changes in the sign of the difference between the reference and the science image. That is why is very important for the study of active galaxies to always use the apparent or corrected magnitude light curve when we want to recover the real shape of the variable signal. Hereafter we will use the apparent magnitude light curves. "
   ]
  },
  {
   "cell_type": "markdown",
   "metadata": {},
   "source": [
    "# Advanced plotting functions including dust and distance attenuation corrections  <a class=\"anchor\" id=\"advancedfunctions\"></a>"
   ]
  },
  {
   "cell_type": "markdown",
   "metadata": {},
   "source": [
    "We will modify our previous function (plot_corrLC) and now we will be able to receive a dictionary with attenuations due to Galactic extinction, as well as the redshift. This will allow us to get absolute magnitudes (assuming no K-corrections), and to \n",
    "transform the light curve to the source rest frame. Note that we use astroquery Distance and WMAP7 objects, as well as mag units."
   ]
  },
  {
   "cell_type": "code",
   "execution_count": 16,
   "metadata": {},
   "outputs": [],
   "source": [
    "def plotLC(oid, LC_det, A=None, redshift=None):\n",
    "    \n",
    "    fig, ax = plt.subplots(figsize = (14, 8))\n",
    "    labels = {1: 'g', 2: 'r'}\n",
    "    colors = {1: '#56E03A', 2: '#D42F4B'}\n",
    "    markers = {1: 'o', 2: 's'}\n",
    "    \n",
    "    # distmod: distance modulus, reftime: reference time\n",
    "    if redshift is not None:\n",
    "        distmod = float(Distance(z=redshift, cosmology=WMAP7).distmod / u.mag)\n",
    "        reftime = LC_det.mjd.min()\n",
    "    else:\n",
    "        distmod = 0\n",
    "        reftime = 0\n",
    "        redshift = 0\n",
    "        \n",
    "    # loop the passbands\n",
    "    for fid in [1, 2]:\n",
    "        \n",
    "        # galactic extinction in the given band\n",
    "        if A is not None:\n",
    "            A_fid = A[labels[fid]]\n",
    "        else:\n",
    "            A_fid = 0\n",
    "\n",
    "        # plot detections if available\n",
    "        mask = LC_det.fid == fid\n",
    "        if np.sum(mask) > 0:\n",
    "            \n",
    "            # change time to restframe days if redshift is not zero\n",
    "            times = (LC_det[mask].mjd - reftime) / (1. + redshift)\n",
    "            \n",
    "            # note that the detections index is candid and that we are plotting the psf corrected magnitudes\n",
    "            if A_fid != 0:\n",
    "                # plot attenuated light curve with small alpha\n",
    "                ax.errorbar(times, LC_det[mask].magpsf_corr - distmod, \n",
    "                    yerr = LC_det[mask].sigmapsf_corr_ext, c = colors[fid], fmt=markers[fid], label = labels[fid], alpha=0.1)\n",
    "                # show dust and distance attenuation corrected light curve\n",
    "                ax.errorbar(times, LC_det[mask].magpsf_corr - A_fid - distmod, \n",
    "                    yerr = LC_det[mask].sigmapsf_corr_ext, c = colors[fid], fmt=markers[fid], label = \"%s (ext. corr.)\" % labels[fid])\n",
    "            else:\n",
    "                # correct only for redshift\n",
    "                ax.errorbar(times, LC_det[mask].magpsf_corr - distmod, \n",
    "                    yerr = LC_det[mask].sigmapsf_corr_ext - A_fid, c = colors[fid], fmt=markers[fid], label = labels[fid])\n",
    "        \n",
    "            \n",
    "    # labels\n",
    "    if A is not None and redshift != 0:\n",
    "        ax.set_title(\"%s ($A_g=%.3f, A_r=%.3f$, z=%.4f)\" % (oid, A[\"g\"], A[\"r\"], redshift))\n",
    "    elif redshift != 0:\n",
    "        ax.set_title(\"%s (z=%.4f)\" % (oid, redshift))\n",
    "    elif A is not None:\n",
    "        ax.set_title(\"%s ($A_g=%.3f, A_r=%.3f$)\" % (oid, A[\"g\"], A[\"r\"]))\n",
    "    else:\n",
    "        ax.set_title(oid)\n",
    "        \n",
    "    if redshift == 0:\n",
    "        ax.set_xlabel(\"MJD\")\n",
    "        ax.set_ylabel(\"Apparent magnitude\")\n",
    "    else:\n",
    "        ax.set_xlabel(\"Restframe time [days]\")\n",
    "        ax.set_ylabel(\"Absolute magnitude (no K-corr.)\")\n",
    "    ax.legend()\n",
    "    ax.set_ylim(ax.get_ylim()[::-1])"
   ]
  },
  {
   "cell_type": "markdown",
   "metadata": {},
   "source": [
    "Now we test these functions with the same AGN as before (Mrk 817). We selected a source with a known spectrocopic redshift, but this is usually not the case."
   ]
  },
  {
   "cell_type": "markdown",
   "metadata": {},
   "source": [
    "We will also modify the getLCdata function to get all the necessary information given the object id (oid). It now does the following:\n",
    " - display a link to the ALeRCE explorer page for this object\n",
    " - get the basic object statistics, this includes the position in the sky (using the ALeRCE client)\n",
    " - get the detections (using the ALeRCE client). Non-detections are excluded now.\n",
    " - get the Milky Way dust attenuation at the given position in the sky (using astroquery IrsaDust)\n",
    " - plot the apparent magnitude light curve corrected for dust attenuation (using the previously defined function)\n",
    " - query NED to get the redshift, using astroquery Ned, and a radius of 2 arcseconds\n",
    " - plot the absolute magnitude light curve correction for Milky Way dust and distance attenuation, in restframe time and ignoring k-corrections (using the previously defined plotLC function)\n",
    " - plot the first image stamps associated to this source (using the ALeRCE client)"
   ]
  },
  {
   "cell_type": "code",
   "execution_count": 17,
   "metadata": {},
   "outputs": [],
   "source": [
    "def getLCdata(oid, doLC=False, doext=False, dostamp=False, doNED=False, doredshift=False):\n",
    "\n",
    "    results = {\"oid\": oid}\n",
    "    \n",
    "    # query basic stats\n",
    "    LC_stats = client.query_object(oid, format='pandas')\n",
    "    results[\"stats\"] = LC_stats\n",
    "    \n",
    "    # query detections\n",
    "    LC_det = client.query_detections(oid, format='pandas')\n",
    "    results[\"lc_det\"] = LC_det\n",
    "    \n",
    "    # object coordinates\n",
    "    co = coordinates.SkyCoord(ra=LC_stats.meanra[0], dec=LC_stats.meandec[0], unit=(u.deg, u.deg), frame='fk5')\n",
    "    \n",
    "    # get galactic extinction\n",
    "    if doext:\n",
    "        # Galactic extinction (use SFD = D.J. Schlegel, D.P. Finkbeiner, & M. Davis (1998, ApJ, 500, 525))\n",
    "        table = IrsaDust.get_extinction_table(co)\n",
    "        A = {\"g\": float(table[table[\"Filter_name\"] == \"SDSS g\"][\"A_SFD\"]), \"r\": float(table[table[\"Filter_name\"] == \"SDSS r\"][\"A_SFD\"])}\n",
    "        results[\"attenuation\"] = A\n",
    "\n",
    "    # plot the LC\n",
    "    if doLC:\n",
    "        if doext:\n",
    "            plotLC(oid, LC_det, A)\n",
    "        else:\n",
    "            plotLC(oid, LC_det)\n",
    "            \n",
    "    # find NED galaxies\n",
    "    if doNED:\n",
    "        Ned_table = Ned.query_region(co, radius=2.0 * u.arcsec, equinox='J2000.0')\n",
    "        display(Ned_table)\n",
    "        results[\"ned_table\"] = Ned_table\n",
    "        \n",
    "        # save closest redshift if any\n",
    "        df_ned = Ned_table.to_pandas()\n",
    "        mask=df_ned.Redshift.notna()\n",
    "        if mask.sum() > 0:\n",
    "            results[\"redshift\"] = df_ned.loc[df_ned.loc[mask].Separation.idxmin()].Redshift\n",
    "            print(\"Redshift found: %s\" % results[\"redshift\"])\n",
    "            \n",
    "    # plot absolute value (without K-corrections)\n",
    "    if doredshift:\n",
    "        if type(doredshift) == float and doredshift > 0:\n",
    "            results[\"redshift\"] = doredshift\n",
    "        if \"redshift\" in results.keys():\n",
    "            if doext:\n",
    "                plotLC(oid, LC_det, A, results[\"redshift\"])\n",
    "            else:\n",
    "                plotLC(oid, LC_det, results[\"redshift\"])            \n",
    "    \n",
    "    \n",
    "    # show link\n",
    "    display(HTML(\"<a href='http://alerce.online/object/%s' target=\\\"_blank\\\"> %s <a>\" % (oid, oid)))\n",
    "    \n",
    "    # show the first image stamp\n",
    "    if dostamp:\n",
    "        client.plot_stamp(oid, results[\"lc_det\"].loc[results[\"lc_det\"].has_stamp].candid.min())\n",
    "        \n",
    "    # return data\n",
    "    return results"
   ]
  },
  {
   "cell_type": "code",
   "execution_count": 18,
   "metadata": {},
   "outputs": [
    {
     "data": {
      "text/html": [
       "<i>Table masked=True length=1</i>\n",
       "<table id=\"table112505149520\" class=\"table-striped table-bordered table-condensed\">\n",
       "<thead><tr><th>No.</th><th>Object Name</th><th>RA</th><th>DEC</th><th>Type</th><th>Velocity</th><th>Redshift</th><th>Redshift Flag</th><th>Magnitude and Filter</th><th>Separation</th><th>References</th><th>Notes</th><th>Photometry Points</th><th>Positions</th><th>Redshift Points</th><th>Diameter Points</th><th>Associations</th></tr></thead>\n",
       "<thead><tr><th></th><th></th><th>degrees</th><th>degrees</th><th></th><th>km / s</th><th></th><th></th><th></th><th>arcmin</th><th></th><th></th><th></th><th></th><th></th><th></th><th></th></tr></thead>\n",
       "<thead><tr><th>int32</th><th>bytes30</th><th>float64</th><th>float64</th><th>object</th><th>float64</th><th>float64</th><th>object</th><th>object</th><th>float64</th><th>int32</th><th>int32</th><th>int32</th><th>int32</th><th>int32</th><th>int32</th><th>int32</th></tr></thead>\n",
       "<tr><td>1</td><td>UGC 09412</td><td>219.09195</td><td>58.79427</td><td>G</td><td>9430.0</td><td>0.031455</td><td></td><td>14.6r</td><td>0.001</td><td>417</td><td>8</td><td>178</td><td>43</td><td>37</td><td>9</td><td>0</td></tr>\n",
       "</table>"
      ],
      "text/plain": [
       "<Table masked=True length=1>\n",
       " No.  Object Name     RA     ... Redshift Points Diameter Points Associations\n",
       "                   degrees   ...                                             \n",
       "int32   bytes30    float64   ...      int32           int32         int32    \n",
       "----- ----------- ---------- ... --------------- --------------- ------------\n",
       "    1   UGC 09412  219.09195 ...              37               9            0"
      ]
     },
     "metadata": {},
     "output_type": "display_data"
    },
    {
     "name": "stdout",
     "output_type": "stream",
     "text": [
      "Redshift found: 0.031455\n"
     ]
    },
    {
     "data": {
      "text/html": [
       "<a href='http://alerce.online/object/ZTF18aamgjku' target=\"_blank\"> ZTF18aamgjku <a>"
      ],
      "text/plain": [
       "<IPython.core.display.HTML object>"
      ]
     },
     "metadata": {},
     "output_type": "display_data"
    },
    {
     "data": {
      "text/html": [
       "\n",
       "        <div>ZTF oid: ZTF18aamgjku, candid: 1006142321115010001</div>\n",
       "        <div>&emsp;&emsp;&emsp;&emsp;&emsp;\n",
       "        Science\n",
       "        &emsp;&emsp;&emsp;&emsp;&emsp;&emsp;&emsp;&emsp;&emsp;&emsp;&emsp;&emsp;\n",
       "        Template\n",
       "        &emsp;&emsp;&emsp;&emsp;&emsp;&emsp;&emsp;&emsp;&emsp;&emsp;&emsp;&emsp;\n",
       "        Difference\n",
       "        <div class=\"container\">\n",
       "        <div style=\"float:left;width:20%\"><img src=\"http://avro.alerce.online/get_stamp?oid=ZTF18aamgjku&candid=1006142321115010001&type=science&format=png\"></div>\n",
       "        <div style=\"float:left;width:20%\"><img src=\"http://avro.alerce.online/get_stamp?oid=ZTF18aamgjku&candid=1006142321115010001&type=template&format=png\"></div>\n",
       "        <div style=\"float:left;width:20%\"><img src=\"http://avro.alerce.online/get_stamp?oid=ZTF18aamgjku&candid=1006142321115010001&type=difference&format=png\"></div>\n",
       "        </div>\n",
       "        "
      ],
      "text/plain": [
       "<IPython.core.display.HTML object>"
      ]
     },
     "metadata": {},
     "output_type": "display_data"
    },
    {
     "data": {
      "image/png": "[encoded data removed]",
      "text/plain": [
       "<Figure size 1008x576 with 1 Axes>"
      ]
     },
     "metadata": {
      "needs_background": "light"
     },
     "output_type": "display_data"
    },
    {
     "data": {
      "image/png": "[encoded data removed]",
      "text/plain": [
       "<Figure size 1008x576 with 1 Axes>"
      ]
     },
     "metadata": {
      "needs_background": "light"
     },
     "output_type": "display_data"
    }
   ],
   "source": [
    "results_1st_target = getLCdata(seloid, doLC=True, doext=True, dostamp=True, doNED=True, doredshift=True)"
   ]
  },
  {
   "cell_type": "markdown",
   "metadata": {},
   "source": [
    "This source has the typical absolute magnitude observed for low redshift active galaxies. "
   ]
  },
  {
   "cell_type": "markdown",
   "metadata": {},
   "source": [
    "You can also force the absolute magnitude plot by giving the redshift manually. This may be necessary if there is not a redshift in NED or you need to use a much larger search radius to find it automatically. In this case we selected a source classified as GALAXY by the DR16 catalog \"DR16Q_Superset_v3\" (Lyke et al. 2020)"
   ]
  },
  {
   "cell_type": "code",
   "execution_count": 19,
   "metadata": {},
   "outputs": [
    {
     "data": {
      "text/html": [
       "<i>Table masked=True length=1</i>\n",
       "<table id=\"table112363044240\" class=\"table-striped table-bordered table-condensed\">\n",
       "<thead><tr><th>No.</th><th>Object Name</th><th>RA</th><th>DEC</th><th>Type</th><th>Velocity</th><th>Redshift</th><th>Redshift Flag</th><th>Magnitude and Filter</th><th>Separation</th><th>References</th><th>Notes</th><th>Photometry Points</th><th>Positions</th><th>Redshift Points</th><th>Diameter Points</th><th>Associations</th></tr></thead>\n",
       "<thead><tr><th></th><th></th><th>degrees</th><th>degrees</th><th></th><th>km / s</th><th></th><th></th><th></th><th>arcmin</th><th></th><th></th><th></th><th></th><th></th><th></th><th></th></tr></thead>\n",
       "<thead><tr><th>int32</th><th>bytes30</th><th>float64</th><th>float64</th><th>object</th><th>float64</th><th>float64</th><th>object</th><th>object</th><th>float64</th><th>int32</th><th>int32</th><th>int32</th><th>int32</th><th>int32</th><th>int32</th><th>int32</th></tr></thead>\n",
       "<tr><td>1</td><td>WISE J013859.14+260015.7</td><td>24.74638</td><td>26.00444</td><td>RadioS</td><td>--</td><td>--</td><td></td><td>1.43</td><td>0.006</td><td>5</td><td>0</td><td>21</td><td>6</td><td>0</td><td>0</td><td>0</td></tr>\n",
       "</table>"
      ],
      "text/plain": [
       "<Table masked=True length=1>\n",
       " No.        Object Name            RA     ... Diameter Points Associations\n",
       "                                degrees   ...                             \n",
       "int32         bytes30           float64   ...      int32         int32    \n",
       "----- ------------------------ ---------- ... --------------- ------------\n",
       "    1 WISE J013859.14+260015.7   24.74638 ...               0            0"
      ]
     },
     "metadata": {},
     "output_type": "display_data"
    },
    {
     "data": {
      "text/html": [
       "<a href='http://alerce.online/object/ZTF18abotama' target=\"_blank\"> ZTF18abotama <a>"
      ],
      "text/plain": [
       "<IPython.core.display.HTML object>"
      ]
     },
     "metadata": {},
     "output_type": "display_data"
    },
    {
     "data": {
      "text/html": [
       "\n",
       "        <div>ZTF oid: ZTF18abotama, candid: 1005357632015010000</div>\n",
       "        <div>&emsp;&emsp;&emsp;&emsp;&emsp;\n",
       "        Science\n",
       "        &emsp;&emsp;&emsp;&emsp;&emsp;&emsp;&emsp;&emsp;&emsp;&emsp;&emsp;&emsp;\n",
       "        Template\n",
       "        &emsp;&emsp;&emsp;&emsp;&emsp;&emsp;&emsp;&emsp;&emsp;&emsp;&emsp;&emsp;\n",
       "        Difference\n",
       "        <div class=\"container\">\n",
       "        <div style=\"float:left;width:20%\"><img src=\"http://avro.alerce.online/get_stamp?oid=ZTF18abotama&candid=1005357632015010000&type=science&format=png\"></div>\n",
       "        <div style=\"float:left;width:20%\"><img src=\"http://avro.alerce.online/get_stamp?oid=ZTF18abotama&candid=1005357632015010000&type=template&format=png\"></div>\n",
       "        <div style=\"float:left;width:20%\"><img src=\"http://avro.alerce.online/get_stamp?oid=ZTF18abotama&candid=1005357632015010000&type=difference&format=png\"></div>\n",
       "        </div>\n",
       "        "
      ],
      "text/plain": [
       "<IPython.core.display.HTML object>"
      ]
     },
     "metadata": {},
     "output_type": "display_data"
    },
    {
     "data": {
      "image/png": "[encoded data removed]",
      "text/plain": [
       "<Figure size 1008x576 with 1 Axes>"
      ]
     },
     "metadata": {
      "needs_background": "light"
     },
     "output_type": "display_data"
    },
    {
     "data": {
      "image/png": "[encoded data removed]",
      "text/plain": [
       "<Figure size 1008x576 with 1 Axes>"
      ]
     },
     "metadata": {
      "needs_background": "light"
     },
     "output_type": "display_data"
    }
   ],
   "source": [
    "results_2nd_target = getLCdata(\"ZTF18abotama\", doLC=True, doext=True, dostamp=True, doNED=True, doredshift=0.3471357);"
   ]
  },
  {
   "cell_type": "markdown",
   "metadata": {},
   "source": [
    "It can be seen that this source shows a variable flux, but its SDSS spectra shows no clear signal of SMBH activity (http://skyserver.sdss.org/dr15/en/tools/chart/navi.aspx?ra=24.746433972028&dec=26.0043609167832)"
   ]
  },
  {
   "cell_type": "markdown",
   "metadata": {},
   "source": [
    "# Using Aladin   <a class=\"anchor\" id=\"aladdin\"></a>"
   ]
  },
  {
   "cell_type": "markdown",
   "metadata": {},
   "source": [
    "We can show an image from Aladin to see the source and its environment. In this case we continue working with Mrk 817."
   ]
  },
  {
   "cell_type": "code",
   "execution_count": 20,
   "metadata": {},
   "outputs": [],
   "source": [
    "info = widgets.HTML()\n",
    "\n",
    "def process_objectHovered(data):\n",
    "    \n",
    "    output = '<font color=\"red\">'\n",
    "    # NED\n",
    "    if data[\"data\"][\"cat_name\"] == \"Ned\":\n",
    "        output = \"<h2>NED</h2>\"\n",
    "        sel_keys = [\"Object Name\", \"Separation\", \"RA\", \"DEC\", \"Type\", \"Redshift\", \"Redshift Flag\", \"Magnitude and Filter\"]\n",
    "    for key in sel_keys:\n",
    "        if key in data[\"data\"].keys():\n",
    "            output += \"<p><font size='1'>%s: %s</p>\" % (key, data[\"data\"][key])\n",
    "    info.value =  '%s' % output"
   ]
  },
  {
   "cell_type": "code",
   "execution_count": 21,
   "metadata": {},
   "outputs": [],
   "source": [
    "def show_image(results):\n",
    "    aladin= ipyal.Aladin(target='%s %s' % (float(results[\"stats\"].meanra), float(results[\"stats\"].meandec)), \n",
    "                fov=0.04, survey='P/PanSTARRS/DR1/color-z-zg-g',\n",
    "                reticle_size= 64,\n",
    "                layout=Layout(width='70%'))\n",
    "    box_layout = Layout(display='flex', flex_flow='row', align_items='stretch', width='100%')\n",
    "    box = Box(children=[aladin, info], layout=box_layout)\n",
    "    display(box)\n",
    "    if results[\"ned_table\"]:\n",
    "        results[\"ned_table\"][\"cat_name\"] = Column([\"Ned\"], name=\"cat_name\")\n",
    "        aladin.add_table(results[\"ned_table\"])\n",
    "    aladin.add_listener('objectHovered', process_objectHovered)\n",
    "    print(\"Hover mouse to see information about catalog objects\")"
   ]
  },
  {
   "cell_type": "code",
   "execution_count": 22,
   "metadata": {},
   "outputs": [
    {
     "data": {
      "application/vnd.jupyter.widget-view+json": {
       "model_id": "fe6c4b288cf6497182f6c9380d1ae5ef",
       "version_major": 2,
       "version_minor": 0
      },
      "text/plain": [
       "Box(children=(Aladin(fov=0.04, layout=Layout(width='70%'), options=['allow_full_zoomout', 'coo_frame', 'fov', …"
      ]
     },
     "metadata": {},
     "output_type": "display_data"
    },
    {
     "name": "stdout",
     "output_type": "stream",
     "text": [
      "Hover mouse to see information about catalog objects\n"
     ]
    }
   ],
   "source": [
    "show_image(results_1st_target)"
   ]
  },
  {
   "cell_type": "markdown",
   "metadata": {},
   "source": [
    "# Query many AGN candidates using the client <a class=\"anchor\" id=\"agniaclient\"></a>"
   ]
  },
  {
   "cell_type": "markdown",
   "metadata": {},
   "source": [
    "The ALeRCE client allows users to access the ALeRCE API and do simple queries to our database. You can get information about each command using the help command."
   ]
  },
  {
   "cell_type": "code",
   "execution_count": 23,
   "metadata": {},
   "outputs": [
    {
     "name": "stdout",
     "output_type": "stream",
     "text": [
      "Help on method query_objects in module alerce.search:\n",
      "\n",
      "query_objects(format='pandas', index=None, sort=None, **kwargs) method of alerce.core.Alerce instance\n",
      "    Gets a list of objects filtered by specified parameters.\n",
      "    It is strongly advised to look at the documentation of `ALERCE ZTF API`_\n",
      "    \n",
      "    Parameters\n",
      "    ----------\n",
      "    format : str\n",
      "        Return format. Can be one of 'pandas' | 'votable' | 'json'\n",
      "    index : str\n",
      "        Name of the column to use as index when format is 'pandas'\n",
      "    sort : str\n",
      "        Name of the column to sort when format is 'pandas'\n",
      "    \n",
      "    **kwargs\n",
      "        Keyword arguments. Each argument can be one of the `ALERCE ZTF API`_\n",
      "        object query parameters.\n",
      "    \n",
      "        - classifier : str\n",
      "            classifier name\n",
      "        - class : str\n",
      "            class name\n",
      "        - ndet : int[]\n",
      "            Range of detections.\n",
      "        - probability : float\n",
      "            Minimum probability.\n",
      "        - firstmjd : float[]\n",
      "            First detection date range in mjd.\n",
      "        - lastmjd : float[]\n",
      "            Last detection date range in mjd.\n",
      "        - ra : float\n",
      "            Ra in degrees for conesearch.\n",
      "        - dec : float\n",
      "            Dec in degrees for conesearch.\n",
      "        - radius : float\n",
      "            Radius in arcsec for conesearch.\n",
      "        - page : int\n",
      "            Page or offset to retrieve. Default value : 1\n",
      "        - page_size : int\n",
      "            Number of objects to retrieve in each page. Default value: 10\n",
      "        - count : str (bool like)\n",
      "            Whether to count total objects or not. Can be a string representation of boolean\n",
      "            like \"True\", \"true\", \"yes\", \"false\", ...\n",
      "        - order_by : str\n",
      "            Column used for ordering. Available values : oid, ndethist, ncovhist, mjdstarthist, mjdendhist, corrected, stellar, ndet, g_r_max, g_r_max_corr, g_r_mean, g_r_mean_corr, meanra, meandec, sigmara, sigmadec, deltamjd, firstmjd, lastmjd, step_id_corr, object, classifier_name, class_name, probability, probabilities\n",
      "        - order_mode : str\n",
      "            Ordering could be ascendent or descendent.\n",
      "            Available values : ASC, DESC\n",
      "\n"
     ]
    }
   ],
   "source": [
    "help(client.query_objects)"
   ]
  },
  {
   "cell_type": "markdown",
   "metadata": {},
   "source": [
    "### Classifiers and taxonomies"
   ]
  },
  {
   "cell_type": "markdown",
   "metadata": {},
   "source": [
    "There are two classifiers used in ALeRCE:\n",
    "\n",
    "1. A stamp based classifier (Carrasco-Davis et al. 2020), which classifies objects based on their first image stamps. The purpose of this classifier is to trigger alerts for young SN candidates and other objects.\n",
    "\n",
    "    The stamp classifier contains the following classes:\n",
    "    * `agn`\n",
    "    * `sn`\n",
    "    * `vs`\n",
    "    * `asteroid`\n",
    "    * `bogus`\n",
    "\n",
    "\n",
    "2. A light curve based classifier (Sánchez-Sáez et al. 2020), which classifies objects based on their light curve. The purpose of this classifier is to provide a more refined classification starting with at least 6 detections in a given band.\n",
    "\n",
    "    The light curve classifier contains the following classes:\n",
    "\n",
    "    * `SNIa`\n",
    "    * `SNIbc`\n",
    "    * `SNII`\n",
    "    * `SLSN`\n",
    "    * `QSO`\n",
    "    * `AGN`\n",
    "    * `Blazar`\n",
    "    * `CV/Nova`\n",
    "    * `YSO`\n",
    "    * `LPV`\n",
    "    * `E`\n",
    "    * `DSCT`\n",
    "    * `RRL`\n",
    "    * `CEP`\n",
    "    * `Periodic-Other`\n",
    "\n",
    "In particular, the light curve classifier is more suitable for active galaxy studies than the stamp classifier. "
   ]
  },
  {
   "cell_type": "markdown",
   "metadata": {},
   "source": [
    "### Querying the ALeRCE database"
   ]
  },
  {
   "cell_type": "markdown",
   "metadata": {},
   "source": [
    "We will now query top 3000 AGN and top 1000 QSO candidates, that have a probability > 0.6 of being a AGN according to the light curve classifier, and which have between 30 and 200 detections."
   ]
  },
  {
   "cell_type": "code",
   "execution_count": 24,
   "metadata": {},
   "outputs": [
    {
     "name": "stdout",
     "output_type": "stream",
     "text": [
      "(3000, 22)\n"
     ]
    },
    {
     "data": {
      "text/html": [
       "<div>\n",
       "<style scoped>\n",
       "    .dataframe tbody tr th:only-of-type {\n",
       "        vertical-align: middle;\n",
       "    }\n",
       "\n",
       "    .dataframe tbody tr th {\n",
       "        vertical-align: top;\n",
       "    }\n",
       "\n",
       "    .dataframe thead th {\n",
       "        text-align: right;\n",
       "    }\n",
       "</style>\n",
       "<table border=\"1\" class=\"dataframe\">\n",
       "  <thead>\n",
       "    <tr style=\"text-align: right;\">\n",
       "      <th></th>\n",
       "      <th>class</th>\n",
       "      <th>corrected</th>\n",
       "      <th>deltajd</th>\n",
       "      <th>firstmjd</th>\n",
       "      <th>g_r_max</th>\n",
       "      <th>g_r_max_corr</th>\n",
       "      <th>g_r_mean</th>\n",
       "      <th>g_r_mean_corr</th>\n",
       "      <th>lastmjd</th>\n",
       "      <th>meandec</th>\n",
       "      <th>...</th>\n",
       "      <th>mjdendhist</th>\n",
       "      <th>mjdstarthist</th>\n",
       "      <th>ncovhist</th>\n",
       "      <th>ndet</th>\n",
       "      <th>ndethist</th>\n",
       "      <th>probability</th>\n",
       "      <th>sigmadec</th>\n",
       "      <th>sigmara</th>\n",
       "      <th>stellar</th>\n",
       "      <th>step_id_corr</th>\n",
       "    </tr>\n",
       "    <tr>\n",
       "      <th>oid</th>\n",
       "      <th></th>\n",
       "      <th></th>\n",
       "      <th></th>\n",
       "      <th></th>\n",
       "      <th></th>\n",
       "      <th></th>\n",
       "      <th></th>\n",
       "      <th></th>\n",
       "      <th></th>\n",
       "      <th></th>\n",
       "      <th></th>\n",
       "      <th></th>\n",
       "      <th></th>\n",
       "      <th></th>\n",
       "      <th></th>\n",
       "      <th></th>\n",
       "      <th></th>\n",
       "      <th></th>\n",
       "      <th></th>\n",
       "      <th></th>\n",
       "      <th></th>\n",
       "    </tr>\n",
       "  </thead>\n",
       "  <tbody>\n",
       "    <tr>\n",
       "      <th>ZTF18accnpgp</th>\n",
       "      <td>AGN</td>\n",
       "      <td>True</td>\n",
       "      <td>568.696123</td>\n",
       "      <td>58426.486655</td>\n",
       "      <td>-0.041311</td>\n",
       "      <td>0.626401</td>\n",
       "      <td>0.032196</td>\n",
       "      <td>0.701160</td>\n",
       "      <td>58995.182778</td>\n",
       "      <td>55.628248</td>\n",
       "      <td>...</td>\n",
       "      <td>58995.182778</td>\n",
       "      <td>58425.476042</td>\n",
       "      <td>900</td>\n",
       "      <td>53</td>\n",
       "      <td>168</td>\n",
       "      <td>0.978096</td>\n",
       "      <td>0.000049</td>\n",
       "      <td>0.000093</td>\n",
       "      <td>False</td>\n",
       "      <td>corr_bulk_0.0.1</td>\n",
       "    </tr>\n",
       "    <tr>\n",
       "      <th>ZTF18aawpkkq</th>\n",
       "      <td>AGN</td>\n",
       "      <td>True</td>\n",
       "      <td>565.689630</td>\n",
       "      <td>58429.495046</td>\n",
       "      <td>-0.255205</td>\n",
       "      <td>0.576135</td>\n",
       "      <td>-0.024065</td>\n",
       "      <td>0.659739</td>\n",
       "      <td>58995.184676</td>\n",
       "      <td>44.820142</td>\n",
       "      <td>...</td>\n",
       "      <td>58995.184676</td>\n",
       "      <td>58262.238669</td>\n",
       "      <td>1022</td>\n",
       "      <td>51</td>\n",
       "      <td>175</td>\n",
       "      <td>0.972180</td>\n",
       "      <td>0.000057</td>\n",
       "      <td>0.000106</td>\n",
       "      <td>False</td>\n",
       "      <td>corr_bulk_0.0.1</td>\n",
       "    </tr>\n",
       "    <tr>\n",
       "      <th>ZTF18adalccf</th>\n",
       "      <td>AGN</td>\n",
       "      <td>True</td>\n",
       "      <td>515.679259</td>\n",
       "      <td>58476.510683</td>\n",
       "      <td>0.021013</td>\n",
       "      <td>0.525659</td>\n",
       "      <td>0.140650</td>\n",
       "      <td>0.619554</td>\n",
       "      <td>58992.189942</td>\n",
       "      <td>-2.422762</td>\n",
       "      <td>...</td>\n",
       "      <td>58992.189942</td>\n",
       "      <td>58476.510683</td>\n",
       "      <td>178</td>\n",
       "      <td>63</td>\n",
       "      <td>62</td>\n",
       "      <td>0.972052</td>\n",
       "      <td>0.000048</td>\n",
       "      <td>0.000058</td>\n",
       "      <td>False</td>\n",
       "      <td>corr_bulk_0.0.1</td>\n",
       "    </tr>\n",
       "    <tr>\n",
       "      <th>ZTF18aaylgug</th>\n",
       "      <td>AGN</td>\n",
       "      <td>True</td>\n",
       "      <td>728.001586</td>\n",
       "      <td>58281.220613</td>\n",
       "      <td>0.379831</td>\n",
       "      <td>0.529514</td>\n",
       "      <td>0.181889</td>\n",
       "      <td>0.572361</td>\n",
       "      <td>59009.222199</td>\n",
       "      <td>48.902704</td>\n",
       "      <td>...</td>\n",
       "      <td>59009.222199</td>\n",
       "      <td>58276.301644</td>\n",
       "      <td>1478</td>\n",
       "      <td>119</td>\n",
       "      <td>352</td>\n",
       "      <td>0.968156</td>\n",
       "      <td>0.000048</td>\n",
       "      <td>0.000064</td>\n",
       "      <td>False</td>\n",
       "      <td>corr_bulk_0.0.1</td>\n",
       "    </tr>\n",
       "    <tr>\n",
       "      <th>ZTF18aajgqrw</th>\n",
       "      <td>AGN</td>\n",
       "      <td>True</td>\n",
       "      <td>197.657037</td>\n",
       "      <td>58464.544039</td>\n",
       "      <td>0.017357</td>\n",
       "      <td>0.533517</td>\n",
       "      <td>0.133734</td>\n",
       "      <td>0.588152</td>\n",
       "      <td>58662.201076</td>\n",
       "      <td>22.819116</td>\n",
       "      <td>...</td>\n",
       "      <td>58662.201076</td>\n",
       "      <td>58221.227500</td>\n",
       "      <td>360</td>\n",
       "      <td>43</td>\n",
       "      <td>57</td>\n",
       "      <td>0.968156</td>\n",
       "      <td>0.000059</td>\n",
       "      <td>0.000063</td>\n",
       "      <td>False</td>\n",
       "      <td>corr_bulk_0.0.1</td>\n",
       "    </tr>\n",
       "  </tbody>\n",
       "</table>\n",
       "<p>5 rows × 21 columns</p>\n",
       "</div>"
      ],
      "text/plain": [
       "             class  corrected     deltajd      firstmjd   g_r_max  \\\n",
       "oid                                                                 \n",
       "ZTF18accnpgp   AGN       True  568.696123  58426.486655 -0.041311   \n",
       "ZTF18aawpkkq   AGN       True  565.689630  58429.495046 -0.255205   \n",
       "ZTF18adalccf   AGN       True  515.679259  58476.510683  0.021013   \n",
       "ZTF18aaylgug   AGN       True  728.001586  58281.220613  0.379831   \n",
       "ZTF18aajgqrw   AGN       True  197.657037  58464.544039  0.017357   \n",
       "\n",
       "              g_r_max_corr  g_r_mean  g_r_mean_corr       lastmjd    meandec  \\\n",
       "oid                                                                            \n",
       "ZTF18accnpgp      0.626401  0.032196       0.701160  58995.182778  55.628248   \n",
       "ZTF18aawpkkq      0.576135 -0.024065       0.659739  58995.184676  44.820142   \n",
       "ZTF18adalccf      0.525659  0.140650       0.619554  58992.189942  -2.422762   \n",
       "ZTF18aaylgug      0.529514  0.181889       0.572361  59009.222199  48.902704   \n",
       "ZTF18aajgqrw      0.533517  0.133734       0.588152  58662.201076  22.819116   \n",
       "\n",
       "              ...    mjdendhist  mjdstarthist  ncovhist  ndet  ndethist  \\\n",
       "oid           ...                                                         \n",
       "ZTF18accnpgp  ...  58995.182778  58425.476042       900    53       168   \n",
       "ZTF18aawpkkq  ...  58995.184676  58262.238669      1022    51       175   \n",
       "ZTF18adalccf  ...  58992.189942  58476.510683       178    63        62   \n",
       "ZTF18aaylgug  ...  59009.222199  58276.301644      1478   119       352   \n",
       "ZTF18aajgqrw  ...  58662.201076  58221.227500       360    43        57   \n",
       "\n",
       "             probability  sigmadec   sigmara  stellar     step_id_corr  \n",
       "oid                                                                     \n",
       "ZTF18accnpgp    0.978096  0.000049  0.000093    False  corr_bulk_0.0.1  \n",
       "ZTF18aawpkkq    0.972180  0.000057  0.000106    False  corr_bulk_0.0.1  \n",
       "ZTF18adalccf    0.972052  0.000048  0.000058    False  corr_bulk_0.0.1  \n",
       "ZTF18aaylgug    0.968156  0.000048  0.000064    False  corr_bulk_0.0.1  \n",
       "ZTF18aajgqrw    0.968156  0.000059  0.000063    False  corr_bulk_0.0.1  \n",
       "\n",
       "[5 rows x 21 columns]"
      ]
     },
     "execution_count": 24,
     "metadata": {},
     "output_type": "execute_result"
    }
   ],
   "source": [
    "min_firstmjd = Time(\"2017-11-01T00:00:00\", format=\"isot\", scale=\"utc\").mjd\n",
    "\n",
    "AGNs = client.query_objects(classifier=\"lc_classifier\",\n",
    "                           class_name=\"AGN\", \n",
    "                           probability=0.6,\n",
    "                           ndet=[30, 200],\n",
    "                           order_by=\"probability\",\n",
    "                           order_mode=\"DESC\",\n",
    "                           first_mjd=[min_firstmjd, None],\n",
    "                           page_size=3000, format='pandas')\n",
    "print(AGNs.shape)\n",
    "AGNs.set_index(\"oid\", inplace=True)\n",
    "AGNs.head()"
   ]
  },
  {
   "cell_type": "code",
   "execution_count": 25,
   "metadata": {},
   "outputs": [
    {
     "name": "stdout",
     "output_type": "stream",
     "text": [
      "(3000, 22)\n"
     ]
    },
    {
     "data": {
      "text/html": [
       "<div>\n",
       "<style scoped>\n",
       "    .dataframe tbody tr th:only-of-type {\n",
       "        vertical-align: middle;\n",
       "    }\n",
       "\n",
       "    .dataframe tbody tr th {\n",
       "        vertical-align: top;\n",
       "    }\n",
       "\n",
       "    .dataframe thead th {\n",
       "        text-align: right;\n",
       "    }\n",
       "</style>\n",
       "<table border=\"1\" class=\"dataframe\">\n",
       "  <thead>\n",
       "    <tr style=\"text-align: right;\">\n",
       "      <th></th>\n",
       "      <th>class</th>\n",
       "      <th>corrected</th>\n",
       "      <th>deltajd</th>\n",
       "      <th>firstmjd</th>\n",
       "      <th>g_r_max</th>\n",
       "      <th>g_r_max_corr</th>\n",
       "      <th>g_r_mean</th>\n",
       "      <th>g_r_mean_corr</th>\n",
       "      <th>lastmjd</th>\n",
       "      <th>meandec</th>\n",
       "      <th>...</th>\n",
       "      <th>mjdendhist</th>\n",
       "      <th>mjdstarthist</th>\n",
       "      <th>ncovhist</th>\n",
       "      <th>ndet</th>\n",
       "      <th>ndethist</th>\n",
       "      <th>probability</th>\n",
       "      <th>sigmadec</th>\n",
       "      <th>sigmara</th>\n",
       "      <th>stellar</th>\n",
       "      <th>step_id_corr</th>\n",
       "    </tr>\n",
       "    <tr>\n",
       "      <th>oid</th>\n",
       "      <th></th>\n",
       "      <th></th>\n",
       "      <th></th>\n",
       "      <th></th>\n",
       "      <th></th>\n",
       "      <th></th>\n",
       "      <th></th>\n",
       "      <th></th>\n",
       "      <th></th>\n",
       "      <th></th>\n",
       "      <th></th>\n",
       "      <th></th>\n",
       "      <th></th>\n",
       "      <th></th>\n",
       "      <th></th>\n",
       "      <th></th>\n",
       "      <th></th>\n",
       "      <th></th>\n",
       "      <th></th>\n",
       "      <th></th>\n",
       "      <th></th>\n",
       "    </tr>\n",
       "  </thead>\n",
       "  <tbody>\n",
       "    <tr>\n",
       "      <th>ZTF19aaskchn</th>\n",
       "      <td>QSO</td>\n",
       "      <td>True</td>\n",
       "      <td>61.810324</td>\n",
       "      <td>58846.515775</td>\n",
       "      <td>-0.097769</td>\n",
       "      <td>0.213329</td>\n",
       "      <td>-0.145576</td>\n",
       "      <td>0.235967</td>\n",
       "      <td>58908.326100</td>\n",
       "      <td>67.983176</td>\n",
       "      <td>...</td>\n",
       "      <td>58908.326100</td>\n",
       "      <td>58540.367431</td>\n",
       "      <td>868</td>\n",
       "      <td>30</td>\n",
       "      <td>83</td>\n",
       "      <td>0.990000</td>\n",
       "      <td>0.000051</td>\n",
       "      <td>0.000135</td>\n",
       "      <td>True</td>\n",
       "      <td>corr_bulk_0.0.1</td>\n",
       "    </tr>\n",
       "    <tr>\n",
       "      <th>ZTF19aaapkad</th>\n",
       "      <td>QSO</td>\n",
       "      <td>True</td>\n",
       "      <td>218.682859</td>\n",
       "      <td>58472.535312</td>\n",
       "      <td>-0.091389</td>\n",
       "      <td>0.120424</td>\n",
       "      <td>0.022774</td>\n",
       "      <td>0.122190</td>\n",
       "      <td>58691.218171</td>\n",
       "      <td>44.931866</td>\n",
       "      <td>...</td>\n",
       "      <td>58691.218171</td>\n",
       "      <td>58472.535312</td>\n",
       "      <td>1172</td>\n",
       "      <td>36</td>\n",
       "      <td>173</td>\n",
       "      <td>0.988000</td>\n",
       "      <td>0.000034</td>\n",
       "      <td>0.000101</td>\n",
       "      <td>True</td>\n",
       "      <td>corr_bulk_0.0.1</td>\n",
       "    </tr>\n",
       "    <tr>\n",
       "      <th>ZTF20aavcypm</th>\n",
       "      <td>QSO</td>\n",
       "      <td>True</td>\n",
       "      <td>60.772153</td>\n",
       "      <td>58936.454190</td>\n",
       "      <td>0.064699</td>\n",
       "      <td>0.259524</td>\n",
       "      <td>-0.015862</td>\n",
       "      <td>0.260349</td>\n",
       "      <td>58997.226343</td>\n",
       "      <td>34.826662</td>\n",
       "      <td>...</td>\n",
       "      <td>58997.226343</td>\n",
       "      <td>58556.442616</td>\n",
       "      <td>1341</td>\n",
       "      <td>34</td>\n",
       "      <td>85</td>\n",
       "      <td>0.986024</td>\n",
       "      <td>0.000031</td>\n",
       "      <td>0.000082</td>\n",
       "      <td>True</td>\n",
       "      <td>corr_bulk_0.0.1</td>\n",
       "    </tr>\n",
       "    <tr>\n",
       "      <th>ZTF19adajwhk</th>\n",
       "      <td>QSO</td>\n",
       "      <td>True</td>\n",
       "      <td>140.665532</td>\n",
       "      <td>58827.545035</td>\n",
       "      <td>-0.042704</td>\n",
       "      <td>0.145091</td>\n",
       "      <td>-0.024273</td>\n",
       "      <td>0.162666</td>\n",
       "      <td>58968.210567</td>\n",
       "      <td>22.637317</td>\n",
       "      <td>...</td>\n",
       "      <td>58968.210567</td>\n",
       "      <td>58575.274595</td>\n",
       "      <td>299</td>\n",
       "      <td>32</td>\n",
       "      <td>52</td>\n",
       "      <td>0.986000</td>\n",
       "      <td>0.000065</td>\n",
       "      <td>0.000103</td>\n",
       "      <td>True</td>\n",
       "      <td>corr_bulk_0.0.1</td>\n",
       "    </tr>\n",
       "    <tr>\n",
       "      <th>ZTF20aaersol</th>\n",
       "      <td>QSO</td>\n",
       "      <td>True</td>\n",
       "      <td>146.735532</td>\n",
       "      <td>58850.550324</td>\n",
       "      <td>0.059856</td>\n",
       "      <td>0.196813</td>\n",
       "      <td>-0.023230</td>\n",
       "      <td>0.186633</td>\n",
       "      <td>58997.285856</td>\n",
       "      <td>57.706782</td>\n",
       "      <td>...</td>\n",
       "      <td>58997.285856</td>\n",
       "      <td>58850.550324</td>\n",
       "      <td>1625</td>\n",
       "      <td>52</td>\n",
       "      <td>251</td>\n",
       "      <td>0.986000</td>\n",
       "      <td>0.000060</td>\n",
       "      <td>0.000160</td>\n",
       "      <td>True</td>\n",
       "      <td>corr_bulk_0.0.1</td>\n",
       "    </tr>\n",
       "  </tbody>\n",
       "</table>\n",
       "<p>5 rows × 21 columns</p>\n",
       "</div>"
      ],
      "text/plain": [
       "             class  corrected     deltajd      firstmjd   g_r_max  \\\n",
       "oid                                                                 \n",
       "ZTF19aaskchn   QSO       True   61.810324  58846.515775 -0.097769   \n",
       "ZTF19aaapkad   QSO       True  218.682859  58472.535312 -0.091389   \n",
       "ZTF20aavcypm   QSO       True   60.772153  58936.454190  0.064699   \n",
       "ZTF19adajwhk   QSO       True  140.665532  58827.545035 -0.042704   \n",
       "ZTF20aaersol   QSO       True  146.735532  58850.550324  0.059856   \n",
       "\n",
       "              g_r_max_corr  g_r_mean  g_r_mean_corr       lastmjd    meandec  \\\n",
       "oid                                                                            \n",
       "ZTF19aaskchn      0.213329 -0.145576       0.235967  58908.326100  67.983176   \n",
       "ZTF19aaapkad      0.120424  0.022774       0.122190  58691.218171  44.931866   \n",
       "ZTF20aavcypm      0.259524 -0.015862       0.260349  58997.226343  34.826662   \n",
       "ZTF19adajwhk      0.145091 -0.024273       0.162666  58968.210567  22.637317   \n",
       "ZTF20aaersol      0.196813 -0.023230       0.186633  58997.285856  57.706782   \n",
       "\n",
       "              ...    mjdendhist  mjdstarthist  ncovhist  ndet  ndethist  \\\n",
       "oid           ...                                                         \n",
       "ZTF19aaskchn  ...  58908.326100  58540.367431       868    30        83   \n",
       "ZTF19aaapkad  ...  58691.218171  58472.535312      1172    36       173   \n",
       "ZTF20aavcypm  ...  58997.226343  58556.442616      1341    34        85   \n",
       "ZTF19adajwhk  ...  58968.210567  58575.274595       299    32        52   \n",
       "ZTF20aaersol  ...  58997.285856  58850.550324      1625    52       251   \n",
       "\n",
       "             probability  sigmadec   sigmara  stellar     step_id_corr  \n",
       "oid                                                                     \n",
       "ZTF19aaskchn    0.990000  0.000051  0.000135     True  corr_bulk_0.0.1  \n",
       "ZTF19aaapkad    0.988000  0.000034  0.000101     True  corr_bulk_0.0.1  \n",
       "ZTF20aavcypm    0.986024  0.000031  0.000082     True  corr_bulk_0.0.1  \n",
       "ZTF19adajwhk    0.986000  0.000065  0.000103     True  corr_bulk_0.0.1  \n",
       "ZTF20aaersol    0.986000  0.000060  0.000160     True  corr_bulk_0.0.1  \n",
       "\n",
       "[5 rows x 21 columns]"
      ]
     },
     "execution_count": 25,
     "metadata": {},
     "output_type": "execute_result"
    }
   ],
   "source": [
    "QSOs = client.query_objects(classifier=\"lc_classifier\",\n",
    "                           class_name=\"QSO\", \n",
    "                           probability=0.6,\n",
    "                           ndet=[30, 200],\n",
    "                           order_by=\"probability\",\n",
    "                           order_mode=\"DESC\",\n",
    "                           first_mjd=[min_firstmjd, None],\n",
    "                           page_size=3000, format='pandas')\n",
    "print(QSOs.shape)\n",
    "QSOs.set_index(\"oid\", inplace=True)\n",
    "QSOs.head()"
   ]
  },
  {
   "cell_type": "markdown",
   "metadata": {},
   "source": [
    "Here you can see the fields available in the dataframe"
   ]
  },
  {
   "cell_type": "code",
   "execution_count": 26,
   "metadata": {},
   "outputs": [
    {
     "data": {
      "text/plain": [
       "'class, corrected, deltajd, firstmjd, g_r_max, g_r_max_corr, g_r_mean, g_r_mean_corr, lastmjd, meandec, meanra, mjdendhist, mjdstarthist, ncovhist, ndet, ndethist, probability, sigmadec, sigmara, stellar, step_id_corr'"
      ]
     },
     "execution_count": 26,
     "metadata": {},
     "output_type": "execute_result"
    }
   ],
   "source": [
    "\", \".join(list(AGNs))"
   ]
  },
  {
   "cell_type": "markdown",
   "metadata": {},
   "source": [
    "This table contains the unique object identifier `oid` as index, the classification class `class`, whether its light curve was corrected `corrected`, the light curve length `deltjd`, the time of first detection `firstmjd`, the g-r color at maximum `g_r_max`, the corrected g-r color at maximum `g_r_max_corr`, the mean g-r color `g_r_mean`, the corrected mean g-r color `g_r_mean_corr`, the time of last detection `lastmjd`, the mean declination `meandec`, the mean right ascension `meanra`, the latest time of a raw SNR$\\sim 3$ detection `mjdendhist`, the earliest time of a raw SNR$\\sim 3$ detection `mjdstarthist`, the number of times the candidate fell inside on a ZTF observation `ncovhist`, the number of detections `ndet`, the number of raw SNR$\\sim 3$ detection `ndethist`, the classification probability `probability`, the declination standard deviation `sigmadec`, the right ascension standard deviation `sigmara`, whether the object is likely stellar `stellar`, and the version of the preprocessing step `step_id_corr`."
   ]
  },
  {
   "cell_type": "markdown",
   "metadata": {},
   "source": [
    "Now we show the corrected mean g-r color `g_r_mean_corr` distribution of AGNs and QSOs:"
   ]
  },
  {
   "cell_type": "code",
   "execution_count": 27,
   "metadata": {
    "scrolled": true
   },
   "outputs": [
    {
     "data": {
      "text/plain": [
       "<matplotlib.legend.Legend at 0x1a33256b50>"
      ]
     },
     "execution_count": 27,
     "metadata": {},
     "output_type": "execute_result"
    },
    {
     "data": {
      "image/png": "[encoded data removed]",
      "text/plain": [
       "<Figure size 432x288 with 1 Axes>"
      ]
     },
     "metadata": {
      "needs_background": "light"
     },
     "output_type": "display_data"
    }
   ],
   "source": [
    "fig, ax = plt.subplots()\n",
    "bins = np.linspace(-0.3,1.5,30)\n",
    "ax.hist(AGNs.g_r_mean_corr,bins = bins, lw=2, histtype='step', color = \"firebrick\", label = \"AGN candidates\")\n",
    "ax.hist(QSOs.g_r_mean_corr, bins=bins, lw=2, histtype='step', color = \"royalblue\", label = \"QSO candidates\")\n",
    "ax.set_xlabel(r\"($g-r$)_mean_corr\")\n",
    "plt.legend()"
   ]
  },
  {
   "cell_type": "markdown",
   "metadata": {},
   "source": [
    "And the mean g-r color `g_r_mean` (i.e., measured from the difference images) distribution of AGNs and QSOs:"
   ]
  },
  {
   "cell_type": "code",
   "execution_count": 28,
   "metadata": {
    "scrolled": true
   },
   "outputs": [
    {
     "data": {
      "text/plain": [
       "<matplotlib.legend.Legend at 0x1a332ecc90>"
      ]
     },
     "execution_count": 28,
     "metadata": {},
     "output_type": "execute_result"
    },
    {
     "data": {
      "image/png": "[encoded data removed]",
      "text/plain": [
       "<Figure size 432x288 with 1 Axes>"
      ]
     },
     "metadata": {
      "needs_background": "light"
     },
     "output_type": "display_data"
    }
   ],
   "source": [
    "fig, ax = plt.subplots()\n",
    "bins = np.linspace(-0.3,1.5,30)\n",
    "ax.hist(AGNs.g_r_mean,bins = bins, lw=2, histtype='step', color = \"firebrick\", label = \"AGN candidates\")\n",
    "ax.hist(QSOs.g_r_mean, bins=bins, lw=2, histtype='step', color = \"royalblue\", label = \"QSO candidates\")\n",
    "ax.set_xlabel(r\"($g-r$)_mean_corr\")\n",
    "plt.legend()"
   ]
  },
  {
   "cell_type": "markdown",
   "metadata": {},
   "source": [
    "Clearly AGNs are much redder than QSOs when we use the corrected magnitudes, while when we consider the difference magnitudes their color distributions are not so different."
   ]
  },
  {
   "cell_type": "markdown",
   "metadata": {},
   "source": [
    "Finall, we try some random AGNs from the selected sample. Some of them will have a redshift."
   ]
  },
  {
   "cell_type": "code",
   "execution_count": 29,
   "metadata": {},
   "outputs": [],
   "source": [
    "agn_sel = np.random.choice(AGNs.index, size=5)"
   ]
  },
  {
   "cell_type": "code",
   "execution_count": 30,
   "metadata": {},
   "outputs": [
    {
     "data": {
      "text/html": [
       "<i>Table masked=True length=1</i>\n",
       "<table id=\"table112355416720\" class=\"table-striped table-bordered table-condensed\">\n",
       "<thead><tr><th>No.</th><th>Object Name</th><th>RA</th><th>DEC</th><th>Type</th><th>Velocity</th><th>Redshift</th><th>Redshift Flag</th><th>Magnitude and Filter</th><th>Separation</th><th>References</th><th>Notes</th><th>Photometry Points</th><th>Positions</th><th>Redshift Points</th><th>Diameter Points</th><th>Associations</th></tr></thead>\n",
       "<thead><tr><th></th><th></th><th>degrees</th><th>degrees</th><th></th><th>km / s</th><th></th><th></th><th></th><th>arcmin</th><th></th><th></th><th></th><th></th><th></th><th></th><th></th></tr></thead>\n",
       "<thead><tr><th>int32</th><th>bytes30</th><th>float64</th><th>float64</th><th>object</th><th>float64</th><th>float64</th><th>object</th><th>object</th><th>float64</th><th>int32</th><th>int32</th><th>int32</th><th>int32</th><th>int32</th><th>int32</th><th>int32</th></tr></thead>\n",
       "<tr><td>1</td><td>WISEA J131256.76+163150.5</td><td>198.23649</td><td>16.53074</td><td>QSO</td><td>49346.0</td><td>0.1646</td><td></td><td>17.6g</td><td>0.002</td><td>17</td><td>0</td><td>27</td><td>8</td><td>5</td><td>4</td><td>0</td></tr>\n",
       "</table>"
      ],
      "text/plain": [
       "<Table masked=True length=1>\n",
       " No.         Object Name            RA     ... Diameter Points Associations\n",
       "                                 degrees   ...                             \n",
       "int32          bytes30           float64   ...      int32         int32    \n",
       "----- ------------------------- ---------- ... --------------- ------------\n",
       "    1 WISEA J131256.76+163150.5  198.23649 ...               4            0"
      ]
     },
     "metadata": {},
     "output_type": "display_data"
    },
    {
     "name": "stdout",
     "output_type": "stream",
     "text": [
      "Redshift found: 0.1646\n"
     ]
    },
    {
     "data": {
      "text/html": [
       "<a href='http://alerce.online/object/ZTF18abedmcn' target=\"_blank\"> ZTF18abedmcn <a>"
      ],
      "text/plain": [
       "<IPython.core.display.HTML object>"
      ]
     },
     "metadata": {},
     "output_type": "display_data"
    },
    {
     "data": {
      "text/html": [
       "\n",
       "        <div>ZTF oid: ZTF18abedmcn, candid: 1092547530015015006</div>\n",
       "        <div>&emsp;&emsp;&emsp;&emsp;&emsp;\n",
       "        Science\n",
       "        &emsp;&emsp;&emsp;&emsp;&emsp;&emsp;&emsp;&emsp;&emsp;&emsp;&emsp;&emsp;\n",
       "        Template\n",
       "        &emsp;&emsp;&emsp;&emsp;&emsp;&emsp;&emsp;&emsp;&emsp;&emsp;&emsp;&emsp;\n",
       "        Difference\n",
       "        <div class=\"container\">\n",
       "        <div style=\"float:left;width:20%\"><img src=\"http://avro.alerce.online/get_stamp?oid=ZTF18abedmcn&candid=1092547530015015006&type=science&format=png\"></div>\n",
       "        <div style=\"float:left;width:20%\"><img src=\"http://avro.alerce.online/get_stamp?oid=ZTF18abedmcn&candid=1092547530015015006&type=template&format=png\"></div>\n",
       "        <div style=\"float:left;width:20%\"><img src=\"http://avro.alerce.online/get_stamp?oid=ZTF18abedmcn&candid=1092547530015015006&type=difference&format=png\"></div>\n",
       "        </div>\n",
       "        "
      ],
      "text/plain": [
       "<IPython.core.display.HTML object>"
      ]
     },
     "metadata": {},
     "output_type": "display_data"
    },
    {
     "data": {
      "image/png": "[encoded data removed]",
      "text/plain": [
       "<Figure size 1008x576 with 1 Axes>"
      ]
     },
     "metadata": {
      "needs_background": "light"
     },
     "output_type": "display_data"
    },
    {
     "data": {
      "image/png": "[encoded data removed]",
      "text/plain": [
       "<Figure size 1008x576 with 1 Axes>"
      ]
     },
     "metadata": {
      "needs_background": "light"
     },
     "output_type": "display_data"
    }
   ],
   "source": [
    "results = getLCdata(agn_sel[0], doLC=True, doext=True, dostamp=True, doNED=True, doredshift=True)\n"
   ]
  },
  {
   "cell_type": "code",
   "execution_count": 31,
   "metadata": {},
   "outputs": [
    {
     "data": {
      "text/html": [
       "<i>Table masked=True length=1</i>\n",
       "<table id=\"table4534705296\" class=\"table-striped table-bordered table-condensed\">\n",
       "<thead><tr><th>No.</th><th>Object Name</th><th>RA</th><th>DEC</th><th>Type</th><th>Velocity</th><th>Redshift</th><th>Redshift Flag</th><th>Magnitude and Filter</th><th>Separation</th><th>References</th><th>Notes</th><th>Photometry Points</th><th>Positions</th><th>Redshift Points</th><th>Diameter Points</th><th>Associations</th></tr></thead>\n",
       "<thead><tr><th></th><th></th><th>degrees</th><th>degrees</th><th></th><th>km / s</th><th></th><th></th><th></th><th>arcmin</th><th></th><th></th><th></th><th></th><th></th><th></th><th></th></tr></thead>\n",
       "<thead><tr><th>int32</th><th>bytes30</th><th>float64</th><th>float64</th><th>object</th><th>float64</th><th>float64</th><th>object</th><th>object</th><th>float64</th><th>int32</th><th>int32</th><th>int32</th><th>int32</th><th>int32</th><th>int32</th><th>int32</th></tr></thead>\n",
       "<tr><td>1</td><td>WISEA J115538.75+534055.0</td><td>178.91145</td><td>53.68195</td><td>QSO</td><td>63906.0</td><td>0.213167</td><td></td><td>18.5g</td><td>0.002</td><td>16</td><td>0</td><td>54</td><td>7</td><td>4</td><td>8</td><td>0</td></tr>\n",
       "</table>"
      ],
      "text/plain": [
       "<Table masked=True length=1>\n",
       " No.         Object Name            RA     ... Diameter Points Associations\n",
       "                                 degrees   ...                             \n",
       "int32          bytes30           float64   ...      int32         int32    \n",
       "----- ------------------------- ---------- ... --------------- ------------\n",
       "    1 WISEA J115538.75+534055.0  178.91145 ...               8            0"
      ]
     },
     "metadata": {},
     "output_type": "display_data"
    },
    {
     "name": "stdout",
     "output_type": "stream",
     "text": [
      "Redshift found: 0.213167\n"
     ]
    },
    {
     "data": {
      "text/html": [
       "<a href='http://alerce.online/object/ZTF18aceyxwd' target=\"_blank\"> ZTF18aceyxwd <a>"
      ],
      "text/plain": [
       "<IPython.core.display.HTML object>"
      ]
     },
     "metadata": {},
     "output_type": "display_data"
    },
    {
     "data": {
      "text/html": [
       "\n",
       "        <div>ZTF oid: ZTF18aceyxwd, candid: 1082556282715015008</div>\n",
       "        <div>&emsp;&emsp;&emsp;&emsp;&emsp;\n",
       "        Science\n",
       "        &emsp;&emsp;&emsp;&emsp;&emsp;&emsp;&emsp;&emsp;&emsp;&emsp;&emsp;&emsp;\n",
       "        Template\n",
       "        &emsp;&emsp;&emsp;&emsp;&emsp;&emsp;&emsp;&emsp;&emsp;&emsp;&emsp;&emsp;\n",
       "        Difference\n",
       "        <div class=\"container\">\n",
       "        <div style=\"float:left;width:20%\"><img src=\"http://avro.alerce.online/get_stamp?oid=ZTF18aceyxwd&candid=1082556282715015008&type=science&format=png\"></div>\n",
       "        <div style=\"float:left;width:20%\"><img src=\"http://avro.alerce.online/get_stamp?oid=ZTF18aceyxwd&candid=1082556282715015008&type=template&format=png\"></div>\n",
       "        <div style=\"float:left;width:20%\"><img src=\"http://avro.alerce.online/get_stamp?oid=ZTF18aceyxwd&candid=1082556282715015008&type=difference&format=png\"></div>\n",
       "        </div>\n",
       "        "
      ],
      "text/plain": [
       "<IPython.core.display.HTML object>"
      ]
     },
     "metadata": {},
     "output_type": "display_data"
    },
    {
     "data": {
      "image/png": "[encoded data removed]",
      "text/plain": [
       "<Figure size 1008x576 with 1 Axes>"
      ]
     },
     "metadata": {
      "needs_background": "light"
     },
     "output_type": "display_data"
    },
    {
     "data": {
      "image/png": "[encoded data removed]",
      "text/plain": [
       "<Figure size 1008x576 with 1 Axes>"
      ]
     },
     "metadata": {
      "needs_background": "light"
     },
     "output_type": "display_data"
    }
   ],
   "source": [
    "results = getLCdata(agn_sel[1], doLC=True, doext=True, dostamp=True, doNED=True, doredshift=True)\n"
   ]
  },
  {
   "cell_type": "code",
   "execution_count": 32,
   "metadata": {},
   "outputs": [
    {
     "data": {
      "text/html": [
       "<i>Table masked=True length=2</i>\n",
       "<table id=\"table112355884304\" class=\"table-striped table-bordered table-condensed\">\n",
       "<thead><tr><th>No.</th><th>Object Name</th><th>RA</th><th>DEC</th><th>Type</th><th>Velocity</th><th>Redshift</th><th>Redshift Flag</th><th>Magnitude and Filter</th><th>Separation</th><th>References</th><th>Notes</th><th>Photometry Points</th><th>Positions</th><th>Redshift Points</th><th>Diameter Points</th><th>Associations</th></tr></thead>\n",
       "<thead><tr><th></th><th></th><th>degrees</th><th>degrees</th><th></th><th>km / s</th><th></th><th></th><th></th><th>arcmin</th><th></th><th></th><th></th><th></th><th></th><th></th><th></th></tr></thead>\n",
       "<thead><tr><th>int32</th><th>bytes30</th><th>float64</th><th>float64</th><th>object</th><th>float64</th><th>float64</th><th>object</th><th>object</th><th>float64</th><th>int32</th><th>int32</th><th>int32</th><th>int32</th><th>int32</th><th>int32</th><th>int32</th></tr></thead>\n",
       "<tr><td>1</td><td>WISEA J101145.28+224857.7</td><td>152.93869</td><td>22.81606</td><td>G</td><td>57983.0</td><td>0.19341</td><td></td><td>18.8g</td><td>0.002</td><td>6</td><td>0</td><td>33</td><td>5</td><td>5</td><td>4</td><td>0</td></tr>\n",
       "<tr><td>2</td><td>GALEXASC J101145.32+224858.4</td><td>152.93887</td><td>22.81622</td><td>UvS</td><td>--</td><td>--</td><td></td><td></td><td>0.012</td><td>0</td><td>0</td><td>8</td><td>2</td><td>0</td><td>0</td><td>0</td></tr>\n",
       "</table>"
      ],
      "text/plain": [
       "<Table masked=True length=2>\n",
       " No.          Object Name              RA     ... Diameter Points Associations\n",
       "                                    degrees   ...                             \n",
       "int32           bytes30             float64   ...      int32         int32    \n",
       "----- ---------------------------- ---------- ... --------------- ------------\n",
       "    1    WISEA J101145.28+224857.7  152.93869 ...               4            0\n",
       "    2 GALEXASC J101145.32+224858.4  152.93887 ...               0            0"
      ]
     },
     "metadata": {},
     "output_type": "display_data"
    },
    {
     "name": "stdout",
     "output_type": "stream",
     "text": [
      "Redshift found: 0.19341\n"
     ]
    },
    {
     "data": {
      "text/html": [
       "<a href='http://alerce.online/object/ZTF18acqzhpw' target=\"_blank\"> ZTF18acqzhpw <a>"
      ],
      "text/plain": [
       "<IPython.core.display.HTML object>"
      ]
     },
     "metadata": {},
     "output_type": "display_data"
    },
    {
     "data": {
      "text/html": [
       "\n",
       "        <div>ZTF oid: ZTF18acqzhpw, candid: 710469030715015012</div>\n",
       "        <div>&emsp;&emsp;&emsp;&emsp;&emsp;\n",
       "        Science\n",
       "        &emsp;&emsp;&emsp;&emsp;&emsp;&emsp;&emsp;&emsp;&emsp;&emsp;&emsp;&emsp;\n",
       "        Template\n",
       "        &emsp;&emsp;&emsp;&emsp;&emsp;&emsp;&emsp;&emsp;&emsp;&emsp;&emsp;&emsp;\n",
       "        Difference\n",
       "        <div class=\"container\">\n",
       "        <div style=\"float:left;width:20%\"><img src=\"http://avro.alerce.online/get_stamp?oid=ZTF18acqzhpw&candid=710469030715015012&type=science&format=png\"></div>\n",
       "        <div style=\"float:left;width:20%\"><img src=\"http://avro.alerce.online/get_stamp?oid=ZTF18acqzhpw&candid=710469030715015012&type=template&format=png\"></div>\n",
       "        <div style=\"float:left;width:20%\"><img src=\"http://avro.alerce.online/get_stamp?oid=ZTF18acqzhpw&candid=710469030715015012&type=difference&format=png\"></div>\n",
       "        </div>\n",
       "        "
      ],
      "text/plain": [
       "<IPython.core.display.HTML object>"
      ]
     },
     "metadata": {},
     "output_type": "display_data"
    },
    {
     "data": {
      "image/png": "[encoded data removed]",
      "text/plain": [
       "<Figure size 1008x576 with 1 Axes>"
      ]
     },
     "metadata": {
      "needs_background": "light"
     },
     "output_type": "display_data"
    },
    {
     "data": {
      "image/png": "[encoded data removed]",
      "text/plain": [
       "<Figure size 1008x576 with 1 Axes>"
      ]
     },
     "metadata": {
      "needs_background": "light"
     },
     "output_type": "display_data"
    }
   ],
   "source": [
    "results = getLCdata(agn_sel[2], doLC=True, doext=True, dostamp=True, doNED=True, doredshift=True)\n"
   ]
  },
  {
   "cell_type": "code",
   "execution_count": 33,
   "metadata": {},
   "outputs": [
    {
     "data": {
      "text/html": [
       "<i>Table masked=True length=1</i>\n",
       "<table id=\"table112362944272\" class=\"table-striped table-bordered table-condensed\">\n",
       "<thead><tr><th>No.</th><th>Object Name</th><th>RA</th><th>DEC</th><th>Type</th><th>Velocity</th><th>Redshift</th><th>Redshift Flag</th><th>Magnitude and Filter</th><th>Separation</th><th>References</th><th>Notes</th><th>Photometry Points</th><th>Positions</th><th>Redshift Points</th><th>Diameter Points</th><th>Associations</th></tr></thead>\n",
       "<thead><tr><th></th><th></th><th>degrees</th><th>degrees</th><th></th><th>km / s</th><th></th><th></th><th></th><th>arcmin</th><th></th><th></th><th></th><th></th><th></th><th></th><th></th></tr></thead>\n",
       "<thead><tr><th>int32</th><th>bytes30</th><th>float64</th><th>float64</th><th>object</th><th>float64</th><th>float64</th><th>object</th><th>object</th><th>float64</th><th>int32</th><th>int32</th><th>int32</th><th>int32</th><th>int32</th><th>int32</th><th>int32</th></tr></thead>\n",
       "<tr><td>1</td><td>WISEA J152832.41+285751.2</td><td>232.13504</td><td>28.96422</td><td>G</td><td>19162.0</td><td>0.063917</td><td></td><td>16.4g</td><td>0.004</td><td>22</td><td>0</td><td>44</td><td>10</td><td>10</td><td>6</td><td>0</td></tr>\n",
       "</table>"
      ],
      "text/plain": [
       "<Table masked=True length=1>\n",
       " No.         Object Name            RA     ... Diameter Points Associations\n",
       "                                 degrees   ...                             \n",
       "int32          bytes30           float64   ...      int32         int32    \n",
       "----- ------------------------- ---------- ... --------------- ------------\n",
       "    1 WISEA J152832.41+285751.2  232.13504 ...               6            0"
      ]
     },
     "metadata": {},
     "output_type": "display_data"
    },
    {
     "name": "stdout",
     "output_type": "stream",
     "text": [
      "Redshift found: 0.063917\n"
     ]
    },
    {
     "data": {
      "text/html": [
       "<a href='http://alerce.online/object/ZTF18aazhwfb' target=\"_blank\"> ZTF18aazhwfb <a>"
      ],
      "text/plain": [
       "<IPython.core.display.HTML object>"
      ]
     },
     "metadata": {},
     "output_type": "display_data"
    },
    {
     "data": {
      "text/html": [
       "\n",
       "        <div>ZTF oid: ZTF18aazhwfb, candid: 1006144165815015000</div>\n",
       "        <div>&emsp;&emsp;&emsp;&emsp;&emsp;\n",
       "        Science\n",
       "        &emsp;&emsp;&emsp;&emsp;&emsp;&emsp;&emsp;&emsp;&emsp;&emsp;&emsp;&emsp;\n",
       "        Template\n",
       "        &emsp;&emsp;&emsp;&emsp;&emsp;&emsp;&emsp;&emsp;&emsp;&emsp;&emsp;&emsp;\n",
       "        Difference\n",
       "        <div class=\"container\">\n",
       "        <div style=\"float:left;width:20%\"><img src=\"http://avro.alerce.online/get_stamp?oid=ZTF18aazhwfb&candid=1006144165815015000&type=science&format=png\"></div>\n",
       "        <div style=\"float:left;width:20%\"><img src=\"http://avro.alerce.online/get_stamp?oid=ZTF18aazhwfb&candid=1006144165815015000&type=template&format=png\"></div>\n",
       "        <div style=\"float:left;width:20%\"><img src=\"http://avro.alerce.online/get_stamp?oid=ZTF18aazhwfb&candid=1006144165815015000&type=difference&format=png\"></div>\n",
       "        </div>\n",
       "        "
      ],
      "text/plain": [
       "<IPython.core.display.HTML object>"
      ]
     },
     "metadata": {},
     "output_type": "display_data"
    },
    {
     "data": {
      "image/png": "[encoded data removed]",
      "text/plain": [
       "<Figure size 1008x576 with 1 Axes>"
      ]
     },
     "metadata": {
      "needs_background": "light"
     },
     "output_type": "display_data"
    },
    {
     "data": {
      "image/png": "[encoded data removed]",
      "text/plain": [
       "<Figure size 1008x576 with 1 Axes>"
      ]
     },
     "metadata": {
      "needs_background": "light"
     },
     "output_type": "display_data"
    }
   ],
   "source": [
    "results = getLCdata(agn_sel[3], doLC=True, doext=True, dostamp=True, doNED=True, doredshift=True)\n",
    "\n"
   ]
  },
  {
   "cell_type": "code",
   "execution_count": 34,
   "metadata": {},
   "outputs": [
    {
     "data": {
      "text/html": [
       "<i>Table masked=True length=1</i>\n",
       "<table id=\"table112505255504\" class=\"table-striped table-bordered table-condensed\">\n",
       "<thead><tr><th>No.</th><th>Object Name</th><th>RA</th><th>DEC</th><th>Type</th><th>Velocity</th><th>Redshift</th><th>Redshift Flag</th><th>Magnitude and Filter</th><th>Separation</th><th>References</th><th>Notes</th><th>Photometry Points</th><th>Positions</th><th>Redshift Points</th><th>Diameter Points</th><th>Associations</th></tr></thead>\n",
       "<thead><tr><th></th><th></th><th>degrees</th><th>degrees</th><th></th><th>km / s</th><th></th><th></th><th></th><th>arcmin</th><th></th><th></th><th></th><th></th><th></th><th></th><th></th></tr></thead>\n",
       "<thead><tr><th>int32</th><th>bytes30</th><th>float64</th><th>float64</th><th>object</th><th>float64</th><th>float64</th><th>object</th><th>object</th><th>float64</th><th>int32</th><th>int32</th><th>int32</th><th>int32</th><th>int32</th><th>int32</th><th>int32</th></tr></thead>\n",
       "<tr><td>1</td><td>WISEA J002427.98+242511.6</td><td>6.11666</td><td>24.41998</td><td>UvS</td><td>--</td><td>--</td><td></td><td></td><td>0.008</td><td>0</td><td>0</td><td>22</td><td>3</td><td>0</td><td>0</td><td>0</td></tr>\n",
       "</table>"
      ],
      "text/plain": [
       "<Table masked=True length=1>\n",
       " No.         Object Name            RA     ... Diameter Points Associations\n",
       "                                 degrees   ...                             \n",
       "int32          bytes30           float64   ...      int32         int32    \n",
       "----- ------------------------- ---------- ... --------------- ------------\n",
       "    1 WISEA J002427.98+242511.6    6.11666 ...               0            0"
      ]
     },
     "metadata": {},
     "output_type": "display_data"
    },
    {
     "data": {
      "text/html": [
       "<a href='http://alerce.online/object/ZTF18abumawq' target=\"_blank\"> ZTF18abumawq <a>"
      ],
      "text/plain": [
       "<IPython.core.display.HTML object>"
      ]
     },
     "metadata": {},
     "output_type": "display_data"
    },
    {
     "data": {
      "text/html": [
       "\n",
       "        <div>ZTF oid: ZTF18abumawq, candid: 1006298683115010013</div>\n",
       "        <div>&emsp;&emsp;&emsp;&emsp;&emsp;\n",
       "        Science\n",
       "        &emsp;&emsp;&emsp;&emsp;&emsp;&emsp;&emsp;&emsp;&emsp;&emsp;&emsp;&emsp;\n",
       "        Template\n",
       "        &emsp;&emsp;&emsp;&emsp;&emsp;&emsp;&emsp;&emsp;&emsp;&emsp;&emsp;&emsp;\n",
       "        Difference\n",
       "        <div class=\"container\">\n",
       "        <div style=\"float:left;width:20%\"><img src=\"http://avro.alerce.online/get_stamp?oid=ZTF18abumawq&candid=1006298683115010013&type=science&format=png\"></div>\n",
       "        <div style=\"float:left;width:20%\"><img src=\"http://avro.alerce.online/get_stamp?oid=ZTF18abumawq&candid=1006298683115010013&type=template&format=png\"></div>\n",
       "        <div style=\"float:left;width:20%\"><img src=\"http://avro.alerce.online/get_stamp?oid=ZTF18abumawq&candid=1006298683115010013&type=difference&format=png\"></div>\n",
       "        </div>\n",
       "        "
      ],
      "text/plain": [
       "<IPython.core.display.HTML object>"
      ]
     },
     "metadata": {},
     "output_type": "display_data"
    },
    {
     "data": {
      "image/png": "[encoded data removed]",
      "text/plain": [
       "<Figure size 1008x576 with 1 Axes>"
      ]
     },
     "metadata": {
      "needs_background": "light"
     },
     "output_type": "display_data"
    }
   ],
   "source": [
    "results = getLCdata(agn_sel[4], doLC=True, doext=True, dostamp=True, doNED=True, doredshift=True)\n",
    "\n"
   ]
  },
  {
   "cell_type": "markdown",
   "metadata": {},
   "source": [
    "# Query many AGN candidates using a direct DB connection <a class=\"anchor\" id=\"sneiadb\"></a>"
   ]
  },
  {
   "cell_type": "markdown",
   "metadata": {},
   "source": [
    "The previous way of querying candidates is good for relatively simple queries. However, if we want to do more complex queries the best solution may be to connect directly to the DB. We show how to do this here."
   ]
  },
  {
   "cell_type": "markdown",
   "metadata": {},
   "source": [
    "First, you need to install and import pyscopg2"
   ]
  },
  {
   "cell_type": "code",
   "execution_count": 35,
   "metadata": {},
   "outputs": [],
   "source": [
    "#!pip install psycopg2-binary\n",
    "import psycopg2"
   ]
  },
  {
   "cell_type": "markdown",
   "metadata": {},
   "source": [
    "Then, you will need to use the read only credentials available in the repository"
   ]
  },
  {
   "cell_type": "code",
   "execution_count": 36,
   "metadata": {},
   "outputs": [],
   "source": [
    "import json\n",
    "credentials_file = \"../alercereaduser_v3.json\"\n",
    "with open(credentials_file) as jsonfile:\n",
    "    params = json.load(jsonfile)[\"params\"]"
   ]
  },
  {
   "cell_type": "markdown",
   "metadata": {},
   "source": [
    "Now we open a connection to the DB"
   ]
  },
  {
   "cell_type": "code",
   "execution_count": 37,
   "metadata": {},
   "outputs": [],
   "source": [
    "conn = psycopg2.connect(dbname=params['dbname'], user=params['user'], host=params['host'], password=params['password'])"
   ]
  },
  {
   "cell_type": "markdown",
   "metadata": {},
   "source": [
    "And we show all the available tables"
   ]
  },
  {
   "cell_type": "code",
   "execution_count": 38,
   "metadata": {},
   "outputs": [
    {
     "data": {
      "text/html": [
       "<div>\n",
       "<style scoped>\n",
       "    .dataframe tbody tr th:only-of-type {\n",
       "        vertical-align: middle;\n",
       "    }\n",
       "\n",
       "    .dataframe tbody tr th {\n",
       "        vertical-align: top;\n",
       "    }\n",
       "\n",
       "    .dataframe thead th {\n",
       "        text-align: right;\n",
       "    }\n",
       "</style>\n",
       "<table border=\"1\" class=\"dataframe\">\n",
       "  <thead>\n",
       "    <tr style=\"text-align: right;\">\n",
       "      <th></th>\n",
       "      <th>tablename</th>\n",
       "    </tr>\n",
       "  </thead>\n",
       "  <tbody>\n",
       "    <tr>\n",
       "      <th>13</th>\n",
       "      <td>allwise</td>\n",
       "    </tr>\n",
       "    <tr>\n",
       "      <th>11</th>\n",
       "      <td>dataquality</td>\n",
       "    </tr>\n",
       "    <tr>\n",
       "      <th>10</th>\n",
       "      <td>detection</td>\n",
       "    </tr>\n",
       "    <tr>\n",
       "      <th>3</th>\n",
       "      <td>feature</td>\n",
       "    </tr>\n",
       "    <tr>\n",
       "      <th>5</th>\n",
       "      <td>gaia_ztf</td>\n",
       "    </tr>\n",
       "    <tr>\n",
       "      <th>4</th>\n",
       "      <td>magstat</td>\n",
       "    </tr>\n",
       "    <tr>\n",
       "      <th>0</th>\n",
       "      <td>non_detection</td>\n",
       "    </tr>\n",
       "    <tr>\n",
       "      <th>1</th>\n",
       "      <td>object</td>\n",
       "    </tr>\n",
       "    <tr>\n",
       "      <th>8</th>\n",
       "      <td>pipeline</td>\n",
       "    </tr>\n",
       "    <tr>\n",
       "      <th>6</th>\n",
       "      <td>probability</td>\n",
       "    </tr>\n",
       "    <tr>\n",
       "      <th>12</th>\n",
       "      <td>ps1_ztf</td>\n",
       "    </tr>\n",
       "    <tr>\n",
       "      <th>14</th>\n",
       "      <td>reference</td>\n",
       "    </tr>\n",
       "    <tr>\n",
       "      <th>7</th>\n",
       "      <td>ss_ztf</td>\n",
       "    </tr>\n",
       "    <tr>\n",
       "      <th>9</th>\n",
       "      <td>step</td>\n",
       "    </tr>\n",
       "    <tr>\n",
       "      <th>2</th>\n",
       "      <td>xmatch</td>\n",
       "    </tr>\n",
       "  </tbody>\n",
       "</table>\n",
       "</div>"
      ],
      "text/plain": [
       "        tablename\n",
       "13        allwise\n",
       "11    dataquality\n",
       "10      detection\n",
       "3         feature\n",
       "5        gaia_ztf\n",
       "4         magstat\n",
       "0   non_detection\n",
       "1          object\n",
       "8        pipeline\n",
       "6     probability\n",
       "12        ps1_ztf\n",
       "14      reference\n",
       "7          ss_ztf\n",
       "9            step\n",
       "2          xmatch"
      ]
     },
     "execution_count": 38,
     "metadata": {},
     "output_type": "execute_result"
    }
   ],
   "source": [
    "query = \"select tablename from pg_tables where schemaname='public';\"\n",
    "tables = pd.read_sql_query(query, conn)\n",
    "tables.sort_values(by=\"tablename\")"
   ]
  },
  {
   "cell_type": "markdown",
   "metadata": {},
   "source": [
    "You can see all the tables used in the new version of our database. The most relevant tables are, moving from less to more aggregation:\n",
    "\n",
    "* `non_detection`: one row per non-detection per object, the limiting magnitudes\n",
    "* `detection`: one row per detection, light curves and other relevant time dependent information\n",
    "* `data_quality`: one row per detection, data quality related time dependent information\n",
    "* `magstat`: one row per object per filter, statistics per bandpass per object\n",
    "* `object`: one row per object, basic object statistics\n",
    "* `probability`: one row per object per classifier and class, the probabilities of every object\n",
    "* `reference`: one row per object per reference image, object statistics for every reference image used\n",
    "* `feature`: one row per object per feature, object computed features\n",
    "* `xmatch`: one row per object per external catalog, the table that points to the detailed xmatch tables\n",
    "* `allwise, ps1_ztf, gaia_ztf, ss_stf`: one row per object, xmatch tables"
   ]
  },
  {
   "cell_type": "markdown",
   "metadata": {},
   "source": [
    "For completeness, we now show all columns available in all tables!"
   ]
  },
  {
   "cell_type": "code",
   "execution_count": 39,
   "metadata": {},
   "outputs": [
    {
     "data": {
      "text/html": [
       "<div>\n",
       "<style scoped>\n",
       "    .dataframe tbody tr th:only-of-type {\n",
       "        vertical-align: middle;\n",
       "    }\n",
       "\n",
       "    .dataframe tbody tr th {\n",
       "        vertical-align: top;\n",
       "    }\n",
       "\n",
       "    .dataframe thead th {\n",
       "        text-align: right;\n",
       "    }\n",
       "</style>\n",
       "<table border=\"1\" class=\"dataframe\">\n",
       "  <thead>\n",
       "    <tr style=\"text-align: right;\">\n",
       "      <th></th>\n",
       "      <th>table</th>\n",
       "      <th>column_name</th>\n",
       "      <th>data_type</th>\n",
       "    </tr>\n",
       "  </thead>\n",
       "  <tbody>\n",
       "    <tr>\n",
       "      <th>0</th>\n",
       "      <td>allwise</td>\n",
       "      <td>k_msig_2mass</td>\n",
       "      <td>double precision</td>\n",
       "    </tr>\n",
       "    <tr>\n",
       "      <th>1</th>\n",
       "      <td>allwise</td>\n",
       "      <td>ra</td>\n",
       "      <td>double precision</td>\n",
       "    </tr>\n",
       "    <tr>\n",
       "      <th>2</th>\n",
       "      <td>allwise</td>\n",
       "      <td>dec</td>\n",
       "      <td>double precision</td>\n",
       "    </tr>\n",
       "    <tr>\n",
       "      <th>3</th>\n",
       "      <td>allwise</td>\n",
       "      <td>w1mpro</td>\n",
       "      <td>double precision</td>\n",
       "    </tr>\n",
       "    <tr>\n",
       "      <th>4</th>\n",
       "      <td>allwise</td>\n",
       "      <td>w2mpro</td>\n",
       "      <td>double precision</td>\n",
       "    </tr>\n",
       "    <tr>\n",
       "      <th>5</th>\n",
       "      <td>allwise</td>\n",
       "      <td>w3mpro</td>\n",
       "      <td>double precision</td>\n",
       "    </tr>\n",
       "    <tr>\n",
       "      <th>6</th>\n",
       "      <td>allwise</td>\n",
       "      <td>w4mpro</td>\n",
       "      <td>double precision</td>\n",
       "    </tr>\n",
       "    <tr>\n",
       "      <th>7</th>\n",
       "      <td>allwise</td>\n",
       "      <td>w1sigmpro</td>\n",
       "      <td>double precision</td>\n",
       "    </tr>\n",
       "    <tr>\n",
       "      <th>8</th>\n",
       "      <td>allwise</td>\n",
       "      <td>w2sigmpro</td>\n",
       "      <td>double precision</td>\n",
       "    </tr>\n",
       "    <tr>\n",
       "      <th>9</th>\n",
       "      <td>allwise</td>\n",
       "      <td>w3sigmpro</td>\n",
       "      <td>double precision</td>\n",
       "    </tr>\n",
       "    <tr>\n",
       "      <th>10</th>\n",
       "      <td>allwise</td>\n",
       "      <td>w4sigmpro</td>\n",
       "      <td>double precision</td>\n",
       "    </tr>\n",
       "    <tr>\n",
       "      <th>11</th>\n",
       "      <td>allwise</td>\n",
       "      <td>j_m_2mass</td>\n",
       "      <td>double precision</td>\n",
       "    </tr>\n",
       "    <tr>\n",
       "      <th>12</th>\n",
       "      <td>allwise</td>\n",
       "      <td>h_m_2mass</td>\n",
       "      <td>double precision</td>\n",
       "    </tr>\n",
       "    <tr>\n",
       "      <th>13</th>\n",
       "      <td>allwise</td>\n",
       "      <td>k_m_2mass</td>\n",
       "      <td>double precision</td>\n",
       "    </tr>\n",
       "    <tr>\n",
       "      <th>14</th>\n",
       "      <td>allwise</td>\n",
       "      <td>j_msig_2mass</td>\n",
       "      <td>double precision</td>\n",
       "    </tr>\n",
       "    <tr>\n",
       "      <th>15</th>\n",
       "      <td>allwise</td>\n",
       "      <td>h_msig_2mass</td>\n",
       "      <td>double precision</td>\n",
       "    </tr>\n",
       "    <tr>\n",
       "      <th>16</th>\n",
       "      <td>allwise</td>\n",
       "      <td>oid_catalog</td>\n",
       "      <td>character varying</td>\n",
       "    </tr>\n",
       "    <tr>\n",
       "      <th>0</th>\n",
       "      <td>dataquality</td>\n",
       "      <td>exptime</td>\n",
       "      <td>real</td>\n",
       "    </tr>\n",
       "    <tr>\n",
       "      <th>1</th>\n",
       "      <td>dataquality</td>\n",
       "      <td>candid</td>\n",
       "      <td>bigint</td>\n",
       "    </tr>\n",
       "    <tr>\n",
       "      <th>2</th>\n",
       "      <td>dataquality</td>\n",
       "      <td>fid</td>\n",
       "      <td>integer</td>\n",
       "    </tr>\n",
       "    <tr>\n",
       "      <th>3</th>\n",
       "      <td>dataquality</td>\n",
       "      <td>xpos</td>\n",
       "      <td>real</td>\n",
       "    </tr>\n",
       "    <tr>\n",
       "      <th>4</th>\n",
       "      <td>dataquality</td>\n",
       "      <td>ypos</td>\n",
       "      <td>real</td>\n",
       "    </tr>\n",
       "    <tr>\n",
       "      <th>5</th>\n",
       "      <td>dataquality</td>\n",
       "      <td>chipsf</td>\n",
       "      <td>real</td>\n",
       "    </tr>\n",
       "    <tr>\n",
       "      <th>6</th>\n",
       "      <td>dataquality</td>\n",
       "      <td>sky</td>\n",
       "      <td>real</td>\n",
       "    </tr>\n",
       "    <tr>\n",
       "      <th>7</th>\n",
       "      <td>dataquality</td>\n",
       "      <td>fwhm</td>\n",
       "      <td>real</td>\n",
       "    </tr>\n",
       "    <tr>\n",
       "      <th>8</th>\n",
       "      <td>dataquality</td>\n",
       "      <td>classtar</td>\n",
       "      <td>real</td>\n",
       "    </tr>\n",
       "    <tr>\n",
       "      <th>9</th>\n",
       "      <td>dataquality</td>\n",
       "      <td>mindtoedge</td>\n",
       "      <td>real</td>\n",
       "    </tr>\n",
       "    <tr>\n",
       "      <th>10</th>\n",
       "      <td>dataquality</td>\n",
       "      <td>seeratio</td>\n",
       "      <td>real</td>\n",
       "    </tr>\n",
       "    <tr>\n",
       "      <th>11</th>\n",
       "      <td>dataquality</td>\n",
       "      <td>aimage</td>\n",
       "      <td>real</td>\n",
       "    </tr>\n",
       "    <tr>\n",
       "      <th>12</th>\n",
       "      <td>dataquality</td>\n",
       "      <td>bimage</td>\n",
       "      <td>real</td>\n",
       "    </tr>\n",
       "    <tr>\n",
       "      <th>13</th>\n",
       "      <td>dataquality</td>\n",
       "      <td>aimagerat</td>\n",
       "      <td>real</td>\n",
       "    </tr>\n",
       "    <tr>\n",
       "      <th>14</th>\n",
       "      <td>dataquality</td>\n",
       "      <td>bimagerat</td>\n",
       "      <td>real</td>\n",
       "    </tr>\n",
       "    <tr>\n",
       "      <th>15</th>\n",
       "      <td>dataquality</td>\n",
       "      <td>nneg</td>\n",
       "      <td>integer</td>\n",
       "    </tr>\n",
       "    <tr>\n",
       "      <th>16</th>\n",
       "      <td>dataquality</td>\n",
       "      <td>nbad</td>\n",
       "      <td>integer</td>\n",
       "    </tr>\n",
       "    <tr>\n",
       "      <th>17</th>\n",
       "      <td>dataquality</td>\n",
       "      <td>sumrat</td>\n",
       "      <td>real</td>\n",
       "    </tr>\n",
       "    <tr>\n",
       "      <th>18</th>\n",
       "      <td>dataquality</td>\n",
       "      <td>scorr</td>\n",
       "      <td>double precision</td>\n",
       "    </tr>\n",
       "    <tr>\n",
       "      <th>19</th>\n",
       "      <td>dataquality</td>\n",
       "      <td>dsnrms</td>\n",
       "      <td>real</td>\n",
       "    </tr>\n",
       "    <tr>\n",
       "      <th>20</th>\n",
       "      <td>dataquality</td>\n",
       "      <td>ssnrms</td>\n",
       "      <td>real</td>\n",
       "    </tr>\n",
       "    <tr>\n",
       "      <th>21</th>\n",
       "      <td>dataquality</td>\n",
       "      <td>magzpsci</td>\n",
       "      <td>real</td>\n",
       "    </tr>\n",
       "    <tr>\n",
       "      <th>22</th>\n",
       "      <td>dataquality</td>\n",
       "      <td>magzpsciunc</td>\n",
       "      <td>real</td>\n",
       "    </tr>\n",
       "    <tr>\n",
       "      <th>23</th>\n",
       "      <td>dataquality</td>\n",
       "      <td>magzpscirms</td>\n",
       "      <td>real</td>\n",
       "    </tr>\n",
       "    <tr>\n",
       "      <th>24</th>\n",
       "      <td>dataquality</td>\n",
       "      <td>nmatches</td>\n",
       "      <td>integer</td>\n",
       "    </tr>\n",
       "    <tr>\n",
       "      <th>25</th>\n",
       "      <td>dataquality</td>\n",
       "      <td>clrcoeff</td>\n",
       "      <td>real</td>\n",
       "    </tr>\n",
       "    <tr>\n",
       "      <th>26</th>\n",
       "      <td>dataquality</td>\n",
       "      <td>clrcounc</td>\n",
       "      <td>real</td>\n",
       "    </tr>\n",
       "    <tr>\n",
       "      <th>27</th>\n",
       "      <td>dataquality</td>\n",
       "      <td>zpclrcov</td>\n",
       "      <td>real</td>\n",
       "    </tr>\n",
       "    <tr>\n",
       "      <th>28</th>\n",
       "      <td>dataquality</td>\n",
       "      <td>zpmed</td>\n",
       "      <td>real</td>\n",
       "    </tr>\n",
       "    <tr>\n",
       "      <th>29</th>\n",
       "      <td>dataquality</td>\n",
       "      <td>clrmed</td>\n",
       "      <td>real</td>\n",
       "    </tr>\n",
       "    <tr>\n",
       "      <th>30</th>\n",
       "      <td>dataquality</td>\n",
       "      <td>clrrms</td>\n",
       "      <td>real</td>\n",
       "    </tr>\n",
       "    <tr>\n",
       "      <th>31</th>\n",
       "      <td>dataquality</td>\n",
       "      <td>oid</td>\n",
       "      <td>character varying</td>\n",
       "    </tr>\n",
       "    <tr>\n",
       "      <th>0</th>\n",
       "      <td>detection</td>\n",
       "      <td>dubious</td>\n",
       "      <td>boolean</td>\n",
       "    </tr>\n",
       "    <tr>\n",
       "      <th>1</th>\n",
       "      <td>detection</td>\n",
       "      <td>parent_candid</td>\n",
       "      <td>bigint</td>\n",
       "    </tr>\n",
       "    <tr>\n",
       "      <th>2</th>\n",
       "      <td>detection</td>\n",
       "      <td>has_stamp</td>\n",
       "      <td>boolean</td>\n",
       "    </tr>\n",
       "    <tr>\n",
       "      <th>3</th>\n",
       "      <td>detection</td>\n",
       "      <td>fid</td>\n",
       "      <td>integer</td>\n",
       "    </tr>\n",
       "    <tr>\n",
       "      <th>4</th>\n",
       "      <td>detection</td>\n",
       "      <td>pid</td>\n",
       "      <td>bigint</td>\n",
       "    </tr>\n",
       "    <tr>\n",
       "      <th>5</th>\n",
       "      <td>detection</td>\n",
       "      <td>diffmaglim</td>\n",
       "      <td>real</td>\n",
       "    </tr>\n",
       "    <tr>\n",
       "      <th>6</th>\n",
       "      <td>detection</td>\n",
       "      <td>isdiffpos</td>\n",
       "      <td>smallint</td>\n",
       "    </tr>\n",
       "    <tr>\n",
       "      <th>7</th>\n",
       "      <td>detection</td>\n",
       "      <td>nid</td>\n",
       "      <td>integer</td>\n",
       "    </tr>\n",
       "    <tr>\n",
       "      <th>8</th>\n",
       "      <td>detection</td>\n",
       "      <td>ra</td>\n",
       "      <td>double precision</td>\n",
       "    </tr>\n",
       "    <tr>\n",
       "      <th>9</th>\n",
       "      <td>detection</td>\n",
       "      <td>dec</td>\n",
       "      <td>double precision</td>\n",
       "    </tr>\n",
       "    <tr>\n",
       "      <th>10</th>\n",
       "      <td>detection</td>\n",
       "      <td>magpsf</td>\n",
       "      <td>real</td>\n",
       "    </tr>\n",
       "    <tr>\n",
       "      <th>11</th>\n",
       "      <td>detection</td>\n",
       "      <td>sigmapsf</td>\n",
       "      <td>real</td>\n",
       "    </tr>\n",
       "    <tr>\n",
       "      <th>12</th>\n",
       "      <td>detection</td>\n",
       "      <td>magap</td>\n",
       "      <td>real</td>\n",
       "    </tr>\n",
       "    <tr>\n",
       "      <th>13</th>\n",
       "      <td>detection</td>\n",
       "      <td>sigmagap</td>\n",
       "      <td>real</td>\n",
       "    </tr>\n",
       "    <tr>\n",
       "      <th>14</th>\n",
       "      <td>detection</td>\n",
       "      <td>distnr</td>\n",
       "      <td>real</td>\n",
       "    </tr>\n",
       "    <tr>\n",
       "      <th>15</th>\n",
       "      <td>detection</td>\n",
       "      <td>rb</td>\n",
       "      <td>real</td>\n",
       "    </tr>\n",
       "    <tr>\n",
       "      <th>16</th>\n",
       "      <td>detection</td>\n",
       "      <td>candid</td>\n",
       "      <td>bigint</td>\n",
       "    </tr>\n",
       "    <tr>\n",
       "      <th>17</th>\n",
       "      <td>detection</td>\n",
       "      <td>drb</td>\n",
       "      <td>real</td>\n",
       "    </tr>\n",
       "    <tr>\n",
       "      <th>18</th>\n",
       "      <td>detection</td>\n",
       "      <td>mjd</td>\n",
       "      <td>double precision</td>\n",
       "    </tr>\n",
       "    <tr>\n",
       "      <th>19</th>\n",
       "      <td>detection</td>\n",
       "      <td>magapbig</td>\n",
       "      <td>real</td>\n",
       "    </tr>\n",
       "    <tr>\n",
       "      <th>20</th>\n",
       "      <td>detection</td>\n",
       "      <td>sigmagapbig</td>\n",
       "      <td>real</td>\n",
       "    </tr>\n",
       "    <tr>\n",
       "      <th>21</th>\n",
       "      <td>detection</td>\n",
       "      <td>rfid</td>\n",
       "      <td>bigint</td>\n",
       "    </tr>\n",
       "    <tr>\n",
       "      <th>22</th>\n",
       "      <td>detection</td>\n",
       "      <td>magpsf_corr</td>\n",
       "      <td>real</td>\n",
       "    </tr>\n",
       "    <tr>\n",
       "      <th>23</th>\n",
       "      <td>detection</td>\n",
       "      <td>sigmapsf_corr</td>\n",
       "      <td>real</td>\n",
       "    </tr>\n",
       "    <tr>\n",
       "      <th>24</th>\n",
       "      <td>detection</td>\n",
       "      <td>sigmapsf_corr_ext</td>\n",
       "      <td>real</td>\n",
       "    </tr>\n",
       "    <tr>\n",
       "      <th>25</th>\n",
       "      <td>detection</td>\n",
       "      <td>corrected</td>\n",
       "      <td>boolean</td>\n",
       "    </tr>\n",
       "    <tr>\n",
       "      <th>26</th>\n",
       "      <td>detection</td>\n",
       "      <td>step_id_corr</td>\n",
       "      <td>character varying</td>\n",
       "    </tr>\n",
       "    <tr>\n",
       "      <th>27</th>\n",
       "      <td>detection</td>\n",
       "      <td>rbversion</td>\n",
       "      <td>character varying</td>\n",
       "    </tr>\n",
       "    <tr>\n",
       "      <th>28</th>\n",
       "      <td>detection</td>\n",
       "      <td>drbversion</td>\n",
       "      <td>character varying</td>\n",
       "    </tr>\n",
       "    <tr>\n",
       "      <th>29</th>\n",
       "      <td>detection</td>\n",
       "      <td>oid</td>\n",
       "      <td>character varying</td>\n",
       "    </tr>\n",
       "    <tr>\n",
       "      <th>0</th>\n",
       "      <td>feature</td>\n",
       "      <td>value</td>\n",
       "      <td>real</td>\n",
       "    </tr>\n",
       "    <tr>\n",
       "      <th>1</th>\n",
       "      <td>feature</td>\n",
       "      <td>fid</td>\n",
       "      <td>integer</td>\n",
       "    </tr>\n",
       "    <tr>\n",
       "      <th>2</th>\n",
       "      <td>feature</td>\n",
       "      <td>oid</td>\n",
       "      <td>character varying</td>\n",
       "    </tr>\n",
       "    <tr>\n",
       "      <th>3</th>\n",
       "      <td>feature</td>\n",
       "      <td>name</td>\n",
       "      <td>character varying</td>\n",
       "    </tr>\n",
       "    <tr>\n",
       "      <th>4</th>\n",
       "      <td>feature</td>\n",
       "      <td>version</td>\n",
       "      <td>character varying</td>\n",
       "    </tr>\n",
       "    <tr>\n",
       "      <th>0</th>\n",
       "      <td>gaia_ztf</td>\n",
       "      <td>neargaiabright</td>\n",
       "      <td>real</td>\n",
       "    </tr>\n",
       "    <tr>\n",
       "      <th>1</th>\n",
       "      <td>gaia_ztf</td>\n",
       "      <td>candid</td>\n",
       "      <td>bigint</td>\n",
       "    </tr>\n",
       "    <tr>\n",
       "      <th>2</th>\n",
       "      <td>gaia_ztf</td>\n",
       "      <td>neargaia</td>\n",
       "      <td>real</td>\n",
       "    </tr>\n",
       "    <tr>\n",
       "      <th>3</th>\n",
       "      <td>gaia_ztf</td>\n",
       "      <td>unique1</td>\n",
       "      <td>boolean</td>\n",
       "    </tr>\n",
       "    <tr>\n",
       "      <th>4</th>\n",
       "      <td>gaia_ztf</td>\n",
       "      <td>maggaia</td>\n",
       "      <td>real</td>\n",
       "    </tr>\n",
       "    <tr>\n",
       "      <th>5</th>\n",
       "      <td>gaia_ztf</td>\n",
       "      <td>maggaiabright</td>\n",
       "      <td>real</td>\n",
       "    </tr>\n",
       "    <tr>\n",
       "      <th>6</th>\n",
       "      <td>gaia_ztf</td>\n",
       "      <td>oid</td>\n",
       "      <td>character varying</td>\n",
       "    </tr>\n",
       "    <tr>\n",
       "      <th>0</th>\n",
       "      <td>magstat</td>\n",
       "      <td>lastmjd</td>\n",
       "      <td>real</td>\n",
       "    </tr>\n",
       "    <tr>\n",
       "      <th>1</th>\n",
       "      <td>magstat</td>\n",
       "      <td>fid</td>\n",
       "      <td>integer</td>\n",
       "    </tr>\n",
       "    <tr>\n",
       "      <th>2</th>\n",
       "      <td>magstat</td>\n",
       "      <td>stellar</td>\n",
       "      <td>boolean</td>\n",
       "    </tr>\n",
       "    <tr>\n",
       "      <th>3</th>\n",
       "      <td>magstat</td>\n",
       "      <td>corrected</td>\n",
       "      <td>boolean</td>\n",
       "    </tr>\n",
       "    <tr>\n",
       "      <th>4</th>\n",
       "      <td>magstat</td>\n",
       "      <td>ndet</td>\n",
       "      <td>integer</td>\n",
       "    </tr>\n",
       "    <tr>\n",
       "      <th>5</th>\n",
       "      <td>magstat</td>\n",
       "      <td>ndubious</td>\n",
       "      <td>integer</td>\n",
       "    </tr>\n",
       "    <tr>\n",
       "      <th>6</th>\n",
       "      <td>magstat</td>\n",
       "      <td>dmdt_first</td>\n",
       "      <td>real</td>\n",
       "    </tr>\n",
       "    <tr>\n",
       "      <th>7</th>\n",
       "      <td>magstat</td>\n",
       "      <td>dm_first</td>\n",
       "      <td>real</td>\n",
       "    </tr>\n",
       "    <tr>\n",
       "      <th>8</th>\n",
       "      <td>magstat</td>\n",
       "      <td>sigmadm_first</td>\n",
       "      <td>real</td>\n",
       "    </tr>\n",
       "    <tr>\n",
       "      <th>9</th>\n",
       "      <td>magstat</td>\n",
       "      <td>dt_first</td>\n",
       "      <td>real</td>\n",
       "    </tr>\n",
       "    <tr>\n",
       "      <th>10</th>\n",
       "      <td>magstat</td>\n",
       "      <td>magmean</td>\n",
       "      <td>real</td>\n",
       "    </tr>\n",
       "    <tr>\n",
       "      <th>11</th>\n",
       "      <td>magstat</td>\n",
       "      <td>magmedian</td>\n",
       "      <td>real</td>\n",
       "    </tr>\n",
       "    <tr>\n",
       "      <th>12</th>\n",
       "      <td>magstat</td>\n",
       "      <td>magmax</td>\n",
       "      <td>real</td>\n",
       "    </tr>\n",
       "    <tr>\n",
       "      <th>13</th>\n",
       "      <td>magstat</td>\n",
       "      <td>magmin</td>\n",
       "      <td>real</td>\n",
       "    </tr>\n",
       "    <tr>\n",
       "      <th>14</th>\n",
       "      <td>magstat</td>\n",
       "      <td>magsigma</td>\n",
       "      <td>real</td>\n",
       "    </tr>\n",
       "    <tr>\n",
       "      <th>15</th>\n",
       "      <td>magstat</td>\n",
       "      <td>maglast</td>\n",
       "      <td>real</td>\n",
       "    </tr>\n",
       "    <tr>\n",
       "      <th>16</th>\n",
       "      <td>magstat</td>\n",
       "      <td>magfirst</td>\n",
       "      <td>real</td>\n",
       "    </tr>\n",
       "    <tr>\n",
       "      <th>17</th>\n",
       "      <td>magstat</td>\n",
       "      <td>magmean_corr</td>\n",
       "      <td>real</td>\n",
       "    </tr>\n",
       "    <tr>\n",
       "      <th>18</th>\n",
       "      <td>magstat</td>\n",
       "      <td>magmedian_corr</td>\n",
       "      <td>real</td>\n",
       "    </tr>\n",
       "    <tr>\n",
       "      <th>19</th>\n",
       "      <td>magstat</td>\n",
       "      <td>magmax_corr</td>\n",
       "      <td>real</td>\n",
       "    </tr>\n",
       "    <tr>\n",
       "      <th>20</th>\n",
       "      <td>magstat</td>\n",
       "      <td>magmin_corr</td>\n",
       "      <td>real</td>\n",
       "    </tr>\n",
       "    <tr>\n",
       "      <th>21</th>\n",
       "      <td>magstat</td>\n",
       "      <td>magsigma_corr</td>\n",
       "      <td>real</td>\n",
       "    </tr>\n",
       "    <tr>\n",
       "      <th>22</th>\n",
       "      <td>magstat</td>\n",
       "      <td>maglast_corr</td>\n",
       "      <td>real</td>\n",
       "    </tr>\n",
       "    <tr>\n",
       "      <th>23</th>\n",
       "      <td>magstat</td>\n",
       "      <td>magfirst_corr</td>\n",
       "      <td>real</td>\n",
       "    </tr>\n",
       "    <tr>\n",
       "      <th>24</th>\n",
       "      <td>magstat</td>\n",
       "      <td>firstmjd</td>\n",
       "      <td>real</td>\n",
       "    </tr>\n",
       "    <tr>\n",
       "      <th>25</th>\n",
       "      <td>magstat</td>\n",
       "      <td>step_id_corr</td>\n",
       "      <td>character varying</td>\n",
       "    </tr>\n",
       "    <tr>\n",
       "      <th>26</th>\n",
       "      <td>magstat</td>\n",
       "      <td>oid</td>\n",
       "      <td>character varying</td>\n",
       "    </tr>\n",
       "    <tr>\n",
       "      <th>0</th>\n",
       "      <td>non_detection</td>\n",
       "      <td>mjd</td>\n",
       "      <td>double precision</td>\n",
       "    </tr>\n",
       "    <tr>\n",
       "      <th>1</th>\n",
       "      <td>non_detection</td>\n",
       "      <td>fid</td>\n",
       "      <td>integer</td>\n",
       "    </tr>\n",
       "    <tr>\n",
       "      <th>2</th>\n",
       "      <td>non_detection</td>\n",
       "      <td>diffmaglim</td>\n",
       "      <td>real</td>\n",
       "    </tr>\n",
       "    <tr>\n",
       "      <th>3</th>\n",
       "      <td>non_detection</td>\n",
       "      <td>oid</td>\n",
       "      <td>character varying</td>\n",
       "    </tr>\n",
       "    <tr>\n",
       "      <th>0</th>\n",
       "      <td>object</td>\n",
       "      <td>lastmjd</td>\n",
       "      <td>double precision</td>\n",
       "    </tr>\n",
       "    <tr>\n",
       "      <th>1</th>\n",
       "      <td>object</td>\n",
       "      <td>ndethist</td>\n",
       "      <td>integer</td>\n",
       "    </tr>\n",
       "    <tr>\n",
       "      <th>2</th>\n",
       "      <td>object</td>\n",
       "      <td>ncovhist</td>\n",
       "      <td>integer</td>\n",
       "    </tr>\n",
       "    <tr>\n",
       "      <th>3</th>\n",
       "      <td>object</td>\n",
       "      <td>mjdstarthist</td>\n",
       "      <td>double precision</td>\n",
       "    </tr>\n",
       "    <tr>\n",
       "      <th>4</th>\n",
       "      <td>object</td>\n",
       "      <td>mjdendhist</td>\n",
       "      <td>double precision</td>\n",
       "    </tr>\n",
       "    <tr>\n",
       "      <th>5</th>\n",
       "      <td>object</td>\n",
       "      <td>corrected</td>\n",
       "      <td>boolean</td>\n",
       "    </tr>\n",
       "    <tr>\n",
       "      <th>6</th>\n",
       "      <td>object</td>\n",
       "      <td>stellar</td>\n",
       "      <td>boolean</td>\n",
       "    </tr>\n",
       "    <tr>\n",
       "      <th>7</th>\n",
       "      <td>object</td>\n",
       "      <td>ndet</td>\n",
       "      <td>integer</td>\n",
       "    </tr>\n",
       "    <tr>\n",
       "      <th>8</th>\n",
       "      <td>object</td>\n",
       "      <td>g_r_max</td>\n",
       "      <td>real</td>\n",
       "    </tr>\n",
       "    <tr>\n",
       "      <th>9</th>\n",
       "      <td>object</td>\n",
       "      <td>g_r_max_corr</td>\n",
       "      <td>real</td>\n",
       "    </tr>\n",
       "    <tr>\n",
       "      <th>10</th>\n",
       "      <td>object</td>\n",
       "      <td>g_r_mean</td>\n",
       "      <td>real</td>\n",
       "    </tr>\n",
       "    <tr>\n",
       "      <th>11</th>\n",
       "      <td>object</td>\n",
       "      <td>g_r_mean_corr</td>\n",
       "      <td>real</td>\n",
       "    </tr>\n",
       "    <tr>\n",
       "      <th>12</th>\n",
       "      <td>object</td>\n",
       "      <td>meanra</td>\n",
       "      <td>double precision</td>\n",
       "    </tr>\n",
       "    <tr>\n",
       "      <th>13</th>\n",
       "      <td>object</td>\n",
       "      <td>meandec</td>\n",
       "      <td>double precision</td>\n",
       "    </tr>\n",
       "    <tr>\n",
       "      <th>14</th>\n",
       "      <td>object</td>\n",
       "      <td>sigmara</td>\n",
       "      <td>double precision</td>\n",
       "    </tr>\n",
       "    <tr>\n",
       "      <th>15</th>\n",
       "      <td>object</td>\n",
       "      <td>sigmadec</td>\n",
       "      <td>double precision</td>\n",
       "    </tr>\n",
       "    <tr>\n",
       "      <th>16</th>\n",
       "      <td>object</td>\n",
       "      <td>deltajd</td>\n",
       "      <td>double precision</td>\n",
       "    </tr>\n",
       "    <tr>\n",
       "      <th>17</th>\n",
       "      <td>object</td>\n",
       "      <td>firstmjd</td>\n",
       "      <td>double precision</td>\n",
       "    </tr>\n",
       "    <tr>\n",
       "      <th>18</th>\n",
       "      <td>object</td>\n",
       "      <td>step_id_corr</td>\n",
       "      <td>character varying</td>\n",
       "    </tr>\n",
       "    <tr>\n",
       "      <th>19</th>\n",
       "      <td>object</td>\n",
       "      <td>oid</td>\n",
       "      <td>character varying</td>\n",
       "    </tr>\n",
       "    <tr>\n",
       "      <th>0</th>\n",
       "      <td>pipeline</td>\n",
       "      <td>date</td>\n",
       "      <td>date</td>\n",
       "    </tr>\n",
       "    <tr>\n",
       "      <th>1</th>\n",
       "      <td>pipeline</td>\n",
       "      <td>step_id_corr</td>\n",
       "      <td>character varying</td>\n",
       "    </tr>\n",
       "    <tr>\n",
       "      <th>2</th>\n",
       "      <td>pipeline</td>\n",
       "      <td>step_id_feat</td>\n",
       "      <td>character varying</td>\n",
       "    </tr>\n",
       "    <tr>\n",
       "      <th>3</th>\n",
       "      <td>pipeline</td>\n",
       "      <td>pipeline_id</td>\n",
       "      <td>character varying</td>\n",
       "    </tr>\n",
       "    <tr>\n",
       "      <th>4</th>\n",
       "      <td>pipeline</td>\n",
       "      <td>step_id_out</td>\n",
       "      <td>character varying</td>\n",
       "    </tr>\n",
       "    <tr>\n",
       "      <th>5</th>\n",
       "      <td>pipeline</td>\n",
       "      <td>step_id_stamp</td>\n",
       "      <td>character varying</td>\n",
       "    </tr>\n",
       "    <tr>\n",
       "      <th>6</th>\n",
       "      <td>pipeline</td>\n",
       "      <td>step_id_clf</td>\n",
       "      <td>character varying</td>\n",
       "    </tr>\n",
       "    <tr>\n",
       "      <th>0</th>\n",
       "      <td>probability</td>\n",
       "      <td>probability</td>\n",
       "      <td>real</td>\n",
       "    </tr>\n",
       "    <tr>\n",
       "      <th>1</th>\n",
       "      <td>probability</td>\n",
       "      <td>ranking</td>\n",
       "      <td>smallint</td>\n",
       "    </tr>\n",
       "    <tr>\n",
       "      <th>2</th>\n",
       "      <td>probability</td>\n",
       "      <td>oid</td>\n",
       "      <td>character varying</td>\n",
       "    </tr>\n",
       "    <tr>\n",
       "      <th>3</th>\n",
       "      <td>probability</td>\n",
       "      <td>classifier_name</td>\n",
       "      <td>character varying</td>\n",
       "    </tr>\n",
       "    <tr>\n",
       "      <th>4</th>\n",
       "      <td>probability</td>\n",
       "      <td>classifier_version</td>\n",
       "      <td>character varying</td>\n",
       "    </tr>\n",
       "    <tr>\n",
       "      <th>5</th>\n",
       "      <td>probability</td>\n",
       "      <td>class_name</td>\n",
       "      <td>character varying</td>\n",
       "    </tr>\n",
       "    <tr>\n",
       "      <th>0</th>\n",
       "      <td>ps1_ztf</td>\n",
       "      <td>unique3</td>\n",
       "      <td>boolean</td>\n",
       "    </tr>\n",
       "    <tr>\n",
       "      <th>1</th>\n",
       "      <td>ps1_ztf</td>\n",
       "      <td>candid</td>\n",
       "      <td>bigint</td>\n",
       "    </tr>\n",
       "    <tr>\n",
       "      <th>2</th>\n",
       "      <td>ps1_ztf</td>\n",
       "      <td>objectidps1</td>\n",
       "      <td>bigint</td>\n",
       "    </tr>\n",
       "    <tr>\n",
       "      <th>3</th>\n",
       "      <td>ps1_ztf</td>\n",
       "      <td>sgmag1</td>\n",
       "      <td>real</td>\n",
       "    </tr>\n",
       "    <tr>\n",
       "      <th>4</th>\n",
       "      <td>ps1_ztf</td>\n",
       "      <td>srmag1</td>\n",
       "      <td>real</td>\n",
       "    </tr>\n",
       "    <tr>\n",
       "      <th>5</th>\n",
       "      <td>ps1_ztf</td>\n",
       "      <td>simag1</td>\n",
       "      <td>real</td>\n",
       "    </tr>\n",
       "    <tr>\n",
       "      <th>6</th>\n",
       "      <td>ps1_ztf</td>\n",
       "      <td>szmag1</td>\n",
       "      <td>real</td>\n",
       "    </tr>\n",
       "    <tr>\n",
       "      <th>7</th>\n",
       "      <td>ps1_ztf</td>\n",
       "      <td>sgscore1</td>\n",
       "      <td>real</td>\n",
       "    </tr>\n",
       "    <tr>\n",
       "      <th>8</th>\n",
       "      <td>ps1_ztf</td>\n",
       "      <td>distpsnr1</td>\n",
       "      <td>real</td>\n",
       "    </tr>\n",
       "    <tr>\n",
       "      <th>9</th>\n",
       "      <td>ps1_ztf</td>\n",
       "      <td>objectidps2</td>\n",
       "      <td>bigint</td>\n",
       "    </tr>\n",
       "    <tr>\n",
       "      <th>10</th>\n",
       "      <td>ps1_ztf</td>\n",
       "      <td>sgmag2</td>\n",
       "      <td>real</td>\n",
       "    </tr>\n",
       "    <tr>\n",
       "      <th>11</th>\n",
       "      <td>ps1_ztf</td>\n",
       "      <td>srmag2</td>\n",
       "      <td>real</td>\n",
       "    </tr>\n",
       "    <tr>\n",
       "      <th>12</th>\n",
       "      <td>ps1_ztf</td>\n",
       "      <td>simag2</td>\n",
       "      <td>real</td>\n",
       "    </tr>\n",
       "    <tr>\n",
       "      <th>13</th>\n",
       "      <td>ps1_ztf</td>\n",
       "      <td>szmag2</td>\n",
       "      <td>real</td>\n",
       "    </tr>\n",
       "    <tr>\n",
       "      <th>14</th>\n",
       "      <td>ps1_ztf</td>\n",
       "      <td>sgscore2</td>\n",
       "      <td>real</td>\n",
       "    </tr>\n",
       "    <tr>\n",
       "      <th>15</th>\n",
       "      <td>ps1_ztf</td>\n",
       "      <td>distpsnr2</td>\n",
       "      <td>real</td>\n",
       "    </tr>\n",
       "    <tr>\n",
       "      <th>16</th>\n",
       "      <td>ps1_ztf</td>\n",
       "      <td>objectidps3</td>\n",
       "      <td>bigint</td>\n",
       "    </tr>\n",
       "    <tr>\n",
       "      <th>17</th>\n",
       "      <td>ps1_ztf</td>\n",
       "      <td>sgmag3</td>\n",
       "      <td>real</td>\n",
       "    </tr>\n",
       "    <tr>\n",
       "      <th>18</th>\n",
       "      <td>ps1_ztf</td>\n",
       "      <td>srmag3</td>\n",
       "      <td>real</td>\n",
       "    </tr>\n",
       "    <tr>\n",
       "      <th>19</th>\n",
       "      <td>ps1_ztf</td>\n",
       "      <td>simag3</td>\n",
       "      <td>real</td>\n",
       "    </tr>\n",
       "    <tr>\n",
       "      <th>20</th>\n",
       "      <td>ps1_ztf</td>\n",
       "      <td>szmag3</td>\n",
       "      <td>real</td>\n",
       "    </tr>\n",
       "    <tr>\n",
       "      <th>21</th>\n",
       "      <td>ps1_ztf</td>\n",
       "      <td>sgscore3</td>\n",
       "      <td>real</td>\n",
       "    </tr>\n",
       "    <tr>\n",
       "      <th>22</th>\n",
       "      <td>ps1_ztf</td>\n",
       "      <td>distpsnr3</td>\n",
       "      <td>real</td>\n",
       "    </tr>\n",
       "    <tr>\n",
       "      <th>23</th>\n",
       "      <td>ps1_ztf</td>\n",
       "      <td>nmtchps</td>\n",
       "      <td>integer</td>\n",
       "    </tr>\n",
       "    <tr>\n",
       "      <th>24</th>\n",
       "      <td>ps1_ztf</td>\n",
       "      <td>unique1</td>\n",
       "      <td>boolean</td>\n",
       "    </tr>\n",
       "    <tr>\n",
       "      <th>25</th>\n",
       "      <td>ps1_ztf</td>\n",
       "      <td>unique2</td>\n",
       "      <td>boolean</td>\n",
       "    </tr>\n",
       "    <tr>\n",
       "      <th>26</th>\n",
       "      <td>ps1_ztf</td>\n",
       "      <td>oid</td>\n",
       "      <td>character varying</td>\n",
       "    </tr>\n",
       "    <tr>\n",
       "      <th>0</th>\n",
       "      <td>reference</td>\n",
       "      <td>nframesref</td>\n",
       "      <td>integer</td>\n",
       "    </tr>\n",
       "    <tr>\n",
       "      <th>1</th>\n",
       "      <td>reference</td>\n",
       "      <td>rfid</td>\n",
       "      <td>bigint</td>\n",
       "    </tr>\n",
       "    <tr>\n",
       "      <th>2</th>\n",
       "      <td>reference</td>\n",
       "      <td>candiid</td>\n",
       "      <td>bigint</td>\n",
       "    </tr>\n",
       "    <tr>\n",
       "      <th>3</th>\n",
       "      <td>reference</td>\n",
       "      <td>fid</td>\n",
       "      <td>integer</td>\n",
       "    </tr>\n",
       "    <tr>\n",
       "      <th>4</th>\n",
       "      <td>reference</td>\n",
       "      <td>rcid</td>\n",
       "      <td>integer</td>\n",
       "    </tr>\n",
       "    <tr>\n",
       "      <th>5</th>\n",
       "      <td>reference</td>\n",
       "      <td>field</td>\n",
       "      <td>integer</td>\n",
       "    </tr>\n",
       "    <tr>\n",
       "      <th>6</th>\n",
       "      <td>reference</td>\n",
       "      <td>magnr</td>\n",
       "      <td>real</td>\n",
       "    </tr>\n",
       "    <tr>\n",
       "      <th>7</th>\n",
       "      <td>reference</td>\n",
       "      <td>sigmagnr</td>\n",
       "      <td>real</td>\n",
       "    </tr>\n",
       "    <tr>\n",
       "      <th>8</th>\n",
       "      <td>reference</td>\n",
       "      <td>chinr</td>\n",
       "      <td>real</td>\n",
       "    </tr>\n",
       "    <tr>\n",
       "      <th>9</th>\n",
       "      <td>reference</td>\n",
       "      <td>sharpnr</td>\n",
       "      <td>real</td>\n",
       "    </tr>\n",
       "    <tr>\n",
       "      <th>10</th>\n",
       "      <td>reference</td>\n",
       "      <td>ranr</td>\n",
       "      <td>double precision</td>\n",
       "    </tr>\n",
       "    <tr>\n",
       "      <th>11</th>\n",
       "      <td>reference</td>\n",
       "      <td>decnr</td>\n",
       "      <td>double precision</td>\n",
       "    </tr>\n",
       "    <tr>\n",
       "      <th>12</th>\n",
       "      <td>reference</td>\n",
       "      <td>mjdstartref</td>\n",
       "      <td>double precision</td>\n",
       "    </tr>\n",
       "    <tr>\n",
       "      <th>13</th>\n",
       "      <td>reference</td>\n",
       "      <td>mjdendref</td>\n",
       "      <td>double precision</td>\n",
       "    </tr>\n",
       "    <tr>\n",
       "      <th>14</th>\n",
       "      <td>reference</td>\n",
       "      <td>oid</td>\n",
       "      <td>character varying</td>\n",
       "    </tr>\n",
       "    <tr>\n",
       "      <th>0</th>\n",
       "      <td>ss_ztf</td>\n",
       "      <td>candid</td>\n",
       "      <td>bigint</td>\n",
       "    </tr>\n",
       "    <tr>\n",
       "      <th>1</th>\n",
       "      <td>ss_ztf</td>\n",
       "      <td>ssdistnr</td>\n",
       "      <td>real</td>\n",
       "    </tr>\n",
       "    <tr>\n",
       "      <th>2</th>\n",
       "      <td>ss_ztf</td>\n",
       "      <td>ssmagnr</td>\n",
       "      <td>real</td>\n",
       "    </tr>\n",
       "    <tr>\n",
       "      <th>3</th>\n",
       "      <td>ss_ztf</td>\n",
       "      <td>oid</td>\n",
       "      <td>character varying</td>\n",
       "    </tr>\n",
       "    <tr>\n",
       "      <th>4</th>\n",
       "      <td>ss_ztf</td>\n",
       "      <td>ssnamenr</td>\n",
       "      <td>character varying</td>\n",
       "    </tr>\n",
       "    <tr>\n",
       "      <th>0</th>\n",
       "      <td>step</td>\n",
       "      <td>date</td>\n",
       "      <td>date</td>\n",
       "    </tr>\n",
       "    <tr>\n",
       "      <th>1</th>\n",
       "      <td>step</td>\n",
       "      <td>step_id</td>\n",
       "      <td>character varying</td>\n",
       "    </tr>\n",
       "    <tr>\n",
       "      <th>2</th>\n",
       "      <td>step</td>\n",
       "      <td>name</td>\n",
       "      <td>character varying</td>\n",
       "    </tr>\n",
       "    <tr>\n",
       "      <th>3</th>\n",
       "      <td>step</td>\n",
       "      <td>version</td>\n",
       "      <td>character varying</td>\n",
       "    </tr>\n",
       "    <tr>\n",
       "      <th>4</th>\n",
       "      <td>step</td>\n",
       "      <td>comments</td>\n",
       "      <td>character varying</td>\n",
       "    </tr>\n",
       "    <tr>\n",
       "      <th>0</th>\n",
       "      <td>xmatch</td>\n",
       "      <td>dist</td>\n",
       "      <td>double precision</td>\n",
       "    </tr>\n",
       "    <tr>\n",
       "      <th>1</th>\n",
       "      <td>xmatch</td>\n",
       "      <td>period</td>\n",
       "      <td>double precision</td>\n",
       "    </tr>\n",
       "    <tr>\n",
       "      <th>2</th>\n",
       "      <td>xmatch</td>\n",
       "      <td>oid</td>\n",
       "      <td>character varying</td>\n",
       "    </tr>\n",
       "    <tr>\n",
       "      <th>3</th>\n",
       "      <td>xmatch</td>\n",
       "      <td>catid</td>\n",
       "      <td>character varying</td>\n",
       "    </tr>\n",
       "    <tr>\n",
       "      <th>4</th>\n",
       "      <td>xmatch</td>\n",
       "      <td>oid_catalog</td>\n",
       "      <td>character varying</td>\n",
       "    </tr>\n",
       "    <tr>\n",
       "      <th>5</th>\n",
       "      <td>xmatch</td>\n",
       "      <td>class_catalog</td>\n",
       "      <td>character varying</td>\n",
       "    </tr>\n",
       "  </tbody>\n",
       "</table>\n",
       "</div>"
      ],
      "text/plain": [
       "            table         column_name          data_type\n",
       "0         allwise        k_msig_2mass   double precision\n",
       "1         allwise                  ra   double precision\n",
       "2         allwise                 dec   double precision\n",
       "3         allwise              w1mpro   double precision\n",
       "4         allwise              w2mpro   double precision\n",
       "5         allwise              w3mpro   double precision\n",
       "6         allwise              w4mpro   double precision\n",
       "7         allwise           w1sigmpro   double precision\n",
       "8         allwise           w2sigmpro   double precision\n",
       "9         allwise           w3sigmpro   double precision\n",
       "10        allwise           w4sigmpro   double precision\n",
       "11        allwise           j_m_2mass   double precision\n",
       "12        allwise           h_m_2mass   double precision\n",
       "13        allwise           k_m_2mass   double precision\n",
       "14        allwise        j_msig_2mass   double precision\n",
       "15        allwise        h_msig_2mass   double precision\n",
       "16        allwise         oid_catalog  character varying\n",
       "0     dataquality             exptime               real\n",
       "1     dataquality              candid             bigint\n",
       "2     dataquality                 fid            integer\n",
       "3     dataquality                xpos               real\n",
       "4     dataquality                ypos               real\n",
       "5     dataquality              chipsf               real\n",
       "6     dataquality                 sky               real\n",
       "7     dataquality                fwhm               real\n",
       "8     dataquality            classtar               real\n",
       "9     dataquality          mindtoedge               real\n",
       "10    dataquality            seeratio               real\n",
       "11    dataquality              aimage               real\n",
       "12    dataquality              bimage               real\n",
       "13    dataquality           aimagerat               real\n",
       "14    dataquality           bimagerat               real\n",
       "15    dataquality                nneg            integer\n",
       "16    dataquality                nbad            integer\n",
       "17    dataquality              sumrat               real\n",
       "18    dataquality               scorr   double precision\n",
       "19    dataquality              dsnrms               real\n",
       "20    dataquality              ssnrms               real\n",
       "21    dataquality            magzpsci               real\n",
       "22    dataquality         magzpsciunc               real\n",
       "23    dataquality         magzpscirms               real\n",
       "24    dataquality            nmatches            integer\n",
       "25    dataquality            clrcoeff               real\n",
       "26    dataquality            clrcounc               real\n",
       "27    dataquality            zpclrcov               real\n",
       "28    dataquality               zpmed               real\n",
       "29    dataquality              clrmed               real\n",
       "30    dataquality              clrrms               real\n",
       "31    dataquality                 oid  character varying\n",
       "0       detection             dubious            boolean\n",
       "1       detection       parent_candid             bigint\n",
       "2       detection           has_stamp            boolean\n",
       "3       detection                 fid            integer\n",
       "4       detection                 pid             bigint\n",
       "5       detection          diffmaglim               real\n",
       "6       detection           isdiffpos           smallint\n",
       "7       detection                 nid            integer\n",
       "8       detection                  ra   double precision\n",
       "9       detection                 dec   double precision\n",
       "10      detection              magpsf               real\n",
       "11      detection            sigmapsf               real\n",
       "12      detection               magap               real\n",
       "13      detection            sigmagap               real\n",
       "14      detection              distnr               real\n",
       "15      detection                  rb               real\n",
       "16      detection              candid             bigint\n",
       "17      detection                 drb               real\n",
       "18      detection                 mjd   double precision\n",
       "19      detection            magapbig               real\n",
       "20      detection         sigmagapbig               real\n",
       "21      detection                rfid             bigint\n",
       "22      detection         magpsf_corr               real\n",
       "23      detection       sigmapsf_corr               real\n",
       "24      detection   sigmapsf_corr_ext               real\n",
       "25      detection           corrected            boolean\n",
       "26      detection        step_id_corr  character varying\n",
       "27      detection           rbversion  character varying\n",
       "28      detection          drbversion  character varying\n",
       "29      detection                 oid  character varying\n",
       "0         feature               value               real\n",
       "1         feature                 fid            integer\n",
       "2         feature                 oid  character varying\n",
       "3         feature                name  character varying\n",
       "4         feature             version  character varying\n",
       "0        gaia_ztf      neargaiabright               real\n",
       "1        gaia_ztf              candid             bigint\n",
       "2        gaia_ztf            neargaia               real\n",
       "3        gaia_ztf             unique1            boolean\n",
       "4        gaia_ztf             maggaia               real\n",
       "5        gaia_ztf       maggaiabright               real\n",
       "6        gaia_ztf                 oid  character varying\n",
       "0         magstat             lastmjd               real\n",
       "1         magstat                 fid            integer\n",
       "2         magstat             stellar            boolean\n",
       "3         magstat           corrected            boolean\n",
       "4         magstat                ndet            integer\n",
       "5         magstat            ndubious            integer\n",
       "6         magstat          dmdt_first               real\n",
       "7         magstat            dm_first               real\n",
       "8         magstat       sigmadm_first               real\n",
       "9         magstat            dt_first               real\n",
       "10        magstat             magmean               real\n",
       "11        magstat           magmedian               real\n",
       "12        magstat              magmax               real\n",
       "13        magstat              magmin               real\n",
       "14        magstat            magsigma               real\n",
       "15        magstat             maglast               real\n",
       "16        magstat            magfirst               real\n",
       "17        magstat        magmean_corr               real\n",
       "18        magstat      magmedian_corr               real\n",
       "19        magstat         magmax_corr               real\n",
       "20        magstat         magmin_corr               real\n",
       "21        magstat       magsigma_corr               real\n",
       "22        magstat        maglast_corr               real\n",
       "23        magstat       magfirst_corr               real\n",
       "24        magstat            firstmjd               real\n",
       "25        magstat        step_id_corr  character varying\n",
       "26        magstat                 oid  character varying\n",
       "0   non_detection                 mjd   double precision\n",
       "1   non_detection                 fid            integer\n",
       "2   non_detection          diffmaglim               real\n",
       "3   non_detection                 oid  character varying\n",
       "0          object             lastmjd   double precision\n",
       "1          object            ndethist            integer\n",
       "2          object            ncovhist            integer\n",
       "3          object        mjdstarthist   double precision\n",
       "4          object          mjdendhist   double precision\n",
       "5          object           corrected            boolean\n",
       "6          object             stellar            boolean\n",
       "7          object                ndet            integer\n",
       "8          object             g_r_max               real\n",
       "9          object        g_r_max_corr               real\n",
       "10         object            g_r_mean               real\n",
       "11         object       g_r_mean_corr               real\n",
       "12         object              meanra   double precision\n",
       "13         object             meandec   double precision\n",
       "14         object             sigmara   double precision\n",
       "15         object            sigmadec   double precision\n",
       "16         object             deltajd   double precision\n",
       "17         object            firstmjd   double precision\n",
       "18         object        step_id_corr  character varying\n",
       "19         object                 oid  character varying\n",
       "0        pipeline                date               date\n",
       "1        pipeline        step_id_corr  character varying\n",
       "2        pipeline        step_id_feat  character varying\n",
       "3        pipeline         pipeline_id  character varying\n",
       "4        pipeline         step_id_out  character varying\n",
       "5        pipeline       step_id_stamp  character varying\n",
       "6        pipeline         step_id_clf  character varying\n",
       "0     probability         probability               real\n",
       "1     probability             ranking           smallint\n",
       "2     probability                 oid  character varying\n",
       "3     probability     classifier_name  character varying\n",
       "4     probability  classifier_version  character varying\n",
       "5     probability          class_name  character varying\n",
       "0         ps1_ztf             unique3            boolean\n",
       "1         ps1_ztf              candid             bigint\n",
       "2         ps1_ztf         objectidps1             bigint\n",
       "3         ps1_ztf              sgmag1               real\n",
       "4         ps1_ztf              srmag1               real\n",
       "5         ps1_ztf              simag1               real\n",
       "6         ps1_ztf              szmag1               real\n",
       "7         ps1_ztf            sgscore1               real\n",
       "8         ps1_ztf           distpsnr1               real\n",
       "9         ps1_ztf         objectidps2             bigint\n",
       "10        ps1_ztf              sgmag2               real\n",
       "11        ps1_ztf              srmag2               real\n",
       "12        ps1_ztf              simag2               real\n",
       "13        ps1_ztf              szmag2               real\n",
       "14        ps1_ztf            sgscore2               real\n",
       "15        ps1_ztf           distpsnr2               real\n",
       "16        ps1_ztf         objectidps3             bigint\n",
       "17        ps1_ztf              sgmag3               real\n",
       "18        ps1_ztf              srmag3               real\n",
       "19        ps1_ztf              simag3               real\n",
       "20        ps1_ztf              szmag3               real\n",
       "21        ps1_ztf            sgscore3               real\n",
       "22        ps1_ztf           distpsnr3               real\n",
       "23        ps1_ztf             nmtchps            integer\n",
       "24        ps1_ztf             unique1            boolean\n",
       "25        ps1_ztf             unique2            boolean\n",
       "26        ps1_ztf                 oid  character varying\n",
       "0       reference          nframesref            integer\n",
       "1       reference                rfid             bigint\n",
       "2       reference             candiid             bigint\n",
       "3       reference                 fid            integer\n",
       "4       reference                rcid            integer\n",
       "5       reference               field            integer\n",
       "6       reference               magnr               real\n",
       "7       reference            sigmagnr               real\n",
       "8       reference               chinr               real\n",
       "9       reference             sharpnr               real\n",
       "10      reference                ranr   double precision\n",
       "11      reference               decnr   double precision\n",
       "12      reference         mjdstartref   double precision\n",
       "13      reference           mjdendref   double precision\n",
       "14      reference                 oid  character varying\n",
       "0          ss_ztf              candid             bigint\n",
       "1          ss_ztf            ssdistnr               real\n",
       "2          ss_ztf             ssmagnr               real\n",
       "3          ss_ztf                 oid  character varying\n",
       "4          ss_ztf            ssnamenr  character varying\n",
       "0            step                date               date\n",
       "1            step             step_id  character varying\n",
       "2            step                name  character varying\n",
       "3            step             version  character varying\n",
       "4            step            comments  character varying\n",
       "0          xmatch                dist   double precision\n",
       "1          xmatch              period   double precision\n",
       "2          xmatch                 oid  character varying\n",
       "3          xmatch               catid  character varying\n",
       "4          xmatch         oid_catalog  character varying\n",
       "5          xmatch       class_catalog  character varying"
      ]
     },
     "metadata": {},
     "output_type": "display_data"
    }
   ],
   "source": [
    "alltabs = []\n",
    "for tab in sorted(tables.tablename):\n",
    "    cols = pd.DataFrame()\n",
    "    query = \"select column_name, data_type from information_schema.columns where table_name = '%s';\" % tab\n",
    "    results = pd.read_sql_query(query, conn)\n",
    "    results[\"table\"] = tab\n",
    "    alltabs.append(results)\n",
    "dftab = pd.concat(alltabs)\n",
    "pd.options.display.max_rows = 999\n",
    "display(dftab[[\"table\", \"column_name\", \"data_type\"]])\n",
    "pd.options.display.max_rows = 101"
   ]
  },
  {
   "cell_type": "markdown",
   "metadata": {},
   "source": [
    "Now we can do a query asking for sources classfied as AGN, QSO or Blazar. We define a minimum number of detections (ndet), and a minimum time span between the first and the last detection (deltajd), in order to ensure the detection of a variable signal from the light curves.  We also filter out sources by their predicted class probability.  \n"
   ]
  },
  {
   "cell_type": "code",
   "execution_count": 40,
   "metadata": {},
   "outputs": [
    {
     "name": "stdout",
     "output_type": "stream",
     "text": [
      "(320160, 11)\n"
     ]
    },
    {
     "data": {
      "text/html": [
       "<div>\n",
       "<style scoped>\n",
       "    .dataframe tbody tr th:only-of-type {\n",
       "        vertical-align: middle;\n",
       "    }\n",
       "\n",
       "    .dataframe tbody tr th {\n",
       "        vertical-align: top;\n",
       "    }\n",
       "\n",
       "    .dataframe thead th {\n",
       "        text-align: right;\n",
       "    }\n",
       "</style>\n",
       "<table border=\"1\" class=\"dataframe\">\n",
       "  <thead>\n",
       "    <tr style=\"text-align: right;\">\n",
       "      <th></th>\n",
       "      <th>meanra</th>\n",
       "      <th>meandec</th>\n",
       "      <th>ndet</th>\n",
       "      <th>firstmjd</th>\n",
       "      <th>deltajd</th>\n",
       "      <th>g_r_mean_corr</th>\n",
       "      <th>classifier_name</th>\n",
       "      <th>class_name</th>\n",
       "      <th>ranking</th>\n",
       "      <th>probability</th>\n",
       "    </tr>\n",
       "    <tr>\n",
       "      <th>oid</th>\n",
       "      <th></th>\n",
       "      <th></th>\n",
       "      <th></th>\n",
       "      <th></th>\n",
       "      <th></th>\n",
       "      <th></th>\n",
       "      <th></th>\n",
       "      <th></th>\n",
       "      <th></th>\n",
       "      <th></th>\n",
       "    </tr>\n",
       "  </thead>\n",
       "  <tbody>\n",
       "    <tr>\n",
       "      <th>ZTF18aatxhtl</th>\n",
       "      <td>192.578759</td>\n",
       "      <td>43.709591</td>\n",
       "      <td>161</td>\n",
       "      <td>58486.509329</td>\n",
       "      <td>522.749838</td>\n",
       "      <td>0.291903</td>\n",
       "      <td>lc_classifier</td>\n",
       "      <td>AGN</td>\n",
       "      <td>4</td>\n",
       "      <td>0.020020</td>\n",
       "    </tr>\n",
       "    <tr>\n",
       "      <th>ZTF18aatxhtl</th>\n",
       "      <td>192.578759</td>\n",
       "      <td>43.709591</td>\n",
       "      <td>161</td>\n",
       "      <td>58486.509329</td>\n",
       "      <td>522.749838</td>\n",
       "      <td>0.291903</td>\n",
       "      <td>lc_classifier</td>\n",
       "      <td>Blazar</td>\n",
       "      <td>2</td>\n",
       "      <td>0.176540</td>\n",
       "    </tr>\n",
       "    <tr>\n",
       "      <th>ZTF18aatxhtl</th>\n",
       "      <td>192.578759</td>\n",
       "      <td>43.709591</td>\n",
       "      <td>161</td>\n",
       "      <td>58486.509329</td>\n",
       "      <td>522.749838</td>\n",
       "      <td>0.291903</td>\n",
       "      <td>lc_classifier</td>\n",
       "      <td>CEP</td>\n",
       "      <td>9</td>\n",
       "      <td>0.006956</td>\n",
       "    </tr>\n",
       "    <tr>\n",
       "      <th>ZTF18aatxhtl</th>\n",
       "      <td>192.578759</td>\n",
       "      <td>43.709591</td>\n",
       "      <td>161</td>\n",
       "      <td>58486.509329</td>\n",
       "      <td>522.749838</td>\n",
       "      <td>0.291903</td>\n",
       "      <td>lc_classifier</td>\n",
       "      <td>CV/Nova</td>\n",
       "      <td>12</td>\n",
       "      <td>0.003640</td>\n",
       "    </tr>\n",
       "    <tr>\n",
       "      <th>ZTF18aatxhtl</th>\n",
       "      <td>192.578759</td>\n",
       "      <td>43.709591</td>\n",
       "      <td>161</td>\n",
       "      <td>58486.509329</td>\n",
       "      <td>522.749838</td>\n",
       "      <td>0.291903</td>\n",
       "      <td>lc_classifier</td>\n",
       "      <td>DSCT</td>\n",
       "      <td>10</td>\n",
       "      <td>0.006216</td>\n",
       "    </tr>\n",
       "  </tbody>\n",
       "</table>\n",
       "</div>"
      ],
      "text/plain": [
       "                  meanra    meandec  ndet      firstmjd     deltajd  \\\n",
       "oid                                                                   \n",
       "ZTF18aatxhtl  192.578759  43.709591   161  58486.509329  522.749838   \n",
       "ZTF18aatxhtl  192.578759  43.709591   161  58486.509329  522.749838   \n",
       "ZTF18aatxhtl  192.578759  43.709591   161  58486.509329  522.749838   \n",
       "ZTF18aatxhtl  192.578759  43.709591   161  58486.509329  522.749838   \n",
       "ZTF18aatxhtl  192.578759  43.709591   161  58486.509329  522.749838   \n",
       "\n",
       "              g_r_mean_corr classifier_name class_name  ranking  probability  \n",
       "oid                                                                           \n",
       "ZTF18aatxhtl       0.291903   lc_classifier        AGN        4     0.020020  \n",
       "ZTF18aatxhtl       0.291903   lc_classifier     Blazar        2     0.176540  \n",
       "ZTF18aatxhtl       0.291903   lc_classifier        CEP        9     0.006956  \n",
       "ZTF18aatxhtl       0.291903   lc_classifier    CV/Nova       12     0.003640  \n",
       "ZTF18aatxhtl       0.291903   lc_classifier       DSCT       10     0.006216  "
      ]
     },
     "execution_count": 40,
     "metadata": {},
     "output_type": "execute_result"
    }
   ],
   "source": [
    "query='''\n",
    "SELECT\n",
    "    object.oid, object.meanra, object.meandec, object.ndet,\n",
    "    object.firstMJD, object.deltajd, object.g_r_mean_corr,\n",
    "    probability.classifier_name, probability.class_name,\n",
    "    probability.ranking, probability.probability\n",
    "FROM\n",
    "    object INNER JOIN probability\n",
    "    ON object.oid=probability.oid\n",
    "WHERE\n",
    "    probability.classifier_name='lc_classifier'\n",
    "    AND object.deltajd > 100\n",
    "    AND object.ndet > 30\n",
    "    AND object.oid IN \n",
    "    \n",
    "(\n",
    "SELECT\n",
    "    oid\n",
    "FROM\n",
    "    probability\n",
    "WHERE\n",
    "    classifier_name='lc_classifier'\n",
    "    AND class_name IN ('AGN', 'QSO', 'Blazar')\n",
    "    AND ranking=1\n",
    "    AND probability > 0.5\n",
    "\n",
    ")\n",
    "'''\n",
    "\n",
    "objects = pd.read_sql_query(query, conn)\n",
    "print(objects.shape)\n",
    "objects.set_index('oid', inplace=True)\n",
    "objects.head()"
   ]
  },
  {
   "cell_type": "markdown",
   "metadata": {},
   "source": [
    "From this query we obtain all the probabilities associated with each object, so we need to filter out the dataframe in order to obtain just the lines associated with the final class of each object."
   ]
  },
  {
   "cell_type": "code",
   "execution_count": 55,
   "metadata": {},
   "outputs": [
    {
     "data": {
      "text/html": [
       "<div>\n",
       "<style scoped>\n",
       "    .dataframe tbody tr th:only-of-type {\n",
       "        vertical-align: middle;\n",
       "    }\n",
       "\n",
       "    .dataframe tbody tr th {\n",
       "        vertical-align: top;\n",
       "    }\n",
       "\n",
       "    .dataframe thead th {\n",
       "        text-align: right;\n",
       "    }\n",
       "</style>\n",
       "<table border=\"1\" class=\"dataframe\">\n",
       "  <thead>\n",
       "    <tr style=\"text-align: right;\">\n",
       "      <th></th>\n",
       "      <th>meanra</th>\n",
       "      <th>meandec</th>\n",
       "      <th>ndet</th>\n",
       "      <th>firstmjd</th>\n",
       "      <th>deltajd</th>\n",
       "      <th>g_r_mean_corr</th>\n",
       "      <th>classifier_name</th>\n",
       "      <th>class_name</th>\n",
       "      <th>ranking</th>\n",
       "      <th>probability</th>\n",
       "    </tr>\n",
       "    <tr>\n",
       "      <th>oid</th>\n",
       "      <th></th>\n",
       "      <th></th>\n",
       "      <th></th>\n",
       "      <th></th>\n",
       "      <th></th>\n",
       "      <th></th>\n",
       "      <th></th>\n",
       "      <th></th>\n",
       "      <th></th>\n",
       "      <th></th>\n",
       "    </tr>\n",
       "  </thead>\n",
       "  <tbody>\n",
       "    <tr>\n",
       "      <th>ZTF18aatxhtl</th>\n",
       "      <td>192.578759</td>\n",
       "      <td>43.709591</td>\n",
       "      <td>161</td>\n",
       "      <td>58486.509329</td>\n",
       "      <td>522.749838</td>\n",
       "      <td>0.291903</td>\n",
       "      <td>lc_classifier</td>\n",
       "      <td>QSO</td>\n",
       "      <td>1</td>\n",
       "      <td>0.706160</td>\n",
       "    </tr>\n",
       "    <tr>\n",
       "      <th>ZTF18acvgxge</th>\n",
       "      <td>186.183865</td>\n",
       "      <td>39.620753</td>\n",
       "      <td>76</td>\n",
       "      <td>58464.512153</td>\n",
       "      <td>438.828299</td>\n",
       "      <td>0.044529</td>\n",
       "      <td>lc_classifier</td>\n",
       "      <td>QSO</td>\n",
       "      <td>1</td>\n",
       "      <td>0.762000</td>\n",
       "    </tr>\n",
       "    <tr>\n",
       "      <th>ZTF19aamhjtd</th>\n",
       "      <td>216.501653</td>\n",
       "      <td>64.859136</td>\n",
       "      <td>158</td>\n",
       "      <td>58580.307674</td>\n",
       "      <td>419.963171</td>\n",
       "      <td>0.124255</td>\n",
       "      <td>lc_classifier</td>\n",
       "      <td>QSO</td>\n",
       "      <td>1</td>\n",
       "      <td>0.723632</td>\n",
       "    </tr>\n",
       "    <tr>\n",
       "      <th>ZTF20aadcgbr</th>\n",
       "      <td>201.631381</td>\n",
       "      <td>53.168043</td>\n",
       "      <td>44</td>\n",
       "      <td>58828.557257</td>\n",
       "      <td>156.644005</td>\n",
       "      <td>0.197609</td>\n",
       "      <td>lc_classifier</td>\n",
       "      <td>QSO</td>\n",
       "      <td>1</td>\n",
       "      <td>0.918000</td>\n",
       "    </tr>\n",
       "    <tr>\n",
       "      <th>ZTF19aaozaph</th>\n",
       "      <td>185.046926</td>\n",
       "      <td>15.531801</td>\n",
       "      <td>68</td>\n",
       "      <td>58831.548472</td>\n",
       "      <td>177.684884</td>\n",
       "      <td>0.194078</td>\n",
       "      <td>lc_classifier</td>\n",
       "      <td>QSO</td>\n",
       "      <td>1</td>\n",
       "      <td>0.635580</td>\n",
       "    </tr>\n",
       "  </tbody>\n",
       "</table>\n",
       "</div>"
      ],
      "text/plain": [
       "                  meanra    meandec  ndet      firstmjd     deltajd  \\\n",
       "oid                                                                   \n",
       "ZTF18aatxhtl  192.578759  43.709591   161  58486.509329  522.749838   \n",
       "ZTF18acvgxge  186.183865  39.620753    76  58464.512153  438.828299   \n",
       "ZTF19aamhjtd  216.501653  64.859136   158  58580.307674  419.963171   \n",
       "ZTF20aadcgbr  201.631381  53.168043    44  58828.557257  156.644005   \n",
       "ZTF19aaozaph  185.046926  15.531801    68  58831.548472  177.684884   \n",
       "\n",
       "              g_r_mean_corr classifier_name class_name  ranking  probability  \n",
       "oid                                                                           \n",
       "ZTF18aatxhtl       0.291903   lc_classifier        QSO        1     0.706160  \n",
       "ZTF18acvgxge       0.044529   lc_classifier        QSO        1     0.762000  \n",
       "ZTF19aamhjtd       0.124255   lc_classifier        QSO        1     0.723632  \n",
       "ZTF20aadcgbr       0.197609   lc_classifier        QSO        1     0.918000  \n",
       "ZTF19aaozaph       0.194078   lc_classifier        QSO        1     0.635580  "
      ]
     },
     "execution_count": 55,
     "metadata": {},
     "output_type": "execute_result"
    }
   ],
   "source": [
    "objects = objects[objects.ranking==1]\n",
    "objects.head()"
   ]
  },
  {
   "cell_type": "markdown",
   "metadata": {},
   "source": [
    "We save the object IDs (oid) of each source, which will be used in the next sections:"
   ]
  },
  {
   "cell_type": "code",
   "execution_count": 58,
   "metadata": {},
   "outputs": [
    {
     "name": "stdout",
     "output_type": "stream",
     "text": [
      "['ZTF18aatxhtl' 'ZTF18acvgxge' 'ZTF19aamhjtd' ... 'ZTF19aalcegd'\n",
      " 'ZTF18adbhpsf' 'ZTF18aaewexz']\n"
     ]
    }
   ],
   "source": [
    "oids_objects =  objects.index.values\n",
    "print(oids_objects)"
   ]
  },
  {
   "cell_type": "markdown",
   "metadata": {},
   "source": [
    "In order to understand the differences between the QSO, AGN and Blazar candidates, we search for its Pan-STARRS1 photometry, using the ps1_ztf table:"
   ]
  },
  {
   "cell_type": "code",
   "execution_count": 59,
   "metadata": {},
   "outputs": [
    {
     "data": {
      "text/html": [
       "<div>\n",
       "<style scoped>\n",
       "    .dataframe tbody tr th:only-of-type {\n",
       "        vertical-align: middle;\n",
       "    }\n",
       "\n",
       "    .dataframe tbody tr th {\n",
       "        vertical-align: top;\n",
       "    }\n",
       "\n",
       "    .dataframe thead th {\n",
       "        text-align: right;\n",
       "    }\n",
       "</style>\n",
       "<table border=\"1\" class=\"dataframe\">\n",
       "  <thead>\n",
       "    <tr style=\"text-align: right;\">\n",
       "      <th></th>\n",
       "      <th>sgmag1</th>\n",
       "      <th>srmag1</th>\n",
       "      <th>simag1</th>\n",
       "      <th>szmag1</th>\n",
       "      <th>sgscore1</th>\n",
       "    </tr>\n",
       "    <tr>\n",
       "      <th>oid</th>\n",
       "      <th></th>\n",
       "      <th></th>\n",
       "      <th></th>\n",
       "      <th></th>\n",
       "      <th></th>\n",
       "    </tr>\n",
       "  </thead>\n",
       "  <tbody>\n",
       "    <tr>\n",
       "      <th>ZTF17aaabhnn</th>\n",
       "      <td>17.7019</td>\n",
       "      <td>17.2576</td>\n",
       "      <td>17.1489</td>\n",
       "      <td>17.1890</td>\n",
       "      <td>0.995000</td>\n",
       "    </tr>\n",
       "    <tr>\n",
       "      <th>ZTF17aaachjt</th>\n",
       "      <td>18.4677</td>\n",
       "      <td>17.8887</td>\n",
       "      <td>17.4197</td>\n",
       "      <td>17.2200</td>\n",
       "      <td>0.991310</td>\n",
       "    </tr>\n",
       "    <tr>\n",
       "      <th>ZTF17aaadhjr</th>\n",
       "      <td>16.6640</td>\n",
       "      <td>16.0533</td>\n",
       "      <td>15.6559</td>\n",
       "      <td>14.7924</td>\n",
       "      <td>1.000000</td>\n",
       "    </tr>\n",
       "    <tr>\n",
       "      <th>ZTF17aaadqia</th>\n",
       "      <td>19.6123</td>\n",
       "      <td>19.1826</td>\n",
       "      <td>19.1020</td>\n",
       "      <td>18.9066</td>\n",
       "      <td>0.989167</td>\n",
       "    </tr>\n",
       "    <tr>\n",
       "      <th>ZTF17aaaeqnq</th>\n",
       "      <td>17.3789</td>\n",
       "      <td>16.6889</td>\n",
       "      <td>16.3634</td>\n",
       "      <td>16.0558</td>\n",
       "      <td>0.358054</td>\n",
       "    </tr>\n",
       "  </tbody>\n",
       "</table>\n",
       "</div>"
      ],
      "text/plain": [
       "               sgmag1   srmag1   simag1   szmag1  sgscore1\n",
       "oid                                                       \n",
       "ZTF17aaabhnn  17.7019  17.2576  17.1489  17.1890  0.995000\n",
       "ZTF17aaachjt  18.4677  17.8887  17.4197  17.2200  0.991310\n",
       "ZTF17aaadhjr  16.6640  16.0533  15.6559  14.7924  1.000000\n",
       "ZTF17aaadqia  19.6123  19.1826  19.1020  18.9066  0.989167\n",
       "ZTF17aaaeqnq  17.3789  16.6889  16.3634  16.0558  0.358054"
      ]
     },
     "execution_count": 59,
     "metadata": {},
     "output_type": "execute_result"
    }
   ],
   "source": [
    "query='''\n",
    "SELECT\n",
    "    oid, sgmag1, srmag1, simag1, szmag1, sgscore1\n",
    "FROM\n",
    "    ps1_ztf\n",
    "WHERE\n",
    "    oid in (%s)\n",
    "''' % \",\".join([\"'%s'\" % oid for oid in oids_objects])\n",
    "ps1 = pd.read_sql_query(query, conn)\n",
    "ps1.set_index(\"oid\", inplace=True)\n",
    "ps1.head()"
   ]
  },
  {
   "cell_type": "markdown",
   "metadata": {},
   "source": [
    "We use this data to plot a color-color diagram of QSO, AGN and Blazar candidates"
   ]
  },
  {
   "cell_type": "code",
   "execution_count": 61,
   "metadata": {},
   "outputs": [
    {
     "data": {
      "text/html": [
       "<div>\n",
       "<style scoped>\n",
       "    .dataframe tbody tr th:only-of-type {\n",
       "        vertical-align: middle;\n",
       "    }\n",
       "\n",
       "    .dataframe tbody tr th {\n",
       "        vertical-align: top;\n",
       "    }\n",
       "\n",
       "    .dataframe thead th {\n",
       "        text-align: right;\n",
       "    }\n",
       "</style>\n",
       "<table border=\"1\" class=\"dataframe\">\n",
       "  <thead>\n",
       "    <tr style=\"text-align: right;\">\n",
       "      <th></th>\n",
       "      <th>meanra</th>\n",
       "      <th>meandec</th>\n",
       "      <th>ndet</th>\n",
       "      <th>firstmjd</th>\n",
       "      <th>deltajd</th>\n",
       "      <th>g_r_mean_corr</th>\n",
       "      <th>classifier_name</th>\n",
       "      <th>class_name</th>\n",
       "      <th>ranking</th>\n",
       "      <th>probability</th>\n",
       "      <th>g_r_ps1</th>\n",
       "      <th>r_i_ps1</th>\n",
       "      <th>i_z_ps1</th>\n",
       "      <th>sgscore1</th>\n",
       "    </tr>\n",
       "    <tr>\n",
       "      <th>oid</th>\n",
       "      <th></th>\n",
       "      <th></th>\n",
       "      <th></th>\n",
       "      <th></th>\n",
       "      <th></th>\n",
       "      <th></th>\n",
       "      <th></th>\n",
       "      <th></th>\n",
       "      <th></th>\n",
       "      <th></th>\n",
       "      <th></th>\n",
       "      <th></th>\n",
       "      <th></th>\n",
       "      <th></th>\n",
       "    </tr>\n",
       "  </thead>\n",
       "  <tbody>\n",
       "    <tr>\n",
       "      <th>ZTF18aatxhtl</th>\n",
       "      <td>192.578759</td>\n",
       "      <td>43.709591</td>\n",
       "      <td>161</td>\n",
       "      <td>58486.509329</td>\n",
       "      <td>522.749838</td>\n",
       "      <td>0.291903</td>\n",
       "      <td>lc_classifier</td>\n",
       "      <td>QSO</td>\n",
       "      <td>1</td>\n",
       "      <td>0.706160</td>\n",
       "      <td>0.4043</td>\n",
       "      <td>-0.0148</td>\n",
       "      <td>-0.2995</td>\n",
       "      <td>0.987208</td>\n",
       "    </tr>\n",
       "    <tr>\n",
       "      <th>ZTF18acvgxge</th>\n",
       "      <td>186.183865</td>\n",
       "      <td>39.620753</td>\n",
       "      <td>76</td>\n",
       "      <td>58464.512153</td>\n",
       "      <td>438.828299</td>\n",
       "      <td>0.044529</td>\n",
       "      <td>lc_classifier</td>\n",
       "      <td>QSO</td>\n",
       "      <td>1</td>\n",
       "      <td>0.762000</td>\n",
       "      <td>0.0045</td>\n",
       "      <td>-0.1829</td>\n",
       "      <td>0.4286</td>\n",
       "      <td>0.967470</td>\n",
       "    </tr>\n",
       "    <tr>\n",
       "      <th>ZTF19aamhjtd</th>\n",
       "      <td>216.501653</td>\n",
       "      <td>64.859136</td>\n",
       "      <td>158</td>\n",
       "      <td>58580.307674</td>\n",
       "      <td>419.963171</td>\n",
       "      <td>0.124255</td>\n",
       "      <td>lc_classifier</td>\n",
       "      <td>QSO</td>\n",
       "      <td>1</td>\n",
       "      <td>0.723632</td>\n",
       "      <td>0.0465</td>\n",
       "      <td>0.1852</td>\n",
       "      <td>0.1867</td>\n",
       "      <td>0.997917</td>\n",
       "    </tr>\n",
       "    <tr>\n",
       "      <th>ZTF20aadcgbr</th>\n",
       "      <td>201.631381</td>\n",
       "      <td>53.168043</td>\n",
       "      <td>44</td>\n",
       "      <td>58828.557257</td>\n",
       "      <td>156.644005</td>\n",
       "      <td>0.197609</td>\n",
       "      <td>lc_classifier</td>\n",
       "      <td>QSO</td>\n",
       "      <td>1</td>\n",
       "      <td>0.918000</td>\n",
       "      <td>0.2065</td>\n",
       "      <td>-0.0055</td>\n",
       "      <td>-0.1472</td>\n",
       "      <td>1.000000</td>\n",
       "    </tr>\n",
       "    <tr>\n",
       "      <th>ZTF19aaozaph</th>\n",
       "      <td>185.046926</td>\n",
       "      <td>15.531801</td>\n",
       "      <td>68</td>\n",
       "      <td>58831.548472</td>\n",
       "      <td>177.684884</td>\n",
       "      <td>0.194078</td>\n",
       "      <td>lc_classifier</td>\n",
       "      <td>QSO</td>\n",
       "      <td>1</td>\n",
       "      <td>0.635580</td>\n",
       "      <td>0.4057</td>\n",
       "      <td>-0.1894</td>\n",
       "      <td>0.0499</td>\n",
       "      <td>0.877685</td>\n",
       "    </tr>\n",
       "  </tbody>\n",
       "</table>\n",
       "</div>"
      ],
      "text/plain": [
       "                  meanra    meandec  ndet      firstmjd     deltajd  \\\n",
       "oid                                                                   \n",
       "ZTF18aatxhtl  192.578759  43.709591   161  58486.509329  522.749838   \n",
       "ZTF18acvgxge  186.183865  39.620753    76  58464.512153  438.828299   \n",
       "ZTF19aamhjtd  216.501653  64.859136   158  58580.307674  419.963171   \n",
       "ZTF20aadcgbr  201.631381  53.168043    44  58828.557257  156.644005   \n",
       "ZTF19aaozaph  185.046926  15.531801    68  58831.548472  177.684884   \n",
       "\n",
       "              g_r_mean_corr classifier_name class_name  ranking  probability  \\\n",
       "oid                                                                            \n",
       "ZTF18aatxhtl       0.291903   lc_classifier        QSO        1     0.706160   \n",
       "ZTF18acvgxge       0.044529   lc_classifier        QSO        1     0.762000   \n",
       "ZTF19aamhjtd       0.124255   lc_classifier        QSO        1     0.723632   \n",
       "ZTF20aadcgbr       0.197609   lc_classifier        QSO        1     0.918000   \n",
       "ZTF19aaozaph       0.194078   lc_classifier        QSO        1     0.635580   \n",
       "\n",
       "              g_r_ps1  r_i_ps1  i_z_ps1  sgscore1  \n",
       "oid                                                \n",
       "ZTF18aatxhtl   0.4043  -0.0148  -0.2995  0.987208  \n",
       "ZTF18acvgxge   0.0045  -0.1829   0.4286  0.967470  \n",
       "ZTF19aamhjtd   0.0465   0.1852   0.1867  0.997917  \n",
       "ZTF20aadcgbr   0.2065  -0.0055  -0.1472  1.000000  \n",
       "ZTF19aaozaph   0.4057  -0.1894   0.0499  0.877685  "
      ]
     },
     "execution_count": 61,
     "metadata": {},
     "output_type": "execute_result"
    }
   ],
   "source": [
    "objects[\"g_r_ps1\"] = ps1.sgmag1 - ps1.srmag1\n",
    "objects[\"r_i_ps1\"] = ps1.srmag1 - ps1.simag1\n",
    "objects[\"i_z_ps1\"] = ps1.simag1 - ps1.szmag1\n",
    "objects[\"sgscore1\"] = ps1.sgscore1 \n",
    "objects.head()"
   ]
  },
  {
   "cell_type": "code",
   "execution_count": 84,
   "metadata": {
    "scrolled": false
   },
   "outputs": [
    {
     "name": "stderr",
     "output_type": "stream",
     "text": [
      "/opt/anaconda3/lib/python3.7/site-packages/seaborn/distributions.py:434: UserWarning: The following kwargs were not used by contour: 'linewidth'\n",
      "  cset = contour_func(xx, yy, z, n_levels, **kwargs)\n"
     ]
    },
    {
     "data": {
      "text/plain": [
       "(-0.6, 1.6)"
      ]
     },
     "execution_count": 84,
     "metadata": {},
     "output_type": "execute_result"
    },
    {
     "data": {
      "image/png": "[encoded data removed]",
      "text/plain": [
       "<Figure size 576x576 with 1 Axes>"
      ]
     },
     "metadata": {
      "needs_background": "light"
     },
     "output_type": "display_data"
    }
   ],
   "source": [
    "fig, ax = plt.subplots(figsize = (8,8))  \n",
    "plt.scatter(objects.loc[objects[\"class_name\"]==\"QSO\",\"g_r_ps1\"].values,objects.loc[objects[\"class_name\"]==\"QSO\",\"r_i_ps1\"].values,c='lightsteelblue',s=0.8)\n",
    "plt.scatter(objects.loc[objects[\"class_name\"]==\"AGN\",\"g_r_ps1\"].values,objects.loc[objects[\"class_name\"]==\"AGN\",\"r_i_ps1\"].values,c='lightcoral',s=0.8)\n",
    "plt.scatter(objects.loc[objects[\"class_name\"]==\"Blazar\",\"g_r_ps1\"].values,objects.loc[objects[\"class_name\"]==\"Blazar\",\"r_i_ps1\"].values,c='olivedrab',s=0.8)\n",
    "\n",
    "\n",
    "ax = sns.kdeplot(objects.loc[objects[\"class_name\"]==\"QSO\",\"g_r_ps1\"].values,objects.loc[objects[\"class_name\"]==\"QSO\",\"r_i_ps1\"].values, n_levels=5,clip=(-0.6,1.6), linewidth=4, cmap=\"Blues_r\", shade=False)\n",
    "ax = sns.kdeplot(objects.loc[objects[\"class_name\"]==\"AGN\",\"g_r_ps1\"].values,objects.loc[objects[\"class_name\"]==\"AGN\",\"r_i_ps1\"].values, n_levels=5,clip=(-0.6,1.6), linewidth=4, cmap=\"Reds_r\", shade=False)\n",
    "ax = sns.kdeplot(objects.loc[objects[\"class_name\"]==\"Blazar\",\"g_r_ps1\"].values,objects.loc[objects[\"class_name\"]==\"Blazar\",\"r_i_ps1\"].values, n_levels=3,clip=(-0.6,1.6), linewidth=4, cmap=\"Greens_r\", shade=False)\n",
    "\n",
    "\n",
    "plt.text(1.5,-0.53,'AGN cand.',color='firebrick',horizontalalignment='right', fontsize=18)\n",
    "plt.text(1.5,-0.4,'QSO cand.',color='royalblue',horizontalalignment='right', fontsize=18)\n",
    "plt.text(1.5,-0.66,'Blazar cand.',color='olivedrab',horizontalalignment='right', fontsize=18)\n",
    "\n",
    "\n",
    "\n",
    "\n",
    "plt.ylabel(r'$r-i$',fontsize=20)\n",
    "plt.xlabel(r'$g-r$',fontsize=20)\n",
    "plt.xticks(fontsize = 15)\n",
    "plt.yticks(fontsize = 15)\n",
    "plt.locator_params(axis='y', nbins=6)\n",
    "plt.locator_params(axis='x', nbins=6)\n",
    "plt.ylim(-0.8,1.3)\n",
    "plt.xlim(-0.6,1.6)"
   ]
  },
  {
   "cell_type": "markdown",
   "metadata": {},
   "source": [
    "This color-color diagram shows that QSO candidates are bluer than AGN and Blazar candidates.\n",
    "\n",
    "The sgscore1 corresponds to a morphological star/galaxy score of the closest source from PanSTARRS1 (Tachibana et al. 2018), with $0 \\leq \\texttt{sgscore1} \\leq 1$, where values closer to 1 imply a higher likelihood of the source being a star. Let's see the distribution of the sgscore1 parameter for these sources:"
   ]
  },
  {
   "cell_type": "code",
   "execution_count": 95,
   "metadata": {
    "scrolled": false
   },
   "outputs": [
    {
     "data": {
      "text/plain": [
       "(array([ 0. ,  2.5,  5. ,  7.5, 10. , 12.5, 15. , 17.5, 20. , 22.5]),\n",
       " <a list of 10 Text major ticklabel objects>)"
      ]
     },
     "execution_count": 95,
     "metadata": {},
     "output_type": "execute_result"
    },
    {
     "data": {
      "image/png": "[encoded data removed]",
      "text/plain": [
       "<Figure size 576x576 with 1 Axes>"
      ]
     },
     "metadata": {
      "needs_background": "light"
     },
     "output_type": "display_data"
    }
   ],
   "source": [
    "fig, ax = plt.subplots(figsize = (8,8)) \n",
    "bins_hist = np.linspace(0,1,25,endpoint=True)\n",
    "\n",
    "plt.hist(objects.loc[objects[\"class_name\"]==\"QSO\",\"sgscore1\"].values, cumulative=False, stacked=False, density=True, histtype='step', bins=bins_hist, lw=3, color = \"firebrick\", ec=\"lightsteelblue\",label='QSO cand.', alpha=1.0)\n",
    "plt.hist(objects.loc[objects[\"class_name\"]==\"AGN\",\"sgscore1\"].values, cumulative=False, stacked=False, density=True, histtype='step', bins=bins_hist, lw=3, color = \"firebrick\", ec=\"firebrick\",label='AGN cand.', alpha=1.0)\n",
    "plt.hist(objects.loc[objects[\"class_name\"]==\"Blazar\",\"sgscore1\"].values, cumulative=False, stacked=False, density=True, histtype='step', bins=bins_hist, lw=3, color = \"firebrick\", ec=\"olivedrab\",label='Blazar cand.', alpha=1.0)\n",
    "\n",
    "plt.legend(loc='upper left',fontsize=17)\n",
    "plt.xlabel(r'sgscore1',fontsize=20)\n",
    "plt.ylabel(r'normalized frequency',fontsize=20)\n",
    "plt.xticks(fontsize = 17)\n",
    "plt.yticks(fontsize = 17)\n"
   ]
  },
  {
   "cell_type": "markdown",
   "metadata": {},
   "source": [
    "Clearly AGN candidates have more extended morphologies compared to QSOs and Blazars.\n",
    "\n",
    "\n",
    "In addition, we query some relevant features for active galaxies from the feature table, like IAR_phi, GP_DRW_sigma and GP_DRW_tau, the MHPS feautres, ExcessVar, and the structure function features. These features are described in dertail in Sánchez-Sáez et al. 2020."
   ]
  },
  {
   "cell_type": "code",
   "execution_count": 96,
   "metadata": {},
   "outputs": [
    {
     "data": {
      "text/html": [
       "<div>\n",
       "<style scoped>\n",
       "    .dataframe tbody tr th:only-of-type {\n",
       "        vertical-align: middle;\n",
       "    }\n",
       "\n",
       "    .dataframe tbody tr th {\n",
       "        vertical-align: top;\n",
       "    }\n",
       "\n",
       "    .dataframe thead th {\n",
       "        text-align: right;\n",
       "    }\n",
       "</style>\n",
       "<table border=\"1\" class=\"dataframe\">\n",
       "  <thead>\n",
       "    <tr style=\"text-align: right;\">\n",
       "      <th></th>\n",
       "      <th>oid</th>\n",
       "      <th>name</th>\n",
       "      <th>value</th>\n",
       "      <th>fid</th>\n",
       "      <th>version</th>\n",
       "    </tr>\n",
       "  </thead>\n",
       "  <tbody>\n",
       "    <tr>\n",
       "      <th>0</th>\n",
       "      <td>ZTF17aaabhnn</td>\n",
       "      <td>ExcessVar</td>\n",
       "      <td>0.0000</td>\n",
       "      <td>1</td>\n",
       "      <td>bulk_0.0.1</td>\n",
       "    </tr>\n",
       "    <tr>\n",
       "      <th>1</th>\n",
       "      <td>ZTF17aaabhnn</td>\n",
       "      <td>ExcessVar</td>\n",
       "      <td>0.0000</td>\n",
       "      <td>2</td>\n",
       "      <td>bulk_0.0.1</td>\n",
       "    </tr>\n",
       "    <tr>\n",
       "      <th>2</th>\n",
       "      <td>ZTF17aaabhnn</td>\n",
       "      <td>GP_DRW_sigma</td>\n",
       "      <td>0.0000</td>\n",
       "      <td>1</td>\n",
       "      <td>bulk_0.0.1</td>\n",
       "    </tr>\n",
       "    <tr>\n",
       "      <th>3</th>\n",
       "      <td>ZTF17aaabhnn</td>\n",
       "      <td>GP_DRW_sigma</td>\n",
       "      <td>0.0000</td>\n",
       "      <td>2</td>\n",
       "      <td>bulk_0.0.1</td>\n",
       "    </tr>\n",
       "    <tr>\n",
       "      <th>4</th>\n",
       "      <td>ZTF17aaabhnn</td>\n",
       "      <td>GP_DRW_tau</td>\n",
       "      <td>169.4114</td>\n",
       "      <td>1</td>\n",
       "      <td>bulk_0.0.1</td>\n",
       "    </tr>\n",
       "  </tbody>\n",
       "</table>\n",
       "</div>"
      ],
      "text/plain": [
       "            oid          name     value  fid     version\n",
       "0  ZTF17aaabhnn     ExcessVar    0.0000    1  bulk_0.0.1\n",
       "1  ZTF17aaabhnn     ExcessVar    0.0000    2  bulk_0.0.1\n",
       "2  ZTF17aaabhnn  GP_DRW_sigma    0.0000    1  bulk_0.0.1\n",
       "3  ZTF17aaabhnn  GP_DRW_sigma    0.0000    2  bulk_0.0.1\n",
       "4  ZTF17aaabhnn    GP_DRW_tau  169.4114    1  bulk_0.0.1"
      ]
     },
     "execution_count": 96,
     "metadata": {},
     "output_type": "execute_result"
    }
   ],
   "source": [
    "query='''\n",
    "SELECT\n",
    "    *\n",
    "FROM\n",
    "    feature\n",
    "WHERE\n",
    "    (LEFT(name, 4)='MHPS'\n",
    "    OR LEFT(name, 2)='GP'\n",
    "    OR LEFT(name, 5)='SF_ML'\n",
    "    OR name='ExcessVar'\n",
    "    OR name='IAR_phi')\n",
    "    AND oid in (%s)\n",
    "''' % \",\".join([\"'%s'\" % oid for oid in oids_objects])\n",
    "features = pd.read_sql_query(query, conn)\n",
    "features.head()"
   ]
  },
  {
   "cell_type": "markdown",
   "metadata": {},
   "source": [
    "You can see that each object has one row per feature per band. Let's show the unique feature names:"
   ]
  },
  {
   "cell_type": "code",
   "execution_count": 97,
   "metadata": {},
   "outputs": [
    {
     "data": {
      "text/plain": [
       "array(['ExcessVar', 'GP_DRW_sigma', 'GP_DRW_tau', 'IAR_phi',\n",
       "       'MHPS_PN_flag', 'MHPS_high', 'MHPS_low', 'MHPS_non_zero',\n",
       "       'MHPS_ratio', 'SF_ML_amplitude', 'SF_ML_gamma'], dtype=object)"
      ]
     },
     "execution_count": 97,
     "metadata": {},
     "output_type": "execute_result"
    }
   ],
   "source": [
    "features.name.unique()"
   ]
  },
  {
   "cell_type": "markdown",
   "metadata": {},
   "source": [
    "Let's see the distribution of some of these features:"
   ]
  },
  {
   "cell_type": "code",
   "execution_count": null,
   "metadata": {},
   "outputs": [],
   "source": []
  },
  {
   "cell_type": "code",
   "execution_count": null,
   "metadata": {},
   "outputs": [],
   "source": []
  },
  {
   "cell_type": "code",
   "execution_count": null,
   "metadata": {},
   "outputs": [],
   "source": []
  }
 ],
 "metadata": {
  "kernelspec": {
   "display_name": "Python 3",
   "language": "python",
   "name": "python3"
  },
  "language_info": {
   "codemirror_mode": {
    "name": "ipython",
    "version": 3
   },
   "file_extension": ".py",
   "mimetype": "text/x-python",
   "name": "python",
   "nbconvert_exporter": "python",
   "pygments_lexer": "ipython3",
   "version": "3.7.6"
  }
 },
 "nbformat": 4,
 "nbformat_minor": 4
}
