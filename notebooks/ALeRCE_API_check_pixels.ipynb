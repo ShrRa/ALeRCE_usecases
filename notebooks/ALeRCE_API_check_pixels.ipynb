{
 "cells": [
  {
   "cell_type": "markdown",
   "metadata": {},
   "source": [
    "# Given a list of object ids, extracts their avros to get pixel coordinates of their detections, plot their coordinates, stamps and overplot in aladin\n",
    "\n",
    "\n",
    "Francisco Förster\n",
    "\n",
    "Last modification: 20210118\n",
    "\n",
    "\n",
    "In this notebook we explore a series of supernova candidates that were located around the same galaxy and around the same time, but not exactly in the same position. \n",
    "\n",
    "We found that the x, y position in the CCDs where all very similar, which suggests that in fact these candidates were due to a region of bad pixels in the CCD."
   ]
  },
  {
   "cell_type": "code",
   "execution_count": 1,
   "metadata": {
    "ExecuteTime": {
     "end_time": "2022-01-18T21:36:24.665106Z",
     "start_time": "2022-01-18T21:36:23.839561Z"
    }
   },
   "outputs": [],
   "source": [
    "import matplotlib.pyplot as plt\n",
    "import pandas as pd\n",
    "import ipyaladin as ipyal # see installation instructions here: https://github.com/cds-astro/ipyaladin\n",
    "from astropy.table import Table, Column\n",
    "from astropy import coordinates\n",
    "import numpy as np"
   ]
  },
  {
   "cell_type": "code",
   "execution_count": 2,
   "metadata": {
    "ExecuteTime": {
     "end_time": "2022-01-18T21:36:24.704234Z",
     "start_time": "2022-01-18T21:36:24.673627Z"
    }
   },
   "outputs": [],
   "source": [
    "import requests"
   ]
  },
  {
   "cell_type": "code",
   "execution_count": 3,
   "metadata": {
    "ExecuteTime": {
     "end_time": "2022-01-18T21:36:24.715912Z",
     "start_time": "2022-01-18T21:36:24.712935Z"
    }
   },
   "outputs": [],
   "source": [
    "from alerce.core import Alerce\n",
    "client = Alerce()"
   ]
  },
  {
   "cell_type": "markdown",
   "metadata": {},
   "source": [
    "# The list of candidates"
   ]
  },
  {
   "cell_type": "code",
   "execution_count": 4,
   "metadata": {
    "ExecuteTime": {
     "end_time": "2022-01-18T21:36:25.447703Z",
     "start_time": "2022-01-18T21:36:25.444022Z"
    }
   },
   "outputs": [],
   "source": [
    "oids = [\"ZTF19adbtqgy\", \"ZTF20aacbijc\", \"ZTF20aaehjjm\", \"ZTF20aaebiae\", \"ZTF20aaejaax\"]"
   ]
  },
  {
   "cell_type": "markdown",
   "metadata": {
    "ExecuteTime": {
     "end_time": "2020-01-08T02:30:27.397935Z",
     "start_time": "2020-01-08T02:30:27.390608Z"
    }
   },
   "source": [
    "# Check avro files for pixel position"
   ]
  },
  {
   "cell_type": "code",
   "execution_count": 5,
   "metadata": {
    "ExecuteTime": {
     "end_time": "2022-01-18T21:36:31.175722Z",
     "start_time": "2022-01-18T21:36:27.296767Z"
    }
   },
   "outputs": [
    {
     "name": "stdout",
     "output_type": "stream",
     "text": [
      "ZTF19adbtqgy 1092289313615015065\n",
      "ZTF20aacbijc 1097444403615015104\n",
      "ZTF20aaehjjm 1100451663615015164\n",
      "ZTF20aaebiae 1100187173615015124\n",
      "ZTF20aaejaax 1101179013615015179\n"
     ]
    },
    {
     "data": {
      "text/html": [
       "<div>\n",
       "<style scoped>\n",
       "    .dataframe tbody tr th:only-of-type {\n",
       "        vertical-align: middle;\n",
       "    }\n",
       "\n",
       "    .dataframe tbody tr th {\n",
       "        vertical-align: top;\n",
       "    }\n",
       "\n",
       "    .dataframe thead th {\n",
       "        text-align: right;\n",
       "    }\n",
       "</style>\n",
       "<table border=\"1\" class=\"dataframe\">\n",
       "  <thead>\n",
       "    <tr style=\"text-align: right;\">\n",
       "      <th></th>\n",
       "      <th>candid</th>\n",
       "      <th>jd</th>\n",
       "      <th>ra</th>\n",
       "      <th>dec</th>\n",
       "      <th>xpos</th>\n",
       "      <th>ypos</th>\n",
       "      <th>rb</th>\n",
       "      <th>drb</th>\n",
       "    </tr>\n",
       "    <tr>\n",
       "      <th>oid</th>\n",
       "      <th></th>\n",
       "      <th></th>\n",
       "      <th></th>\n",
       "      <th></th>\n",
       "      <th></th>\n",
       "      <th></th>\n",
       "      <th></th>\n",
       "      <th></th>\n",
       "    </tr>\n",
       "  </thead>\n",
       "  <tbody>\n",
       "    <tr>\n",
       "      <th>ZTF19adbtqgy</th>\n",
       "      <td>1092289313615015065</td>\n",
       "      <td>2.458847e+06</td>\n",
       "      <td>132.499845</td>\n",
       "      <td>70.311704</td>\n",
       "      <td>1682.025879</td>\n",
       "      <td>2919.749268</td>\n",
       "      <td>0.365714</td>\n",
       "      <td>0.999991</td>\n",
       "    </tr>\n",
       "    <tr>\n",
       "      <th>ZTF20aacbijc</th>\n",
       "      <td>1097444403615015104</td>\n",
       "      <td>2.458852e+06</td>\n",
       "      <td>132.511787</td>\n",
       "      <td>70.313686</td>\n",
       "      <td>1681.534546</td>\n",
       "      <td>2919.635254</td>\n",
       "      <td>0.395714</td>\n",
       "      <td>0.999998</td>\n",
       "    </tr>\n",
       "    <tr>\n",
       "      <th>ZTF20aaehjjm</th>\n",
       "      <td>1100451663615015164</td>\n",
       "      <td>2.458855e+06</td>\n",
       "      <td>132.511148</td>\n",
       "      <td>70.312382</td>\n",
       "      <td>1681.734741</td>\n",
       "      <td>2919.563477</td>\n",
       "      <td>0.421429</td>\n",
       "      <td>0.999996</td>\n",
       "    </tr>\n",
       "    <tr>\n",
       "      <th>ZTF20aaebiae</th>\n",
       "      <td>1100187173615015124</td>\n",
       "      <td>2.458855e+06</td>\n",
       "      <td>132.515880</td>\n",
       "      <td>70.292508</td>\n",
       "      <td>1681.752686</td>\n",
       "      <td>2919.568359</td>\n",
       "      <td>0.394286</td>\n",
       "      <td>1.000000</td>\n",
       "    </tr>\n",
       "    <tr>\n",
       "      <th>ZTF20aaejaax</th>\n",
       "      <td>1101179013615015179</td>\n",
       "      <td>2.458856e+06</td>\n",
       "      <td>132.521993</td>\n",
       "      <td>70.292265</td>\n",
       "      <td>1681.814941</td>\n",
       "      <td>2919.816895</td>\n",
       "      <td>0.641429</td>\n",
       "      <td>1.000000</td>\n",
       "    </tr>\n",
       "  </tbody>\n",
       "</table>\n",
       "</div>"
      ],
      "text/plain": [
       "                           candid            jd          ra        dec  \\\n",
       "oid                                                                      \n",
       "ZTF19adbtqgy  1092289313615015065  2.458847e+06  132.499845  70.311704   \n",
       "ZTF20aacbijc  1097444403615015104  2.458852e+06  132.511787  70.313686   \n",
       "ZTF20aaehjjm  1100451663615015164  2.458855e+06  132.511148  70.312382   \n",
       "ZTF20aaebiae  1100187173615015124  2.458855e+06  132.515880  70.292508   \n",
       "ZTF20aaejaax  1101179013615015179  2.458856e+06  132.521993  70.292265   \n",
       "\n",
       "                     xpos         ypos        rb       drb  \n",
       "oid                                                         \n",
       "ZTF19adbtqgy  1682.025879  2919.749268  0.365714  0.999991  \n",
       "ZTF20aacbijc  1681.534546  2919.635254  0.395714  0.999998  \n",
       "ZTF20aaehjjm  1681.734741  2919.563477  0.421429  0.999996  \n",
       "ZTF20aaebiae  1681.752686  2919.568359  0.394286  1.000000  \n",
       "ZTF20aaejaax  1681.814941  2919.816895  0.641429  1.000000  "
      ]
     },
     "execution_count": 5,
     "metadata": {},
     "output_type": "execute_result"
    }
   ],
   "source": [
    "df = []\n",
    "for oid in oids:\n",
    "    \n",
    "    # get candid\n",
    "    candid = client.query_detections(oid=oid, format='pandas').candid.min()\n",
    "    print(oid, candid)\n",
    "    \n",
    "    # get avro\n",
    "    params = {\"oid\": oid, \"candid\": candid}\n",
    "    url = \"http://avro.alerce.online\"\n",
    "    r = requests.get(url = \"%s/get_avro_info\" % url, params = params)\n",
    "    response = r.json()\n",
    "    \n",
    "    # extract selected fields\n",
    "    fields = [\"jd\", \"ra\", \"dec\", \"xpos\", \"ypos\", \"rb\", \"drb\"]\n",
    "    df.append(pd.DataFrame(data = [[oid, candid] + [response['candidate'][field] for field in fields]],\n",
    "                            columns=[\"oid\", \"candid\", \"jd\", \"ra\", \"dec\", \"xpos\", \"ypos\", \"rb\", \"drb\"]))\n",
    "df = pd.concat(df)\n",
    "df.set_index(\"oid\", inplace=True)\n",
    "df"
   ]
  },
  {
   "cell_type": "markdown",
   "metadata": {},
   "source": [
    "# Plot the x, y positions"
   ]
  },
  {
   "cell_type": "code",
   "execution_count": 6,
   "metadata": {
    "ExecuteTime": {
     "end_time": "2022-01-18T21:36:39.738134Z",
     "start_time": "2022-01-18T21:36:39.619099Z"
    }
   },
   "outputs": [
    {
     "data": {
      "text/plain": [
       "Text(0, 0.5, 'ypos')"
      ]
     },
     "execution_count": 6,
     "metadata": {},
     "output_type": "execute_result"
    },
    {
     "data": {
      "image/png": "[encoded data removed]",
      "text/plain": [
       "<Figure size 864x432 with 2 Axes>"
      ]
     },
     "metadata": {
      "needs_background": "light"
     },
     "output_type": "display_data"
    }
   ],
   "source": [
    "fig, ax = plt.subplots(ncols=2, figsize=(12, 6))\n",
    "ax[0].scatter(df.ra, df.dec, c = df.jd)\n",
    "ax[0].set_xlabel(\"RA\", fontsize=18)\n",
    "ax[0].set_ylabel(\"Dec\", fontsize=18)\n",
    "ax[1].scatter(df.xpos, df.ypos, c = df.jd)\n",
    "ax[1].set_xlabel(\"xpos\", fontsize=18)\n",
    "ax[1].set_ylabel(\"ypos\", fontsize=18)"
   ]
  },
  {
   "cell_type": "markdown",
   "metadata": {},
   "source": [
    "The positions are all very similar in x,y!"
   ]
  },
  {
   "cell_type": "markdown",
   "metadata": {},
   "source": [
    "# Show stamps"
   ]
  },
  {
   "cell_type": "code",
   "execution_count": 7,
   "metadata": {
    "ExecuteTime": {
     "end_time": "2022-01-18T21:37:03.454691Z",
     "start_time": "2022-01-18T21:37:03.442202Z"
    }
   },
   "outputs": [
    {
     "data": {
      "text/html": [
       "\n",
       "        <div>ZTF oid: ZTF19adbtqgy, candid: 1092289313615015065</div>\n",
       "        <div>&emsp;&emsp;&emsp;&emsp;&emsp;\n",
       "        Science\n",
       "        &emsp;&emsp;&emsp;&emsp;&emsp;&emsp;&emsp;&emsp;&emsp;&emsp;&emsp;&emsp;\n",
       "        Template\n",
       "        &emsp;&emsp;&emsp;&emsp;&emsp;&emsp;&emsp;&emsp;&emsp;&emsp;&emsp;&emsp;\n",
       "        Difference\n",
       "        <div class=\"container\">\n",
       "        <div style=\"float:left;width:20%\"><img src=\"https://avro.alerce.online/get_stamp?oid=ZTF19adbtqgy&candid=1092289313615015065&type=science&format=png\"></div>\n",
       "        <div style=\"float:left;width:20%\"><img src=\"https://avro.alerce.online/get_stamp?oid=ZTF19adbtqgy&candid=1092289313615015065&type=template&format=png\"></div>\n",
       "        <div style=\"float:left;width:20%\"><img src=\"https://avro.alerce.online/get_stamp?oid=ZTF19adbtqgy&candid=1092289313615015065&type=difference&format=png\"></div>\n",
       "        </div>\n",
       "        "
      ],
      "text/plain": [
       "<IPython.core.display.HTML object>"
      ]
     },
     "metadata": {},
     "output_type": "display_data"
    },
    {
     "data": {
      "text/html": [
       "\n",
       "        <div>ZTF oid: ZTF20aacbijc, candid: 1097444403615015104</div>\n",
       "        <div>&emsp;&emsp;&emsp;&emsp;&emsp;\n",
       "        Science\n",
       "        &emsp;&emsp;&emsp;&emsp;&emsp;&emsp;&emsp;&emsp;&emsp;&emsp;&emsp;&emsp;\n",
       "        Template\n",
       "        &emsp;&emsp;&emsp;&emsp;&emsp;&emsp;&emsp;&emsp;&emsp;&emsp;&emsp;&emsp;\n",
       "        Difference\n",
       "        <div class=\"container\">\n",
       "        <div style=\"float:left;width:20%\"><img src=\"https://avro.alerce.online/get_stamp?oid=ZTF20aacbijc&candid=1097444403615015104&type=science&format=png\"></div>\n",
       "        <div style=\"float:left;width:20%\"><img src=\"https://avro.alerce.online/get_stamp?oid=ZTF20aacbijc&candid=1097444403615015104&type=template&format=png\"></div>\n",
       "        <div style=\"float:left;width:20%\"><img src=\"https://avro.alerce.online/get_stamp?oid=ZTF20aacbijc&candid=1097444403615015104&type=difference&format=png\"></div>\n",
       "        </div>\n",
       "        "
      ],
      "text/plain": [
       "<IPython.core.display.HTML object>"
      ]
     },
     "metadata": {},
     "output_type": "display_data"
    },
    {
     "data": {
      "text/html": [
       "\n",
       "        <div>ZTF oid: ZTF20aaehjjm, candid: 1100451663615015164</div>\n",
       "        <div>&emsp;&emsp;&emsp;&emsp;&emsp;\n",
       "        Science\n",
       "        &emsp;&emsp;&emsp;&emsp;&emsp;&emsp;&emsp;&emsp;&emsp;&emsp;&emsp;&emsp;\n",
       "        Template\n",
       "        &emsp;&emsp;&emsp;&emsp;&emsp;&emsp;&emsp;&emsp;&emsp;&emsp;&emsp;&emsp;\n",
       "        Difference\n",
       "        <div class=\"container\">\n",
       "        <div style=\"float:left;width:20%\"><img src=\"https://avro.alerce.online/get_stamp?oid=ZTF20aaehjjm&candid=1100451663615015164&type=science&format=png\"></div>\n",
       "        <div style=\"float:left;width:20%\"><img src=\"https://avro.alerce.online/get_stamp?oid=ZTF20aaehjjm&candid=1100451663615015164&type=template&format=png\"></div>\n",
       "        <div style=\"float:left;width:20%\"><img src=\"https://avro.alerce.online/get_stamp?oid=ZTF20aaehjjm&candid=1100451663615015164&type=difference&format=png\"></div>\n",
       "        </div>\n",
       "        "
      ],
      "text/plain": [
       "<IPython.core.display.HTML object>"
      ]
     },
     "metadata": {},
     "output_type": "display_data"
    },
    {
     "data": {
      "text/html": [
       "\n",
       "        <div>ZTF oid: ZTF20aaebiae, candid: 1100187173615015124</div>\n",
       "        <div>&emsp;&emsp;&emsp;&emsp;&emsp;\n",
       "        Science\n",
       "        &emsp;&emsp;&emsp;&emsp;&emsp;&emsp;&emsp;&emsp;&emsp;&emsp;&emsp;&emsp;\n",
       "        Template\n",
       "        &emsp;&emsp;&emsp;&emsp;&emsp;&emsp;&emsp;&emsp;&emsp;&emsp;&emsp;&emsp;\n",
       "        Difference\n",
       "        <div class=\"container\">\n",
       "        <div style=\"float:left;width:20%\"><img src=\"https://avro.alerce.online/get_stamp?oid=ZTF20aaebiae&candid=1100187173615015124&type=science&format=png\"></div>\n",
       "        <div style=\"float:left;width:20%\"><img src=\"https://avro.alerce.online/get_stamp?oid=ZTF20aaebiae&candid=1100187173615015124&type=template&format=png\"></div>\n",
       "        <div style=\"float:left;width:20%\"><img src=\"https://avro.alerce.online/get_stamp?oid=ZTF20aaebiae&candid=1100187173615015124&type=difference&format=png\"></div>\n",
       "        </div>\n",
       "        "
      ],
      "text/plain": [
       "<IPython.core.display.HTML object>"
      ]
     },
     "metadata": {},
     "output_type": "display_data"
    },
    {
     "data": {
      "text/html": [
       "\n",
       "        <div>ZTF oid: ZTF20aaejaax, candid: 1101179013615015179</div>\n",
       "        <div>&emsp;&emsp;&emsp;&emsp;&emsp;\n",
       "        Science\n",
       "        &emsp;&emsp;&emsp;&emsp;&emsp;&emsp;&emsp;&emsp;&emsp;&emsp;&emsp;&emsp;\n",
       "        Template\n",
       "        &emsp;&emsp;&emsp;&emsp;&emsp;&emsp;&emsp;&emsp;&emsp;&emsp;&emsp;&emsp;\n",
       "        Difference\n",
       "        <div class=\"container\">\n",
       "        <div style=\"float:left;width:20%\"><img src=\"https://avro.alerce.online/get_stamp?oid=ZTF20aaejaax&candid=1101179013615015179&type=science&format=png\"></div>\n",
       "        <div style=\"float:left;width:20%\"><img src=\"https://avro.alerce.online/get_stamp?oid=ZTF20aaejaax&candid=1101179013615015179&type=template&format=png\"></div>\n",
       "        <div style=\"float:left;width:20%\"><img src=\"https://avro.alerce.online/get_stamp?oid=ZTF20aaejaax&candid=1101179013615015179&type=difference&format=png\"></div>\n",
       "        </div>\n",
       "        "
      ],
      "text/plain": [
       "<IPython.core.display.HTML object>"
      ]
     },
     "metadata": {},
     "output_type": "display_data"
    }
   ],
   "source": [
    "for oid, row in df.iterrows():\n",
    "    client.plot_stamps(oid, row.candid)"
   ]
  },
  {
   "cell_type": "markdown",
   "metadata": {},
   "source": [
    "# Display in Aladin"
   ]
  },
  {
   "cell_type": "code",
   "execution_count": 8,
   "metadata": {
    "ExecuteTime": {
     "end_time": "2022-01-18T21:37:07.653627Z",
     "start_time": "2022-01-18T21:37:07.647075Z"
    }
   },
   "outputs": [
    {
     "data": {
      "application/vnd.jupyter.widget-view+json": {
       "model_id": "990acb2ecae248bcbf75be1e3c38484f",
       "version_major": 2,
       "version_minor": 0
      },
      "text/plain": [
       "Aladin(fov=0.15, options=['allow_full_zoomout', 'coo_frame', 'fov', 'full_screen', 'log', 'overlay_survey', 'o…"
      ]
     },
     "metadata": {},
     "output_type": "display_data"
    }
   ],
   "source": [
    "aladin= ipyal.Aladin(target='%s %s' % (df.iloc[0].ra, df.iloc[0].dec), fov=0.15, survey='P/PanSTARRS/DR1/color-z-zg-g')\n",
    "aladin"
   ]
  },
  {
   "cell_type": "markdown",
   "metadata": {},
   "source": [
    "Add all the candidates to Aladin"
   ]
  },
  {
   "cell_type": "code",
   "execution_count": 9,
   "metadata": {
    "ExecuteTime": {
     "end_time": "2022-01-18T21:37:10.841388Z",
     "start_time": "2022-01-18T21:37:10.785579Z"
    }
   },
   "outputs": [],
   "source": [
    "cand = Table.from_pandas(pd.DataFrame(\n",
    "                data={\"MAIN_ID\": df.index.tolist(), \"ra\": df.ra.to_list(), \"dec\": df.dec.to_list()}))\n",
    "aladin.add_table(cand)"
   ]
  },
  {
   "cell_type": "markdown",
   "metadata": {},
   "source": [
    "Note that you can click in individual candidates to see their object ids."
   ]
  },
  {
   "cell_type": "code",
   "execution_count": null,
   "metadata": {},
   "outputs": [],
   "source": []
  }
 ],
 "metadata": {
  "kernelspec": {
   "display_name": "Python 3",
   "language": "python",
   "name": "python3"
  },
  "language_info": {
   "codemirror_mode": {
    "name": "ipython",
    "version": 3
   },
   "file_extension": ".py",
   "mimetype": "text/x-python",
   "name": "python",
   "nbconvert_exporter": "python",
   "pygments_lexer": "ipython3",
   "version": "3.8.8"
  },
  "toc": {
   "base_numbering": 1,
   "nav_menu": {},
   "number_sections": true,
   "sideBar": true,
   "skip_h1_title": false,
   "title_cell": "Table of Contents",
   "title_sidebar": "Contents",
   "toc_cell": false,
   "toc_position": {},
   "toc_section_display": true,
   "toc_window_display": false
  },
  "varInspector": {
   "cols": {
    "lenName": 16,
    "lenType": 16,
    "lenVar": 40
   },
   "kernels_config": {
    "python": {
     "delete_cmd_postfix": "",
     "delete_cmd_prefix": "del ",
     "library": "var_list.py",
     "varRefreshCmd": "print(var_dic_list())"
    },
    "r": {
     "delete_cmd_postfix": ") ",
     "delete_cmd_prefix": "rm(",
     "library": "var_list.r",
     "varRefreshCmd": "cat(var_dic_list()) "
    }
   },
   "types_to_exclude": [
    "module",
    "function",
    "builtin_function_or_method",
    "instance",
    "_Feature"
   ],
   "window_display": false
  }
 },
 "nbformat": 4,
 "nbformat_minor": 2
}
