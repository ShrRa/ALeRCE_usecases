{
 "cells": [
  {
   "cell_type": "markdown",
   "metadata": {
    "colab_type": "text",
    "collapsed": false,
    "id": "aARiWZB804Yh"
   },
   "source": [
    "# ALeRCE Hands On Tutorial\n",
    "\n",
    "In this tutorial we will put in practice what we have learned in this workshop. The idea is that you try to use the tools we provide and adapt them to your specific science workflow.\n",
    "\n",
    "As a way to test your knowledge using ALeRCE's services we ask you to complete **3 challenges**.\n",
    "\n",
    "\n",
    "1. Plot lightcurve using *alerce* client\n",
    "2. Plot any combination of attributes from any table\n",
    "3. Download a dataframe as CSV and open it again with pandas"
   ]
  },
  {
   "cell_type": "markdown",
   "metadata": {
    "colab_type": "text",
    "collapsed": false,
    "id": "o48zzNVY0zo8"
   },
   "source": [
    "We are going to be using the alerce client so first we need to install it"
   ]
  },
  {
   "cell_type": "code",
   "execution_count": null,
   "metadata": {
    "colab": null,
    "colab_type": "code",
    "collapsed": false,
    "id": "cDYh15Vin1vZ"
   },
   "outputs": [],
   "source": [
    "!pip install git+https://git@github.com/alercebroker/alerce_client_new#alerce"
   ]
  },
  {
   "cell_type": "markdown",
   "metadata": {
    "colab_type": "text",
    "collapsed": false,
    "id": "KQd1JdMUtrZy"
   },
   "source": [
    "# First Challenge: Plot a light curve using the ALeRCE client"
   ]
  },
  {
   "cell_type": "markdown",
   "metadata": {
    "colab_type": "text",
    "collapsed": false,
    "id": "YGWC0LfSt8HX"
   },
   "source": [
    "# Second Challenge: Plot any combination of attributes"
   ]
  },
  {
   "cell_type": "markdown",
   "metadata": {
    "colab_type": "text",
    "collapsed": false,
    "id": "T_H86iLMzpKp"
   },
   "source": [
    "# Third Challenge: Save and download data using pandas"
   ]
  },
  {
   "cell_type": "markdown",
   "metadata": {
    "colab_type": "text",
    "collapsed": false,
    "id": "JTCG_nynIZSz"
   },
   "source": [
    "**Congratulations, you completed the challenge!**\n",
    "\n",
    "---\n",
    "\n"
   ]
  }
 ],
 "metadata": {
  "colab": {
   "collapsed_sections": null,
   "name": "ALeRCE_Hands_On_Tutorial_newDB_collab.ipynb",
   "provenance": null
  },
  "kernelspec": {
   "argv": [
    "python",
    "-m",
    "ipykernel_launcher",
    "-f",
    "{connection_file}"
   ],
   "display_name": "Python 3",
   "env": null,
   "interrupt_mode": "signal",
   "language": "python",
   "metadata": null,
   "name": "python3"
  },
  "name": "ALeRCE_Hands_On_Tutorial_newDB_collab.ipynb"
 },
 "nbformat": 4,
 "nbformat_minor": 0
}
