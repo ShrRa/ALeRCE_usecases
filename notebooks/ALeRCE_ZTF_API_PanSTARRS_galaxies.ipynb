{
 "cells": [
  {
   "cell_type": "markdown",
   "metadata": {},
   "source": [
    "# Getting the three nearest PanSTARRS sources from avro packets"
   ]
  },
  {
   "cell_type": "markdown",
   "metadata": {},
   "source": [
    "**WARNING**: This notebook will be replaced by a version using the new database, API and client.\n",
    "\n",
    "Francisco Förster, 2019"
   ]
  },
  {
   "cell_type": "markdown",
   "metadata": {},
   "source": [
    "# Introduction\n",
    "\n",
    "ZTF objects have a unique identifier which we call `oid`, each object has many associated alerts, one per detection, and each alert as a unique identifier `candid`.\n",
    "\n",
    "ALeRCE does not store all the information contained in the alerts in our postgresql database. However, we provide access to the individual alerts and their contents through our API. Each alert contains information about the three nearest PanSTARRS sources, so if you access any alert from a given object you can get these objects.\n",
    "\n",
    "In this example you can see how we get the nearest PanSTARRS objects given an `oid`.\n",
    "\n",
    "We will use the requests library to interact with the API."
   ]
  },
  {
   "cell_type": "code",
   "execution_count": 1,
   "metadata": {
    "ExecuteTime": {
     "end_time": "2020-08-06T02:13:41.239345Z",
     "start_time": "2020-08-06T02:13:41.139344Z"
    }
   },
   "outputs": [],
   "source": [
    "import requests"
   ]
  },
  {
   "cell_type": "markdown",
   "metadata": {},
   "source": [
    "# Get any candidate id from the object id"
   ]
  },
  {
   "cell_type": "code",
   "execution_count": 2,
   "metadata": {
    "ExecuteTime": {
     "end_time": "2020-08-06T02:13:41.243097Z",
     "start_time": "2020-08-06T02:13:41.240892Z"
    }
   },
   "outputs": [],
   "source": [
    "oid = \"ZTF19acqebwl\" #\"ZTF19abguqsi\""
   ]
  },
  {
   "cell_type": "code",
   "execution_count": 3,
   "metadata": {
    "ExecuteTime": {
     "end_time": "2020-08-06T02:13:42.226982Z",
     "start_time": "2020-08-06T02:13:41.244353Z"
    }
   },
   "outputs": [
    {
     "name": "stdout",
     "output_type": "stream",
     "text": [
      "ZTF19acqebwl 1040547220015015015\n"
     ]
    }
   ],
   "source": [
    "params = {\"oid\": oid}\n",
    "url = \"https://ztf.alerce.online\"\n",
    "r = requests.post(url = \"%s/get_detections\" % url, json = params)\n",
    "candid = r.json()[\"result\"][\"detections\"][0][\"candid\"]\n",
    "print(oid, candid)"
   ]
  },
  {
   "cell_type": "markdown",
   "metadata": {},
   "source": [
    "# Get avro info from oid and candid"
   ]
  },
  {
   "cell_type": "code",
   "execution_count": 4,
   "metadata": {
    "ExecuteTime": {
     "end_time": "2020-08-06T02:13:42.770609Z",
     "start_time": "2020-08-06T02:13:42.228564Z"
    }
   },
   "outputs": [],
   "source": [
    "params = {\"oid\": oid, \"candid\": candid}\n",
    "url = \"http://avro.alerce.online\"\n",
    "r = requests.get(url = \"%s/get_avro_info\" % url, params = params)\n",
    "response = r.json()"
   ]
  },
  {
   "cell_type": "code",
   "execution_count": 5,
   "metadata": {
    "ExecuteTime": {
     "end_time": "2020-08-06T02:13:42.786594Z",
     "start_time": "2020-08-06T02:13:42.772582Z"
    }
   },
   "outputs": [
    {
     "data": {
      "text/plain": [
       "'aimage, aimagerat, bimage, bimagerat, candid, chinr, chipsf, classtar, clrcoeff, clrcounc, clrmed, clrrms, dec, decnr, diffmaglim, distnr, distpsnr1, distpsnr2, distpsnr3, drb, drbversion, dsdiff, dsnrms, elong, exptime, fid, field, fwhm, isdiffpos, jd, jdendhist, jdendref, jdstarthist, jdstartref, magap, magapbig, magdiff, magfromlim, maggaia, maggaiabright, magnr, magpsf, magzpsci, magzpscirms, magzpsciunc, mindtoedge, nbad, ncovhist, ndethist, neargaia, neargaiabright, nframesref, nid, nmatches, nmtchps, nneg, objectidps1, objectidps2, objectidps3, pdiffimfilename, pid, programid, programpi, ra, ranr, rb, rbversion, rcid, rfid, scorr, seeratio, sgmag1, sgmag2, sgmag3, sgscore1, sgscore2, sgscore3, sharpnr, sigmagap, sigmagapbig, sigmagnr, sigmapsf, simag1, simag2, simag3, sky, srmag1, srmag2, srmag3, ssdistnr, ssmagnr, ssnamenr, ssnrms, sumrat, szmag1, szmag2, szmag3, tblid, tooflag, xpos, ypos, zpclrcov, zpmed'"
      ]
     },
     "execution_count": 5,
     "metadata": {},
     "output_type": "execute_result"
    }
   ],
   "source": [
    "# Show dictionary keys\n",
    "\", \".join(list(response['candidate']))"
   ]
  },
  {
   "cell_type": "markdown",
   "metadata": {},
   "source": [
    "# get distance, star galaxy score and object id of the the three nearest PS1 objects"
   ]
  },
  {
   "cell_type": "code",
   "execution_count": 6,
   "metadata": {
    "ExecuteTime": {
     "end_time": "2020-08-06T02:13:42.799689Z",
     "start_time": "2020-08-06T02:13:42.788347Z"
    }
   },
   "outputs": [
    {
     "name": "stdout",
     "output_type": "stream",
     "text": [
      "distpsnr1 0.44015640020370483\n",
      "distpsnr2 15.294926643371582\n",
      "distpsnr3 19.648544311523438\n",
      "sgscore1 0.026624999940395355\n",
      "sgscore2 0.9841669797897339\n",
      "sgscore3 0.5\n",
      "objectidps1 118801391366765195\n",
      "objectidps2 118801391381720313\n",
      "objectidps3 118801391410508642\n"
     ]
    }
   ],
   "source": [
    "for key in ['distpsnr1', 'distpsnr2', 'distpsnr3', 'sgscore1', 'sgscore2', 'sgscore3',  'objectidps1', 'objectidps2', 'objectidps3']:\n",
    "    print(key, response['candidate'][key])"
   ]
  },
  {
   "cell_type": "code",
   "execution_count": null,
   "metadata": {},
   "outputs": [],
   "source": []
  },
  {
   "cell_type": "code",
   "execution_count": null,
   "metadata": {},
   "outputs": [],
   "source": []
  }
 ],
 "metadata": {
  "kernelspec": {
   "display_name": "Python 3",
   "language": "python",
   "name": "python3"
  },
  "language_info": {
   "codemirror_mode": {
    "name": "ipython",
    "version": 3
   },
   "file_extension": ".py",
   "mimetype": "text/x-python",
   "name": "python",
   "nbconvert_exporter": "python",
   "pygments_lexer": "ipython3",
   "version": "3.6.5"
  }
 },
 "nbformat": 4,
 "nbformat_minor": 2
}
